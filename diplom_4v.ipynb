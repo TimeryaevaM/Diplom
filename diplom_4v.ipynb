{
  "cells": [
    {
      "cell_type": "code",
      "execution_count": 2349,
      "metadata": {
        "id": "1w30m-Auk6Ki"
      },
      "outputs": [],
      "source": [
        "import pandas as pd\r\n",
        "import os\r\n",
        "import csv\r\n",
        "import numpy as np\r\n",
        "from matplotlib import pyplot as plt\r\n",
        "import seaborn as sns\r\n",
        "from numpy import percentile\r\n",
        "from sklearn.preprocessing import LabelEncoder\r\n",
        "from sklearn.feature_selection import mutual_info_classif\r\n",
        "from sklearn.feature_selection import mutual_info_regression\r\n",
        "from sklearn.feature_selection import f_regression\r\n",
        "from keras.preprocessing.text import Tokenizer\r\n",
        "from sklearn.preprocessing import StandardScaler"
      ]
    },
    {
      "cell_type": "code",
      "execution_count": 2350,
      "metadata": {
        "id": "XNPVkS17kOtH"
      },
      "outputs": [],
      "source": [
        "def data_outlier(columns_list, df):\n",
        "\n",
        "    data_out = pd.DataFrame(data = {'name': [], 'count': [], 'min': [], 'mean': [], 'max': [], \n",
        "                                    'low_range': [], 'upper_range': [], 'out_count': []\n",
        "                                   })\n",
        "    for column_name in columns_list:\n",
        "        perc25 = percentile(df[column_name], 25)\n",
        "        perc75 = percentile(df[column_name], 75)\n",
        "        iqr = perc75 - perc25\n",
        "        low_range = perc25 - 1.5 * iqr\n",
        "        upper_range = perc75 + 1.5 * iqr\n",
        "        out_count = df[column_name].apply(\n",
        "            lambda x: None if x < low_range or x > upper_range else x).isna().sum()\n",
        "        \n",
        "        to_append = [column_name, df[column_name].count(), round(df[column_name].min(), 2), \n",
        "                     round(df[column_name].mean(), 2), round(df[column_name].max(), 2), \n",
        "                     round(low_range, 2), round(upper_range, 2), out_count]\n",
        "        data_out_length = len(data_out)\n",
        "        data_out.loc[data_out_length] = to_append\n",
        "        \n",
        "    return data_out"
      ]
    },
    {
      "cell_type": "code",
      "execution_count": 2351,
      "metadata": {
        "id": "papRkjlMmoqw"
      },
      "outputs": [],
      "source": [
        "# Рассмотрим как распределены числовые признаки в трейне\n",
        "\n",
        "def train_hist_plot(column_name, df_train):\n",
        "    fig, ax = plt.subplots(1, 2, figsize=(10, 5))\n",
        "\n",
        "    new_series_log = np.log(df_train[column_name] + 1)\n",
        "\n",
        "    ax[0].hist(df_train[column_name], rwidth=0.9, alpha=0.7, bins=15)\n",
        "    ax[0].set_title(column_name)\n",
        "\n",
        "    ax[1].hist(new_series_log, rwidth=0.9, alpha=0.7, bins=15)\n",
        "    ax[1].set_title('log of ' + column_name)\n",
        "\n",
        "    plt.show()\n",
        "    \n",
        "def test_hist_plot(column_name, df_test):\n",
        "    fig, ax = plt.subplots(1, 2, figsize=(10, 5))\n",
        "\n",
        "    new_series_log = np.log(df_test[column_name] + 1)\n",
        "\n",
        "    ax[0].hist(df_test[column_name], rwidth=0.9, alpha=0.7, bins=15)\n",
        "    ax[0].set_title(column_name)\n",
        "\n",
        "    ax[1].hist(new_series_log, rwidth=0.9, alpha=0.7, bins=15)\n",
        "    ax[1].set_title('log of ' + column_name)\n",
        "\n",
        "    plt.show()"
      ]
    },
    {
      "cell_type": "code",
      "execution_count": 2352,
      "metadata": {},
      "outputs": [],
      "source": [
        "def preproc_data(df_input, cat_features):\r\n",
        "    '''includes several functions to pre-process the predictor data.'''\r\n",
        "    \r\n",
        "    df_output = df_input.copy()\r\n",
        "\r\n",
        "    ################### Categorical Features ##############################################################\r\n",
        "\r\n",
        "    for column in cat_features:\r\n",
        "         df_output[column] = df_output[column].astype('category').cat.codes\r\n",
        "        \r\n",
        "    # One-Hot Encoding: в pandas есть готовая функция - get_dummies.\r\n",
        "    df_output = pd.get_dummies(df_output, columns=cat_features, dummy_na=False)\r\n",
        "\r\n",
        "    return df_output\r\n",
        "\r\n"
      ]
    },
    {
      "cell_type": "code",
      "execution_count": 2353,
      "metadata": {
        "id": "MhmxFpvSlJYX"
      },
      "outputs": [],
      "source": [
        "# df = pd.read_csv(\"/data_new.csv\", sep=\",\", quoting=csv.QUOTE_ALL, encoding='utf-8')\r\n",
        "\r\n",
        "df = pd.read_csv(\"data_new.csv\")"
      ]
    },
    {
      "cell_type": "code",
      "execution_count": 2354,
      "metadata": {
        "colab": {
          "base_uri": "https://localhost:8080/",
          "height": 391
        },
        "id": "mLaEOsPh-cZe",
        "outputId": "46f3c1dd-f9b5-48f0-dfa2-7e966733ebd2"
      },
      "outputs": [
        {
          "data": {
            "text/html": [
              "<div>\n",
              "<style scoped>\n",
              "    .dataframe tbody tr th:only-of-type {\n",
              "        vertical-align: middle;\n",
              "    }\n",
              "\n",
              "    .dataframe tbody tr th {\n",
              "        vertical-align: top;\n",
              "    }\n",
              "\n",
              "    .dataframe thead th {\n",
              "        text-align: right;\n",
              "    }\n",
              "</style>\n",
              "<table border=\"1\" class=\"dataframe\">\n",
              "  <thead>\n",
              "    <tr style=\"text-align: right;\">\n",
              "      <th></th>\n",
              "      <th>status</th>\n",
              "      <th>private pool</th>\n",
              "      <th>propertyType</th>\n",
              "      <th>street</th>\n",
              "      <th>baths</th>\n",
              "      <th>homeFacts</th>\n",
              "      <th>fireplace</th>\n",
              "      <th>city</th>\n",
              "      <th>schools</th>\n",
              "      <th>sqft</th>\n",
              "      <th>zipcode</th>\n",
              "      <th>beds</th>\n",
              "      <th>state</th>\n",
              "      <th>stories</th>\n",
              "      <th>mls-id</th>\n",
              "      <th>PrivatePool</th>\n",
              "      <th>MlsId</th>\n",
              "      <th>target</th>\n",
              "    </tr>\n",
              "  </thead>\n",
              "  <tbody>\n",
              "    <tr>\n",
              "      <th>0</th>\n",
              "      <td>Active</td>\n",
              "      <td>NaN</td>\n",
              "      <td>Single Family Home</td>\n",
              "      <td>240 Heather Ln</td>\n",
              "      <td>3.5</td>\n",
              "      <td>{'atAGlanceFacts': [{'factValue': '2019', 'fac...</td>\n",
              "      <td>Gas Logs</td>\n",
              "      <td>Southern Pines</td>\n",
              "      <td>[{'rating': ['4', '4', '7', 'NR', '4', '7', 'N...</td>\n",
              "      <td>2900</td>\n",
              "      <td>28387</td>\n",
              "      <td>4</td>\n",
              "      <td>NC</td>\n",
              "      <td>NaN</td>\n",
              "      <td>NaN</td>\n",
              "      <td>NaN</td>\n",
              "      <td>611019</td>\n",
              "      <td>$418,000</td>\n",
              "    </tr>\n",
              "    <tr>\n",
              "      <th>1</th>\n",
              "      <td>for sale</td>\n",
              "      <td>NaN</td>\n",
              "      <td>single-family home</td>\n",
              "      <td>12911 E Heroy Ave</td>\n",
              "      <td>3 Baths</td>\n",
              "      <td>{'atAGlanceFacts': [{'factValue': '2019', 'fac...</td>\n",
              "      <td>NaN</td>\n",
              "      <td>Spokane Valley</td>\n",
              "      <td>[{'rating': ['4/10', 'None/10', '4/10'], 'data...</td>\n",
              "      <td>1,947 sqft</td>\n",
              "      <td>99216</td>\n",
              "      <td>3 Beds</td>\n",
              "      <td>WA</td>\n",
              "      <td>2.0</td>\n",
              "      <td>NaN</td>\n",
              "      <td>NaN</td>\n",
              "      <td>201916904</td>\n",
              "      <td>$310,000</td>\n",
              "    </tr>\n",
              "    <tr>\n",
              "      <th>2</th>\n",
              "      <td>for sale</td>\n",
              "      <td>NaN</td>\n",
              "      <td>single-family home</td>\n",
              "      <td>2005 Westridge Rd</td>\n",
              "      <td>2 Baths</td>\n",
              "      <td>{'atAGlanceFacts': [{'factValue': '1961', 'fac...</td>\n",
              "      <td>yes</td>\n",
              "      <td>Los Angeles</td>\n",
              "      <td>[{'rating': ['8/10', '4/10', '8/10'], 'data': ...</td>\n",
              "      <td>3,000 sqft</td>\n",
              "      <td>90049</td>\n",
              "      <td>3 Beds</td>\n",
              "      <td>CA</td>\n",
              "      <td>1.0</td>\n",
              "      <td>NaN</td>\n",
              "      <td>yes</td>\n",
              "      <td>FR19221027</td>\n",
              "      <td>$2,895,000</td>\n",
              "    </tr>\n",
              "    <tr>\n",
              "      <th>3</th>\n",
              "      <td>for sale</td>\n",
              "      <td>NaN</td>\n",
              "      <td>single-family home</td>\n",
              "      <td>4311 Livingston Ave</td>\n",
              "      <td>8 Baths</td>\n",
              "      <td>{'atAGlanceFacts': [{'factValue': '2006', 'fac...</td>\n",
              "      <td>yes</td>\n",
              "      <td>Dallas</td>\n",
              "      <td>[{'rating': ['9/10', '9/10', '10/10', '9/10'],...</td>\n",
              "      <td>6,457 sqft</td>\n",
              "      <td>75205</td>\n",
              "      <td>5 Beds</td>\n",
              "      <td>TX</td>\n",
              "      <td>3.0</td>\n",
              "      <td>NaN</td>\n",
              "      <td>NaN</td>\n",
              "      <td>14191809</td>\n",
              "      <td>$2,395,000</td>\n",
              "    </tr>\n",
              "    <tr>\n",
              "      <th>4</th>\n",
              "      <td>for sale</td>\n",
              "      <td>NaN</td>\n",
              "      <td>lot/land</td>\n",
              "      <td>1524 Kiscoe St</td>\n",
              "      <td>NaN</td>\n",
              "      <td>{'atAGlanceFacts': [{'factValue': '', 'factLab...</td>\n",
              "      <td>NaN</td>\n",
              "      <td>Palm Bay</td>\n",
              "      <td>[{'rating': ['4/10', '5/10', '5/10'], 'data': ...</td>\n",
              "      <td>NaN</td>\n",
              "      <td>32908</td>\n",
              "      <td>NaN</td>\n",
              "      <td>FL</td>\n",
              "      <td>NaN</td>\n",
              "      <td>NaN</td>\n",
              "      <td>NaN</td>\n",
              "      <td>861745</td>\n",
              "      <td>$5,000</td>\n",
              "    </tr>\n",
              "  </tbody>\n",
              "</table>\n",
              "</div>"
            ],
            "text/plain": [
              "     status private pool        propertyType               street    baths  \\\n",
              "0    Active          NaN  Single Family Home       240 Heather Ln      3.5   \n",
              "1  for sale          NaN  single-family home    12911 E Heroy Ave  3 Baths   \n",
              "2  for sale          NaN  single-family home    2005 Westridge Rd  2 Baths   \n",
              "3  for sale          NaN  single-family home  4311 Livingston Ave  8 Baths   \n",
              "4  for sale          NaN            lot/land       1524 Kiscoe St      NaN   \n",
              "\n",
              "                                           homeFacts fireplace  \\\n",
              "0  {'atAGlanceFacts': [{'factValue': '2019', 'fac...  Gas Logs   \n",
              "1  {'atAGlanceFacts': [{'factValue': '2019', 'fac...       NaN   \n",
              "2  {'atAGlanceFacts': [{'factValue': '1961', 'fac...       yes   \n",
              "3  {'atAGlanceFacts': [{'factValue': '2006', 'fac...       yes   \n",
              "4  {'atAGlanceFacts': [{'factValue': '', 'factLab...       NaN   \n",
              "\n",
              "             city                                            schools  \\\n",
              "0  Southern Pines  [{'rating': ['4', '4', '7', 'NR', '4', '7', 'N...   \n",
              "1  Spokane Valley  [{'rating': ['4/10', 'None/10', '4/10'], 'data...   \n",
              "2     Los Angeles  [{'rating': ['8/10', '4/10', '8/10'], 'data': ...   \n",
              "3          Dallas  [{'rating': ['9/10', '9/10', '10/10', '9/10'],...   \n",
              "4        Palm Bay  [{'rating': ['4/10', '5/10', '5/10'], 'data': ...   \n",
              "\n",
              "         sqft zipcode    beds state stories mls-id PrivatePool       MlsId  \\\n",
              "0        2900   28387       4    NC     NaN    NaN         NaN      611019   \n",
              "1  1,947 sqft   99216  3 Beds    WA     2.0    NaN         NaN   201916904   \n",
              "2  3,000 sqft   90049  3 Beds    CA     1.0    NaN         yes  FR19221027   \n",
              "3  6,457 sqft   75205  5 Beds    TX     3.0    NaN         NaN    14191809   \n",
              "4         NaN   32908     NaN    FL     NaN    NaN         NaN      861745   \n",
              "\n",
              "       target  \n",
              "0    $418,000  \n",
              "1    $310,000  \n",
              "2  $2,895,000  \n",
              "3  $2,395,000  \n",
              "4      $5,000  "
            ]
          },
          "execution_count": 2354,
          "metadata": {},
          "output_type": "execute_result"
        }
      ],
      "source": [
        "df.head()"
      ]
    },
    {
      "cell_type": "code",
      "execution_count": 2355,
      "metadata": {
        "colab": {
          "base_uri": "https://localhost:8080/"
        },
        "id": "KO0u_3EW-okk",
        "outputId": "72fc7841-9d8a-4a8b-fa7e-f904830c0f53"
      },
      "outputs": [
        {
          "data": {
            "text/plain": [
              "(377185, 18)"
            ]
          },
          "execution_count": 2355,
          "metadata": {},
          "output_type": "execute_result"
        }
      ],
      "source": [
        "df.shape"
      ]
    },
    {
      "cell_type": "code",
      "execution_count": 2356,
      "metadata": {
        "colab": {
          "base_uri": "https://localhost:8080/"
        },
        "id": "Egyx7KRmlMc9",
        "outputId": "17bf8991-5dac-4132-cb05-48ee82b5e45e"
      },
      "outputs": [
        {
          "data": {
            "text/plain": [
              "(2481, 18)"
            ]
          },
          "execution_count": 2356,
          "metadata": {},
          "output_type": "execute_result"
        }
      ],
      "source": [
        "df[df['target'].isna()].shape"
      ]
    },
    {
      "cell_type": "code",
      "execution_count": 2357,
      "metadata": {
        "colab": {
          "base_uri": "https://localhost:8080/"
        },
        "id": "nP1wSjr_vQfi",
        "outputId": "8a105b2e-4d8b-4d4a-d9a0-8351a11d466a"
      },
      "outputs": [
        {
          "name": "stdout",
          "output_type": "stream",
          "text": [
            "<class 'pandas.core.frame.DataFrame'>\n",
            "RangeIndex: 377185 entries, 0 to 377184\n",
            "Data columns (total 18 columns):\n",
            " #   Column        Non-Null Count   Dtype \n",
            "---  ------        --------------   ----- \n",
            " 0   status        337267 non-null  object\n",
            " 1   private pool  4181 non-null    object\n",
            " 2   propertyType  342452 non-null  object\n",
            " 3   street        377183 non-null  object\n",
            " 4   baths         270847 non-null  object\n",
            " 5   homeFacts     377185 non-null  object\n",
            " 6   fireplace     103115 non-null  object\n",
            " 7   city          377151 non-null  object\n",
            " 8   schools       377185 non-null  object\n",
            " 9   sqft          336608 non-null  object\n",
            " 10  zipcode       377185 non-null  object\n",
            " 11  beds          285903 non-null  object\n",
            " 12  state         377185 non-null  object\n",
            " 13  stories       226470 non-null  object\n",
            " 14  mls-id        24942 non-null   object\n",
            " 15  PrivatePool   40311 non-null   object\n",
            " 16  MlsId         310305 non-null  object\n",
            " 17  target        374704 non-null  object\n",
            "dtypes: object(18)\n",
            "memory usage: 51.8+ MB\n"
          ]
        }
      ],
      "source": [
        "df.info()"
      ]
    },
    {
      "cell_type": "code",
      "execution_count": 2358,
      "metadata": {
        "colab": {
          "base_uri": "https://localhost:8080/"
        },
        "id": "DmT4P5r82xb5",
        "outputId": "168e5fc5-14c1-4c09-c71a-2f899b1a17e7"
      },
      "outputs": [
        {
          "name": "stdout",
          "output_type": "stream",
          "text": [
            "Percent NULL values\n",
            "\n"
          ]
        },
        {
          "data": {
            "text/plain": [
              "status          10.58\n",
              "private pool    98.89\n",
              "propertyType     9.21\n",
              "street           0.00\n",
              "baths           28.19\n",
              "homeFacts        0.00\n",
              "fireplace       72.66\n",
              "city             0.01\n",
              "schools          0.00\n",
              "sqft            10.76\n",
              "zipcode          0.00\n",
              "beds            24.20\n",
              "state            0.00\n",
              "stories         39.96\n",
              "mls-id          93.39\n",
              "PrivatePool     89.31\n",
              "MlsId           17.73\n",
              "target           0.66\n",
              "dtype: float64"
            ]
          },
          "execution_count": 2358,
          "metadata": {},
          "output_type": "execute_result"
        }
      ],
      "source": [
        "print(\"Percent NULL values\\n\")\n",
        "round(df.isna().sum() / df.shape[0] * 100, 2)"
      ]
    },
    {
      "cell_type": "markdown",
      "metadata": {
        "id": "4SsjYfyy3ecP"
      },
      "source": [
        "Удаляем столбцы, где процент NULL значений больше 40%"
      ]
    },
    {
      "cell_type": "code",
      "execution_count": 2359,
      "metadata": {
        "id": "11b4aa6dK7q2"
      },
      "outputs": [],
      "source": [
        "df.drop(['private pool', 'fireplace', 'mls-id', 'PrivatePool'], axis=1, inplace=True)"
      ]
    },
    {
      "cell_type": "code",
      "execution_count": 2360,
      "metadata": {
        "colab": {
          "base_uri": "https://localhost:8080/"
        },
        "id": "HlT7wWfZ39we",
        "outputId": "9841e043-0e34-41fa-c685-199d4f1eda6d"
      },
      "outputs": [
        {
          "data": {
            "text/plain": [
              "status             159\n",
              "propertyType      1280\n",
              "street          337076\n",
              "baths              229\n",
              "homeFacts       321009\n",
              "city              2026\n",
              "schools         297365\n",
              "sqft             25405\n",
              "zipcode           4549\n",
              "beds              1184\n",
              "state               39\n",
              "stories            348\n",
              "MlsId           232944\n",
              "target           43939\n",
              "dtype: int64"
            ]
          },
          "execution_count": 2360,
          "metadata": {},
          "output_type": "execute_result"
        }
      ],
      "source": [
        "df.nunique()"
      ]
    },
    {
      "cell_type": "markdown",
      "metadata": {
        "id": "jHEzEYMH1LyF"
      },
      "source": [
        "status"
      ]
    },
    {
      "cell_type": "code",
      "execution_count": 2361,
      "metadata": {
        "id": "2n1c-t7p4C-0"
      },
      "outputs": [],
      "source": [
        "df['status'] = df['status'].str.lower()"
      ]
    },
    {
      "cell_type": "code",
      "execution_count": 2362,
      "metadata": {
        "colab": {
          "base_uri": "https://localhost:8080/",
          "height": 35
        },
        "id": "9NBV6zdI95QT",
        "outputId": "245194b6-a9e4-4722-e573-f6fd94ef40c9"
      },
      "outputs": [
        {
          "data": {
            "text/plain": [
              "'0123456789'"
            ]
          },
          "execution_count": 2362,
          "metadata": {},
          "output_type": "execute_result"
        }
      ],
      "source": [
        "import string\n",
        "string.punctuation\n",
        "string.digits"
      ]
    },
    {
      "cell_type": "code",
      "execution_count": 2363,
      "metadata": {
        "colab": {
          "base_uri": "https://localhost:8080/"
        },
        "id": "gjVBpAcj_hvK",
        "outputId": "39146b96-e870-4668-92e3-738b8efd0ae6"
      },
      "outputs": [
        {
          "data": {
            "text/plain": [
              "for sale                   199571\n",
              "active                     105207\n",
              "NaN                         39918\n",
              "foreclosure                  6769\n",
              "new construction             5475\n",
              "                            ...  \n",
              "pending w escape clause         1\n",
              "pending bring backup            1\n",
              "pending w backup wanted         1\n",
              "conting accpt backups           1\n",
              "under contract w bckp           1\n",
              "Name: status, Length: 104, dtype: int64"
            ]
          },
          "execution_count": 2363,
          "metadata": {},
          "output_type": "execute_result"
        }
      ],
      "source": [
        "df['status'] = df['status'].str.replace('[{}]'.format(string.punctuation), ' ').str.replace('[{}]'.format(string.digits), ' ').apply(lambda x: \" \".join(str(x).split()))\r\n",
        "df['status'] = df['status'].apply(lambda x: None if x is None else None if str(x) == 'nan' else x)\r\n",
        "df['status'].value_counts(dropna=False)"
      ]
    },
    {
      "cell_type": "code",
      "execution_count": 2364,
      "metadata": {
        "colab": {
          "base_uri": "https://localhost:8080/"
        },
        "id": "JwQBiVTSibVQ",
        "outputId": "a40ab2b6-bc5d-4ea2-baa8-ba463903a204"
      },
      "outputs": [
        {
          "data": {
            "text/plain": [
              "103"
            ]
          },
          "execution_count": 2364,
          "metadata": {},
          "output_type": "execute_result"
        }
      ],
      "source": [
        "df['status'].nunique()"
      ]
    },
    {
      "cell_type": "code",
      "execution_count": 2365,
      "metadata": {},
      "outputs": [
        {
          "data": {
            "text/plain": [
              "39918"
            ]
          },
          "execution_count": 2365,
          "metadata": {},
          "output_type": "execute_result"
        }
      ],
      "source": [
        "df['status'].isna().sum()"
      ]
    },
    {
      "cell_type": "markdown",
      "metadata": {
        "id": "Vfiig-gf1Ix2"
      },
      "source": [
        "propertyType "
      ]
    },
    {
      "cell_type": "code",
      "execution_count": 2366,
      "metadata": {
        "colab": {
          "base_uri": "https://localhost:8080/"
        },
        "id": "R37PLl0L_8Lp",
        "outputId": "c616b1a3-b422-4535-b803-da779a675c6e"
      },
      "outputs": [
        {
          "data": {
            "text/plain": [
              "342107    single-family home\n",
              "2837               Townhouse\n",
              "20267            Traditional\n",
              "190240          multi-family\n",
              "112797    Single Family Home\n",
              "18490              townhouse\n",
              "100899    single-family home\n",
              "247135    Single Family Home\n",
              "220607             High Rise\n",
              "353436    Urban Contemporary\n",
              "Name: propertyType, dtype: object"
            ]
          },
          "execution_count": 2366,
          "metadata": {},
          "output_type": "execute_result"
        }
      ],
      "source": [
        "df['propertyType'].sample(10)"
      ]
    },
    {
      "cell_type": "code",
      "execution_count": 2367,
      "metadata": {
        "id": "2drMoTn31Sv0"
      },
      "outputs": [],
      "source": [
        "df['propertyType'] = df['propertyType'].str.lower()\n",
        "df['propertyType'] = df['propertyType'].str.replace('[{}]'.format(string.punctuation), ' ').apply(lambda x: \" \".join(str(x).split()))\n",
        "df['propertyType'] = df['propertyType'].str.replace('one', '1').str.replace('two', '2')"
      ]
    },
    {
      "cell_type": "code",
      "execution_count": 2368,
      "metadata": {
        "colab": {
          "base_uri": "https://localhost:8080/"
        },
        "id": "6adUWZNnCEu4",
        "outputId": "d519d4d0-c584-43f5-cc44-bec4c5bf8928"
      },
      "outputs": [
        {
          "data": {
            "text/plain": [
              "contemporary modern           1010\n",
              "apartment                      922\n",
              "2 stories                      911\n",
              "mfd mobile home                792\n",
              "single detached                751\n",
              "detached 2 story               638\n",
              "2 story                        596\n",
              "transitional                   560\n",
              "cooperative                    535\n",
              "florida                        530\n",
              "bungalow                       442\n",
              "farms ranches                  371\n",
              "garden home                    305\n",
              "cape cod                       281\n",
              "2 stories traditional          280\n",
              "spanish mediterranean          272\n",
              "other style                    249\n",
              "1 story traditional            238\n",
              "other                          232\n",
              "condo townhome traditional     225\n",
              "Name: propertyType, dtype: int64"
            ]
          },
          "execution_count": 2368,
          "metadata": {},
          "output_type": "execute_result"
        }
      ],
      "source": [
        "df['propertyType'].value_counts()[20:40]"
      ]
    },
    {
      "cell_type": "code",
      "execution_count": 2369,
      "metadata": {
        "colab": {
          "base_uri": "https://localhost:8080/"
        },
        "id": "bUIKI--bHHOm",
        "outputId": "e8f80047-6671-4690-d846-f5553aad73ae"
      },
      "outputs": [
        {
          "data": {
            "text/plain": [
              "NaN          369527\n",
              "1 story        4440\n",
              "2 stories      1558\n",
              "2 story        1466\n",
              "3 stories       134\n",
              "8 stories        38\n",
              "7 stories        15\n",
              "3 story           6\n",
              "5 story           1\n",
              "Name: stories_dop, dtype: int64"
            ]
          },
          "execution_count": 2369,
          "metadata": {},
          "output_type": "execute_result"
        }
      ],
      "source": [
        "df['stories_dop'] = df['propertyType'].str.findall(r'[a-z0-9]+ story|[a-z0-9]+ stories').apply(lambda x: None if len(x) == 0 else x[-1])\n",
        "#.str.replace('one', '1').str.replace('two', '2')\n",
        "df['stories_dop'].value_counts(dropna=False)"
      ]
    },
    {
      "cell_type": "code",
      "execution_count": 2370,
      "metadata": {
        "id": "W1zAHyISN2sg"
      },
      "outputs": [],
      "source": [
        "set_story = set(df['stories_dop'].dropna())\n",
        "for y in set_story:\n",
        "  df['propertyType'] = df['propertyType'].str.replace(y, '')"
      ]
    },
    {
      "cell_type": "code",
      "execution_count": 2371,
      "metadata": {
        "colab": {
          "base_uri": "https://localhost:8080/"
        },
        "id": "MWm2qcUB27s8",
        "outputId": "934d89c6-5a10-4287-89fa-8c3da5b68d99"
      },
      "outputs": [
        {
          "data": {
            "text/plain": [
              "single family home                                                                 123934\n",
              "condo townhome row home co op                                                        7701\n",
              "multi family home                                                                    1501\n",
              "mfd mobile home                                                                       792\n",
              "garden home                                                                           305\n",
              "                                                                                    ...  \n",
              "condo townhome hi rise contemporary modern mid century modern other see remarks         1\n",
              "designated historical home single detached traditional                                  1\n",
              "condo townhome southwestern                                                             1\n",
              "mobile home                                                                             1\n",
              "condo townhome mediterranean spanish                                                    1\n",
              "Name: propertyType, Length: 137, dtype: int64"
            ]
          },
          "execution_count": 2371,
          "metadata": {},
          "output_type": "execute_result"
        }
      ],
      "source": [
        "df[df['propertyType'].str.contains('home')]['propertyType'].value_counts()"
      ]
    },
    {
      "cell_type": "code",
      "execution_count": 2372,
      "metadata": {
        "id": "VNsnUVuBX64m"
      },
      "outputs": [],
      "source": [
        "df['propertyType'] = df['propertyType'].str.replace('home', '')\r\n",
        "df['propertyType'] = df['propertyType'].apply(lambda x: None if x == '' else\r\n",
        "                                              None if str(x) == 'nan' else \r\n",
        "                                              None if str(x) == 'None' else \" \".join(str(x).split()))"
      ]
    },
    {
      "cell_type": "code",
      "execution_count": 2373,
      "metadata": {
        "colab": {
          "base_uri": "https://localhost:8080/"
        },
        "id": "dZ-XFKT9XRqE",
        "outputId": "45deb220-8be4-4962-fa97-347f327eb0da"
      },
      "outputs": [
        {
          "data": {
            "text/plain": [
              "1112"
            ]
          },
          "execution_count": 2373,
          "metadata": {},
          "output_type": "execute_result"
        }
      ],
      "source": [
        "df['propertyType'].nunique()"
      ]
    },
    {
      "cell_type": "code",
      "execution_count": 2374,
      "metadata": {
        "colab": {
          "base_uri": "https://localhost:8080/"
        },
        "id": "lQ5CpxIXACrE",
        "outputId": "930f5ad6-12dc-4e08-e99f-41de4e179918"
      },
      "outputs": [
        {
          "data": {
            "text/plain": [
              "single family                                              186803\n",
              "condo                                                       42530\n",
              "NaN                                                         38211\n",
              "lot land                                                    20552\n",
              "townhouse                                                   18401\n",
              "                                                            ...  \n",
              "loft a frame                                                    1\n",
              "courtyard custom other                                          1\n",
              "condo town mediterranean other see remarks                      1\n",
              "single detached a frame contemporary modern traditional         1\n",
              "manuf mobile ranch                                              1\n",
              "Name: propertyType, Length: 1113, dtype: int64"
            ]
          },
          "execution_count": 2374,
          "metadata": {},
          "output_type": "execute_result"
        }
      ],
      "source": [
        "df['propertyType'].value_counts(dropna=False)"
      ]
    },
    {
      "cell_type": "markdown",
      "metadata": {
        "id": "dp5t10jcZCCK"
      },
      "source": [
        "street"
      ]
    },
    {
      "cell_type": "code",
      "execution_count": 2375,
      "metadata": {
        "colab": {
          "base_uri": "https://localhost:8080/"
        },
        "id": "17rgvZ3JXw-8",
        "outputId": "cc861a53-41fd-4a52-c97f-534f86c32fd5"
      },
      "outputs": [
        {
          "data": {
            "text/plain": [
              "303 Pradera Butte                    3\n",
              "Parker Road E & Washington Street    3\n",
              "Springfield Rd                       3\n",
              "5528 John McDowell Place             3\n",
              "8910 Echo Valley Dr                  3\n",
              "                                    ..\n",
              "1752 Carlyle Rd                      1\n",
              "2845 NE 9th St #602                  1\n",
              "5789 Birds Nest Ln                   1\n",
              "1181 Monte Sereno Dr                 1\n",
              "1426 Chestnut Springs Ln             1\n",
              "Name: street, Length: 335877, dtype: int64"
            ]
          },
          "execution_count": 2375,
          "metadata": {},
          "output_type": "execute_result"
        }
      ],
      "source": [
        "df['street'].value_counts(dropna=False)[1200:]"
      ]
    },
    {
      "cell_type": "code",
      "execution_count": 2376,
      "metadata": {
        "id": "-sHPD6TZ6l48"
      },
      "outputs": [],
      "source": [
        "df['street'] = df['street'].str.lower()\n",
        "df['street'] = df['street'].apply(lambda x: None if 'not disclosed' in str(x) else \n",
        "                                  None if 'undisclosed' in str(x) else\n",
        "                                  None if 'not available' in str(x) else\n",
        "                                  None if 'unknown' in str(x) else str(x))"
      ]
    },
    {
      "cell_type": "code",
      "execution_count": 2377,
      "metadata": {
        "id": "J-963uSjL8iB"
      },
      "outputs": [],
      "source": [
        "df.loc[(df['street'].isna()==False) & (df['street'].str.contains(r'mls ')), 'street'] = None"
      ]
    },
    {
      "cell_type": "code",
      "execution_count": 2378,
      "metadata": {
        "colab": {
          "base_uri": "https://localhost:8080/",
          "height": 35
        },
        "id": "GbgWmS1esbxU",
        "outputId": "16670d08-a9a3-4652-be26-164bb6e55ac0"
      },
      "outputs": [
        {
          "data": {
            "text/plain": [
              "'1131 w 24th street st unit c '"
            ]
          },
          "execution_count": 2378,
          "metadata": {},
          "output_type": "execute_result"
        }
      ],
      "source": [
        "df.loc[81361, 'street']"
      ]
    },
    {
      "cell_type": "code",
      "execution_count": 2379,
      "metadata": {
        "id": "Lezwat9yAWuu"
      },
      "outputs": [],
      "source": [
        "punct = string.punctuation\n",
        "df['street'] = df['street'].str.replace('[{}]'.format(string.punctuation), ' ').str.replace(r'\\b[0-9]+\\b', '').str.replace('  ', ' ').str.strip()"
      ]
    },
    {
      "cell_type": "code",
      "execution_count": 2380,
      "metadata": {
        "id": "zIj1LeBMRHcX"
      },
      "outputs": [],
      "source": [
        "street_list_tuple = [('st', 'street'), ('dr', 'drive'), ('ave', 'avenue'), ('rd', 'road'), ('rdg', 'ridge'), ('blvd', 'boulevard'), ('pkwy', 'parkway'), \n",
        "                   ('cir', 'circle'), ('hwy', 'highway'), ('ln', 'lane'), ('lndg', 'landing'), ('trl', 'trail'), ('ter', 'terrace'), ('ct', 'court'), \n",
        "                   ('crk', 'creek'), ('pl', 'place'), ('rds', 'roads'), ('bnd', 'bend'), ('fls', 'falls'), ('clf', 'cliff'), ('clfs', 'cliff'), ('mtn', 'mountain'), \n",
        "                   ('crst', 'crest'), ('hl', 'hill'), ('ml', 'mill'), ('mnr', 'manor'), ('hts', 'heights')]       \n",
        "                          "
      ]
    },
    {
      "cell_type": "code",
      "execution_count": 2381,
      "metadata": {
        "id": "1E-BO1T0-TP9"
      },
      "outputs": [],
      "source": [
        "def street_replace(df, st_tupl):\n",
        "\n",
        "  # Функция замены коротких синонимов на полные названия и удаление дубликатов\n",
        "\n",
        "  df['street'] = df['street'].str.replace(rf'\\b{st_tupl[0]}\\b', st_tupl[1]).str.replace(rf'\\b{st_tupl[1]}\\b \\b{st_tupl[1]}\\b', st_tupl[1])\n",
        "  df['street'] = df['street'].str.replace('  ', ' ').str.strip()\n",
        "\n",
        "  # print(f'replace {st_tupl[0]} to {st_tupl[1]}')"
      ]
    },
    {
      "cell_type": "code",
      "execution_count": 2382,
      "metadata": {
        "id": "-TXrE9VA9y-V"
      },
      "outputs": [],
      "source": [
        "# for x in street_list_tuple:\r\n",
        "#   street_replace(df, x)"
      ]
    },
    {
      "cell_type": "code",
      "execution_count": 2383,
      "metadata": {
        "id": "IFBTRMTnP5MM"
      },
      "outputs": [],
      "source": [
        "def del_dropwords_street(df, dropword):\n",
        "\n",
        "  # Удаляем dropword из признака street\n",
        "  df['street'] = df['street'].str.replace(rf'\\b{dropword}\\b', '').str.replace(r'  ', ' ').str.strip()\n",
        "\n",
        "  print(f\"Drop {dropword}\")"
      ]
    },
    {
      "cell_type": "code",
      "execution_count": 2384,
      "metadata": {
        "colab": {
          "base_uri": "https://localhost:8080/"
        },
        "id": "qwv2r3M6MiJE",
        "outputId": "3680ccf8-3ec3-44ba-f161-7fe105c95c62"
      },
      "outputs": [],
      "source": [
        "dropwords = ['lot', 'lots', 'collections', 'collection', 'plan', 'apt', 'unit', 'buildable', 'the']\r\n",
        "\r\n",
        "# for x in dropwords:\r\n",
        "#   del_dropwords_street(df, x)"
      ]
    },
    {
      "cell_type": "code",
      "execution_count": 2385,
      "metadata": {
        "id": "PtEsZXfg_YW4"
      },
      "outputs": [],
      "source": [
        "# Удаляем мусор из строк, чтобы легче паттерны было выделять\n",
        "df['street'] = df['street'].str.replace(r'\\b[a-z]{1,2}\\b', '').str.replace('  ', ' ').str.strip()\n",
        "df['street'] = df['street'].str.replace(r'\\b[0-9]+[a-z]\\b', '').str.replace(r'\\b[a-z]+[0-9]\\b', '').str.replace(r'\\b[0-9]+ft\\b', '')\n",
        "df['street'] = df['street'].str.replace(r'  ', ' ').str.strip()"
      ]
    },
    {
      "cell_type": "code",
      "execution_count": 2386,
      "metadata": {
        "id": "M7mp668lXZ7n"
      },
      "outputs": [],
      "source": [
        "df['street'] = df['street'].apply(lambda x: None if x is None else\n",
        "                                  None if x.strip() == '' else x)"
      ]
    },
    {
      "cell_type": "code",
      "execution_count": 2387,
      "metadata": {
        "colab": {
          "base_uri": "https://localhost:8080/"
        },
        "id": "0yEgzpl9P_gC",
        "outputId": "e0ac7a8e-3e1f-47d4-a098-16df89b72d51"
      },
      "outputs": [
        {
          "data": {
            "text/plain": [
              "188685       deer unit\n",
              "121821            None\n",
              "157938        74th ter\n",
              "15047      collins ave\n",
              "78164     division ave\n",
              "93014          victory\n",
              "297911      washington\n",
              "10078             21st\n",
              "357658       wild fern\n",
              "29181        sugarloaf\n",
              "Name: street, dtype: object"
            ]
          },
          "execution_count": 2387,
          "metadata": {},
          "output_type": "execute_result"
        }
      ],
      "source": [
        "df['street'].sample(10)"
      ]
    },
    {
      "cell_type": "code",
      "execution_count": 2388,
      "metadata": {
        "id": "1JbarXzsuA_-"
      },
      "outputs": [],
      "source": [
        "# The maximum number of words to be used. (most frequent)\n",
        "MAX_WORDS = 10000\n",
        "# Max number of words in each complaint.\n",
        "MAX_SEQUENCE_LENGTH = 10"
      ]
    },
    {
      "cell_type": "code",
      "execution_count": 2389,
      "metadata": {
        "id": "sf8FVG5SYaPI"
      },
      "outputs": [],
      "source": [
        "street_nlp = df[df['street'].isna() == False]['street'].copy()"
      ]
    },
    {
      "cell_type": "code",
      "execution_count": 2390,
      "metadata": {
        "id": "__1Pio2HY0wj"
      },
      "outputs": [],
      "source": [
        "# tokenize = Tokenizer(num_words=MAX_WORDS)\r\n",
        "# tokenize.fit_on_texts(street_nlp)"
      ]
    },
    {
      "cell_type": "markdown",
      "metadata": {
        "id": "x-vwUj9Tirgi"
      },
      "source": [
        "baths"
      ]
    },
    {
      "cell_type": "code",
      "execution_count": 2391,
      "metadata": {
        "colab": {
          "base_uri": "https://localhost:8080/"
        },
        "id": "72-rA4zkcziq",
        "outputId": "de73b07f-ece1-43a5-d38e-c6474fa630ae"
      },
      "outputs": [
        {
          "data": {
            "text/plain": [
              "NaN           106338\n",
              "2 Baths        52466\n",
              "3 Baths        35506\n",
              "2              20452\n",
              "2.0            16576\n",
              "               ...  \n",
              "30.0               1\n",
              "1.8 Baths          1\n",
              "4.75 Baths         1\n",
              "41.0               1\n",
              "39 Baths           1\n",
              "Name: baths, Length: 230, dtype: int64"
            ]
          },
          "execution_count": 2391,
          "metadata": {},
          "output_type": "execute_result"
        }
      ],
      "source": [
        "df['baths'] = df['baths'].apply(lambda x: None if x is np.nan else x)\n",
        "df['baths'].value_counts(dropna=False)"
      ]
    },
    {
      "cell_type": "code",
      "execution_count": 2392,
      "metadata": {
        "id": "dB_Ii709XnKe"
      },
      "outputs": [],
      "source": [
        "punct = '~—\\-:'"
      ]
    },
    {
      "cell_type": "code",
      "execution_count": 2393,
      "metadata": {
        "id": "jmhHX5o4iv-f"
      },
      "outputs": [],
      "source": [
        "df['baths'] = df['baths'].str.lower().str.replace('[a-z]+\\.?', '').str.replace(',', '.').str.replace('[{}]'.format(punct), ' ')\n",
        "df['baths'] = df['baths'].apply(lambda x: None if str(x).strip() =='' else x)"
      ]
    },
    {
      "cell_type": "code",
      "execution_count": 2394,
      "metadata": {
        "colab": {
          "base_uri": "https://localhost:8080/"
        },
        "id": "OM9QISiVi9Rp",
        "outputId": "ec808283-d9ce-4db1-d2bd-75e26b21a1be"
      },
      "outputs": [
        {
          "data": {
            "text/plain": [
              "2.0     103519\n",
              "3.0      66683\n",
              "4.0      26333\n",
              "1.0      17787\n",
              "2.5      13786\n",
              "         ...  \n",
              "1.8          1\n",
              "64.0         1\n",
              "14.5         1\n",
              "0.5          1\n",
              "42.0         1\n",
              "Name: baths_new, Length: 84, dtype: int64"
            ]
          },
          "execution_count": 2394,
          "metadata": {},
          "output_type": "execute_result"
        }
      ],
      "source": [
        "df['baths_new'] = df['baths'].str.findall('[0-9]+\\.?[0-9]*')\n",
        "df['baths_new'] = df['baths_new'].apply(lambda x: None if x is None else x[0]).astype(float)\n",
        "df['baths_new'].value_counts()\n",
        "\n",
        "# df['baths_new'].to_csv('out.csv')\n",
        "# ванна 0.5 проверить"
      ]
    },
    {
      "cell_type": "markdown",
      "metadata": {
        "id": "Z8H573yK-5Ra"
      },
      "source": [
        "city"
      ]
    },
    {
      "cell_type": "code",
      "execution_count": 2395,
      "metadata": {
        "id": "tx4GJMim-xfC"
      },
      "outputs": [],
      "source": [
        "df['city'] = df['city'].str.lower().str.strip()\n",
        "df['city'] = df['city'].str.replace('\\-', ' ')"
      ]
    },
    {
      "cell_type": "code",
      "execution_count": 2396,
      "metadata": {
        "id": "50sSBa0CCy35"
      },
      "outputs": [],
      "source": [
        "df['city'] = df['city'].str.replace(' city', '').str.replace(' town+[a-z]*', '')\n",
        "df['city'] = df['city'].str.replace('st\\.', 'saint').str.replace(' twp.', '').str.replace('e. ', '').str.replace('ft.', 'fort').str.replace('s.a.', 'san antonio')\n",
        "df['city'] = df['city'].str.replace(' twp', '').str.replace(' vlg', ' village')\n",
        "df['city'] = df['city'].str.replace(' hts', 'heights').str.replace(' pt', 'point').str.replace('pt ', 'port ')\n",
        "df['city'] = df['city'].str.replace('^st ', 'saint ')"
      ]
    },
    {
      "cell_type": "code",
      "execution_count": 2397,
      "metadata": {
        "id": "fQ9mVNQdLtvv"
      },
      "outputs": [],
      "source": [
        "df.loc[(df['city'].isna()==False) & (df['city'].str.contains('san antonio')), 'city'] = 'san antonio'"
      ]
    },
    {
      "cell_type": "code",
      "execution_count": 2398,
      "metadata": {
        "id": "X_UHuzr2NcFB"
      },
      "outputs": [],
      "source": [
        "df['city'] = df['city'].str.replace('p c ', 'panama ').str.replace('^n ', 'north ').str.replace(\"town 'n' country\", 'town north country')\r\n",
        "df['city'] = df['city'].str.replace('nyork', 'new york').str.replace('nyc', 'new york')\r\n",
        "df['city'] = df['city'].str.replace('bed-stuy', 'brooklyn').str.replace('collegepoint', 'college point')\r\n",
        "df['city'] = df['city'].str.replace('othvalue [ a-z]*', 'other')"
      ]
    },
    {
      "cell_type": "code",
      "execution_count": 2399,
      "metadata": {
        "id": "127ZGrVM_PHv"
      },
      "outputs": [],
      "source": [
        "df['city'] = df['city'].apply(lambda x: \" \".join(str(x).split())).str.strip()\r\n",
        "df['city'] = df['city'].apply(lambda x: None if x is None else None if str(x) == '' else x)"
      ]
    },
    {
      "cell_type": "code",
      "execution_count": 2400,
      "metadata": {
        "colab": {
          "base_uri": "https://localhost:8080/"
        },
        "id": "Zjiaw16guWeV",
        "outputId": "85a0d299-3f6d-4c30-8514-ddd9d77be0a5"
      },
      "outputs": [
        {
          "data": {
            "text/plain": [
              "san antonio      30033\n",
              "houston          24442\n",
              "miami            15528\n",
              "jacksonville     10032\n",
              "dallas            8858\n",
              "                 ...  \n",
              "springport           1\n",
              "manvel               1\n",
              "encinal              1\n",
              "white cottage        1\n",
              "clarksburg           1\n",
              "Name: city, Length: 1784, dtype: int64"
            ]
          },
          "execution_count": 2400,
          "metadata": {},
          "output_type": "execute_result"
        }
      ],
      "source": [
        "df['city'].value_counts(dropna=False)"
      ]
    },
    {
      "cell_type": "markdown",
      "metadata": {
        "id": "T7pcOLqTWbxg"
      },
      "source": [
        "sqft"
      ]
    },
    {
      "cell_type": "code",
      "execution_count": 2401,
      "metadata": {
        "colab": {
          "base_uri": "https://localhost:8080/"
        },
        "id": "RER3b6qMWJMn",
        "outputId": "50615b1c-ce01-4a8d-b2d2-e08d3650fc4a"
      },
      "outputs": [
        {
          "data": {
            "text/plain": [
              "0                                          11854\n",
              "1,200 sqft                                   839\n",
              "1,000 sqft                                   654\n",
              "1,100 sqft                                   573\n",
              "1,800 sqft                                   563\n",
              "                                           ...  \n",
              "5,252                                          1\n",
              "127,961 sqft                                   1\n",
              "Total interior livable area: 3,887 sqft        1\n",
              "7,527 sqft                                     1\n",
              "6,064 sqft                                     1\n",
              "Name: sqft, Length: 25405, dtype: int64"
            ]
          },
          "execution_count": 2401,
          "metadata": {},
          "output_type": "execute_result"
        }
      ],
      "source": [
        "df['sqft'].value_counts()"
      ]
    },
    {
      "cell_type": "code",
      "execution_count": 2402,
      "metadata": {
        "id": "GP4EeNuxWd-v"
      },
      "outputs": [],
      "source": [
        "df['sqft'] = df['sqft'].apply(lambda x: None if x is np.nan else x)"
      ]
    },
    {
      "cell_type": "code",
      "execution_count": 2403,
      "metadata": {
        "id": "GDNi00qLYEs9"
      },
      "outputs": [],
      "source": [
        "df['sqft'] = df['sqft'].str.replace('[a-z ]*: ', '')\n",
        "df['sqft'] = df['sqft'].str.replace('-','').str.replace('[A-Za-z]+','').str.replace(',','')"
      ]
    },
    {
      "cell_type": "code",
      "execution_count": 2404,
      "metadata": {
        "id": "MgP1MPahpfUc"
      },
      "outputs": [],
      "source": [
        "df['sqft'] = df['sqft'].str.strip().apply(lambda x: None if x is None else \n",
        "                                          None if x == '' else int(x))"
      ]
    },
    {
      "cell_type": "code",
      "execution_count": 2405,
      "metadata": {
        "colab": {
          "base_uri": "https://localhost:8080/"
        },
        "id": "NsuUp4aIXmZe",
        "outputId": "803ece23-8708-4b45-facf-7b74680c8031"
      },
      "outputs": [
        {
          "data": {
            "text/plain": [
              "NaN         41397\n",
              "0.0         11854\n",
              "1200.0       1426\n",
              "1000.0       1027\n",
              "1500.0       1014\n",
              "            ...  \n",
              "8966.0          1\n",
              "11089.0         1\n",
              "123275.0        1\n",
              "44351.0         1\n",
              "32767.0         1\n",
              "Name: sqft, Length: 9898, dtype: int64"
            ]
          },
          "execution_count": 2405,
          "metadata": {},
          "output_type": "execute_result"
        }
      ],
      "source": [
        "df['sqft'].value_counts(dropna=False)"
      ]
    },
    {
      "cell_type": "markdown",
      "metadata": {
        "id": "QGaLQyherF6A"
      },
      "source": [
        "zipcode"
      ]
    },
    {
      "cell_type": "code",
      "execution_count": 2406,
      "metadata": {
        "colab": {
          "base_uri": "https://localhost:8080/"
        },
        "id": "ebx3JkAsrA8G",
        "outputId": "dfc8ef42-80d0-4e5b-e93f-890a3ccdbe78"
      },
      "outputs": [
        {
          "data": {
            "text/plain": [
              "32137         2141\n",
              "33131         1563\n",
              "34747         1488\n",
              "78245         1390\n",
              "34759         1333\n",
              "              ... \n",
              "27607-4176       1\n",
              "77535            1\n",
              "41822            1\n",
              "07004-1878       1\n",
              "27703-9840       1\n",
              "Name: zipcode, Length: 4549, dtype: int64"
            ]
          },
          "execution_count": 2406,
          "metadata": {},
          "output_type": "execute_result"
        }
      ],
      "source": [
        "df['zipcode'].value_counts()"
      ]
    },
    {
      "cell_type": "code",
      "execution_count": 2407,
      "metadata": {},
      "outputs": [],
      "source": [
        "# Приведем все значения к 5-значному формату\r\n",
        "\r\n",
        "df['zipcode'] = df['zipcode'].str.replace('\\-[0-9]*', '').apply(lambda x: None if x is None else \r\n",
        "                                                                None if x == '' else \r\n",
        "                                                                ('0000' + str(x))[-5:])"
      ]
    },
    {
      "cell_type": "markdown",
      "metadata": {
        "id": "tUy9qm4JywQ8"
      },
      "source": [
        "beds"
      ]
    },
    {
      "cell_type": "code",
      "execution_count": 2408,
      "metadata": {
        "id": "wvpHVzR-xYi7"
      },
      "outputs": [],
      "source": [
        "df['beds'] = df['beds'].apply(lambda x: None if x is np.nan else x).str.lower()"
      ]
    },
    {
      "cell_type": "code",
      "execution_count": 2409,
      "metadata": {
        "colab": {
          "base_uri": "https://localhost:8080/"
        },
        "id": "BwACF0KWzBvB",
        "outputId": "7515672e-902f-4c0c-e221-bf197a1a97db"
      },
      "outputs": [
        {
          "data": {
            "text/plain": [
              "NaN            91282\n",
              "3 beds         53459\n",
              "4 beds         35418\n",
              "3              31406\n",
              "2 beds         26362\n",
              "               ...  \n",
              "2.32 acres         1\n",
              "5,026 sqft         1\n",
              "9,273 sqft         1\n",
              "2,570 sqft         1\n",
              "23.56 acres        1\n",
              "Name: beds, Length: 1185, dtype: int64"
            ]
          },
          "execution_count": 2409,
          "metadata": {},
          "output_type": "execute_result"
        }
      ],
      "source": [
        "df['beds'].value_counts(dropna=False)"
      ]
    },
    {
      "cell_type": "code",
      "execution_count": 2410,
      "metadata": {
        "id": "2iO9cAP-zPl6"
      },
      "outputs": [],
      "source": [
        "index_sqft = df.loc[(df['sqft'].isna()) & (df['beds'].str.contains('sqft')), ['sqft','beds']].index\n",
        "new_sqft = df.loc[(df['sqft'].isna()) & (df['beds'].str.contains('sqft')), ['sqft','beds']]\n",
        "new_sqft['sqft'] = new_sqft['beds'].str.strip().str.replace(',', '.').str.findall('[0-9]+\\.*[0-9]*').apply(lambda x: None if len(x) == 0 else x[0]).astype(float)\n",
        "\n",
        "df.loc[(df['sqft'].isna()) & (df['beds'].str.contains('sqft')), 'sqft'] = new_sqft['sqft']\n",
        "df.loc[(df['beds'].isna()==False) & (df['beds'].str.contains('sqft')), 'beds'] = None"
      ]
    },
    {
      "cell_type": "code",
      "execution_count": 2411,
      "metadata": {
        "id": "DNruJWw8z5z7"
      },
      "outputs": [],
      "source": [
        "index_sqft = df.loc[(df['sqft'].isna()) & (df['beds'].str.contains('acre')), ['sqft','beds']].index\n",
        "new_sqft = df.loc[(df['sqft'].isna()) & (df['beds'].str.contains('acre')), ['sqft','beds']]\n",
        "new_sqft['sqft'] = new_sqft['beds'].str.strip().str.replace(',', '.').str.findall('[0-9]+\\.*[0-9]*').apply(lambda x: None if len(x) == 0 else x[0]).astype(float)\n",
        "new_sqft['sqft'] = (new_sqft['sqft'] * 43560).astype(int)\n",
        "\n",
        "df.loc[(df['sqft'].isna()) & (df['beds'].str.contains('acre')), 'sqft'] = new_sqft['sqft']\n",
        "df.loc[(df['beds'].isna()==False) & (df['beds'].str.contains('acre')), 'beds'] = None"
      ]
    },
    {
      "cell_type": "code",
      "execution_count": 2412,
      "metadata": {
        "id": "ce4-zy-Zfl0d"
      },
      "outputs": [],
      "source": [
        "df['beds'] = df['beds'].str.replace('bedrooms', 'beds').str.replace('bd', 'beds')"
      ]
    },
    {
      "cell_type": "code",
      "execution_count": 2413,
      "metadata": {
        "id": "Pq61g_IU0YZk"
      },
      "outputs": [],
      "source": [
        "df.loc[(df['beds'].isna()==False) & (df['beds'].str.strip().str.contains('^[a-z,\\-%@#_:;~ ]+$')), 'beds'] = None"
      ]
    },
    {
      "cell_type": "code",
      "execution_count": 2414,
      "metadata": {
        "colab": {
          "base_uri": "https://localhost:8080/"
        },
        "id": "kfjeW_UVcLQm",
        "outputId": "016e74ea-307b-4682-bd8d-ebb577f3e95c"
      },
      "outputs": [
        {
          "name": "stderr",
          "output_type": "stream",
          "text": [
            "C:\\Users\\Files\\Anaconda3\\lib\\site-packages\\IPython\\core\\displayhook.py:276: UserWarning: Output cache limit (currently 1000 entries) hit.\n",
            "Flushing oldest 200 entries.\n",
            "  'Flushing oldest {cull_count} entries.'.format(sz=sz, cull_count=cull_count))\n"
          ]
        },
        {
          "data": {
            "text/plain": [
              "NaN       111390\n",
              "3 beds     66336\n",
              "4 beds     43683\n",
              "2 beds     31605\n",
              "3          31406\n",
              "4          20030\n",
              "2          16110\n",
              "5 beds     13904\n",
              "3.0         8088\n",
              "5           6424\n",
              "4.0         5231\n",
              "1           4610\n",
              "6 beds      4466\n",
              "2.0         2430\n",
              "6           1806\n",
              "5.0         1372\n",
              "7 beds      1247\n",
              "0           1230\n",
              "1 beds      1081\n",
              "8 beds       856\n",
              "Name: beds, dtype: int64"
            ]
          },
          "execution_count": 2414,
          "metadata": {},
          "output_type": "execute_result"
        }
      ],
      "source": [
        "df['beds'].value_counts(dropna=False)[:20]"
      ]
    },
    {
      "cell_type": "code",
      "execution_count": 2415,
      "metadata": {
        "colab": {
          "base_uri": "https://localhost:8080/"
        },
        "id": "2kdMd2lk1deC",
        "outputId": "f6cef934-436b-4f47-ec13-9c6cc4a370b4"
      },
      "outputs": [
        {
          "data": {
            "text/plain": [
              "18787     1.0\n",
              "124819    1.0\n",
              "172605    1.0\n",
              "238222    1.0\n",
              "279149    2.0\n",
              "325249    1.0\n",
              "Name: baths_new, dtype: float64"
            ]
          },
          "execution_count": 2415,
          "metadata": {},
          "output_type": "execute_result"
        }
      ],
      "source": [
        "new_bath = df.loc[(df['baths_new'].isna()) & (df['beds'].str.contains('bath')), 'beds'].str.findall('[0-9a-z ]+ bath').apply(lambda x: x[0].split()[0]).astype(float)\n",
        "df.loc[new_bath.index, 'baths_new'] = new_bath\n",
        "df.loc[new_bath.index, 'baths_new']"
      ]
    },
    {
      "cell_type": "code",
      "execution_count": 2416,
      "metadata": {
        "colab": {
          "base_uri": "https://localhost:8080/"
        },
        "id": "eWo-mftActlm",
        "outputId": "6ac1c8b4-9d61-4dca-cc5f-590b1a0f3b61"
      },
      "outputs": [
        {
          "data": {
            "text/plain": [
              "index\n",
              "18787     2\n",
              "172605    2\n",
              "200331    3\n",
              "238222    3\n",
              "325249    2\n",
              "124819    2\n",
              "279149    3\n",
              "Name: beds, dtype: object"
            ]
          },
          "execution_count": 2416,
          "metadata": {},
          "output_type": "execute_result"
        }
      ],
      "source": [
        "new_beds = pd.concat([(df.loc[(df['beds'].isna()==False) & (df['beds'].str.strip().str.contains('[0-9 a-z]+bed[a-z]*,')), 'beds']),\n",
        "                      df.loc[(df['beds'].isna()==False) & (df['beds'].str.strip().str.contains(',[0-9 a-z]+bed[a-z]*')), 'beds']\n",
        "                      ],\n",
        "                     ).reset_index()\n",
        "new_beds = new_beds.drop_duplicates().set_index('index')\n",
        "new_beds['beds'] = new_beds['beds'].str.replace('or more ', '').str.findall('[0-9 ]+bed').apply(lambda x: x[0].split()[0]).astype(float)\n",
        "\n",
        "df.loc[new_beds.index, 'beds'] = new_beds['beds']\n",
        "df.loc[new_beds.index, 'beds']"
      ]
    },
    {
      "cell_type": "code",
      "execution_count": 2417,
      "metadata": {
        "colab": {
          "base_uri": "https://localhost:8080/"
        },
        "id": "aRH-Z607JfVy",
        "outputId": "e1771cdb-1b8b-45a8-9512-9457de281afe"
      },
      "outputs": [
        {
          "data": {
            "text/plain": [
              "330468    2\n",
              "Name: beds, dtype: object"
            ]
          },
          "execution_count": 2417,
          "metadata": {},
          "output_type": "execute_result"
        }
      ],
      "source": [
        "punct = '!@#_,:;&'\n",
        "df.loc[(df['beds'].isna()==False) & (df['beds'].str.contains('[{}]'.format(punct))), 'beds'] = None\n",
        "punct = '\\-'\n",
        "new_beds = df.loc[(df['beds'].isna()==False) & (df['beds'].str.contains('[{}]'.format(punct))), 'beds'].str.findall('[0-9]+').apply(lambda x: x[-1]).astype(float)\n",
        "df.loc[new_beds.index, 'beds'] = new_beds\n",
        "df.loc[new_beds.index, 'beds']"
      ]
    },
    {
      "cell_type": "code",
      "execution_count": 2418,
      "metadata": {
        "id": "zgBvOZk4Gh8s"
      },
      "outputs": [],
      "source": [
        "df['beds'] = df['beds'].str.replace('or more ', '')\n",
        "df['beds'] = df['beds'].str.replace('beds','').str.strip().apply(lambda x: None if x is None else\n",
        "                                                                 None if x == '' else x).astype(float)"
      ]
    },
    {
      "cell_type": "markdown",
      "metadata": {
        "id": "JwsNx8q4Ph1M"
      },
      "source": [
        "state"
      ]
    },
    {
      "cell_type": "code",
      "execution_count": 2419,
      "metadata": {
        "colab": {
          "base_uri": "https://localhost:8080/"
        },
        "id": "eXqI6_T-NP66",
        "outputId": "da8d4803-317d-44d9-cbd9-6f074a2098a8"
      },
      "outputs": [
        {
          "data": {
            "text/plain": [
              "UT    1325\n",
              "MD    1090\n",
              "VT     868\n",
              "MO     866\n",
              "VA     801\n",
              "WI     452\n",
              "NJ     436\n",
              "ME     259\n",
              "IA     242\n",
              "KY      90\n",
              "OK      49\n",
              "MS      40\n",
              "SC      28\n",
              "MT       7\n",
              "DE       5\n",
              "Fl       1\n",
              "OT       1\n",
              "BA       1\n",
              "AL       1\n",
              "OS       1\n",
              "Name: state, dtype: int64"
            ]
          },
          "execution_count": 2419,
          "metadata": {},
          "output_type": "execute_result"
        }
      ],
      "source": [
        "df['state'].value_counts(dropna=False)[-20:]"
      ]
    },
    {
      "cell_type": "markdown",
      "metadata": {
        "id": "zFf8WBnrPr_e"
      },
      "source": [
        "stories"
      ]
    },
    {
      "cell_type": "code",
      "execution_count": 2420,
      "metadata": {
        "colab": {
          "base_uri": "https://localhost:8080/"
        },
        "id": "eSiNvWsVPkzx",
        "outputId": "33551c3a-f86a-42de-aa8a-2d1f62b01aab"
      },
      "outputs": [
        {
          "data": {
            "text/plain": [
              "1.0    4440\n",
              "2.0    3024\n",
              "3.0     140\n",
              "8.0      38\n",
              "7.0      15\n",
              "5.0       1\n",
              "Name: stories_dop, dtype: int64"
            ]
          },
          "execution_count": 2420,
          "metadata": {},
          "output_type": "execute_result"
        }
      ],
      "source": [
        "df['stories_dop'] = df['stories_dop'].apply(lambda x: None if x is None else x.split()[0]).astype(float)\n",
        "df['stories_dop'].value_counts()"
      ]
    },
    {
      "cell_type": "code",
      "execution_count": 2421,
      "metadata": {
        "colab": {
          "base_uri": "https://localhost:8080/"
        },
        "id": "gLytSAWDP4gg",
        "outputId": "f591ad1b-e158-44ec-a9ec-b98bdf1c482b"
      },
      "outputs": [
        {
          "data": {
            "text/plain": [
              "NaN                                 150715\n",
              "1.0                                  67454\n",
              "2.0                                  55283\n",
              "1                                    23086\n",
              "2                                    18146\n",
              "                                     ...  \n",
              "1 story, split level                     1\n",
              "tri/multi level                          1\n",
              "one, two, multi/split                    1\n",
              "log                                      1\n",
              "2 level, site built, split foyer         1\n",
              "Name: stories, Length: 349, dtype: int64"
            ]
          },
          "execution_count": 2421,
          "metadata": {},
          "output_type": "execute_result"
        }
      ],
      "source": [
        "df['stories'] = df['stories'].str.lower()\n",
        "df['stories'].value_counts(dropna=False)\n",
        "\n",
        "# много пустых значений, не знаю, обрабатывать ли их"
      ]
    },
    {
      "cell_type": "code",
      "execution_count": 2422,
      "metadata": {
        "id": "nFpTZ8ShSWtH"
      },
      "outputs": [],
      "source": [
        "# punct = '!|/_\\-:;'\n",
        "# df.loc[(df['stories'].isna()==False) & (df['stories'].str.contains('[{}]'.format(punct))), 'stories'].value_counts()\n",
        "# df.loc[(df['stories'].isna()==False) & (df['stories'].str.contains('[0-9 ]/[0-9 ]')), 'stories'].value_counts()\n",
        "# df.loc[(df['stories'].isna()==False) & (df['stories'].str.contains('half')), 'stories'].value_counts()\n",
        "# df.loc[(df['stories'].isna()==False) & (df['stories'].str.contains('multi')), 'stories'].value_counts()\n"
      ]
    },
    {
      "cell_type": "markdown",
      "metadata": {
        "id": "poldPvKAo53Z"
      },
      "source": [
        "MlsId"
      ]
    },
    {
      "cell_type": "code",
      "execution_count": 2423,
      "metadata": {
        "id": "mfQfEG2-S23g"
      },
      "outputs": [],
      "source": [
        "df = df.drop('MlsId', axis=1)"
      ]
    },
    {
      "cell_type": "markdown",
      "metadata": {
        "id": "pjTtXvHrw8d8"
      },
      "source": [
        "homeFacts"
      ]
    },
    {
      "cell_type": "code",
      "execution_count": 2424,
      "metadata": {
        "id": "YgIQbmEow96n"
      },
      "outputs": [],
      "source": [
        "df['homeFacts'] = df['homeFacts'].apply(lambda x: eval(x))"
      ]
    },
    {
      "cell_type": "code",
      "execution_count": 2425,
      "metadata": {
        "id": "CAmvgZMGzmuy"
      },
      "outputs": [],
      "source": [
        "df['homeFacts_new'] = df['homeFacts'].apply(lambda x: list(x.values())[0])"
      ]
    },
    {
      "cell_type": "code",
      "execution_count": 2426,
      "metadata": {
        "id": "FYgPExig5f6_"
      },
      "outputs": [],
      "source": [
        "list_columns = ['Year built', 'Remodeled year', 'Heating', 'Cooling', 'Parking', 'lotsize', 'Price/sqft']\n",
        "\n",
        "for column in enumerate(list_columns):\n",
        "  df[column[1]] = None\n",
        "  df[column[1]] = df['homeFacts_new'].apply(lambda x: None if x[column[0]].get('factValue') == '' else  x[column[0]].get('factValue'))"
      ]
    },
    {
      "cell_type": "markdown",
      "metadata": {
        "id": "rGfddbo3WybK"
      },
      "source": [
        "Year built"
      ]
    },
    {
      "cell_type": "code",
      "execution_count": 2427,
      "metadata": {
        "colab": {
          "base_uri": "https://localhost:8080/"
        },
        "id": "hyqY1vbGW0rA",
        "outputId": "1f42d189-3393-4848-d84a-eb357def58fb"
      },
      "outputs": [
        {
          "data": {
            "text/plain": [
              "NaN     62374\n",
              "2019    32171\n",
              "2006     8008\n",
              "2005     7503\n",
              "2007     7152\n",
              "        ...  \n",
              "1823        1\n",
              "1845        1\n",
              "1019        1\n",
              "1843        1\n",
              "1788        1\n",
              "Name: Year built, Length: 230, dtype: int64"
            ]
          },
          "execution_count": 2427,
          "metadata": {},
          "output_type": "execute_result"
        }
      ],
      "source": [
        "df['Year built'].value_counts(dropna=False)"
      ]
    },
    {
      "cell_type": "code",
      "execution_count": 2428,
      "metadata": {
        "id": "-w-EQyn0W8U3"
      },
      "outputs": [],
      "source": [
        "df['Year built'] = df['Year built'].apply(lambda x: None if x is None else\n",
        "                                          None if 'No' in x else int(x))"
      ]
    },
    {
      "cell_type": "code",
      "execution_count": 2429,
      "metadata": {
        "colab": {
          "base_uri": "https://localhost:8080/"
        },
        "id": "BbaaJe9LYJsz",
        "outputId": "5e52e421-fda9-4672-cfaa-ec4aa2a00c4b"
      },
      "outputs": [
        {
          "data": {
            "text/plain": [
              "NaN       63596\n",
              "2019.0    32171\n",
              "2006.0     8008\n",
              "2005.0     7503\n",
              "2007.0     7152\n",
              "          ...  \n",
              "1805.0        1\n",
              "1807.0        1\n",
              "1808.0        1\n",
              "1809.0        1\n",
              "1019.0        1\n",
              "Name: Year built, Length: 229, dtype: int64"
            ]
          },
          "execution_count": 2429,
          "metadata": {},
          "output_type": "execute_result"
        }
      ],
      "source": [
        "df['Year built'].value_counts(dropna=False)"
      ]
    },
    {
      "cell_type": "markdown",
      "metadata": {
        "id": "KPJobTwLXyA4"
      },
      "source": [
        "Remodeled year"
      ]
    },
    {
      "cell_type": "code",
      "execution_count": 2430,
      "metadata": {
        "colab": {
          "base_uri": "https://localhost:8080/"
        },
        "id": "OT1jC79bX0kE",
        "outputId": "69564407-3752-4261-ae30-77036a5effd2"
      },
      "outputs": [
        {
          "data": {
            "text/plain": [
              "NaN     226110\n",
              "2006      5538\n",
              "2005      4817\n",
              "2007      4387\n",
              "2008      3796\n",
              "         ...  \n",
              "1862         1\n",
              "1111         1\n",
              "1738         1\n",
              "1888         1\n",
              "1845         1\n",
              "Name: Remodeled year, Length: 154, dtype: int64"
            ]
          },
          "execution_count": 2430,
          "metadata": {},
          "output_type": "execute_result"
        }
      ],
      "source": [
        "df['Remodeled year'].value_counts(dropna=False)\n",
        "\n",
        "# Слишком много пропусков, удалим потом столбец"
      ]
    },
    {
      "cell_type": "markdown",
      "metadata": {
        "id": "bmoNgA0WYBEF"
      },
      "source": [
        "Heating"
      ]
    },
    {
      "cell_type": "code",
      "execution_count": 2431,
      "metadata": {
        "colab": {
          "base_uri": "https://localhost:8080/"
        },
        "id": "itw_ArrnYbsW",
        "outputId": "34bc3d08-0df8-4f58-ce13-ad10289bf2a7"
      },
      "outputs": [
        {
          "data": {
            "text/plain": [
              "NaN                 109332\n",
              "Forced Air           82807\n",
              "Forced air           51506\n",
              "Other                29623\n",
              "Electric             10211\n",
              "Gas                   9296\n",
              "No Data               8611\n",
              "Central Air           7814\n",
              "Central Electric      7112\n",
              "Central               6247\n",
              "Name: Heating, dtype: int64"
            ]
          },
          "execution_count": 2431,
          "metadata": {},
          "output_type": "execute_result"
        }
      ],
      "source": [
        "df['Heating'].value_counts(dropna=False)[:10]\n",
        "\n",
        "# Слишком много пропусков и непоказательных данных, удалим потом столбец"
      ]
    },
    {
      "cell_type": "markdown",
      "metadata": {
        "id": "zXExzL_sYz0S"
      },
      "source": [
        "Cooling"
      ]
    },
    {
      "cell_type": "code",
      "execution_count": 2432,
      "metadata": {
        "colab": {
          "base_uri": "https://localhost:8080/"
        },
        "id": "S6jLqyULY2df",
        "outputId": "eff94966-ecf5-4475-ea4b-d4d952ee4714"
      },
      "outputs": [
        {
          "data": {
            "text/plain": [
              "Central                                                                                   158754\n",
              "NaN                                                                                       123967\n",
              "Central Air                                                                                14384\n",
              "No Data                                                                                    10616\n",
              "Has Cooling                                                                                 9730\n",
              "                                                                                           ...  \n",
              "Heat Pump, Window Unit                                                                         1\n",
              "Central Air, Gas (Hot Air), Heat Pump for A/C, Humidifier, Multi-Zone A/C, Natural Gas         1\n",
              "Central Heat (Electric), Central Heat (Gas), Window Unit                                       1\n",
              "Both Refrig & Evap, Ceiling Fan(s), Programmable Thmstat                                       1\n",
              "Central Cooling, Paddle Fans, Wall/Window Unit Cooling                                         1\n",
              "Name: Cooling, Length: 1445, dtype: int64"
            ]
          },
          "execution_count": 2432,
          "metadata": {},
          "output_type": "execute_result"
        }
      ],
      "source": [
        "df['Cooling'].value_counts(dropna=False)\n",
        "\n",
        "# Слишком много пропусков и непоказательных данных, удалим потом столбец"
      ]
    },
    {
      "cell_type": "markdown",
      "metadata": {
        "id": "LyHFZsVjZ1Lz"
      },
      "source": [
        "Parking"
      ]
    },
    {
      "cell_type": "code",
      "execution_count": 2433,
      "metadata": {
        "colab": {
          "base_uri": "https://localhost:8080/"
        },
        "id": "TFUQ7Ke-Z5ln",
        "outputId": "c9ab50c5-c411-4b40-acd9-0dd6c2ac4931"
      },
      "outputs": [
        {
          "data": {
            "text/plain": [
              "NaN                         175420\n",
              "Attached Garage              70752\n",
              "2 spaces                     28063\n",
              "1 space                      14252\n",
              "No Data                      13334\n",
              "Detached Garage              13201\n",
              "Carport                       7743\n",
              "3 spaces                      4724\n",
              "Off Street                    3622\n",
              "Carport, Attached Garage      3025\n",
              "Name: Parking, dtype: int64"
            ]
          },
          "execution_count": 2433,
          "metadata": {},
          "output_type": "execute_result"
        }
      ],
      "source": [
        "df['Parking'].value_counts(dropna=False)[:10]\n",
        "\n",
        "# Слишком много пропусков и непоказательных данных, удалим потом столбец"
      ]
    },
    {
      "cell_type": "markdown",
      "metadata": {
        "id": "6dRCkB31aHLg"
      },
      "source": [
        "lotsize sqft"
      ]
    },
    {
      "cell_type": "code",
      "execution_count": 2434,
      "metadata": {
        "colab": {
          "base_uri": "https://localhost:8080/",
          "height": 204
        },
        "id": "drAc8prEaIJn",
        "outputId": "70f6d87d-c68a-437a-d991-56097e0ad89b"
      },
      "outputs": [
        {
          "data": {
            "text/html": [
              "<div>\n",
              "<style scoped>\n",
              "    .dataframe tbody tr th:only-of-type {\n",
              "        vertical-align: middle;\n",
              "    }\n",
              "\n",
              "    .dataframe tbody tr th {\n",
              "        vertical-align: top;\n",
              "    }\n",
              "\n",
              "    .dataframe thead th {\n",
              "        text-align: right;\n",
              "    }\n",
              "</style>\n",
              "<table border=\"1\" class=\"dataframe\">\n",
              "  <thead>\n",
              "    <tr style=\"text-align: right;\">\n",
              "      <th></th>\n",
              "      <th>lotsize</th>\n",
              "      <th>sqft</th>\n",
              "    </tr>\n",
              "  </thead>\n",
              "  <tbody>\n",
              "    <tr>\n",
              "      <th>113901</th>\n",
              "      <td>0.36 acres</td>\n",
              "      <td>3620.0</td>\n",
              "    </tr>\n",
              "    <tr>\n",
              "      <th>361827</th>\n",
              "      <td>0.33 acres</td>\n",
              "      <td>2173.0</td>\n",
              "    </tr>\n",
              "    <tr>\n",
              "      <th>43706</th>\n",
              "      <td>3,049 sqft lot</td>\n",
              "      <td>3603.0</td>\n",
              "    </tr>\n",
              "    <tr>\n",
              "      <th>279152</th>\n",
              "      <td>0.43 Acres</td>\n",
              "      <td>3004.0</td>\n",
              "    </tr>\n",
              "    <tr>\n",
              "      <th>66007</th>\n",
              "      <td>8,276 sqft</td>\n",
              "      <td>3163.0</td>\n",
              "    </tr>\n",
              "  </tbody>\n",
              "</table>\n",
              "</div>"
            ],
            "text/plain": [
              "               lotsize    sqft\n",
              "113901      0.36 acres  3620.0\n",
              "361827      0.33 acres  2173.0\n",
              "43706   3,049 sqft lot  3603.0\n",
              "279152      0.43 Acres  3004.0\n",
              "66007       8,276 sqft  3163.0"
            ]
          },
          "execution_count": 2434,
          "metadata": {},
          "output_type": "execute_result"
        }
      ],
      "source": [
        "df[['lotsize', 'sqft']].sample(5)"
      ]
    },
    {
      "cell_type": "code",
      "execution_count": 2435,
      "metadata": {
        "id": "I9Cl84xiA0d7"
      },
      "outputs": [],
      "source": [
        "df['lotsize'] = df['lotsize'].str.lower().str.replace(r'[\\-,—]', '').str.strip().apply(lambda x: None if x is None else\n",
        "                                                                                      None if 'no' in x else\n",
        "                                                                                      None if x == '' else x)"
      ]
    },
    {
      "cell_type": "code",
      "execution_count": 2436,
      "metadata": {
        "id": "k7gRKmIqbaKo"
      },
      "outputs": [],
      "source": [
        "# Заполним те значения признака sqft которые пустые из признака lotsize\n",
        "\n",
        "# acres\n",
        "new_lot_size = df.loc[(df['sqft'].isna()) & (df['lotsize'].isna()==False) & (df['lotsize'].str.contains('sq'))]['lotsize']\n",
        "new_lot_size = new_lot_size.str.lower().str.replace(r'[a-z \\.]', '').str.strip()\n",
        "new_lot_size = new_lot_size.apply(lambda x: None if x is None else \n",
        "                                  None if x is np.nan else\n",
        "                                  None if x == '' else int(float(x)))\n",
        "df.loc[new_lot_size.index, 'sqft'] = new_lot_size\n",
        "\n",
        "# acres\n",
        "new_lot_size = df.loc[(df['sqft'].isna()) & (df['lotsize'].isna()==False) & (df['lotsize'].str.contains('acre'))]['lotsize']\n",
        "new_lot_size = new_lot_size.str.lower().str.replace('[a-z ]', '').str.strip()\n",
        "new_lot_size = new_lot_size.apply(lambda x: None if x is None else float(x) * 43560).astype(int)\n",
        "df.loc[new_lot_size.index, 'sqft'] = new_lot_size\n",
        "\n",
        "# Другие!"
      ]
    },
    {
      "cell_type": "code",
      "execution_count": 2437,
      "metadata": {
        "colab": {
          "base_uri": "https://localhost:8080/"
        },
        "id": "Oc0YXT4xADlA",
        "outputId": "bb3a765e-8306-42d3-dea9-742ce12ca91c"
      },
      "outputs": [
        {
          "data": {
            "text/plain": [
              "11890"
            ]
          },
          "execution_count": 2437,
          "metadata": {},
          "output_type": "execute_result"
        }
      ],
      "source": [
        "df['sqft'].isna().sum()"
      ]
    },
    {
      "cell_type": "markdown",
      "metadata": {
        "id": "IQpRDrrzF19-"
      },
      "source": [
        "Price/sqft"
      ]
    },
    {
      "cell_type": "code",
      "execution_count": 2438,
      "metadata": {
        "colab": {
          "base_uri": "https://localhost:8080/"
        },
        "id": "z4cyDzjnF3CJ",
        "outputId": "55071238-53ec-40fc-b6ad-c90bd72b902e"
      },
      "outputs": [
        {
          "data": {
            "text/plain": [
              "270617         $214/sqft\n",
              "185341              None\n",
              "167240    $239 / Sq. Ft.\n",
              "82782               None\n",
              "19433               None\n",
              "160683              None\n",
              "146061              None\n",
              "251191    $209 / Sq. Ft.\n",
              "104294              None\n",
              "211509              None\n",
              "Name: Price/sqft, dtype: object"
            ]
          },
          "execution_count": 2438,
          "metadata": {},
          "output_type": "execute_result"
        }
      ],
      "source": [
        "df['Price/sqft'].sample(10)"
      ]
    },
    {
      "cell_type": "code",
      "execution_count": 2439,
      "metadata": {
        "id": "iA25_OCnGccm"
      },
      "outputs": [],
      "source": [
        "df['Price/sqft'] = df['Price/sqft'].str.lower().str.replace(r'[,/$a-z\\. ]', '').str.strip().apply(lambda x: None if x is None else\n",
        "                                                                                      None if x == '' else int(x))"
      ]
    },
    {
      "cell_type": "markdown",
      "metadata": {
        "id": "_7ZOy6-K8q2j"
      },
      "source": [
        "schools"
      ]
    },
    {
      "cell_type": "code",
      "execution_count": 2440,
      "metadata": {
        "id": "5OB1V2m_Ei4T"
      },
      "outputs": [],
      "source": [
        "df['schools'] = df['schools'].apply(lambda x: eval(x)[0])"
      ]
    },
    {
      "cell_type": "code",
      "execution_count": 2441,
      "metadata": {
        "id": "75m0QOHg83So"
      },
      "outputs": [],
      "source": [
        "list_keys = ['data', 'name', 'rating']\n",
        "# name не будем брать\n",
        "\n",
        "list_columns = ['Distance', 'Grades', 'rating']\n",
        "# Grades не будем брать слишком запутано\n",
        "\n",
        "df['Distance'] = df['schools'].apply(lambda x: None if x.get('data').get('Distance') is None else x.get('data').get('Distance'))\n",
        "df['rating'] = df['schools'].apply(lambda x: None if x.get('rating') is None else x.get('rating'))"
      ]
    },
    {
      "cell_type": "code",
      "execution_count": 2442,
      "metadata": {
        "id": "Y1LcCu6kPZgM"
      },
      "outputs": [],
      "source": [
        "df['Distance'] = df['Distance'].apply(lambda x: [float(y.replace('mi', '').strip()) for y in x])"
      ]
    },
    {
      "cell_type": "code",
      "execution_count": 2443,
      "metadata": {
        "id": "MlMI9VAgnoUP"
      },
      "outputs": [],
      "source": [
        "df['Distance'] = df['Distance'].apply(lambda x: list(filter(None, x)))"
      ]
    },
    {
      "cell_type": "code",
      "execution_count": 2444,
      "metadata": {
        "colab": {
          "base_uri": "https://localhost:8080/"
        },
        "id": "pMOzk5DzoiQc",
        "outputId": "0d301748-252f-4e72-f5b5-a16904450b9b"
      },
      "outputs": [
        {
          "data": {
            "text/plain": [
              "338870                                         [0.14, 1.71]\n",
              "166438                                      [0.1, 0.7, 1.3]\n",
              "321217                                      [0.8, 0.9, 1.6]\n",
              "292985    [3.93, 1.93, 6.23, 8.37, 1.62, 3.04, 10.37, 9....\n",
              "174210                                 [0.4, 0.2, 0.2, 1.2]\n",
              "73170                                    [4.27, 3.28, 3.41]\n",
              "156901                                      [0.4, 3.1, 1.7]\n",
              "257555                                   [1.48, 1.86, 1.46]\n",
              "341857                       [0.76, 7.91, 3.61, 4.13, 0.82]\n",
              "249844                                   [1.18, 2.29, 1.42]\n",
              "Name: Distance, dtype: object"
            ]
          },
          "execution_count": 2444,
          "metadata": {},
          "output_type": "execute_result"
        }
      ],
      "source": [
        "df['Distance'].sample(10)"
      ]
    },
    {
      "cell_type": "code",
      "execution_count": 2445,
      "metadata": {
        "id": "SbZpxHY6QJNw"
      },
      "outputs": [],
      "source": [
        "df['rating'] = df['rating'].apply(lambda x: [None if \"NR\" in str(y) else\n",
        "                                             None if \"None\" in str(y) else\n",
        "                                             None if \"NA\" in str(y) else\n",
        "                                             None if str(y) == '' else\n",
        "                                             int(str(y).split('/')[0]) if \"/\" in str(y) else\n",
        "                                             int(y) for y in x])"
      ]
    },
    {
      "cell_type": "code",
      "execution_count": 2446,
      "metadata": {
        "id": "DiFUEr3FnpoN"
      },
      "outputs": [],
      "source": [
        "df['rating'] = df['rating'].apply(lambda x: list(filter(None, x)))"
      ]
    },
    {
      "cell_type": "code",
      "execution_count": 2447,
      "metadata": {
        "colab": {
          "base_uri": "https://localhost:8080/"
        },
        "id": "p0_jkrGKG_Az",
        "outputId": "22776b11-a9a0-473d-e791-bd72c98a216b"
      },
      "outputs": [
        {
          "data": {
            "text/plain": [
              "177598                [2, 3, 3]\n",
              "248816                   [3, 4]\n",
              "142580          [5, 6, 7, 6, 4]\n",
              "323254    [9, 8, 3, 8, 9, 8, 8]\n",
              "354117                [3, 4, 6]\n",
              "237                   [4, 4, 2]\n",
              "4663                  [7, 4, 3]\n",
              "275848               [10, 5, 7]\n",
              "106693                [7, 9, 7]\n",
              "277569                [3, 4, 3]\n",
              "Name: rating, dtype: object"
            ]
          },
          "execution_count": 2447,
          "metadata": {},
          "output_type": "execute_result"
        }
      ],
      "source": [
        "df['rating'].sample(10)"
      ]
    },
    {
      "cell_type": "markdown",
      "metadata": {
        "id": "DLfZodXWpR6H"
      },
      "source": [
        "target"
      ]
    },
    {
      "cell_type": "code",
      "execution_count": 2448,
      "metadata": {
        "colab": {
          "base_uri": "https://localhost:8080/"
        },
        "id": "y1USgncfo-Qt",
        "outputId": "743f6f1a-2173-432d-8451-e20a3c16ac5b"
      },
      "outputs": [
        {
          "data": {
            "text/plain": [
              "NaN         2481\n",
              "$225,000    1462\n",
              "$275,000    1355\n",
              "$250,000    1312\n",
              "$350,000    1296\n",
              "            ... \n",
              "223,305        1\n",
              "$136,200       1\n",
              "$170,042       1\n",
              "$409,248       1\n",
              "$283,065       1\n",
              "Name: target, Length: 43940, dtype: int64"
            ]
          },
          "execution_count": 2448,
          "metadata": {},
          "output_type": "execute_result"
        }
      ],
      "source": [
        "df['target'].value_counts(dropna=False)"
      ]
    },
    {
      "cell_type": "code",
      "execution_count": 2449,
      "metadata": {
        "id": "HFnwGMOopVE1"
      },
      "outputs": [],
      "source": [
        "df['target'] = df['target'].apply(lambda x: None if x is np.nan else x)"
      ]
    },
    {
      "cell_type": "code",
      "execution_count": 2450,
      "metadata": {
        "colab": {
          "base_uri": "https://localhost:8080/"
        },
        "id": "NfFvxqkHpdh9",
        "outputId": "f23f42c4-9256-4dd2-9702-7008cfc8158d"
      },
      "outputs": [
        {
          "data": {
            "text/plain": [
              "1      2\n",
              "800    2\n",
              "3      2\n",
              "20     1\n",
              "8      1\n",
              "25     1\n",
              "29     1\n",
              "750    1\n",
              "30     1\n",
              "825    1\n",
              "Name: target, dtype: int64"
            ]
          },
          "execution_count": 2450,
          "metadata": {},
          "output_type": "execute_result"
        }
      ],
      "source": [
        "df[(df['target'].isna()==False) & (df['target'].str.isdigit())]['target'].value_counts()"
      ]
    },
    {
      "cell_type": "code",
      "execution_count": 2451,
      "metadata": {
        "id": "0xQnwkKanhpT"
      },
      "outputs": [],
      "source": [
        "punct = '$,+\\-/'\n",
        "df['target'] = df['target'].str.replace('[a-z]', '').str.replace('[{}]'.format(punct), '').str.strip()"
      ]
    },
    {
      "cell_type": "code",
      "execution_count": 2452,
      "metadata": {
        "id": "QqIPaufFn3_K"
      },
      "outputs": [],
      "source": [
        "df['target'] = df['target'].apply(lambda x: None if x is None else int(x.split()[0]))"
      ]
    },
    {
      "cell_type": "code",
      "execution_count": 2453,
      "metadata": {
        "colab": {
          "base_uri": "https://localhost:8080/"
        },
        "id": "t8F1vVeKsu_8",
        "outputId": "ad632102-9e7d-42fc-ec6d-cb007875ef28"
      },
      "outputs": [
        {
          "data": {
            "text/plain": [
              "1215.0"
            ]
          },
          "execution_count": 2453,
          "metadata": {},
          "output_type": "execute_result"
        }
      ],
      "source": [
        "df.loc[330468]['target']"
      ]
    },
    {
      "cell_type": "code",
      "execution_count": 2454,
      "metadata": {
        "colab": {
          "base_uri": "https://localhost:8080/"
        },
        "id": "nm6LI-D6mtYh",
        "outputId": "8131a854-14bb-4507-c4b0-0cbbdd9a3482"
      },
      "outputs": [
        {
          "data": {
            "text/plain": [
              "NaN         2481\n",
              "225000.0    1806\n",
              "275000.0    1650\n",
              "250000.0    1644\n",
              "350000.0    1641\n",
              "            ... \n",
              "9100.0         1\n",
              "515530.0       1\n",
              "195050.0       1\n",
              "780226.0       1\n",
              "374521.0       1\n",
              "Name: target, Length: 34233, dtype: int64"
            ]
          },
          "execution_count": 2454,
          "metadata": {},
          "output_type": "execute_result"
        }
      ],
      "source": [
        "df['target'].value_counts(dropna=False)"
      ]
    },
    {
      "cell_type": "markdown",
      "metadata": {
        "id": "DR0jxCf7HgZl"
      },
      "source": [
        "target Price/sqft"
      ]
    },
    {
      "cell_type": "code",
      "execution_count": 2455,
      "metadata": {
        "id": "76n0Rxq6Hf8I"
      },
      "outputs": [],
      "source": [
        "# Заполним те значения признака sqft которые пустые из признака Price/sqft и признака target\n",
        "\n",
        "new_lot_size = df.loc[(df['sqft'].isna()) & (df['target'].isna()==False) & (df['Price/sqft'].isna()==False)][['Price/sqft', 'target']]\n",
        "new_lot_size['sqft'] = (new_lot_size['target'] / new_lot_size['Price/sqft']).astype(int)\n",
        "df.loc[new_lot_size.index, 'sqft'] = new_lot_size['sqft']\n",
        "\n",
        "# Заполним те значения признака Price/sqft которые пустые из признака sqft и признака target\n",
        "\n",
        "new_prsq = df.loc[(df['sqft'].isna()==False) & (df['target'].isna()==False) & (df['Price/sqft'].isna())][['sqft', 'target']]\n",
        "new_prsq['Price/sqft'] = round(new_prsq['target'] / new_prsq['sqft'])\n",
        "df.loc[new_prsq.index, 'Price/sqft'] = new_prsq['Price/sqft']"
      ]
    },
    {
      "cell_type": "markdown",
      "metadata": {
        "id": "OiX9sC8e5DUi"
      },
      "source": [
        "future engeneer"
      ]
    },
    {
      "cell_type": "code",
      "execution_count": 2456,
      "metadata": {
        "colab": {
          "base_uri": "https://localhost:8080/",
          "height": 530
        },
        "id": "6SUBDZONnW6I",
        "outputId": "b3e73f4d-f4ce-4ea3-8200-552eac25770a"
      },
      "outputs": [
        {
          "data": {
            "text/html": [
              "<div>\n",
              "<style scoped>\n",
              "    .dataframe tbody tr th:only-of-type {\n",
              "        vertical-align: middle;\n",
              "    }\n",
              "\n",
              "    .dataframe tbody tr th {\n",
              "        vertical-align: top;\n",
              "    }\n",
              "\n",
              "    .dataframe thead th {\n",
              "        text-align: right;\n",
              "    }\n",
              "</style>\n",
              "<table border=\"1\" class=\"dataframe\">\n",
              "  <thead>\n",
              "    <tr style=\"text-align: right;\">\n",
              "      <th></th>\n",
              "      <th>status</th>\n",
              "      <th>propertyType</th>\n",
              "      <th>street</th>\n",
              "      <th>baths</th>\n",
              "      <th>homeFacts</th>\n",
              "      <th>city</th>\n",
              "      <th>schools</th>\n",
              "      <th>sqft</th>\n",
              "      <th>zipcode</th>\n",
              "      <th>beds</th>\n",
              "      <th>...</th>\n",
              "      <th>homeFacts_new</th>\n",
              "      <th>Year built</th>\n",
              "      <th>Remodeled year</th>\n",
              "      <th>Heating</th>\n",
              "      <th>Cooling</th>\n",
              "      <th>Parking</th>\n",
              "      <th>lotsize</th>\n",
              "      <th>Price/sqft</th>\n",
              "      <th>Distance</th>\n",
              "      <th>rating</th>\n",
              "    </tr>\n",
              "  </thead>\n",
              "  <tbody>\n",
              "    <tr>\n",
              "      <th>302490</th>\n",
              "      <td>for sale</td>\n",
              "      <td>townhouse</td>\n",
              "      <td>stirling</td>\n",
              "      <td>2</td>\n",
              "      <td>{'atAGlanceFacts': [{'factValue': '1950', 'fac...</td>\n",
              "      <td>philadelphia</td>\n",
              "      <td>{'rating': ['2/10', '1/10'], 'data': {'Distanc...</td>\n",
              "      <td>1200.0</td>\n",
              "      <td>19135</td>\n",
              "      <td>3.0</td>\n",
              "      <td>...</td>\n",
              "      <td>[{'factValue': '1950', 'factLabel': 'Year buil...</td>\n",
              "      <td>1950.0</td>\n",
              "      <td>None</td>\n",
              "      <td>Forced Air</td>\n",
              "      <td>Wall</td>\n",
              "      <td>Attached Garage</td>\n",
              "      <td>1245 sqft</td>\n",
              "      <td>121.0</td>\n",
              "      <td>[0.26, 1.4]</td>\n",
              "      <td>[2, 1]</td>\n",
              "    </tr>\n",
              "    <tr>\n",
              "      <th>17021</th>\n",
              "      <td>for sale</td>\n",
              "      <td>condo</td>\n",
              "      <td>88th</td>\n",
              "      <td>3</td>\n",
              "      <td>{'atAGlanceFacts': [{'factValue': '1927', 'fac...</td>\n",
              "      <td>new york</td>\n",
              "      <td>{'rating': ['9/10', '8/10', '3/10', '8/10', '9...</td>\n",
              "      <td>2844.0</td>\n",
              "      <td>10128</td>\n",
              "      <td>3.0</td>\n",
              "      <td>...</td>\n",
              "      <td>[{'factValue': '1927', 'factLabel': 'Year buil...</td>\n",
              "      <td>1927.0</td>\n",
              "      <td>None</td>\n",
              "      <td>None</td>\n",
              "      <td>Central</td>\n",
              "      <td>None</td>\n",
              "      <td>None</td>\n",
              "      <td>3428.0</td>\n",
              "      <td>[3.66, 3.66, 0.45, 3.69, 6.06, 0.66, 0.35]</td>\n",
              "      <td>[9, 8, 3, 8, 9, 10, 7]</td>\n",
              "    </tr>\n",
              "    <tr>\n",
              "      <th>220146</th>\n",
              "      <td>for sale</td>\n",
              "      <td>single family</td>\n",
              "      <td>cherum</td>\n",
              "      <td>2</td>\n",
              "      <td>{'atAGlanceFacts': [{'factValue': '2000', 'fac...</td>\n",
              "      <td>las vegas</td>\n",
              "      <td>{'rating': ['9/10', '8/10', 'None/10'], 'data'...</td>\n",
              "      <td>1911.0</td>\n",
              "      <td>89135</td>\n",
              "      <td>3.0</td>\n",
              "      <td>...</td>\n",
              "      <td>[{'factValue': '2000', 'factLabel': 'Year buil...</td>\n",
              "      <td>2000.0</td>\n",
              "      <td>2000</td>\n",
              "      <td>Forced Air</td>\n",
              "      <td>Central</td>\n",
              "      <td>Attached Garage</td>\n",
              "      <td>5227 sqft</td>\n",
              "      <td>222.0</td>\n",
              "      <td>[2.8, 0.37, 3.0]</td>\n",
              "      <td>[9, 8]</td>\n",
              "    </tr>\n",
              "    <tr>\n",
              "      <th>243785</th>\n",
              "      <td>for sale</td>\n",
              "      <td>single family</td>\n",
              "      <td>albany</td>\n",
              "      <td>None</td>\n",
              "      <td>{'atAGlanceFacts': [{'factValue': '2019', 'fac...</td>\n",
              "      <td>oak park</td>\n",
              "      <td>{'rating': ['3/10'], 'data': {'Distance': ['0....</td>\n",
              "      <td>901.0</td>\n",
              "      <td>48237</td>\n",
              "      <td>3.0</td>\n",
              "      <td>...</td>\n",
              "      <td>[{'factValue': '2019', 'factLabel': 'Year buil...</td>\n",
              "      <td>2019.0</td>\n",
              "      <td>None</td>\n",
              "      <td>Forced Air</td>\n",
              "      <td>Central</td>\n",
              "      <td>None</td>\n",
              "      <td>6098 sqft</td>\n",
              "      <td>155.0</td>\n",
              "      <td>[0.67]</td>\n",
              "      <td>[3]</td>\n",
              "    </tr>\n",
              "    <tr>\n",
              "      <th>175634</th>\n",
              "      <td>None</td>\n",
              "      <td>single family</td>\n",
              "      <td>sunrise creek</td>\n",
              "      <td>2.0</td>\n",
              "      <td>{'atAGlanceFacts': [{'factValue': '1985', 'fac...</td>\n",
              "      <td>san antonio</td>\n",
              "      <td>{'rating': ['4/10', '3/10', '3/10'], 'data': {...</td>\n",
              "      <td>1022.0</td>\n",
              "      <td>78244</td>\n",
              "      <td>3.0</td>\n",
              "      <td>...</td>\n",
              "      <td>[{'factValue': '1985', 'factLabel': 'Year buil...</td>\n",
              "      <td>1985.0</td>\n",
              "      <td>1989</td>\n",
              "      <td>Forced air</td>\n",
              "      <td>Central</td>\n",
              "      <td>2 spaces</td>\n",
              "      <td>4356 sqft</td>\n",
              "      <td>133.0</td>\n",
              "      <td>[0.4, 1.3, 0.9]</td>\n",
              "      <td>[4, 3, 3]</td>\n",
              "    </tr>\n",
              "  </tbody>\n",
              "</table>\n",
              "<p>5 rows × 25 columns</p>\n",
              "</div>"
            ],
            "text/plain": [
              "          status   propertyType         street baths  \\\n",
              "302490  for sale      townhouse       stirling    2    \n",
              "17021   for sale          condo           88th    3    \n",
              "220146  for sale  single family         cherum    2    \n",
              "243785  for sale  single family         albany  None   \n",
              "175634      None  single family  sunrise creek   2.0   \n",
              "\n",
              "                                                homeFacts          city  \\\n",
              "302490  {'atAGlanceFacts': [{'factValue': '1950', 'fac...  philadelphia   \n",
              "17021   {'atAGlanceFacts': [{'factValue': '1927', 'fac...      new york   \n",
              "220146  {'atAGlanceFacts': [{'factValue': '2000', 'fac...     las vegas   \n",
              "243785  {'atAGlanceFacts': [{'factValue': '2019', 'fac...      oak park   \n",
              "175634  {'atAGlanceFacts': [{'factValue': '1985', 'fac...   san antonio   \n",
              "\n",
              "                                                  schools    sqft zipcode  \\\n",
              "302490  {'rating': ['2/10', '1/10'], 'data': {'Distanc...  1200.0   19135   \n",
              "17021   {'rating': ['9/10', '8/10', '3/10', '8/10', '9...  2844.0   10128   \n",
              "220146  {'rating': ['9/10', '8/10', 'None/10'], 'data'...  1911.0   89135   \n",
              "243785  {'rating': ['3/10'], 'data': {'Distance': ['0....   901.0   48237   \n",
              "175634  {'rating': ['4/10', '3/10', '3/10'], 'data': {...  1022.0   78244   \n",
              "\n",
              "        beds  ...                                      homeFacts_new  \\\n",
              "302490   3.0  ...  [{'factValue': '1950', 'factLabel': 'Year buil...   \n",
              "17021    3.0  ...  [{'factValue': '1927', 'factLabel': 'Year buil...   \n",
              "220146   3.0  ...  [{'factValue': '2000', 'factLabel': 'Year buil...   \n",
              "243785   3.0  ...  [{'factValue': '2019', 'factLabel': 'Year buil...   \n",
              "175634   3.0  ...  [{'factValue': '1985', 'factLabel': 'Year buil...   \n",
              "\n",
              "       Year built  Remodeled year     Heating  Cooling          Parking  \\\n",
              "302490     1950.0            None  Forced Air     Wall  Attached Garage   \n",
              "17021      1927.0            None        None  Central             None   \n",
              "220146     2000.0            2000  Forced Air  Central  Attached Garage   \n",
              "243785     2019.0            None  Forced Air  Central             None   \n",
              "175634     1985.0            1989  Forced air  Central         2 spaces   \n",
              "\n",
              "          lotsize Price/sqft                                    Distance  \\\n",
              "302490  1245 sqft      121.0                                 [0.26, 1.4]   \n",
              "17021        None     3428.0  [3.66, 3.66, 0.45, 3.69, 6.06, 0.66, 0.35]   \n",
              "220146  5227 sqft      222.0                            [2.8, 0.37, 3.0]   \n",
              "243785  6098 sqft      155.0                                      [0.67]   \n",
              "175634  4356 sqft      133.0                             [0.4, 1.3, 0.9]   \n",
              "\n",
              "                        rating  \n",
              "302490                  [2, 1]  \n",
              "17021   [9, 8, 3, 8, 9, 10, 7]  \n",
              "220146                  [9, 8]  \n",
              "243785                     [3]  \n",
              "175634               [4, 3, 3]  \n",
              "\n",
              "[5 rows x 25 columns]"
            ]
          },
          "execution_count": 2456,
          "metadata": {},
          "output_type": "execute_result"
        }
      ],
      "source": [
        "df.sample(5)"
      ]
    },
    {
      "cell_type": "code",
      "execution_count": 2457,
      "metadata": {
        "id": "-JUnaK7Ub9s5"
      },
      "outputs": [],
      "source": [
        "df = df.drop(['stories_dop', 'homeFacts', 'schools', 'stories_dop', 'baths_new', 'homeFacts_new'], axis=1)"
      ]
    },
    {
      "cell_type": "code",
      "execution_count": 2458,
      "metadata": {
        "colab": {
          "base_uri": "https://localhost:8080/"
        },
        "id": "s8vgdv095Ift",
        "outputId": "e544fd45-ac35-4ce3-ded4-c1b47625b412"
      },
      "outputs": [
        {
          "data": {
            "text/plain": [
              "status            10.5831\n",
              "propertyType      10.1306\n",
              "street             2.4240\n",
              "baths             28.5902\n",
              "city               0.0090\n",
              "sqft               3.0577\n",
              "zipcode            0.0005\n",
              "beds              29.6544\n",
              "state              0.0000\n",
              "stories           39.9578\n",
              "target             0.6578\n",
              "Year built        16.8607\n",
              "Remodeled year    59.9467\n",
              "Heating           28.9863\n",
              "Cooling           32.8664\n",
              "Parking           46.5077\n",
              "lotsize           24.4008\n",
              "Price/sqft         3.5882\n",
              "Distance           0.0000\n",
              "rating             0.0000\n",
              "dtype: float64"
            ]
          },
          "execution_count": 2458,
          "metadata": {},
          "output_type": "execute_result"
        }
      ],
      "source": [
        "round(df.isna().sum() / df.shape[0] * 100, 4)"
      ]
    },
    {
      "cell_type": "code",
      "execution_count": 2459,
      "metadata": {
        "id": "N8THFBamMwtt"
      },
      "outputs": [],
      "source": [
        "df = df.drop(['lotsize'], axis=1)\n",
        "df = df.drop(['stories', 'Remodeled year', 'Heating', 'Cooling', 'Parking'], axis=1)"
      ]
    },
    {
      "cell_type": "code",
      "execution_count": 2460,
      "metadata": {
        "id": "lppyqlGokqip"
      },
      "outputs": [],
      "source": [
        "df = df.drop(['baths', 'beds', 'Year built'], axis=1)"
      ]
    },
    {
      "cell_type": "code",
      "execution_count": 2461,
      "metadata": {
        "colab": {
          "base_uri": "https://localhost:8080/"
        },
        "id": "m77xTDhWclcJ",
        "outputId": "0da99591-cebb-478c-d60e-5e4fbbdca727"
      },
      "outputs": [
        {
          "data": {
            "text/plain": [
              "status           103\n",
              "propertyType    1112\n",
              "city            1783\n",
              "zipcode         4267\n",
              "state             39\n",
              "dtype: int64"
            ]
          },
          "execution_count": 2461,
          "metadata": {},
          "output_type": "execute_result"
        }
      ],
      "source": [
        "df[['status', 'propertyType', 'city', 'zipcode', 'state']].nunique()"
      ]
    },
    {
      "cell_type": "code",
      "execution_count": 2462,
      "metadata": {
        "id": "7g7gEnm2dSkH"
      },
      "outputs": [],
      "source": [
        "# Содаем новые признаки\n",
        "\n",
        "import numpy as np\n",
        "\n",
        "df['dist_max'] = df['Distance'].apply(lambda x: None if x is None else \n",
        "                                      None if len(x) == 0 else max(x))\n",
        "df['dist_min'] = df['Distance'].apply(lambda x: None if x is None else \n",
        "                                      None if len(x) == 0 else min(x))\n",
        "df['dist_mean'] = df['Distance'].apply(lambda x: None if x is None else \n",
        "                                      None if len(x) == 0 else round(np.mean(list(filter(None, x))), 2))"
      ]
    },
    {
      "cell_type": "code",
      "execution_count": 2463,
      "metadata": {
        "id": "XvC_wX5YggqF"
      },
      "outputs": [],
      "source": [
        "df['rate_max'] = df['rating'].apply(lambda x: None if x is None else \n",
        "                                      None if len(x) == 0 else max(x))\n",
        "df['rate_min'] = df['rating'].apply(lambda x: None if x is None else \n",
        "                                      None if len(x) == 0 else min(x))\n",
        "df['rate_mean'] = df['rating'].apply(lambda x: None if x is None else \n",
        "                                      None if len(x) == 0 else round(np.mean(list(filter(None, x))), 2))"
      ]
    },
    {
      "cell_type": "code",
      "execution_count": 2464,
      "metadata": {
        "id": "RFfDPxdPlARQ"
      },
      "outputs": [],
      "source": [
        "df = df.drop(['Distance', 'rating'], axis=1)"
      ]
    },
    {
      "cell_type": "code",
      "execution_count": 2465,
      "metadata": {
        "colab": {
          "base_uri": "https://localhost:8080/"
        },
        "id": "1z6NslJ6hSVT",
        "outputId": "022d5233-0d78-4ba9-c5a0-8a66d3357e37"
      },
      "outputs": [
        {
          "name": "stdout",
          "output_type": "stream",
          "text": [
            "<class 'pandas.core.frame.DataFrame'>\n",
            "RangeIndex: 377185 entries, 0 to 377184\n",
            "Data columns (total 15 columns):\n",
            " #   Column        Non-Null Count   Dtype  \n",
            "---  ------        --------------   -----  \n",
            " 0   status        337267 non-null  object \n",
            " 1   propertyType  338974 non-null  object \n",
            " 2   street        368042 non-null  object \n",
            " 3   city          377151 non-null  object \n",
            " 4   sqft          365652 non-null  float64\n",
            " 5   zipcode       377183 non-null  object \n",
            " 6   state         377185 non-null  object \n",
            " 7   target        374704 non-null  float64\n",
            " 8   Price/sqft    363651 non-null  float64\n",
            " 9   dist_max      372900 non-null  float64\n",
            " 10  dist_min      372900 non-null  float64\n",
            " 11  dist_mean     372900 non-null  float64\n",
            " 12  rate_max      372033 non-null  float64\n",
            " 13  rate_min      372033 non-null  float64\n",
            " 14  rate_mean     372033 non-null  float64\n",
            "dtypes: float64(9), object(6)\n",
            "memory usage: 43.2+ MB\n"
          ]
        }
      ],
      "source": [
        "df.info()"
      ]
    },
    {
      "cell_type": "code",
      "execution_count": 2466,
      "metadata": {
        "colab": {
          "base_uri": "https://localhost:8080/"
        },
        "id": "6i976MuIk-Fg",
        "outputId": "15299767-f4fa-44c3-e636-ba8553501226"
      },
      "outputs": [
        {
          "data": {
            "text/plain": [
              "status           661\n",
              "propertyType     180\n",
              "street            21\n",
              "city               5\n",
              "sqft             128\n",
              "zipcode            0\n",
              "state              0\n",
              "target          2481\n",
              "Price/sqft      2129\n",
              "dist_max          27\n",
              "dist_min          27\n",
              "dist_mean         27\n",
              "rate_max          35\n",
              "rate_min          35\n",
              "rate_mean         35\n",
              "dtype: int64"
            ]
          },
          "execution_count": 2466,
          "metadata": {},
          "output_type": "execute_result"
        }
      ],
      "source": [
        "df[df['target'].isna()].isna().sum()\n",
        "\n",
        "# В столбце Price/sqft почти все значения null, удалим данный столбец"
      ]
    },
    {
      "cell_type": "code",
      "execution_count": 2467,
      "metadata": {
        "id": "WqiGwqYC1Voy"
      },
      "outputs": [],
      "source": [
        "df = df.drop(['Price/sqft'], axis=1)"
      ]
    },
    {
      "cell_type": "markdown",
      "metadata": {
        "id": "0iWwGBGr4co5"
      },
      "source": [
        "Train Test"
      ]
    },
    {
      "cell_type": "code",
      "execution_count": 2468,
      "metadata": {
        "id": "nad2s_nf4e6N"
      },
      "outputs": [],
      "source": [
        "df_train = df[df['target'].isna() == False].copy()\n",
        "df_test = df[df['target'].isna()].copy()\n",
        "df_test['target'] = 0"
      ]
    },
    {
      "cell_type": "code",
      "execution_count": 2469,
      "metadata": {
        "colab": {
          "base_uri": "https://localhost:8080/",
          "height": 204
        },
        "id": "-XruFdub4-cX",
        "outputId": "f36127dd-7119-4d19-eb9e-917a37a1c922"
      },
      "outputs": [
        {
          "data": {
            "text/html": [
              "<div>\n",
              "<style scoped>\n",
              "    .dataframe tbody tr th:only-of-type {\n",
              "        vertical-align: middle;\n",
              "    }\n",
              "\n",
              "    .dataframe tbody tr th {\n",
              "        vertical-align: top;\n",
              "    }\n",
              "\n",
              "    .dataframe thead th {\n",
              "        text-align: right;\n",
              "    }\n",
              "</style>\n",
              "<table border=\"1\" class=\"dataframe\">\n",
              "  <thead>\n",
              "    <tr style=\"text-align: right;\">\n",
              "      <th></th>\n",
              "      <th>status</th>\n",
              "      <th>propertyType</th>\n",
              "      <th>street</th>\n",
              "      <th>city</th>\n",
              "      <th>sqft</th>\n",
              "      <th>zipcode</th>\n",
              "      <th>state</th>\n",
              "      <th>target</th>\n",
              "      <th>dist_max</th>\n",
              "      <th>dist_min</th>\n",
              "      <th>dist_mean</th>\n",
              "      <th>rate_max</th>\n",
              "      <th>rate_min</th>\n",
              "      <th>rate_mean</th>\n",
              "    </tr>\n",
              "  </thead>\n",
              "  <tbody>\n",
              "    <tr>\n",
              "      <th>0</th>\n",
              "      <td>active</td>\n",
              "      <td>single family</td>\n",
              "      <td>heather</td>\n",
              "      <td>southern pines</td>\n",
              "      <td>2900.0</td>\n",
              "      <td>28387</td>\n",
              "      <td>NC</td>\n",
              "      <td>418000.0</td>\n",
              "      <td>12.60</td>\n",
              "      <td>2.70</td>\n",
              "      <td>5.54</td>\n",
              "      <td>7.0</td>\n",
              "      <td>4.0</td>\n",
              "      <td>5.20</td>\n",
              "    </tr>\n",
              "    <tr>\n",
              "      <th>1</th>\n",
              "      <td>for sale</td>\n",
              "      <td>single family</td>\n",
              "      <td>heroy ave</td>\n",
              "      <td>spokane valley</td>\n",
              "      <td>1947.0</td>\n",
              "      <td>99216</td>\n",
              "      <td>WA</td>\n",
              "      <td>310000.0</td>\n",
              "      <td>1.65</td>\n",
              "      <td>1.01</td>\n",
              "      <td>1.33</td>\n",
              "      <td>4.0</td>\n",
              "      <td>4.0</td>\n",
              "      <td>4.00</td>\n",
              "    </tr>\n",
              "    <tr>\n",
              "      <th>2</th>\n",
              "      <td>for sale</td>\n",
              "      <td>single family</td>\n",
              "      <td>westridge</td>\n",
              "      <td>san antonio</td>\n",
              "      <td>3000.0</td>\n",
              "      <td>90049</td>\n",
              "      <td>CA</td>\n",
              "      <td>2895000.0</td>\n",
              "      <td>2.63</td>\n",
              "      <td>1.19</td>\n",
              "      <td>1.96</td>\n",
              "      <td>8.0</td>\n",
              "      <td>4.0</td>\n",
              "      <td>6.67</td>\n",
              "    </tr>\n",
              "    <tr>\n",
              "      <th>3</th>\n",
              "      <td>for sale</td>\n",
              "      <td>single family</td>\n",
              "      <td>livingston ave</td>\n",
              "      <td>dallas</td>\n",
              "      <td>6457.0</td>\n",
              "      <td>75205</td>\n",
              "      <td>TX</td>\n",
              "      <td>2395000.0</td>\n",
              "      <td>1.05</td>\n",
              "      <td>0.10</td>\n",
              "      <td>0.75</td>\n",
              "      <td>10.0</td>\n",
              "      <td>9.0</td>\n",
              "      <td>9.25</td>\n",
              "    </tr>\n",
              "    <tr>\n",
              "      <th>4</th>\n",
              "      <td>for sale</td>\n",
              "      <td>lot land</td>\n",
              "      <td>kiscoe</td>\n",
              "      <td>palm bay</td>\n",
              "      <td>10019.0</td>\n",
              "      <td>32908</td>\n",
              "      <td>FL</td>\n",
              "      <td>5000.0</td>\n",
              "      <td>5.96</td>\n",
              "      <td>3.03</td>\n",
              "      <td>4.08</td>\n",
              "      <td>5.0</td>\n",
              "      <td>4.0</td>\n",
              "      <td>4.67</td>\n",
              "    </tr>\n",
              "  </tbody>\n",
              "</table>\n",
              "</div>"
            ],
            "text/plain": [
              "     status   propertyType          street            city     sqft zipcode  \\\n",
              "0    active  single family         heather  southern pines   2900.0   28387   \n",
              "1  for sale  single family       heroy ave  spokane valley   1947.0   99216   \n",
              "2  for sale  single family       westridge     san antonio   3000.0   90049   \n",
              "3  for sale  single family  livingston ave          dallas   6457.0   75205   \n",
              "4  for sale       lot land          kiscoe        palm bay  10019.0   32908   \n",
              "\n",
              "  state     target  dist_max  dist_min  dist_mean  rate_max  rate_min  \\\n",
              "0    NC   418000.0     12.60      2.70       5.54       7.0       4.0   \n",
              "1    WA   310000.0      1.65      1.01       1.33       4.0       4.0   \n",
              "2    CA  2895000.0      2.63      1.19       1.96       8.0       4.0   \n",
              "3    TX  2395000.0      1.05      0.10       0.75      10.0       9.0   \n",
              "4    FL     5000.0      5.96      3.03       4.08       5.0       4.0   \n",
              "\n",
              "   rate_mean  \n",
              "0       5.20  \n",
              "1       4.00  \n",
              "2       6.67  \n",
              "3       9.25  \n",
              "4       4.67  "
            ]
          },
          "execution_count": 2469,
          "metadata": {},
          "output_type": "execute_result"
        }
      ],
      "source": [
        "df_train.head()"
      ]
    },
    {
      "cell_type": "code",
      "execution_count": 2470,
      "metadata": {
        "colab": {
          "base_uri": "https://localhost:8080/"
        },
        "id": "MuYR3yGp5AN9",
        "outputId": "57995ef2-9d5a-4731-d9a1-cc1f346d13cc"
      },
      "outputs": [
        {
          "data": {
            "text/plain": [
              "status          39257\n",
              "propertyType    38031\n",
              "street           9122\n",
              "city               29\n",
              "sqft            11405\n",
              "zipcode             2\n",
              "state               0\n",
              "target              0\n",
              "dist_max         4258\n",
              "dist_min         4258\n",
              "dist_mean        4258\n",
              "rate_max         5117\n",
              "rate_min         5117\n",
              "rate_mean        5117\n",
              "dtype: int64"
            ]
          },
          "execution_count": 2470,
          "metadata": {},
          "output_type": "execute_result"
        }
      ],
      "source": [
        "df_train.isna().sum()\n",
        "\n",
        "# Мало значений null удалим их"
      ]
    },
    {
      "cell_type": "code",
      "execution_count": 2471,
      "metadata": {
        "colab": {
          "base_uri": "https://localhost:8080/"
        },
        "id": "z1fkBt3-6P5D",
        "outputId": "4485b73e-a056-45cf-c37d-92ea8f18bb34"
      },
      "outputs": [
        {
          "name": "stdout",
          "output_type": "stream",
          "text": [
            "<class 'pandas.core.frame.DataFrame'>\n",
            "Int64Index: 290422 entries, 0 to 377182\n",
            "Data columns (total 14 columns):\n",
            " #   Column        Non-Null Count   Dtype  \n",
            "---  ------        --------------   -----  \n",
            " 0   status        290422 non-null  object \n",
            " 1   propertyType  290422 non-null  object \n",
            " 2   street        290422 non-null  object \n",
            " 3   city          290422 non-null  object \n",
            " 4   sqft          290422 non-null  float64\n",
            " 5   zipcode       290422 non-null  object \n",
            " 6   state         290422 non-null  object \n",
            " 7   target        290422 non-null  float64\n",
            " 8   dist_max      290422 non-null  float64\n",
            " 9   dist_min      290422 non-null  float64\n",
            " 10  dist_mean     290422 non-null  float64\n",
            " 11  rate_max      290422 non-null  float64\n",
            " 12  rate_min      290422 non-null  float64\n",
            " 13  rate_mean     290422 non-null  float64\n",
            "dtypes: float64(8), object(6)\n",
            "memory usage: 33.2+ MB\n"
          ]
        }
      ],
      "source": [
        "df_train = df_train.dropna(axis=0)\n",
        "df_train.info()"
      ]
    },
    {
      "cell_type": "code",
      "execution_count": 2472,
      "metadata": {
        "colab": {
          "base_uri": "https://localhost:8080/"
        },
        "id": "WP6I4Nsb6d08",
        "outputId": "a5efd8e4-8c94-4882-e3ca-bc0be6f87549"
      },
      "outputs": [
        {
          "data": {
            "text/plain": [
              "status          661\n",
              "propertyType    180\n",
              "street           21\n",
              "city              5\n",
              "sqft            128\n",
              "zipcode           0\n",
              "state             0\n",
              "target            0\n",
              "dist_max         27\n",
              "dist_min         27\n",
              "dist_mean        27\n",
              "rate_max         35\n",
              "rate_min         35\n",
              "rate_mean        35\n",
              "dtype: int64"
            ]
          },
          "execution_count": 2472,
          "metadata": {},
          "output_type": "execute_result"
        }
      ],
      "source": [
        "df_test.isna().sum()\n",
        "\n",
        "# Мало нулевых значений, заполним их"
      ]
    },
    {
      "cell_type": "code",
      "execution_count": 2473,
      "metadata": {},
      "outputs": [
        {
          "data": {
            "text/plain": [
              "<matplotlib.axes._subplots.AxesSubplot at 0x1fac871f408>"
            ]
          },
          "execution_count": 2473,
          "metadata": {},
          "output_type": "execute_result"
        },
        {
          "data": {
            "image/png": "[encoded data removed]",
            "text/plain": [
              "<Figure size 432x288 with 1 Axes>"
            ]
          },
          "metadata": {
            "needs_background": "light"
          },
          "output_type": "display_data"
        }
      ],
      "source": [
        "df_test['status'].value_counts(ascending=True).plot.barh()"
      ]
    },
    {
      "cell_type": "code",
      "execution_count": 2474,
      "metadata": {},
      "outputs": [],
      "source": [
        "# Заменим null значения\r\n",
        "most_stat = df_test['status'].value_counts().index[0]\r\n",
        "\r\n",
        "df_test.loc[df_test['status'].isna(), 'status'] = most_stat"
      ]
    },
    {
      "cell_type": "code",
      "execution_count": 2475,
      "metadata": {
        "colab": {
          "base_uri": "https://localhost:8080/",
          "height": 282
        },
        "id": "99vN5w_vHZWG",
        "outputId": "bb07e7c2-214b-4daf-c42b-8b93e3bab921"
      },
      "outputs": [
        {
          "data": {
            "text/plain": [
              "<matplotlib.axes._subplots.AxesSubplot at 0x1fac91e6a88>"
            ]
          },
          "execution_count": 2475,
          "metadata": {},
          "output_type": "execute_result"
        },
        {
          "data": {
            "image/png": "[encoded data removed]",
            "text/plain": [
              "<Figure size 432x288 with 1 Axes>"
            ]
          },
          "metadata": {
            "needs_background": "light"
          },
          "output_type": "display_data"
        }
      ],
      "source": [
        "df_test['propertyType'].value_counts(ascending=True).plot.barh()"
      ]
    },
    {
      "cell_type": "code",
      "execution_count": 2476,
      "metadata": {
        "id": "AXw7NjPY9KNr"
      },
      "outputs": [],
      "source": [
        "# Заменим null значения\n",
        "most_prop = df_test['propertyType'].value_counts().index[0]\n",
        "\n",
        "df_test.loc[df_test['propertyType'].isna(), 'propertyType'] = most_prop"
      ]
    },
    {
      "cell_type": "code",
      "execution_count": 2477,
      "metadata": {
        "id": "DucEoFbkC14X"
      },
      "outputs": [],
      "source": [
        "# Можно из трейна удалить те значения propertyType, которых нет в тесте и удалить их\n",
        "# !!! на будущее"
      ]
    },
    {
      "cell_type": "code",
      "execution_count": 2478,
      "metadata": {
        "colab": {
          "base_uri": "https://localhost:8080/"
        },
        "id": "bjnGrRBaDIuF",
        "outputId": "811c5dbc-a199-4a17-93db-096c3f9709c0"
      },
      "outputs": [
        {
          "data": {
            "text/plain": [
              "NaN         21\n",
              "12th        10\n",
              "1st          9\n",
              "9th          8\n",
              "7th          7\n",
              "12th ave     7\n",
              "avenue       7\n",
              "8th          6\n",
              "26th         6\n",
              "harrison     6\n",
              "Name: street, dtype: int64"
            ]
          },
          "execution_count": 2478,
          "metadata": {},
          "output_type": "execute_result"
        }
      ],
      "source": [
        "df_test['street'].value_counts(dropna=False)[:10]"
      ]
    },
    {
      "cell_type": "code",
      "execution_count": 2479,
      "metadata": {
        "id": "YuH8CLa1DNt8"
      },
      "outputs": [],
      "source": [
        "most_street = df_test['street'].value_counts().index[0]\n",
        "\n",
        "df_test.loc[df_test['street'].isna(), 'street'] = most_street"
      ]
    },
    {
      "cell_type": "code",
      "execution_count": 2480,
      "metadata": {},
      "outputs": [],
      "source": [
        "df_test.loc[df_test['city'].isna(), 'city'] = 'other'"
      ]
    },
    {
      "cell_type": "code",
      "execution_count": 2481,
      "metadata": {
        "id": "yQXbF9nEDZ0b"
      },
      "outputs": [],
      "source": [
        "mean_sqft = round(df_test['sqft'].dropna().mean())\n",
        "\n",
        "df_test.loc[df_test['sqft'].isna(), 'sqft'] = mean_sqft"
      ]
    },
    {
      "cell_type": "code",
      "execution_count": 2482,
      "metadata": {
        "id": "S394-4LuDgOL"
      },
      "outputs": [],
      "source": [
        "mean_dist_max = round(df_test['dist_max'].dropna().mean())\n",
        "\n",
        "df_test.loc[df_test['dist_max'].isna(), 'dist_max'] = mean_dist_max"
      ]
    },
    {
      "cell_type": "code",
      "execution_count": 2483,
      "metadata": {
        "id": "Iylli9fJKde-"
      },
      "outputs": [],
      "source": [
        "mean_dist_min = round(df_test['dist_min'].dropna().mean())\n",
        "\n",
        "df_test.loc[df_test['dist_min'].isna(), 'dist_min'] = mean_dist_max"
      ]
    },
    {
      "cell_type": "code",
      "execution_count": 2484,
      "metadata": {
        "id": "dAKTHw0DKe-H"
      },
      "outputs": [],
      "source": [
        "mean_dist_mean = round(df_test['dist_mean'].dropna().mean())\n",
        "\n",
        "df_test.loc[df_test['dist_mean'].isna(), 'dist_mean'] = mean_dist_max"
      ]
    },
    {
      "cell_type": "code",
      "execution_count": 2485,
      "metadata": {
        "id": "1tWwbK5RKmCt"
      },
      "outputs": [],
      "source": [
        "mean_rate_max = round(df_test['rate_max'].dropna().mean())\n",
        "\n",
        "df_test.loc[df_test['rate_max'].isna(), 'rate_max'] = mean_dist_max"
      ]
    },
    {
      "cell_type": "code",
      "execution_count": 2486,
      "metadata": {
        "id": "QG_o-7e-K5MZ"
      },
      "outputs": [],
      "source": [
        "mean_rate_min = round(df_test['rate_min'].dropna().mean())\n",
        "\n",
        "df_test.loc[df_test['rate_min'].isna(), 'rate_min'] = mean_dist_max"
      ]
    },
    {
      "cell_type": "code",
      "execution_count": 2487,
      "metadata": {
        "id": "7hURbFm7K5pS"
      },
      "outputs": [],
      "source": [
        "mean_rate_mean = round(df_test['rate_mean'].dropna().mean())\n",
        "\n",
        "df_test.loc[df_test['rate_mean'].isna(), 'rate_mean'] = mean_dist_max"
      ]
    },
    {
      "cell_type": "code",
      "execution_count": 2488,
      "metadata": {
        "id": "w5WGKJykLAPk"
      },
      "outputs": [],
      "source": [
        "# Дополнительно выделить столбцы с Null значениями"
      ]
    },
    {
      "cell_type": "markdown",
      "metadata": {
        "id": "dQdYiLazXYzR"
      },
      "source": [
        "Обработка финального датасета"
      ]
    },
    {
      "cell_type": "code",
      "execution_count": 2489,
      "metadata": {
        "colab": {
          "base_uri": "https://localhost:8080/",
          "height": 596
        },
        "id": "1jJCdNnKZ2ZG",
        "outputId": "84aed32e-9e7d-48e5-9f6d-dadbd8c20c22"
      },
      "outputs": [
        {
          "data": {
            "image/png": "[encoded data removed]",
            "text/plain": [
              "<Figure size 1080x720 with 2 Axes>"
            ]
          },
          "metadata": {
            "needs_background": "light"
          },
          "output_type": "display_data"
        }
      ],
      "source": [
        "# Рассмотрим матрицу корреляции для начального удаления сильно скоррелированных признаков\n",
        "\n",
        "plt.figure(figsize=(15,10))\n",
        "\n",
        "sns.heatmap(df_train.corr().abs(), annot=True, fmt='.2f', cmap='PuBu')\n",
        "plt.yticks(rotation=0)\n",
        "plt.show()"
      ]
    },
    {
      "cell_type": "code",
      "execution_count": 2490,
      "metadata": {
        "id": "XJBFXD1uXvVl"
      },
      "outputs": [],
      "source": [
        "# Удаляем mean значения из dist и rate\n",
        "# Пока без токенайзера, поэтому не будем включать столбец street\n",
        "# Задаем типы переменных\n",
        "\n",
        "categorical_features = ['status', 'propertyType', 'city', 'zipcode', 'state']\n",
        "numerical_features = ['sqft', 'dist_max', 'dist_min', 'rate_max', 'rate_min']\n",
        "value = ['target']"
      ]
    },
    {
      "cell_type": "code",
      "execution_count": 2491,
      "metadata": {
        "colab": {
          "base_uri": "https://localhost:8080/",
          "height": 235
        },
        "id": "EHCrqsfUkNLn",
        "outputId": "72fb690a-a49a-44ae-849f-a2872c1bea24"
      },
      "outputs": [
        {
          "data": {
            "text/html": [
              "<div>\n",
              "<style scoped>\n",
              "    .dataframe tbody tr th:only-of-type {\n",
              "        vertical-align: middle;\n",
              "    }\n",
              "\n",
              "    .dataframe tbody tr th {\n",
              "        vertical-align: top;\n",
              "    }\n",
              "\n",
              "    .dataframe thead th {\n",
              "        text-align: right;\n",
              "    }\n",
              "</style>\n",
              "<table border=\"1\" class=\"dataframe\">\n",
              "  <thead>\n",
              "    <tr style=\"text-align: right;\">\n",
              "      <th></th>\n",
              "      <th>name</th>\n",
              "      <th>count</th>\n",
              "      <th>min</th>\n",
              "      <th>mean</th>\n",
              "      <th>max</th>\n",
              "      <th>low_range</th>\n",
              "      <th>upper_range</th>\n",
              "      <th>out_count</th>\n",
              "    </tr>\n",
              "  </thead>\n",
              "  <tbody>\n",
              "    <tr>\n",
              "      <th>0</th>\n",
              "      <td>sqft</td>\n",
              "      <td>290422.0</td>\n",
              "      <td>0.00</td>\n",
              "      <td>20540.00</td>\n",
              "      <td>7.959794e+08</td>\n",
              "      <td>-1060.00</td>\n",
              "      <td>5196.00</td>\n",
              "      <td>26917.0</td>\n",
              "    </tr>\n",
              "    <tr>\n",
              "      <th>1</th>\n",
              "      <td>dist_max</td>\n",
              "      <td>290422.0</td>\n",
              "      <td>0.02</td>\n",
              "      <td>4.69</td>\n",
              "      <td>1.591090e+03</td>\n",
              "      <td>-3.73</td>\n",
              "      <td>10.56</td>\n",
              "      <td>27791.0</td>\n",
              "    </tr>\n",
              "    <tr>\n",
              "      <th>2</th>\n",
              "      <td>dist_min</td>\n",
              "      <td>290422.0</td>\n",
              "      <td>0.01</td>\n",
              "      <td>1.19</td>\n",
              "      <td>1.590380e+03</td>\n",
              "      <td>-1.04</td>\n",
              "      <td>2.68</td>\n",
              "      <td>24800.0</td>\n",
              "    </tr>\n",
              "    <tr>\n",
              "      <th>3</th>\n",
              "      <td>rate_max</td>\n",
              "      <td>290422.0</td>\n",
              "      <td>1.00</td>\n",
              "      <td>6.63</td>\n",
              "      <td>1.000000e+01</td>\n",
              "      <td>0.50</td>\n",
              "      <td>12.50</td>\n",
              "      <td>0.0</td>\n",
              "    </tr>\n",
              "    <tr>\n",
              "      <th>4</th>\n",
              "      <td>rate_min</td>\n",
              "      <td>290422.0</td>\n",
              "      <td>1.00</td>\n",
              "      <td>3.66</td>\n",
              "      <td>1.000000e+01</td>\n",
              "      <td>-2.50</td>\n",
              "      <td>9.50</td>\n",
              "      <td>548.0</td>\n",
              "    </tr>\n",
              "    <tr>\n",
              "      <th>5</th>\n",
              "      <td>target</td>\n",
              "      <td>290422.0</td>\n",
              "      <td>1.00</td>\n",
              "      <td>613918.69</td>\n",
              "      <td>1.950000e+08</td>\n",
              "      <td>-391066.88</td>\n",
              "      <td>1151280.12</td>\n",
              "      <td>27776.0</td>\n",
              "    </tr>\n",
              "  </tbody>\n",
              "</table>\n",
              "</div>"
            ],
            "text/plain": [
              "       name     count   min       mean           max  low_range  upper_range  \\\n",
              "0      sqft  290422.0  0.00   20540.00  7.959794e+08   -1060.00      5196.00   \n",
              "1  dist_max  290422.0  0.02       4.69  1.591090e+03      -3.73        10.56   \n",
              "2  dist_min  290422.0  0.01       1.19  1.590380e+03      -1.04         2.68   \n",
              "3  rate_max  290422.0  1.00       6.63  1.000000e+01       0.50        12.50   \n",
              "4  rate_min  290422.0  1.00       3.66  1.000000e+01      -2.50         9.50   \n",
              "5    target  290422.0  1.00  613918.69  1.950000e+08 -391066.88   1151280.12   \n",
              "\n",
              "   out_count  \n",
              "0    26917.0  \n",
              "1    27791.0  \n",
              "2    24800.0  \n",
              "3        0.0  \n",
              "4      548.0  \n",
              "5    27776.0  "
            ]
          },
          "execution_count": 2491,
          "metadata": {},
          "output_type": "execute_result"
        }
      ],
      "source": [
        "# Смотрим выбросы\n",
        "\n",
        "data_out = data_outlier(numerical_features + value, df_train)\n",
        "data_out"
      ]
    },
    {
      "cell_type": "markdown",
      "metadata": {
        "id": "X4bd63RVmHxF"
      },
      "source": [
        "Рассмотрим числовые признаки по-отдельности"
      ]
    },
    {
      "cell_type": "code",
      "execution_count": 2492,
      "metadata": {
        "colab": {
          "base_uri": "https://localhost:8080/",
          "height": 668
        },
        "id": "T1HQA3iGrj-c",
        "outputId": "8e915065-a82c-4204-d9dc-a785a268f2fe"
      },
      "outputs": [
        {
          "data": {
            "image/png": "[encoded data removed]",
            "text/plain": [
              "<Figure size 720x360 with 2 Axes>"
            ]
          },
          "metadata": {
            "needs_background": "light"
          },
          "output_type": "display_data"
        }
      ],
      "source": [
        "# target\r\n",
        "\r\n",
        "train_hist_plot('target', df_train)"
      ]
    },
    {
      "cell_type": "code",
      "execution_count": 2493,
      "metadata": {
        "id": "1Dowp5Q7roq2"
      },
      "outputs": [],
      "source": [
        "df_train['target_log'] = np.log(df_train['target'] + 1)\r\n",
        "df_test['target_log'] = 0"
      ]
    },
    {
      "cell_type": "code",
      "execution_count": 2494,
      "metadata": {
        "colab": {
          "base_uri": "https://localhost:8080/",
          "height": 681
        },
        "id": "pbHbDBXgmK_R",
        "outputId": "2e77530b-5934-447b-f306-fed0c538a146"
      },
      "outputs": [
        {
          "data": {
            "image/png": "[encoded data removed]",
            "text/plain": [
              "<Figure size 720x360 with 2 Axes>"
            ]
          },
          "metadata": {
            "needs_background": "light"
          },
          "output_type": "display_data"
        },
        {
          "data": {
            "image/png": "[encoded data removed]",
            "text/plain": [
              "<Figure size 720x360 with 2 Axes>"
            ]
          },
          "metadata": {
            "needs_background": "light"
          },
          "output_type": "display_data"
        }
      ],
      "source": [
        "# sqft\n",
        "\n",
        "train_hist_plot('sqft', df_train)\n",
        "test_hist_plot('sqft', df_test)"
      ]
    },
    {
      "cell_type": "code",
      "execution_count": 2495,
      "metadata": {
        "colab": {
          "base_uri": "https://localhost:8080/",
          "height": 616
        },
        "id": "wgG9noKIobWS",
        "outputId": "aa94fa0c-f1be-487c-da50-c1e3bab32036"
      },
      "outputs": [
        {
          "data": {
            "image/png": "[encoded data removed]",
            "text/plain": [
              "<Figure size 720x720 with 1 Axes>"
            ]
          },
          "metadata": {
            "needs_background": "light"
          },
          "output_type": "display_data"
        }
      ],
      "source": [
        "plt.figure(figsize = (10,10))\n",
        "sns.regplot(data=df_train, y=\"target\", x=\"sqft\", fit_reg=False)\n",
        "plt.show()"
      ]
    },
    {
      "cell_type": "code",
      "execution_count": 2496,
      "metadata": {
        "colab": {
          "base_uri": "https://localhost:8080/",
          "height": 342
        },
        "id": "_t9Hgve0qcyM",
        "outputId": "fd3d4f72-f722-46e3-ce3c-2defb88e2725"
      },
      "outputs": [
        {
          "data": {
            "image/png": "[encoded data removed]",
            "text/plain": [
              "<Figure size 432x288 with 1 Axes>"
            ]
          },
          "metadata": {
            "needs_background": "light"
          },
          "output_type": "display_data"
        },
        {
          "data": {
            "text/html": [
              "<div>\n",
              "<style scoped>\n",
              "    .dataframe tbody tr th:only-of-type {\n",
              "        vertical-align: middle;\n",
              "    }\n",
              "\n",
              "    .dataframe tbody tr th {\n",
              "        vertical-align: top;\n",
              "    }\n",
              "\n",
              "    .dataframe thead th {\n",
              "        text-align: right;\n",
              "    }\n",
              "</style>\n",
              "<table border=\"1\" class=\"dataframe\">\n",
              "  <thead>\n",
              "    <tr style=\"text-align: right;\">\n",
              "      <th></th>\n",
              "      <th>name</th>\n",
              "      <th>count</th>\n",
              "      <th>min</th>\n",
              "      <th>mean</th>\n",
              "      <th>max</th>\n",
              "      <th>low_range</th>\n",
              "      <th>upper_range</th>\n",
              "      <th>out_count</th>\n",
              "    </tr>\n",
              "  </thead>\n",
              "  <tbody>\n",
              "    <tr>\n",
              "      <th>0</th>\n",
              "      <td>sqft</td>\n",
              "      <td>290422.0</td>\n",
              "      <td>0.0</td>\n",
              "      <td>20540.0</td>\n",
              "      <td>795979430.0</td>\n",
              "      <td>-1060.0</td>\n",
              "      <td>5196.0</td>\n",
              "      <td>26917.0</td>\n",
              "    </tr>\n",
              "  </tbody>\n",
              "</table>\n",
              "</div>"
            ],
            "text/plain": [
              "   name     count  min     mean          max  low_range  upper_range  \\\n",
              "0  sqft  290422.0  0.0  20540.0  795979430.0    -1060.0       5196.0   \n",
              "\n",
              "   out_count  \n",
              "0    26917.0  "
            ]
          },
          "execution_count": 2496,
          "metadata": {},
          "output_type": "execute_result"
        }
      ],
      "source": [
        "# График выбросов\n",
        "sns.boxplot(x=df_train[\"sqft\"])\n",
        "plt.show()\n",
        "\n",
        "# Выбросы\n",
        "data_out[data_out['name'] == 'sqft']"
      ]
    },
    {
      "cell_type": "code",
      "execution_count": 2497,
      "metadata": {
        "colab": {
          "base_uri": "https://localhost:8080/",
          "height": 513
        },
        "id": "oAhjQjqEq5m4",
        "outputId": "faee1904-4f2d-4237-99cd-9373925bd4f9"
      },
      "outputs": [
        {
          "data": {
            "image/png": "[encoded data removed]",
            "text/plain": [
              "<Figure size 432x288 with 1 Axes>"
            ]
          },
          "metadata": {
            "needs_background": "light"
          },
          "output_type": "display_data"
        },
        {
          "data": {
            "image/png": "[encoded data removed]",
            "text/plain": [
              "<Figure size 432x288 with 1 Axes>"
            ]
          },
          "metadata": {
            "needs_background": "light"
          },
          "output_type": "display_data"
        }
      ],
      "source": [
        "# Посмотрим как распределена цена у выбросов и невыбросов в трейне\r\n",
        "df_train[df_train['sqft'] > 5199.0]['target_log'].hist()\r\n",
        "plt.show()\r\n",
        "\r\n",
        "df_train[df_train['sqft'] <= 5199.0]['target_log'].hist()\r\n",
        "plt.show()"
      ]
    },
    {
      "cell_type": "code",
      "execution_count": 2498,
      "metadata": {
        "id": "GgBbrayLsVCZ"
      },
      "outputs": [],
      "source": [
        "# Цена распределена примерно одинакого, ничего с выбросами делать пока не будем"
      ]
    },
    {
      "cell_type": "code",
      "execution_count": 2499,
      "metadata": {
        "id": "rSQbiy2osXB_"
      },
      "outputs": [],
      "source": [
        "df_train['sqft_log'] = np.log(df_train['sqft'] + 1)\r\n",
        "df_test['sqft_log'] = np.log(df_test['sqft'] + 1)"
      ]
    },
    {
      "cell_type": "code",
      "execution_count": 2500,
      "metadata": {
        "colab": {
          "base_uri": "https://localhost:8080/",
          "height": 655
        },
        "id": "BpqTvUg9MI38",
        "outputId": "84763128-218d-4159-b5fd-97d7a3f8b0f7"
      },
      "outputs": [
        {
          "data": {
            "image/png": "[encoded data removed]",
            "text/plain": [
              "<Figure size 720x360 with 2 Axes>"
            ]
          },
          "metadata": {
            "needs_background": "light"
          },
          "output_type": "display_data"
        },
        {
          "data": {
            "image/png": "[encoded data removed]",
            "text/plain": [
              "<Figure size 720x360 with 2 Axes>"
            ]
          },
          "metadata": {
            "needs_background": "light"
          },
          "output_type": "display_data"
        }
      ],
      "source": [
        "# dist_max\n",
        "\n",
        "train_hist_plot('dist_max', df_train)\n",
        "test_hist_plot('dist_max', df_test)"
      ]
    },
    {
      "cell_type": "code",
      "execution_count": 2501,
      "metadata": {
        "id": "3xAl1HcIs4gS"
      },
      "outputs": [],
      "source": [
        "df_train['dist_max_log'] = np.log(df_train['dist_max'] + 1)\r\n",
        "df_test['dist_max_log'] = np.log(df_test['dist_max'] + 1)"
      ]
    },
    {
      "cell_type": "code",
      "execution_count": 2502,
      "metadata": {
        "colab": {
          "base_uri": "https://localhost:8080/",
          "height": 617
        },
        "id": "uEBdtbUItBT9",
        "outputId": "4e35d9ea-eb5f-4324-bf61-df264f929093"
      },
      "outputs": [
        {
          "data": {
            "image/png": "[encoded data removed]",
            "text/plain": [
              "<Figure size 720x720 with 1 Axes>"
            ]
          },
          "metadata": {
            "needs_background": "light"
          },
          "output_type": "display_data"
        }
      ],
      "source": [
        "plt.figure(figsize = (10,10))\n",
        "sns.regplot(data=df_train, y=\"target\", x=\"dist_max\", fit_reg=False)\n",
        "plt.show()"
      ]
    },
    {
      "cell_type": "code",
      "execution_count": 2503,
      "metadata": {
        "colab": {
          "base_uri": "https://localhost:8080/",
          "height": 343
        },
        "id": "GbBl3GgztOrq",
        "outputId": "8820e54c-122c-4537-a2e5-eb54ae7f11ec"
      },
      "outputs": [
        {
          "data": {
            "image/png": "[encoded data removed]",
            "text/plain": [
              "<Figure size 432x288 with 1 Axes>"
            ]
          },
          "metadata": {
            "needs_background": "light"
          },
          "output_type": "display_data"
        },
        {
          "data": {
            "text/html": [
              "<div>\n",
              "<style scoped>\n",
              "    .dataframe tbody tr th:only-of-type {\n",
              "        vertical-align: middle;\n",
              "    }\n",
              "\n",
              "    .dataframe tbody tr th {\n",
              "        vertical-align: top;\n",
              "    }\n",
              "\n",
              "    .dataframe thead th {\n",
              "        text-align: right;\n",
              "    }\n",
              "</style>\n",
              "<table border=\"1\" class=\"dataframe\">\n",
              "  <thead>\n",
              "    <tr style=\"text-align: right;\">\n",
              "      <th></th>\n",
              "      <th>name</th>\n",
              "      <th>count</th>\n",
              "      <th>min</th>\n",
              "      <th>mean</th>\n",
              "      <th>max</th>\n",
              "      <th>low_range</th>\n",
              "      <th>upper_range</th>\n",
              "      <th>out_count</th>\n",
              "    </tr>\n",
              "  </thead>\n",
              "  <tbody>\n",
              "    <tr>\n",
              "      <th>1</th>\n",
              "      <td>dist_max</td>\n",
              "      <td>290422.0</td>\n",
              "      <td>0.02</td>\n",
              "      <td>4.69</td>\n",
              "      <td>1591.09</td>\n",
              "      <td>-3.73</td>\n",
              "      <td>10.56</td>\n",
              "      <td>27791.0</td>\n",
              "    </tr>\n",
              "  </tbody>\n",
              "</table>\n",
              "</div>"
            ],
            "text/plain": [
              "       name     count   min  mean      max  low_range  upper_range  out_count\n",
              "1  dist_max  290422.0  0.02  4.69  1591.09      -3.73        10.56    27791.0"
            ]
          },
          "execution_count": 2503,
          "metadata": {},
          "output_type": "execute_result"
        }
      ],
      "source": [
        "# График выбросов\n",
        "sns.boxplot(x=df_train[\"dist_max\"])\n",
        "plt.show()\n",
        "\n",
        "# Выбросы\n",
        "data_out[data_out['name'] == 'dist_max']"
      ]
    },
    {
      "cell_type": "code",
      "execution_count": 2504,
      "metadata": {
        "colab": {
          "base_uri": "https://localhost:8080/",
          "height": 513
        },
        "id": "YaAgYJiQtg8v",
        "outputId": "eec4dbc1-9411-4f46-a6aa-f387542b7c65"
      },
      "outputs": [
        {
          "data": {
            "image/png": "[encoded data removed]",
            "text/plain": [
              "<Figure size 432x288 with 1 Axes>"
            ]
          },
          "metadata": {
            "needs_background": "light"
          },
          "output_type": "display_data"
        },
        {
          "data": {
            "image/png": "[encoded data removed]",
            "text/plain": [
              "<Figure size 432x288 with 1 Axes>"
            ]
          },
          "metadata": {
            "needs_background": "light"
          },
          "output_type": "display_data"
        }
      ],
      "source": [
        "df_train[df_train['dist_max'] > 10.56]['target_log'].hist()\r\n",
        "plt.show()\r\n",
        "\r\n",
        "df_train[df_train['dist_max'] <= 10.56]['target_log'].hist()\r\n",
        "plt.show()"
      ]
    },
    {
      "cell_type": "code",
      "execution_count": 2505,
      "metadata": {
        "id": "c_1dPGLzv0a0"
      },
      "outputs": [],
      "source": [
        "# Цена распределена примерно одинакого, ничего с выбросами делать пока не будем"
      ]
    },
    {
      "cell_type": "code",
      "execution_count": 2506,
      "metadata": {
        "colab": {
          "base_uri": "https://localhost:8080/",
          "height": 655
        },
        "id": "OuAScmCjnrnE",
        "outputId": "5a77e314-7fe9-45d5-bb9e-4d242cccd847"
      },
      "outputs": [
        {
          "data": {
            "image/png": "[encoded data removed]",
            "text/plain": [
              "<Figure size 720x360 with 2 Axes>"
            ]
          },
          "metadata": {
            "needs_background": "light"
          },
          "output_type": "display_data"
        },
        {
          "data": {
            "image/png": "[encoded data removed]",
            "text/plain": [
              "<Figure size 720x360 with 2 Axes>"
            ]
          },
          "metadata": {
            "needs_background": "light"
          },
          "output_type": "display_data"
        }
      ],
      "source": [
        "# dist_min\n",
        "\n",
        "train_hist_plot('dist_min', df_train)\n",
        "test_hist_plot('dist_min', df_test)"
      ]
    },
    {
      "cell_type": "code",
      "execution_count": 2507,
      "metadata": {
        "id": "_VZXCOIXv5uR"
      },
      "outputs": [],
      "source": [
        "df_train['dist_min_log'] = np.log(df_train['dist_min'] + 1)\r\n",
        "df_test['dist_min_log'] = np.log(df_test['dist_min'] + 1)"
      ]
    },
    {
      "cell_type": "code",
      "execution_count": 2508,
      "metadata": {
        "colab": {
          "base_uri": "https://localhost:8080/",
          "height": 617
        },
        "id": "ycXTH3Qav8Xn",
        "outputId": "38fe958c-fc65-4f2f-b2fc-9bb9e3f39f90"
      },
      "outputs": [
        {
          "data": {
            "image/png": "[encoded data removed]",
            "text/plain": [
              "<Figure size 720x720 with 1 Axes>"
            ]
          },
          "metadata": {
            "needs_background": "light"
          },
          "output_type": "display_data"
        }
      ],
      "source": [
        "plt.figure(figsize = (10,10))\n",
        "sns.regplot(data=df_train, y=\"target\", x=\"dist_min\", fit_reg=False)\n",
        "plt.show()"
      ]
    },
    {
      "cell_type": "code",
      "execution_count": 2509,
      "metadata": {
        "colab": {
          "base_uri": "https://localhost:8080/",
          "height": 343
        },
        "id": "N_xFfphWwCv5",
        "outputId": "46407028-9ed5-420a-e126-5b0a21b5fa09"
      },
      "outputs": [
        {
          "data": {
            "image/png": "[encoded data removed]",
            "text/plain": [
              "<Figure size 432x288 with 1 Axes>"
            ]
          },
          "metadata": {
            "needs_background": "light"
          },
          "output_type": "display_data"
        },
        {
          "data": {
            "text/html": [
              "<div>\n",
              "<style scoped>\n",
              "    .dataframe tbody tr th:only-of-type {\n",
              "        vertical-align: middle;\n",
              "    }\n",
              "\n",
              "    .dataframe tbody tr th {\n",
              "        vertical-align: top;\n",
              "    }\n",
              "\n",
              "    .dataframe thead th {\n",
              "        text-align: right;\n",
              "    }\n",
              "</style>\n",
              "<table border=\"1\" class=\"dataframe\">\n",
              "  <thead>\n",
              "    <tr style=\"text-align: right;\">\n",
              "      <th></th>\n",
              "      <th>name</th>\n",
              "      <th>count</th>\n",
              "      <th>min</th>\n",
              "      <th>mean</th>\n",
              "      <th>max</th>\n",
              "      <th>low_range</th>\n",
              "      <th>upper_range</th>\n",
              "      <th>out_count</th>\n",
              "    </tr>\n",
              "  </thead>\n",
              "  <tbody>\n",
              "    <tr>\n",
              "      <th>2</th>\n",
              "      <td>dist_min</td>\n",
              "      <td>290422.0</td>\n",
              "      <td>0.01</td>\n",
              "      <td>1.19</td>\n",
              "      <td>1590.38</td>\n",
              "      <td>-1.04</td>\n",
              "      <td>2.68</td>\n",
              "      <td>24800.0</td>\n",
              "    </tr>\n",
              "  </tbody>\n",
              "</table>\n",
              "</div>"
            ],
            "text/plain": [
              "       name     count   min  mean      max  low_range  upper_range  out_count\n",
              "2  dist_min  290422.0  0.01  1.19  1590.38      -1.04         2.68    24800.0"
            ]
          },
          "execution_count": 2509,
          "metadata": {},
          "output_type": "execute_result"
        }
      ],
      "source": [
        "# График выбросов\n",
        "sns.boxplot(x=df_train[\"dist_min\"])\n",
        "plt.show()\n",
        "\n",
        "# Выбросы\n",
        "data_out[data_out['name'] == 'dist_min']"
      ]
    },
    {
      "cell_type": "code",
      "execution_count": 2510,
      "metadata": {
        "colab": {
          "base_uri": "https://localhost:8080/",
          "height": 513
        },
        "id": "ertLOvigwJGT",
        "outputId": "a5c6fb52-961b-4b73-beb9-86ceb04b51d1"
      },
      "outputs": [
        {
          "data": {
            "image/png": "[encoded data removed]",
            "text/plain": [
              "<Figure size 432x288 with 1 Axes>"
            ]
          },
          "metadata": {
            "needs_background": "light"
          },
          "output_type": "display_data"
        },
        {
          "data": {
            "image/png": "[encoded data removed]",
            "text/plain": [
              "<Figure size 432x288 with 1 Axes>"
            ]
          },
          "metadata": {
            "needs_background": "light"
          },
          "output_type": "display_data"
        }
      ],
      "source": [
        "df_train[df_train['dist_max'] > 2.68]['target_log'].hist()\r\n",
        "plt.show()\r\n",
        "\r\n",
        "df_train[df_train['dist_max'] <= 2.68]['target_log'].hist()\r\n",
        "plt.show()"
      ]
    },
    {
      "cell_type": "code",
      "execution_count": 2511,
      "metadata": {
        "id": "i5zhyaBvwQVe"
      },
      "outputs": [],
      "source": [
        "# Цена распределена примерно одинакого, ничего с выбросами делать пока не будем"
      ]
    },
    {
      "cell_type": "code",
      "execution_count": 2512,
      "metadata": {
        "colab": {
          "base_uri": "https://localhost:8080/",
          "height": 655
        },
        "id": "Hcb0fFEun2Ts",
        "outputId": "c6660c51-c705-4e20-8877-e5872d53d410"
      },
      "outputs": [
        {
          "data": {
            "image/png": "[encoded data removed]",
            "text/plain": [
              "<Figure size 720x360 with 2 Axes>"
            ]
          },
          "metadata": {
            "needs_background": "light"
          },
          "output_type": "display_data"
        },
        {
          "data": {
            "image/png": "[encoded data removed]",
            "text/plain": [
              "<Figure size 720x360 with 2 Axes>"
            ]
          },
          "metadata": {
            "needs_background": "light"
          },
          "output_type": "display_data"
        }
      ],
      "source": [
        "# rate_max\n",
        "\n",
        "train_hist_plot('rate_max', df_train)\n",
        "test_hist_plot('rate_max', df_test)"
      ]
    },
    {
      "cell_type": "code",
      "execution_count": 2513,
      "metadata": {
        "colab": {
          "base_uri": "https://localhost:8080/",
          "height": 617
        },
        "id": "u47brlPuwWr7",
        "outputId": "b641333b-ab39-4699-8580-d5fe7936cb88"
      },
      "outputs": [
        {
          "data": {
            "image/png": "[encoded data removed]",
            "text/plain": [
              "<Figure size 720x720 with 1 Axes>"
            ]
          },
          "metadata": {
            "needs_background": "light"
          },
          "output_type": "display_data"
        }
      ],
      "source": [
        "plt.figure(figsize = (10,10))\n",
        "sns.regplot(data=df_train, y=\"target\", x=\"rate_max\", fit_reg=False)\n",
        "plt.show()"
      ]
    },
    {
      "cell_type": "code",
      "execution_count": 2514,
      "metadata": {
        "colab": {
          "base_uri": "https://localhost:8080/",
          "height": 343
        },
        "id": "L9482FD1wci-",
        "outputId": "7cb50d4e-90e2-4431-b38d-1390272aa55e"
      },
      "outputs": [
        {
          "data": {
            "image/png": "[encoded data removed]",
            "text/plain": [
              "<Figure size 432x288 with 1 Axes>"
            ]
          },
          "metadata": {
            "needs_background": "light"
          },
          "output_type": "display_data"
        },
        {
          "data": {
            "text/html": [
              "<div>\n",
              "<style scoped>\n",
              "    .dataframe tbody tr th:only-of-type {\n",
              "        vertical-align: middle;\n",
              "    }\n",
              "\n",
              "    .dataframe tbody tr th {\n",
              "        vertical-align: top;\n",
              "    }\n",
              "\n",
              "    .dataframe thead th {\n",
              "        text-align: right;\n",
              "    }\n",
              "</style>\n",
              "<table border=\"1\" class=\"dataframe\">\n",
              "  <thead>\n",
              "    <tr style=\"text-align: right;\">\n",
              "      <th></th>\n",
              "      <th>name</th>\n",
              "      <th>count</th>\n",
              "      <th>min</th>\n",
              "      <th>mean</th>\n",
              "      <th>max</th>\n",
              "      <th>low_range</th>\n",
              "      <th>upper_range</th>\n",
              "      <th>out_count</th>\n",
              "    </tr>\n",
              "  </thead>\n",
              "  <tbody>\n",
              "    <tr>\n",
              "      <th>3</th>\n",
              "      <td>rate_max</td>\n",
              "      <td>290422.0</td>\n",
              "      <td>1.0</td>\n",
              "      <td>6.63</td>\n",
              "      <td>10.0</td>\n",
              "      <td>0.5</td>\n",
              "      <td>12.5</td>\n",
              "      <td>0.0</td>\n",
              "    </tr>\n",
              "  </tbody>\n",
              "</table>\n",
              "</div>"
            ],
            "text/plain": [
              "       name     count  min  mean   max  low_range  upper_range  out_count\n",
              "3  rate_max  290422.0  1.0  6.63  10.0        0.5         12.5        0.0"
            ]
          },
          "execution_count": 2514,
          "metadata": {},
          "output_type": "execute_result"
        }
      ],
      "source": [
        "# График выбросов\n",
        "sns.boxplot(x=df_train[\"rate_max\"])\n",
        "plt.show()\n",
        "\n",
        "# Выбросы\n",
        "data_out[data_out['name'] == 'rate_max']"
      ]
    },
    {
      "cell_type": "code",
      "execution_count": 2515,
      "metadata": {
        "colab": {
          "base_uri": "https://localhost:8080/",
          "height": 655
        },
        "id": "ueDXuRNInwFs",
        "outputId": "f65b6efe-6e4f-45e6-edb5-641807a47ad2"
      },
      "outputs": [
        {
          "data": {
            "image/png": "[encoded data removed]",
            "text/plain": [
              "<Figure size 720x360 with 2 Axes>"
            ]
          },
          "metadata": {
            "needs_background": "light"
          },
          "output_type": "display_data"
        },
        {
          "data": {
            "image/png": "[encoded data removed]",
            "text/plain": [
              "<Figure size 720x360 with 2 Axes>"
            ]
          },
          "metadata": {
            "needs_background": "light"
          },
          "output_type": "display_data"
        }
      ],
      "source": [
        "# rate_min\n",
        "\n",
        "train_hist_plot('rate_min', df_train)\n",
        "test_hist_plot('rate_min', df_test)"
      ]
    },
    {
      "cell_type": "code",
      "execution_count": 2516,
      "metadata": {
        "colab": {
          "base_uri": "https://localhost:8080/",
          "height": 617
        },
        "id": "3XgRvNt7n8N8",
        "outputId": "02748bb0-7fd6-4609-c28d-18b508e6f5f9"
      },
      "outputs": [
        {
          "data": {
            "image/png": "[encoded data removed]",
            "text/plain": [
              "<Figure size 720x720 with 1 Axes>"
            ]
          },
          "metadata": {
            "needs_background": "light"
          },
          "output_type": "display_data"
        }
      ],
      "source": [
        "plt.figure(figsize = (10,10))\n",
        "sns.regplot(data=df_train, y=\"target\", x=\"rate_min\", fit_reg=False)\n",
        "plt.show()"
      ]
    },
    {
      "cell_type": "code",
      "execution_count": 2517,
      "metadata": {
        "colab": {
          "base_uri": "https://localhost:8080/",
          "height": 343
        },
        "id": "WkDPI1ROwjYs",
        "outputId": "ac90553e-1b44-450b-b517-e6907a9f06fc"
      },
      "outputs": [
        {
          "data": {
            "image/png": "[encoded data removed]",
            "text/plain": [
              "<Figure size 432x288 with 1 Axes>"
            ]
          },
          "metadata": {
            "needs_background": "light"
          },
          "output_type": "display_data"
        },
        {
          "data": {
            "text/html": [
              "<div>\n",
              "<style scoped>\n",
              "    .dataframe tbody tr th:only-of-type {\n",
              "        vertical-align: middle;\n",
              "    }\n",
              "\n",
              "    .dataframe tbody tr th {\n",
              "        vertical-align: top;\n",
              "    }\n",
              "\n",
              "    .dataframe thead th {\n",
              "        text-align: right;\n",
              "    }\n",
              "</style>\n",
              "<table border=\"1\" class=\"dataframe\">\n",
              "  <thead>\n",
              "    <tr style=\"text-align: right;\">\n",
              "      <th></th>\n",
              "      <th>name</th>\n",
              "      <th>count</th>\n",
              "      <th>min</th>\n",
              "      <th>mean</th>\n",
              "      <th>max</th>\n",
              "      <th>low_range</th>\n",
              "      <th>upper_range</th>\n",
              "      <th>out_count</th>\n",
              "    </tr>\n",
              "  </thead>\n",
              "  <tbody>\n",
              "    <tr>\n",
              "      <th>4</th>\n",
              "      <td>rate_min</td>\n",
              "      <td>290422.0</td>\n",
              "      <td>1.0</td>\n",
              "      <td>3.66</td>\n",
              "      <td>10.0</td>\n",
              "      <td>-2.5</td>\n",
              "      <td>9.5</td>\n",
              "      <td>548.0</td>\n",
              "    </tr>\n",
              "  </tbody>\n",
              "</table>\n",
              "</div>"
            ],
            "text/plain": [
              "       name     count  min  mean   max  low_range  upper_range  out_count\n",
              "4  rate_min  290422.0  1.0  3.66  10.0       -2.5          9.5      548.0"
            ]
          },
          "execution_count": 2517,
          "metadata": {},
          "output_type": "execute_result"
        }
      ],
      "source": [
        "# График выбросов\n",
        "sns.boxplot(x=df_train[\"rate_min\"])\n",
        "plt.show()\n",
        "\n",
        "# Выбросы\n",
        "data_out[data_out['name'] == 'rate_min']"
      ]
    },
    {
      "cell_type": "code",
      "execution_count": 2518,
      "metadata": {
        "colab": {
          "base_uri": "https://localhost:8080/",
          "height": 513
        },
        "id": "XtWf8xMawoBj",
        "outputId": "2abf4d4f-48b9-41a8-b85c-64bbcc8c728b"
      },
      "outputs": [
        {
          "data": {
            "image/png": "[encoded data removed]",
            "text/plain": [
              "<Figure size 432x288 with 1 Axes>"
            ]
          },
          "metadata": {
            "needs_background": "light"
          },
          "output_type": "display_data"
        },
        {
          "data": {
            "image/png": "[encoded data removed]",
            "text/plain": [
              "<Figure size 432x288 with 1 Axes>"
            ]
          },
          "metadata": {
            "needs_background": "light"
          },
          "output_type": "display_data"
        }
      ],
      "source": [
        "df_train[df_train['dist_max'] > 9.5]['target_log'].hist()\n",
        "plt.show()\n",
        "\n",
        "df_train[df_train['dist_max'] <= 9.5]['target_log'].hist()\n",
        "plt.show()"
      ]
    },
    {
      "cell_type": "code",
      "execution_count": 2519,
      "metadata": {
        "id": "VCcSKjafwubr"
      },
      "outputs": [],
      "source": [
        "# Цена распределена примерно одинакого, ничего с выбросами делать пока не будем"
      ]
    },
    {
      "cell_type": "markdown",
      "metadata": {
        "id": "wWv9QG3yxtIw"
      },
      "source": [
        "Влияние числовых признаков на target"
      ]
    },
    {
      "cell_type": "code",
      "execution_count": 2520,
      "metadata": {
        "id": "9ahICBAfxfK3"
      },
      "outputs": [],
      "source": [
        "# df_train.columns"
      ]
    },
    {
      "cell_type": "code",
      "execution_count": 2521,
      "metadata": {
        "id": "ywpTzTNfxMkB"
      },
      "outputs": [],
      "source": [
        "# Введем новые числовые признаки\r\n",
        "numerical_features_new = numerical_features + ['dist_max_log', 'dist_min_log' ,'sqft_log']"
      ]
    },
    {
      "cell_type": "code",
      "execution_count": 2522,
      "metadata": {
        "colab": {
          "base_uri": "https://localhost:8080/",
          "height": 282
        },
        "id": "o2_zFghuwxuj",
        "outputId": "c7787957-c5f7-4ae6-8f5d-a15426a25c06"
      },
      "outputs": [
        {
          "data": {
            "text/plain": [
              "<matplotlib.axes._subplots.AxesSubplot at 0x1fb116980c8>"
            ]
          },
          "execution_count": 2522,
          "metadata": {},
          "output_type": "execute_result"
        },
        {
          "data": {
            "image/png": "[encoded data removed]",
            "text/plain": [
              "<Figure size 432x288 with 1 Axes>"
            ]
          },
          "metadata": {
            "needs_background": "light"
          },
          "output_type": "display_data"
        }
      ],
      "source": [
        "# График влияния числовых переменных на target\r\n",
        "\r\n",
        "df_train_imp = df_train.copy()\r\n",
        "\r\n",
        "# рассмотрим значимость переменных\r\n",
        "\r\n",
        "imp_num = pd.Series(f_regression(df_train_imp[numerical_features_new], \r\n",
        "                              df_train_imp['target_log'])[0], index=numerical_features_new)\r\n",
        "imp_num.sort_values(inplace = True)\r\n",
        "imp_num.plot(kind = 'barh')"
      ]
    },
    {
      "cell_type": "code",
      "execution_count": 2523,
      "metadata": {},
      "outputs": [],
      "source": [
        "# Видим что наибольшее значение имеет sqft_log, наименьшее sqft"
      ]
    },
    {
      "cell_type": "code",
      "execution_count": 2524,
      "metadata": {
        "id": "qeWTWMNCw28D"
      },
      "outputs": [],
      "source": [
        "# График влияния числовых переменных на target\r\n",
        "\r\n",
        "# df_train_imp = df_train.copy()\r\n",
        "\r\n",
        "# # рассмотрим значимость переменных\r\n",
        "# label_encoder = LabelEncoder()\r\n",
        "\r\n",
        "# imp_num = pd.Series(mutual_info_regression(df_train_imp[numerical_features_new], \r\n",
        "#                               df_train_imp['target_log']), index=numerical_features_new)\r\n",
        "# imp_num.sort_values(inplace = True)\r\n",
        "# imp_num.plot(kind = 'barh')"
      ]
    },
    {
      "cell_type": "markdown",
      "metadata": {},
      "source": [
        "Рассмаотрим категориальные переменные"
      ]
    },
    {
      "cell_type": "code",
      "execution_count": 2525,
      "metadata": {
        "id": "Z6n1TqbW52dM"
      },
      "outputs": [
        {
          "data": {
            "text/plain": [
              "for sale                          193263\n",
              "active                             68337\n",
              "foreclosure                         5864\n",
              "new construction                    5207\n",
              "pending                             4616\n",
              "                                   ...  \n",
              "conting accpt backups                  1\n",
              "pending w backup wanted                1\n",
              "contingent no show                     1\n",
              "pending backup offer requested         1\n",
              "pending backups wanted                 1\n",
              "Name: status, Length: 95, dtype: int64"
            ]
          },
          "execution_count": 2525,
          "metadata": {},
          "output_type": "execute_result"
        }
      ],
      "source": [
        "df_train['status'].value_counts()"
      ]
    },
    {
      "cell_type": "code",
      "execution_count": 2526,
      "metadata": {},
      "outputs": [
        {
          "data": {
            "text/plain": [
              "foreclosure                1410\n",
              "recently sold               287\n",
              "pre foreclosure auction     279\n",
              "auction                     180\n",
              "foreclosed                  165\n",
              "pre foreclosure             119\n",
              "new construction             16\n",
              "closed                       13\n",
              "pending                       5\n",
              "for sale                      4\n",
              "sold                          2\n",
              "active                        1\n",
              "Name: status, dtype: int64"
            ]
          },
          "execution_count": 2526,
          "metadata": {},
          "output_type": "execute_result"
        }
      ],
      "source": [
        "df_test['status'].value_counts()"
      ]
    },
    {
      "cell_type": "code",
      "execution_count": 2527,
      "metadata": {},
      "outputs": [
        {
          "data": {
            "text/plain": [
              "recently sold    287\n",
              "sold               2\n",
              "Name: status, dtype: int64"
            ]
          },
          "execution_count": 2527,
          "metadata": {},
          "output_type": "execute_result"
        }
      ],
      "source": [
        "unique_train_stat = df_train['status'].unique()\r\n",
        "\r\n",
        "df_test[~df_test['status'].isin(unique_stat)]['status'].value_counts()"
      ]
    },
    {
      "cell_type": "code",
      "execution_count": 2528,
      "metadata": {},
      "outputs": [],
      "source": [
        "# Так как в трейне нет ничего похожего на sold, заменим на \"for sale\"\r\n",
        "\r\n",
        "df_test.loc[df_test['status'].str.contains('sold'), 'status'] = 'for sale'"
      ]
    },
    {
      "cell_type": "code",
      "execution_count": 2529,
      "metadata": {},
      "outputs": [],
      "source": [
        "unique_stat = df_test['status'].unique()\r\n",
        "\r\n",
        "# Удаляем данные из трейна те значения, которых нет в тесте\r\n",
        "df_train = df_train[df_train['status'].isin(unique_stat)]"
      ]
    },
    {
      "cell_type": "code",
      "execution_count": 2530,
      "metadata": {},
      "outputs": [
        {
          "data": {
            "text/plain": [
              "single family                                                                         153843\n",
              "condo                                                                                  31689\n",
              "lot land                                                                               19548\n",
              "townhouse                                                                              14899\n",
              "multi family                                                                           10453\n",
              "                                                                                       ...  \n",
              "multi generational ranch traditional                                                       1\n",
              "condo town contemporary modern loft traditional                                            1\n",
              "rustic spanish traditional                                                                 1\n",
              "single detached mediterranean spanish traditional                                          1\n",
              "designated historical single detached english french other see remarks traditional         1\n",
              "Name: propertyType, Length: 1065, dtype: int64"
            ]
          },
          "execution_count": 2530,
          "metadata": {},
          "output_type": "execute_result"
        }
      ],
      "source": [
        "df_train['propertyType'].value_counts()"
      ]
    },
    {
      "cell_type": "code",
      "execution_count": 2531,
      "metadata": {},
      "outputs": [
        {
          "data": {
            "text/plain": [
              "single family                1994\n",
              "condo                         157\n",
              "apartment                     124\n",
              "multi family                   48\n",
              "townhouse                      48\n",
              "singlefamilyresidence          41\n",
              "lot land                       20\n",
              "mobile manufactured            15\n",
              "multiple occupancy             13\n",
              "miscellaneous                   8\n",
              "cooperative                     2\n",
              "apartment condo townhouse       2\n",
              "traditional                     1\n",
              "coop                            1\n",
              "contemporary                    1\n",
              "other                           1\n",
              "unknown                         1\n",
              "colonial                        1\n",
              "land                            1\n",
              "mfd mobile                      1\n",
              "federal                         1\n",
              "Name: propertyType, dtype: int64"
            ]
          },
          "execution_count": 2531,
          "metadata": {},
          "output_type": "execute_result"
        }
      ],
      "source": [
        "df_test['propertyType'].value_counts()"
      ]
    },
    {
      "cell_type": "code",
      "execution_count": 2532,
      "metadata": {},
      "outputs": [
        {
          "data": {
            "text/plain": [
              "apartment condo townhouse    2\n",
              "Name: propertyType, dtype: int64"
            ]
          },
          "execution_count": 2532,
          "metadata": {},
          "output_type": "execute_result"
        }
      ],
      "source": [
        "unique_train_type = df_train['propertyType'].unique()\r\n",
        "\r\n",
        "df_test[~df_test['propertyType'].isin(unique_train_type)]['propertyType'].value_counts()"
      ]
    },
    {
      "cell_type": "code",
      "execution_count": 2533,
      "metadata": {},
      "outputs": [],
      "source": [
        "# Так как количетсво этих значений мало, заменим на аналогичное из теста\r\n",
        "\r\n",
        "df_test.loc[df_test['propertyType'] == 'apartment condo townhouse', 'propertyType'] = 'apartment'"
      ]
    },
    {
      "cell_type": "code",
      "execution_count": 2534,
      "metadata": {},
      "outputs": [],
      "source": [
        "unique_type = df_test['propertyType'].unique()\r\n",
        "\r\n",
        "# Удалим строки из трейна, где нет значений из теста\r\n",
        "df_train = df_train[df_train['propertyType'].isin(unique_type)]"
      ]
    },
    {
      "cell_type": "code",
      "execution_count": 2535,
      "metadata": {},
      "outputs": [
        {
          "data": {
            "image/png": "[encoded data removed]",
            "text/plain": [
              "<Figure size 1440x360 with 1 Axes>"
            ]
          },
          "metadata": {
            "needs_background": "light"
          },
          "output_type": "display_data"
        },
        {
          "data": {
            "image/png": "[encoded data removed]",
            "text/plain": [
              "<Figure size 1440x360 with 1 Axes>"
            ]
          },
          "metadata": {
            "needs_background": "light"
          },
          "output_type": "display_data"
        }
      ],
      "source": [
        "# Посмотрим как распределены значения в трейне и тесте\r\n",
        "plt.figure(figsize=(20, 5))\r\n",
        "sns.countplot(x=\"propertyType\", data=df_train, order = df_train['propertyType'].value_counts().index)\r\n",
        "plt.xticks(rotation=45)\r\n",
        "plt.show()\r\n",
        "\r\n",
        "\r\n",
        "plt.figure(figsize=(20, 5))\r\n",
        "sns.countplot(x=\"propertyType\", data=df_test, order = df_test['propertyType'].value_counts().index)\r\n",
        "plt.xticks(rotation=45)\r\n",
        "plt.show()"
      ]
    },
    {
      "cell_type": "code",
      "execution_count": 2536,
      "metadata": {},
      "outputs": [],
      "source": [
        "# В дальнейшем можно будет упростить значения, чтобы не было такого разброса"
      ]
    },
    {
      "cell_type": "code",
      "execution_count": 2537,
      "metadata": {},
      "outputs": [
        {
          "data": {
            "text/plain": [
              "san antonio         17019\n",
              "houston             13777\n",
              "chicago              6470\n",
              "las vegas            5841\n",
              "miami                5812\n",
              "                    ...  \n",
              "dearborn heights        1\n",
              "jonesville              1\n",
              "neponsit                1\n",
              "virginia gardens        1\n",
              "hindman                 1\n",
              "Name: city, Length: 1576, dtype: int64"
            ]
          },
          "execution_count": 2537,
          "metadata": {},
          "output_type": "execute_result"
        }
      ],
      "source": [
        "df_train['city'].value_counts()"
      ]
    },
    {
      "cell_type": "code",
      "execution_count": 2538,
      "metadata": {},
      "outputs": [
        {
          "data": {
            "text/plain": [
              "san antonio            134\n",
              "tampa                  125\n",
              "jacksonville           123\n",
              "miami                  113\n",
              "washington              89\n",
              "                      ... \n",
              "northridge               1\n",
              "salineville              1\n",
              "howard beach             1\n",
              "south richmond hill      1\n",
              "middleburg heights       1\n",
              "Name: city, Length: 353, dtype: int64"
            ]
          },
          "execution_count": 2538,
          "metadata": {},
          "output_type": "execute_result"
        }
      ],
      "source": [
        "df_test['city'].value_counts()"
      ]
    },
    {
      "cell_type": "code",
      "execution_count": 2539,
      "metadata": {},
      "outputs": [
        {
          "data": {
            "text/plain": [
              "china             1\n",
              "blythe            1\n",
              "unincorporated    1\n",
              "sweetwater        1\n",
              "sisters           1\n",
              "salineville       1\n",
              "Name: city, dtype: int64"
            ]
          },
          "execution_count": 2539,
          "metadata": {},
          "output_type": "execute_result"
        }
      ],
      "source": [
        "unique_train_city = df_train['city'].unique()\r\n",
        "\r\n",
        "df_test[~df_test['city'].isin(unique_train_city)]['city'].value_counts()"
      ]
    },
    {
      "cell_type": "code",
      "execution_count": 2540,
      "metadata": {},
      "outputs": [],
      "source": [
        "# Так как мало значений, заменим их всех на other, которое уже присутствует\r\n",
        "\r\n",
        "df_test.loc[~df_test['city'].isin(unique_train_city),'city'] = 'other'"
      ]
    },
    {
      "cell_type": "code",
      "execution_count": 2541,
      "metadata": {},
      "outputs": [],
      "source": [
        "# Удалим из трейна строки, где значений нет в тесте\r\n",
        "\r\n",
        "unique_city = df_test['city'].unique()\r\n",
        "\r\n",
        "df_train = df_train[df_train['city'].isin(unique_city)]"
      ]
    },
    {
      "cell_type": "code",
      "execution_count": 2542,
      "metadata": {},
      "outputs": [],
      "source": [
        "# Нужно беднт сократить количество уникальных значений, их все равно слишком много!"
      ]
    },
    {
      "cell_type": "code",
      "execution_count": 2543,
      "metadata": {},
      "outputs": [
        {
          "data": {
            "text/plain": [
              "32137    1936\n",
              "32164    1071\n",
              "33131     851\n",
              "77845     837\n",
              "34746     787\n",
              "         ... \n",
              "79942       1\n",
              "91405       1\n",
              "22039       1\n",
              "43150       1\n",
              "90742       1\n",
              "Name: zipcode, Length: 2895, dtype: int64"
            ]
          },
          "execution_count": 2543,
          "metadata": {},
          "output_type": "execute_result"
        }
      ],
      "source": [
        "df_train['zipcode'].value_counts()"
      ]
    },
    {
      "cell_type": "code",
      "execution_count": 2544,
      "metadata": {},
      "outputs": [
        {
          "data": {
            "text/plain": [
              "20019    22\n",
              "33647    20\n",
              "11201    19\n",
              "32209    18\n",
              "33712    17\n",
              "         ..\n",
              "94703     1\n",
              "43610     1\n",
              "44105     1\n",
              "60633     1\n",
              "76549     1\n",
              "Name: zipcode, Length: 1163, dtype: int64"
            ]
          },
          "execution_count": 2544,
          "metadata": {},
          "output_type": "execute_result"
        }
      ],
      "source": [
        "df_test['zipcode'].value_counts()"
      ]
    },
    {
      "cell_type": "code",
      "execution_count": 2554,
      "metadata": {},
      "outputs": [],
      "source": [
        "# Так как количество уникальных значений слишком много, разделим из согласно правилу 3-2\r\n",
        "\r\n",
        "df_train.loc[:,'zip_f'] = df_train['zipcode'].apply(lambda x: str(x)[:3])\r\n",
        "df_test.loc[:,'zip_f'] = df_test['zipcode'].apply(lambda x: str(x)[:3])\r\n",
        "\r\n",
        "df_train.loc[:,'zip_s'] = df_train['zipcode'].apply(lambda x: str(x)[3:])\r\n",
        "df_test.loc[:,'zip_s'] = df_test['zipcode'].apply(lambda x: str(x)[3:])\r\n"
      ]
    },
    {
      "cell_type": "code",
      "execution_count": 2559,
      "metadata": {},
      "outputs": [],
      "source": [
        "# Удалим те строки в трейне, которых нет в тесте\r\n",
        "\r\n",
        "unique_zipf = df_test['zip_f'].unique()\r\n",
        "unique_zips = df_test['zip_s'].unique()\r\n",
        "\r\n",
        "df_train = df_train[df_train['zip_f'].isin(unique_zipf)]\r\n",
        "df_train = df_train[df_train['zip_s'].isin(unique_zips)]\r\n"
      ]
    },
    {
      "cell_type": "code",
      "execution_count": 2560,
      "metadata": {},
      "outputs": [],
      "source": [
        "# Нужно будет сократить количество уникальных значений, их сильно много\r\n",
        "\r\n",
        "# Ввести новые признаки в датафрейм"
      ]
    },
    {
      "cell_type": "code",
      "execution_count": 2568,
      "metadata": {},
      "outputs": [
        {
          "data": {
            "text/plain": [
              "FL    56290\n",
              "TX    45356\n",
              "CA    15717\n",
              "NY    13965\n",
              "NC    13210\n",
              "TN    11066\n",
              "WA     8358\n",
              "NV     7690\n",
              "IL     7091\n",
              "OH     6644\n",
              "GA     5386\n",
              "PA     4727\n",
              "CO     3448\n",
              "MI     3399\n",
              "DC     2854\n",
              "IN     2848\n",
              "OR     2281\n",
              "MO      718\n",
              "MA      651\n",
              "UT      503\n",
              "MD      128\n",
              "VT      106\n",
              "VA       87\n",
              "ME       42\n",
              "Name: state, dtype: int64"
            ]
          },
          "execution_count": 2568,
          "metadata": {},
          "output_type": "execute_result"
        }
      ],
      "source": [
        "df_train['state'].value_counts()"
      ]
    },
    {
      "cell_type": "code",
      "execution_count": 2562,
      "metadata": {},
      "outputs": [
        {
          "data": {
            "text/plain": [
              "FL    782\n",
              "TX    428\n",
              "CA    178\n",
              "OH    156\n",
              "NY    140\n",
              "TN    109\n",
              "DC     89\n",
              "IL     87\n",
              "WA     87\n",
              "NC     76\n",
              "GA     64\n",
              "NV     61\n",
              "PA     51\n",
              "MI     35\n",
              "IN     34\n",
              "MO     34\n",
              "CO     27\n",
              "MA     18\n",
              "OR     11\n",
              "MD      4\n",
              "VT      4\n",
              "UT      4\n",
              "VA      1\n",
              "ME      1\n",
              "Name: state, dtype: int64"
            ]
          },
          "execution_count": 2562,
          "metadata": {},
          "output_type": "execute_result"
        }
      ],
      "source": [
        "df_test['state'].value_counts()"
      ]
    },
    {
      "cell_type": "code",
      "execution_count": 2566,
      "metadata": {},
      "outputs": [
        {
          "data": {
            "text/plain": [
              "Series([], Name: state, dtype: int64)"
            ]
          },
          "execution_count": 2566,
          "metadata": {},
          "output_type": "execute_result"
        }
      ],
      "source": [
        "# Посмотрим каких значений теста нет в трейне\r\n",
        "\r\n",
        "unique_train_state = df_train['state'].unique()\r\n",
        "\r\n",
        "df_test[~df_test['state'].isin(unique_train_state)]['state'].value_counts()"
      ]
    },
    {
      "cell_type": "code",
      "execution_count": 2567,
      "metadata": {},
      "outputs": [],
      "source": [
        "# Удалим те строки в трейне, которых нет в тесте\r\n",
        "\r\n",
        "unique_state = df_test['state'].unique()\r\n",
        "\r\n",
        "df_train = df_train[df_train['state'].isin(unique_state)]\r\n"
      ]
    },
    {
      "cell_type": "code",
      "execution_count": 2569,
      "metadata": {},
      "outputs": [
        {
          "data": {
            "text/plain": [
              "<matplotlib.axes._subplots.AxesSubplot at 0x1fad988b808>"
            ]
          },
          "execution_count": 2569,
          "metadata": {},
          "output_type": "execute_result"
        },
        {
          "data": {
            "image/png": "[encoded data removed]",
            "text/plain": [
              "<Figure size 432x288 with 1 Axes>"
            ]
          },
          "metadata": {
            "needs_background": "light"
          },
          "output_type": "display_data"
        }
      ],
      "source": [
        "# Теперь рассмотрим значимость категориальных переменных\r\n",
        "df_train_cat = df_train.copy()\r\n",
        "\r\n",
        "label_encoder = LabelEncoder()\r\n",
        "\r\n",
        "for feature in categorical_features:\r\n",
        "    df_train_cat[feature] = label_encoder.fit_transform(df_train_cat[feature])\r\n",
        "\r\n",
        "imp_cat = pd.Series(f_regression(df_train_cat[categorical_features], \r\n",
        "                              df_train_cat['target_log'])[0], index=categorical_features)\r\n",
        "\r\n",
        "imp_cat.sort_values(inplace = True)\r\n",
        "imp_cat.plot(kind = 'barh')"
      ]
    },
    {
      "cell_type": "code",
      "execution_count": 1308,
      "metadata": {},
      "outputs": [],
      "source": [
        "# Замечание: влияние кат переменных на target и target_log разное"
      ]
    },
    {
      "cell_type": "code",
      "execution_count": 1309,
      "metadata": {},
      "outputs": [],
      "source": [
        "# # Теперь рассмотрим значимость категориальных переменных\r\n",
        "\r\n",
        "# df_train_cat = df_train.copy()\r\n",
        "\r\n",
        "# # рассмотрим значимость переменных\r\n",
        "# label_encoder = LabelEncoder()\r\n",
        "\r\n",
        "# for feature in categorical_features:\r\n",
        "#     df_train_cat[feature] = label_encoder.fit_transform(df_train_cat[feature])\r\n",
        "\r\n",
        "# imp_cat = pd.Series(mutual_info_regression(df_train_cat[categorical_features], \r\n",
        "#                               df_train_cat['target_log']), index=numerical_features_new)\r\n",
        "# imp_cat.sort_values(inplace = True)\r\n",
        "# imp_cat.plot(kind = 'barh')"
      ]
    },
    {
      "cell_type": "markdown",
      "metadata": {},
      "source": [
        "Prepocess data"
      ]
    },
    {
      "cell_type": "code",
      "execution_count": 1341,
      "metadata": {},
      "outputs": [],
      "source": [
        "# features = categorical_features + numerical_features_new + ['target_log']\r\n",
        "# df_input = pd.concat([df_train[features], df_test[features]])\r\n",
        "\r\n",
        "# Удаляем признаки из numerical_features_new\r\n",
        "for x in ['sqft', 'dist_max', 'dist_min', 'rate_max', 'rate_min']:\r\n",
        "    numerical_features_new.remove(x)\r\n",
        "\r\n",
        "for x in ['rate_max', 'rate_min']:\r\n",
        "    categorical_features.append(x)\r\n",
        "    \r\n",
        "features = numerical_features_new + categorical_features + ['target_log']"
      ]
    },
    {
      "cell_type": "code",
      "execution_count": 1357,
      "metadata": {},
      "outputs": [],
      "source": [
        "# Мы знаем, что у трейна нет target=0, все эти данные в тесте, поэтому можем легко их оюъединить\r\n",
        "\r\n",
        "df_input = pd.concat([df_train[features], df_test[features]])"
      ]
    },
    {
      "cell_type": "code",
      "execution_count": 1359,
      "metadata": {},
      "outputs": [
        {
          "data": {
            "text/html": [
              "<div>\n",
              "<style scoped>\n",
              "    .dataframe tbody tr th:only-of-type {\n",
              "        vertical-align: middle;\n",
              "    }\n",
              "\n",
              "    .dataframe tbody tr th {\n",
              "        vertical-align: top;\n",
              "    }\n",
              "\n",
              "    .dataframe thead th {\n",
              "        text-align: right;\n",
              "    }\n",
              "</style>\n",
              "<table border=\"1\" class=\"dataframe\">\n",
              "  <thead>\n",
              "    <tr style=\"text-align: right;\">\n",
              "      <th></th>\n",
              "      <th>dist_max_log</th>\n",
              "      <th>dist_min_log</th>\n",
              "      <th>sqft_log</th>\n",
              "      <th>status</th>\n",
              "      <th>propertyType</th>\n",
              "      <th>city</th>\n",
              "      <th>zipcode</th>\n",
              "      <th>state</th>\n",
              "      <th>rate_max</th>\n",
              "      <th>rate_min</th>\n",
              "      <th>target_log</th>\n",
              "    </tr>\n",
              "  </thead>\n",
              "  <tbody>\n",
              "    <tr>\n",
              "      <th>376135</th>\n",
              "      <td>0.955511</td>\n",
              "      <td>0.262364</td>\n",
              "      <td>7.297768</td>\n",
              "      <td>active</td>\n",
              "      <td>single family</td>\n",
              "      <td>tacoma</td>\n",
              "      <td>98406</td>\n",
              "      <td>WA</td>\n",
              "      <td>7.0</td>\n",
              "      <td>4.0</td>\n",
              "      <td>13.016783</td>\n",
              "    </tr>\n",
              "    <tr>\n",
              "      <th>225462</th>\n",
              "      <td>1.822935</td>\n",
              "      <td>0.239017</td>\n",
              "      <td>7.274480</td>\n",
              "      <td>for sale</td>\n",
              "      <td>single family</td>\n",
              "      <td>san antonio</td>\n",
              "      <td>78253</td>\n",
              "      <td>TX</td>\n",
              "      <td>8.0</td>\n",
              "      <td>7.0</td>\n",
              "      <td>12.337105</td>\n",
              "    </tr>\n",
              "    <tr>\n",
              "      <th>106615</th>\n",
              "      <td>1.398717</td>\n",
              "      <td>0.774727</td>\n",
              "      <td>8.192294</td>\n",
              "      <td>for sale</td>\n",
              "      <td>single family</td>\n",
              "      <td>indianapolis</td>\n",
              "      <td>46237</td>\n",
              "      <td>IN</td>\n",
              "      <td>7.0</td>\n",
              "      <td>5.0</td>\n",
              "      <td>12.873648</td>\n",
              "    </tr>\n",
              "    <tr>\n",
              "      <th>282569</th>\n",
              "      <td>0.693147</td>\n",
              "      <td>0.262364</td>\n",
              "      <td>7.910957</td>\n",
              "      <td>for sale</td>\n",
              "      <td>single family</td>\n",
              "      <td>houston</td>\n",
              "      <td>77070</td>\n",
              "      <td>TX</td>\n",
              "      <td>7.0</td>\n",
              "      <td>6.0</td>\n",
              "      <td>12.345839</td>\n",
              "    </tr>\n",
              "    <tr>\n",
              "      <th>346078</th>\n",
              "      <td>3.212858</td>\n",
              "      <td>0.672944</td>\n",
              "      <td>7.042286</td>\n",
              "      <td>for sale</td>\n",
              "      <td>condo</td>\n",
              "      <td>miami</td>\n",
              "      <td>33137</td>\n",
              "      <td>FL</td>\n",
              "      <td>10.0</td>\n",
              "      <td>2.0</td>\n",
              "      <td>13.190024</td>\n",
              "    </tr>\n",
              "  </tbody>\n",
              "</table>\n",
              "</div>"
            ],
            "text/plain": [
              "        dist_max_log  dist_min_log  sqft_log    status   propertyType  \\\n",
              "376135      0.955511      0.262364  7.297768    active  single family   \n",
              "225462      1.822935      0.239017  7.274480  for sale  single family   \n",
              "106615      1.398717      0.774727  8.192294  for sale  single family   \n",
              "282569      0.693147      0.262364  7.910957  for sale  single family   \n",
              "346078      3.212858      0.672944  7.042286  for sale          condo   \n",
              "\n",
              "                city zipcode state  rate_max  rate_min  target_log  \n",
              "376135        tacoma   98406    WA       7.0       4.0   13.016783  \n",
              "225462   san antonio   78253    TX       8.0       7.0   12.337105  \n",
              "106615  indianapolis   46237    IN       7.0       5.0   12.873648  \n",
              "282569       houston   77070    TX       7.0       6.0   12.345839  \n",
              "346078         miami   33137    FL      10.0       2.0   13.190024  "
            ]
          },
          "execution_count": 1359,
          "metadata": {},
          "output_type": "execute_result"
        }
      ],
      "source": [
        "df_input.sample(5)"
      ]
    },
    {
      "cell_type": "markdown",
      "metadata": {},
      "source": [
        "df_preproc = preproc_data(data)"
      ]
    },
    {
      "cell_type": "code",
      "execution_count": 1360,
      "metadata": {},
      "outputs": [],
      "source": [
        "df_preproc = preproc_data(df_input, categorical_features)"
      ]
    },
    {
      "cell_type": "code",
      "execution_count": 1362,
      "metadata": {},
      "outputs": [
        {
          "data": {
            "text/plain": [
              "(292903, 7101)"
            ]
          },
          "execution_count": 1362,
          "metadata": {},
          "output_type": "execute_result"
        }
      ],
      "source": [
        "df_preproc.shape"
      ]
    },
    {
      "cell_type": "code",
      "execution_count": 1366,
      "metadata": {},
      "outputs": [],
      "source": [
        "# Мы видим, что при начальном количестве признаков, количество результирующих признаков слишком большое для теста\r\n",
        "# Поэтому мы сразу удалим лишние признаки из трейна\r\n",
        "# Возможно, потом удалим выбросы из трейна"
      ]
    },
    {
      "cell_type": "code",
      "execution_count": null,
      "metadata": {},
      "outputs": [],
      "source": []
    }
  ],
  "metadata": {
    "colab": {
      "collapsed_sections": [],
      "name": "diplom_4v.ipynb",
      "provenance": []
    },
    "interpreter": {
      "hash": "52af2c7ea9a7ea0478ac0dfe8c28871cf8fd889e43a3f69f8c62792d878281ed"
    },
    "kernelspec": {
      "display_name": "Python 3.7.4 64-bit ('base': conda)",
      "name": "python3"
    },
    "language_info": {
      "codemirror_mode": {
        "name": "ipython",
        "version": 3
      },
      "file_extension": ".py",
      "mimetype": "text/x-python",
      "name": "python",
      "nbconvert_exporter": "python",
      "pygments_lexer": "ipython3",
      "version": "3.7.4"
    }
  },
  "nbformat": 4,
  "nbformat_minor": 0
}