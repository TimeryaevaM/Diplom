{
  "cells": [
    {
      "cell_type": "code",
      "execution_count": 695,
      "metadata": {
        "id": "1w30m-Auk6Ki"
      },
      "outputs": [],
      "source": [
        "import pandas as pd\r\n",
        "import os\r\n",
        "import csv\r\n",
        "import numpy as np\r\n",
        "from matplotlib import pyplot as plt\r\n",
        "import seaborn as sns\r\n",
        "import catboost\r\n",
        "from numpy import percentile\r\n",
        "import string\r\n",
        "from sklearn.preprocessing import LabelEncoder\r\n",
        "from sklearn.feature_selection import mutual_info_classif\r\n",
        "from sklearn.feature_selection import mutual_info_regression\r\n",
        "from sklearn.feature_selection import f_regression\r\n",
        "from keras.preprocessing.text import Tokenizer\r\n",
        "from sklearn.preprocessing import StandardScaler\r\n",
        "from sklearn.preprocessing import MinMaxScaler\r\n",
        "from sklearn.model_selection import train_test_split\r\n",
        "from catboost import CatBoostRegressor\r\n",
        "from sklearn.ensemble import RandomForestRegressor"
      ]
    },
    {
      "cell_type": "code",
      "execution_count": 696,
      "metadata": {},
      "outputs": [],
      "source": [
        "RANDOM_SEED = 42"
      ]
    },
    {
      "cell_type": "code",
      "execution_count": 697,
      "metadata": {
        "id": "XNPVkS17kOtH"
      },
      "outputs": [],
      "source": [
        "def data_outlier(columns_list, df):\r\n",
        "\r\n",
        "    data_out = pd.DataFrame(data = {'name': [], 'count': [], 'min': [], 'mean': [], 'max': [], \r\n",
        "                                    'low_range': [], 'upper_range': [], 'out_count': []\r\n",
        "                                   })\r\n",
        "    for column_name in columns_list:\r\n",
        "        perc25 = percentile(df[column_name], 25)\r\n",
        "        perc75 = percentile(df[column_name], 75)\r\n",
        "        iqr = perc75 - perc25\r\n",
        "        low_range = perc25 - 1.5 * iqr\r\n",
        "        upper_range = perc75 + 1.5 * iqr\r\n",
        "        out_count = df[column_name].apply(\r\n",
        "            lambda x: None if x < low_range or x > upper_range else x).isna().sum()\r\n",
        "        \r\n",
        "        to_append = [column_name, df[column_name].count(), round(df[column_name].min(), 2), \r\n",
        "                     round(df[column_name].mean(), 2), round(df[column_name].max(), 2), \r\n",
        "                     round(low_range, 2), round(upper_range, 2), out_count]\r\n",
        "        data_out_length = len(data_out)\r\n",
        "        data_out.loc[data_out_length] = to_append\r\n",
        "    \r\n",
        "    data_out = data_out.set_index('name')\r\n",
        "        \r\n",
        "    return data_out"
      ]
    },
    {
      "cell_type": "code",
      "execution_count": 698,
      "metadata": {
        "id": "papRkjlMmoqw"
      },
      "outputs": [],
      "source": [
        "# Рассмотрим как распределены числовые признаки в трейне\n",
        "\n",
        "def train_hist_plot(column_name, df_train):\n",
        "    fig, ax = plt.subplots(1, 2, figsize=(10, 5))\n",
        "\n",
        "    new_series_log = np.log(df_train[column_name] + 1)\n",
        "\n",
        "    ax[0].hist(df_train[column_name], rwidth=0.9, alpha=0.7, bins=15)\n",
        "    ax[0].set_title(column_name)\n",
        "\n",
        "    ax[1].hist(new_series_log, rwidth=0.9, alpha=0.7, bins=15)\n",
        "    ax[1].set_title('log of ' + column_name)\n",
        "\n",
        "    plt.show()\n",
        "    \n",
        "def test_hist_plot(column_name, df_test):\n",
        "    fig, ax = plt.subplots(1, 2, figsize=(10, 5))\n",
        "\n",
        "    new_series_log = np.log(df_test[column_name] + 1)\n",
        "\n",
        "    ax[0].hist(df_test[column_name], rwidth=0.9, alpha=0.7, bins=15)\n",
        "    ax[0].set_title(column_name)\n",
        "\n",
        "    ax[1].hist(new_series_log, rwidth=0.9, alpha=0.7, bins=15)\n",
        "    ax[1].set_title('log of ' + column_name)\n",
        "\n",
        "    plt.show()"
      ]
    },
    {
      "cell_type": "code",
      "execution_count": 699,
      "metadata": {},
      "outputs": [],
      "source": [
        "def mape(y_true, y_pred):\r\n",
        "    return np.mean(np.abs((y_pred-y_true)/y_true))"
      ]
    },
    {
      "cell_type": "code",
      "execution_count": 700,
      "metadata": {},
      "outputs": [],
      "source": [
        "def preproc_data(df_input, num_features, cat_features):\r\n",
        "    '''includes several functions to pre-process the predictor data.'''\r\n",
        "    \r\n",
        "    df_output = df_input.copy()\r\n",
        "    \r\n",
        "    ################### Numerical Features ##############################################################\r\n",
        "\r\n",
        "    scaler = MinMaxScaler()\r\n",
        "    \r\n",
        "    for feature in num_features:\r\n",
        "         df_output[feature] = scaler.fit_transform(df_output[feature].values.reshape(-1, 1))\r\n",
        "\r\n",
        "\r\n",
        "    ################### Categorical Features ##############################################################\r\n",
        "\r\n",
        "    for column in cat_features:\r\n",
        "         df_output[column] = df_output[column].astype('category').cat.codes\r\n",
        "        \r\n",
        "    # One-Hot Encoding: в pandas есть готовая функция - get_dummies.\r\n",
        "    df_output = pd.get_dummies(df_output, columns=cat_features, dummy_na=False)\r\n",
        "\r\n",
        "    return df_output\r\n",
        "\r\n"
      ]
    },
    {
      "cell_type": "code",
      "execution_count": 701,
      "metadata": {
        "id": "MhmxFpvSlJYX"
      },
      "outputs": [],
      "source": [
        "df = pd.read_csv(\"data_new.csv\")"
      ]
    },
    {
      "cell_type": "code",
      "execution_count": 702,
      "metadata": {
        "colab": {
          "base_uri": "https://localhost:8080/",
          "height": 391
        },
        "id": "mLaEOsPh-cZe",
        "outputId": "46f3c1dd-f9b5-48f0-dfa2-7e966733ebd2"
      },
      "outputs": [
        {
          "data": {
            "text/html": [
              "<div>\n",
              "<style scoped>\n",
              "    .dataframe tbody tr th:only-of-type {\n",
              "        vertical-align: middle;\n",
              "    }\n",
              "\n",
              "    .dataframe tbody tr th {\n",
              "        vertical-align: top;\n",
              "    }\n",
              "\n",
              "    .dataframe thead th {\n",
              "        text-align: right;\n",
              "    }\n",
              "</style>\n",
              "<table border=\"1\" class=\"dataframe\">\n",
              "  <thead>\n",
              "    <tr style=\"text-align: right;\">\n",
              "      <th></th>\n",
              "      <th>status</th>\n",
              "      <th>private pool</th>\n",
              "      <th>propertyType</th>\n",
              "      <th>street</th>\n",
              "      <th>baths</th>\n",
              "      <th>homeFacts</th>\n",
              "      <th>fireplace</th>\n",
              "      <th>city</th>\n",
              "      <th>schools</th>\n",
              "      <th>sqft</th>\n",
              "      <th>zipcode</th>\n",
              "      <th>beds</th>\n",
              "      <th>state</th>\n",
              "      <th>stories</th>\n",
              "      <th>mls-id</th>\n",
              "      <th>PrivatePool</th>\n",
              "      <th>MlsId</th>\n",
              "      <th>target</th>\n",
              "    </tr>\n",
              "  </thead>\n",
              "  <tbody>\n",
              "    <tr>\n",
              "      <th>0</th>\n",
              "      <td>Active</td>\n",
              "      <td>NaN</td>\n",
              "      <td>Single Family Home</td>\n",
              "      <td>240 Heather Ln</td>\n",
              "      <td>3.5</td>\n",
              "      <td>{'atAGlanceFacts': [{'factValue': '2019', 'fac...</td>\n",
              "      <td>Gas Logs</td>\n",
              "      <td>Southern Pines</td>\n",
              "      <td>[{'rating': ['4', '4', '7', 'NR', '4', '7', 'N...</td>\n",
              "      <td>2900</td>\n",
              "      <td>28387</td>\n",
              "      <td>4</td>\n",
              "      <td>NC</td>\n",
              "      <td>NaN</td>\n",
              "      <td>NaN</td>\n",
              "      <td>NaN</td>\n",
              "      <td>611019</td>\n",
              "      <td>$418,000</td>\n",
              "    </tr>\n",
              "    <tr>\n",
              "      <th>1</th>\n",
              "      <td>for sale</td>\n",
              "      <td>NaN</td>\n",
              "      <td>single-family home</td>\n",
              "      <td>12911 E Heroy Ave</td>\n",
              "      <td>3 Baths</td>\n",
              "      <td>{'atAGlanceFacts': [{'factValue': '2019', 'fac...</td>\n",
              "      <td>NaN</td>\n",
              "      <td>Spokane Valley</td>\n",
              "      <td>[{'rating': ['4/10', 'None/10', '4/10'], 'data...</td>\n",
              "      <td>1,947 sqft</td>\n",
              "      <td>99216</td>\n",
              "      <td>3 Beds</td>\n",
              "      <td>WA</td>\n",
              "      <td>2.0</td>\n",
              "      <td>NaN</td>\n",
              "      <td>NaN</td>\n",
              "      <td>201916904</td>\n",
              "      <td>$310,000</td>\n",
              "    </tr>\n",
              "    <tr>\n",
              "      <th>2</th>\n",
              "      <td>for sale</td>\n",
              "      <td>NaN</td>\n",
              "      <td>single-family home</td>\n",
              "      <td>2005 Westridge Rd</td>\n",
              "      <td>2 Baths</td>\n",
              "      <td>{'atAGlanceFacts': [{'factValue': '1961', 'fac...</td>\n",
              "      <td>yes</td>\n",
              "      <td>Los Angeles</td>\n",
              "      <td>[{'rating': ['8/10', '4/10', '8/10'], 'data': ...</td>\n",
              "      <td>3,000 sqft</td>\n",
              "      <td>90049</td>\n",
              "      <td>3 Beds</td>\n",
              "      <td>CA</td>\n",
              "      <td>1.0</td>\n",
              "      <td>NaN</td>\n",
              "      <td>yes</td>\n",
              "      <td>FR19221027</td>\n",
              "      <td>$2,895,000</td>\n",
              "    </tr>\n",
              "    <tr>\n",
              "      <th>3</th>\n",
              "      <td>for sale</td>\n",
              "      <td>NaN</td>\n",
              "      <td>single-family home</td>\n",
              "      <td>4311 Livingston Ave</td>\n",
              "      <td>8 Baths</td>\n",
              "      <td>{'atAGlanceFacts': [{'factValue': '2006', 'fac...</td>\n",
              "      <td>yes</td>\n",
              "      <td>Dallas</td>\n",
              "      <td>[{'rating': ['9/10', '9/10', '10/10', '9/10'],...</td>\n",
              "      <td>6,457 sqft</td>\n",
              "      <td>75205</td>\n",
              "      <td>5 Beds</td>\n",
              "      <td>TX</td>\n",
              "      <td>3.0</td>\n",
              "      <td>NaN</td>\n",
              "      <td>NaN</td>\n",
              "      <td>14191809</td>\n",
              "      <td>$2,395,000</td>\n",
              "    </tr>\n",
              "    <tr>\n",
              "      <th>4</th>\n",
              "      <td>for sale</td>\n",
              "      <td>NaN</td>\n",
              "      <td>lot/land</td>\n",
              "      <td>1524 Kiscoe St</td>\n",
              "      <td>NaN</td>\n",
              "      <td>{'atAGlanceFacts': [{'factValue': '', 'factLab...</td>\n",
              "      <td>NaN</td>\n",
              "      <td>Palm Bay</td>\n",
              "      <td>[{'rating': ['4/10', '5/10', '5/10'], 'data': ...</td>\n",
              "      <td>NaN</td>\n",
              "      <td>32908</td>\n",
              "      <td>NaN</td>\n",
              "      <td>FL</td>\n",
              "      <td>NaN</td>\n",
              "      <td>NaN</td>\n",
              "      <td>NaN</td>\n",
              "      <td>861745</td>\n",
              "      <td>$5,000</td>\n",
              "    </tr>\n",
              "  </tbody>\n",
              "</table>\n",
              "</div>"
            ],
            "text/plain": [
              "     status private pool        propertyType               street    baths  \\\n",
              "0    Active          NaN  Single Family Home       240 Heather Ln      3.5   \n",
              "1  for sale          NaN  single-family home    12911 E Heroy Ave  3 Baths   \n",
              "2  for sale          NaN  single-family home    2005 Westridge Rd  2 Baths   \n",
              "3  for sale          NaN  single-family home  4311 Livingston Ave  8 Baths   \n",
              "4  for sale          NaN            lot/land       1524 Kiscoe St      NaN   \n",
              "\n",
              "                                           homeFacts fireplace  \\\n",
              "0  {'atAGlanceFacts': [{'factValue': '2019', 'fac...  Gas Logs   \n",
              "1  {'atAGlanceFacts': [{'factValue': '2019', 'fac...       NaN   \n",
              "2  {'atAGlanceFacts': [{'factValue': '1961', 'fac...       yes   \n",
              "3  {'atAGlanceFacts': [{'factValue': '2006', 'fac...       yes   \n",
              "4  {'atAGlanceFacts': [{'factValue': '', 'factLab...       NaN   \n",
              "\n",
              "             city                                            schools  \\\n",
              "0  Southern Pines  [{'rating': ['4', '4', '7', 'NR', '4', '7', 'N...   \n",
              "1  Spokane Valley  [{'rating': ['4/10', 'None/10', '4/10'], 'data...   \n",
              "2     Los Angeles  [{'rating': ['8/10', '4/10', '8/10'], 'data': ...   \n",
              "3          Dallas  [{'rating': ['9/10', '9/10', '10/10', '9/10'],...   \n",
              "4        Palm Bay  [{'rating': ['4/10', '5/10', '5/10'], 'data': ...   \n",
              "\n",
              "         sqft zipcode    beds state stories mls-id PrivatePool       MlsId  \\\n",
              "0        2900   28387       4    NC     NaN    NaN         NaN      611019   \n",
              "1  1,947 sqft   99216  3 Beds    WA     2.0    NaN         NaN   201916904   \n",
              "2  3,000 sqft   90049  3 Beds    CA     1.0    NaN         yes  FR19221027   \n",
              "3  6,457 sqft   75205  5 Beds    TX     3.0    NaN         NaN    14191809   \n",
              "4         NaN   32908     NaN    FL     NaN    NaN         NaN      861745   \n",
              "\n",
              "       target  \n",
              "0    $418,000  \n",
              "1    $310,000  \n",
              "2  $2,895,000  \n",
              "3  $2,395,000  \n",
              "4      $5,000  "
            ]
          },
          "execution_count": 702,
          "metadata": {},
          "output_type": "execute_result"
        }
      ],
      "source": [
        "df.head()"
      ]
    },
    {
      "cell_type": "code",
      "execution_count": 703,
      "metadata": {
        "colab": {
          "base_uri": "https://localhost:8080/"
        },
        "id": "KO0u_3EW-okk",
        "outputId": "72fc7841-9d8a-4a8b-fa7e-f904830c0f53"
      },
      "outputs": [
        {
          "data": {
            "text/plain": [
              "(377185, 18)"
            ]
          },
          "execution_count": 703,
          "metadata": {},
          "output_type": "execute_result"
        }
      ],
      "source": [
        "df.shape"
      ]
    },
    {
      "cell_type": "code",
      "execution_count": 704,
      "metadata": {
        "colab": {
          "base_uri": "https://localhost:8080/"
        },
        "id": "Egyx7KRmlMc9",
        "outputId": "17bf8991-5dac-4132-cb05-48ee82b5e45e"
      },
      "outputs": [
        {
          "data": {
            "text/plain": [
              "(2481, 18)"
            ]
          },
          "execution_count": 704,
          "metadata": {},
          "output_type": "execute_result"
        }
      ],
      "source": [
        "df[df['target'].isna()].shape"
      ]
    },
    {
      "cell_type": "code",
      "execution_count": 705,
      "metadata": {
        "colab": {
          "base_uri": "https://localhost:8080/"
        },
        "id": "nP1wSjr_vQfi",
        "outputId": "8a105b2e-4d8b-4d4a-d9a0-8351a11d466a"
      },
      "outputs": [
        {
          "name": "stdout",
          "output_type": "stream",
          "text": [
            "<class 'pandas.core.frame.DataFrame'>\n",
            "RangeIndex: 377185 entries, 0 to 377184\n",
            "Data columns (total 18 columns):\n",
            " #   Column        Non-Null Count   Dtype \n",
            "---  ------        --------------   ----- \n",
            " 0   status        337267 non-null  object\n",
            " 1   private pool  4181 non-null    object\n",
            " 2   propertyType  342452 non-null  object\n",
            " 3   street        377183 non-null  object\n",
            " 4   baths         270847 non-null  object\n",
            " 5   homeFacts     377185 non-null  object\n",
            " 6   fireplace     103115 non-null  object\n",
            " 7   city          377151 non-null  object\n",
            " 8   schools       377185 non-null  object\n",
            " 9   sqft          336608 non-null  object\n",
            " 10  zipcode       377185 non-null  object\n",
            " 11  beds          285903 non-null  object\n",
            " 12  state         377185 non-null  object\n",
            " 13  stories       226470 non-null  object\n",
            " 14  mls-id        24942 non-null   object\n",
            " 15  PrivatePool   40311 non-null   object\n",
            " 16  MlsId         310305 non-null  object\n",
            " 17  target        374704 non-null  object\n",
            "dtypes: object(18)\n",
            "memory usage: 51.8+ MB\n"
          ]
        }
      ],
      "source": [
        "df.info()"
      ]
    },
    {
      "cell_type": "code",
      "execution_count": 706,
      "metadata": {
        "colab": {
          "base_uri": "https://localhost:8080/"
        },
        "id": "DmT4P5r82xb5",
        "outputId": "168e5fc5-14c1-4c09-c71a-2f899b1a17e7"
      },
      "outputs": [
        {
          "name": "stdout",
          "output_type": "stream",
          "text": [
            "Percent NULL values\n",
            "\n"
          ]
        },
        {
          "data": {
            "text/plain": [
              "status          10.5831\n",
              "private pool    98.8915\n",
              "propertyType     9.2085\n",
              "street           0.0005\n",
              "baths           28.1925\n",
              "homeFacts        0.0000\n",
              "fireplace       72.6620\n",
              "city             0.0090\n",
              "schools          0.0000\n",
              "sqft            10.7579\n",
              "zipcode          0.0000\n",
              "beds            24.2009\n",
              "state            0.0000\n",
              "stories         39.9578\n",
              "mls-id          93.3873\n",
              "PrivatePool     89.3127\n",
              "MlsId           17.7314\n",
              "target           0.6578\n",
              "dtype: float64"
            ]
          },
          "execution_count": 706,
          "metadata": {},
          "output_type": "execute_result"
        }
      ],
      "source": [
        "print(\"Percent NULL values\\n\")\r\n",
        "round(df.isna().sum() / df.shape[0] * 100, 4)"
      ]
    },
    {
      "cell_type": "markdown",
      "metadata": {
        "id": "4SsjYfyy3ecP"
      },
      "source": [
        "Удаляем столбцы, где процент NULL значений больше 40%"
      ]
    },
    {
      "cell_type": "code",
      "execution_count": 707,
      "metadata": {
        "id": "11b4aa6dK7q2"
      },
      "outputs": [],
      "source": [
        "df.drop(['private pool', 'fireplace', 'mls-id', 'PrivatePool'], axis=1, inplace=True)"
      ]
    },
    {
      "cell_type": "code",
      "execution_count": 708,
      "metadata": {
        "colab": {
          "base_uri": "https://localhost:8080/"
        },
        "id": "HlT7wWfZ39we",
        "outputId": "9841e043-0e34-41fa-c685-199d4f1eda6d"
      },
      "outputs": [
        {
          "data": {
            "text/plain": [
              "status             159\n",
              "propertyType      1280\n",
              "street          337076\n",
              "baths              229\n",
              "homeFacts       321009\n",
              "city              2026\n",
              "schools         297365\n",
              "sqft             25405\n",
              "zipcode           4549\n",
              "beds              1184\n",
              "state               39\n",
              "stories            348\n",
              "MlsId           232944\n",
              "target           43939\n",
              "dtype: int64"
            ]
          },
          "execution_count": 708,
          "metadata": {},
          "output_type": "execute_result"
        }
      ],
      "source": [
        "df.nunique()"
      ]
    },
    {
      "cell_type": "markdown",
      "metadata": {
        "id": "jHEzEYMH1LyF"
      },
      "source": [
        "status"
      ]
    },
    {
      "cell_type": "code",
      "execution_count": 709,
      "metadata": {
        "id": "2n1c-t7p4C-0"
      },
      "outputs": [],
      "source": [
        "df['status'] = df['status'].str.lower()"
      ]
    },
    {
      "cell_type": "code",
      "execution_count": 710,
      "metadata": {
        "colab": {
          "base_uri": "https://localhost:8080/"
        },
        "id": "gjVBpAcj_hvK",
        "outputId": "39146b96-e870-4668-92e3-738b8efd0ae6"
      },
      "outputs": [
        {
          "data": {
            "text/plain": [
              "for sale                                199571\n",
              "active                                  105207\n",
              "NaN                                      39918\n",
              "foreclosure                               6769\n",
              "new construction                          5475\n",
              "                                         ...  \n",
              "conting accpt backups                        1\n",
              "under contract w bckp                        1\n",
              "pending w escape clause                      1\n",
              "under contract taking back up offers         1\n",
              "reactivated                                  1\n",
              "Name: status, Length: 104, dtype: int64"
            ]
          },
          "execution_count": 710,
          "metadata": {},
          "output_type": "execute_result"
        }
      ],
      "source": [
        "df['status'] = df['status'].str.replace('[{}]'.format(string.punctuation), ' ').str.replace('[{}]'.format(string.digits), ' ').apply(lambda x: \" \".join(str(x).split()))\r\n",
        "df['status'] = df['status'].apply(lambda x: None if x is None else None if str(x) == 'nan' else x)\r\n",
        "df['status'].value_counts(dropna=False)"
      ]
    },
    {
      "cell_type": "code",
      "execution_count": 711,
      "metadata": {
        "colab": {
          "base_uri": "https://localhost:8080/"
        },
        "id": "JwQBiVTSibVQ",
        "outputId": "a40ab2b6-bc5d-4ea2-baa8-ba463903a204"
      },
      "outputs": [
        {
          "data": {
            "text/plain": [
              "103"
            ]
          },
          "execution_count": 711,
          "metadata": {},
          "output_type": "execute_result"
        }
      ],
      "source": [
        "df['status'].nunique()"
      ]
    },
    {
      "cell_type": "code",
      "execution_count": 712,
      "metadata": {},
      "outputs": [
        {
          "data": {
            "text/plain": [
              "39918"
            ]
          },
          "execution_count": 712,
          "metadata": {},
          "output_type": "execute_result"
        }
      ],
      "source": [
        "df['status'].isna().sum()"
      ]
    },
    {
      "cell_type": "markdown",
      "metadata": {
        "id": "Vfiig-gf1Ix2"
      },
      "source": [
        "propertyType "
      ]
    },
    {
      "cell_type": "code",
      "execution_count": 713,
      "metadata": {
        "colab": {
          "base_uri": "https://localhost:8080/"
        },
        "id": "R37PLl0L_8Lp",
        "outputId": "c616b1a3-b422-4535-b803-da779a675c6e"
      },
      "outputs": [
        {
          "data": {
            "text/plain": [
              "285800    Single Family Home\n",
              "206496              lot/land\n",
              "148666              Elevated\n",
              "39436     single-family home\n",
              "150071           Traditional\n",
              "199767    single-family home\n",
              "257986          multi-family\n",
              "327461    single-family home\n",
              "369134          multi-family\n",
              "114364                  Land\n",
              "Name: propertyType, dtype: object"
            ]
          },
          "execution_count": 713,
          "metadata": {},
          "output_type": "execute_result"
        }
      ],
      "source": [
        "df['propertyType'].sample(10)"
      ]
    },
    {
      "cell_type": "code",
      "execution_count": 714,
      "metadata": {
        "id": "2drMoTn31Sv0"
      },
      "outputs": [],
      "source": [
        "df['propertyType'] = df['propertyType'].str.lower()\n",
        "df['propertyType'] = df['propertyType'].str.replace('[{}]'.format(string.punctuation), ' ').apply(lambda x: \" \".join(str(x).split()))\n",
        "df['propertyType'] = df['propertyType'].str.replace('one', '1').str.replace('two', '2')"
      ]
    },
    {
      "cell_type": "code",
      "execution_count": 715,
      "metadata": {
        "colab": {
          "base_uri": "https://localhost:8080/"
        },
        "id": "6adUWZNnCEu4",
        "outputId": "d519d4d0-c584-43f5-cc44-bec4c5bf8928"
      },
      "outputs": [
        {
          "data": {
            "text/plain": [
              "contemporary modern           1010\n",
              "apartment                      922\n",
              "2 stories                      911\n",
              "mfd mobile home                792\n",
              "single detached                751\n",
              "detached 2 story               638\n",
              "2 story                        596\n",
              "transitional                   560\n",
              "cooperative                    535\n",
              "florida                        530\n",
              "bungalow                       442\n",
              "farms ranches                  371\n",
              "garden home                    305\n",
              "cape cod                       281\n",
              "2 stories traditional          280\n",
              "spanish mediterranean          272\n",
              "other style                    249\n",
              "1 story traditional            238\n",
              "other                          232\n",
              "condo townhome traditional     225\n",
              "Name: propertyType, dtype: int64"
            ]
          },
          "execution_count": 715,
          "metadata": {},
          "output_type": "execute_result"
        }
      ],
      "source": [
        "df['propertyType'].value_counts()[20:40]"
      ]
    },
    {
      "cell_type": "code",
      "execution_count": 716,
      "metadata": {
        "colab": {
          "base_uri": "https://localhost:8080/"
        },
        "id": "bUIKI--bHHOm",
        "outputId": "e8f80047-6671-4690-d846-f5553aad73ae"
      },
      "outputs": [
        {
          "data": {
            "text/plain": [
              "NaN          369527\n",
              "1 story        4440\n",
              "2 stories      1558\n",
              "2 story        1466\n",
              "3 stories       134\n",
              "8 stories        38\n",
              "7 stories        15\n",
              "3 story           6\n",
              "5 story           1\n",
              "Name: stories_dop, dtype: int64"
            ]
          },
          "execution_count": 716,
          "metadata": {},
          "output_type": "execute_result"
        }
      ],
      "source": [
        "df['stories_dop'] = df['propertyType'].str.findall(r'[a-z0-9]+ story|[a-z0-9]+ stories').apply(lambda x: None if len(x) == 0 else x[-1])\r\n",
        "\r\n",
        "df['stories_dop'].value_counts(dropna=False)"
      ]
    },
    {
      "cell_type": "code",
      "execution_count": 717,
      "metadata": {
        "id": "W1zAHyISN2sg"
      },
      "outputs": [],
      "source": [
        "set_story = set(df['stories_dop'].dropna())\n",
        "for y in set_story:\n",
        "  df['propertyType'] = df['propertyType'].str.replace(y, '')"
      ]
    },
    {
      "cell_type": "code",
      "execution_count": 718,
      "metadata": {
        "id": "VNsnUVuBX64m"
      },
      "outputs": [],
      "source": [
        "df['propertyType'] = df['propertyType'].str.replace('home', '')\r\n",
        "df['propertyType'] = df['propertyType'].apply(lambda x: None if x == '' else\r\n",
        "                                              None if str(x) == 'nan' else \r\n",
        "                                              None if str(x) == 'None' else \" \".join(str(x).split()))"
      ]
    },
    {
      "cell_type": "code",
      "execution_count": 719,
      "metadata": {
        "colab": {
          "base_uri": "https://localhost:8080/"
        },
        "id": "dZ-XFKT9XRqE",
        "outputId": "45deb220-8be4-4962-fa97-347f327eb0da"
      },
      "outputs": [
        {
          "data": {
            "text/plain": [
              "1112"
            ]
          },
          "execution_count": 719,
          "metadata": {},
          "output_type": "execute_result"
        }
      ],
      "source": [
        "df['propertyType'].nunique()"
      ]
    },
    {
      "cell_type": "code",
      "execution_count": 720,
      "metadata": {
        "colab": {
          "base_uri": "https://localhost:8080/"
        },
        "id": "lQ5CpxIXACrE",
        "outputId": "930f5ad6-12dc-4e08-e99f-41de4e179918"
      },
      "outputs": [
        {
          "data": {
            "text/plain": [
              "single family                                            186803\n",
              "condo                                                     42530\n",
              "NaN                                                       38211\n",
              "lot land                                                  20552\n",
              "townhouse                                                 18401\n",
              "                                                          ...  \n",
              "condominium 3 levels loft                                     1\n",
              "custom victorian                                              1\n",
              "dutch provincial                                              1\n",
              "less than 4 floors european mediterranean traditional         1\n",
              "contemporary modern mediterranean other style                 1\n",
              "Name: propertyType, Length: 1113, dtype: int64"
            ]
          },
          "execution_count": 720,
          "metadata": {},
          "output_type": "execute_result"
        }
      ],
      "source": [
        "df['propertyType'].value_counts(dropna=False)"
      ]
    },
    {
      "cell_type": "code",
      "execution_count": 721,
      "metadata": {},
      "outputs": [],
      "source": [
        "df['propertyType'] = df['propertyType'].str.replace(r'[0-9]+[a-z]+[0-9]+', '').str.strip()\r\n",
        "df['propertyType'] = df['propertyType'].str.replace(r'\\b[0-9]+\\b', '').str.strip()\r\n",
        "df['propertyType'] = df['propertyType'].str.replace(r'\\b[a-z]{2}\\b', '').str.strip()"
      ]
    },
    {
      "cell_type": "code",
      "execution_count": 722,
      "metadata": {},
      "outputs": [],
      "source": [
        "# Взять базовые значения\r\n",
        "\r\n",
        "df['propertyType'] = df['propertyType'].apply(lambda x: None if x is None else\r\n",
        "                                                        None if str(x) == '' else\r\n",
        "                                                        \" \".join(x.split()[:3]))"
      ]
    },
    {
      "cell_type": "markdown",
      "metadata": {
        "id": "dp5t10jcZCCK"
      },
      "source": [
        "street пока не рарабатываем, сделаем токенайзером"
      ]
    },
    {
      "cell_type": "markdown",
      "metadata": {
        "id": "x-vwUj9Tirgi"
      },
      "source": [
        "baths"
      ]
    },
    {
      "cell_type": "code",
      "execution_count": 723,
      "metadata": {
        "colab": {
          "base_uri": "https://localhost:8080/"
        },
        "id": "72-rA4zkcziq",
        "outputId": "de73b07f-ece1-43a5-d38e-c6474fa630ae"
      },
      "outputs": [
        {
          "data": {
            "text/plain": [
              "NaN           106338\n",
              "2 Baths        52466\n",
              "3 Baths        35506\n",
              "2              20452\n",
              "2.0            16576\n",
              "               ...  \n",
              "5.2 Baths          1\n",
              "4.75 Baths         1\n",
              "3.3 Baths          1\n",
              "14.5+              1\n",
              "25 Baths           1\n",
              "Name: baths, Length: 230, dtype: int64"
            ]
          },
          "execution_count": 723,
          "metadata": {},
          "output_type": "execute_result"
        }
      ],
      "source": [
        "df['baths'] = df['baths'].apply(lambda x: None if x is np.nan else x)\n",
        "df['baths'].value_counts(dropna=False)"
      ]
    },
    {
      "cell_type": "code",
      "execution_count": 724,
      "metadata": {
        "id": "jmhHX5o4iv-f"
      },
      "outputs": [],
      "source": [
        "punct = '~—\\-:'\r\n",
        "\r\n",
        "df['baths'] = df['baths'].str.lower().str.replace('[a-z]+\\.?', '').str.replace(',', '.').str.replace('[{}]'.format(punct), ' ')\r\n",
        "df['baths'] = df['baths'].apply(lambda x: None if str(x).strip() =='' else x)"
      ]
    },
    {
      "cell_type": "code",
      "execution_count": 725,
      "metadata": {
        "colab": {
          "base_uri": "https://localhost:8080/"
        },
        "id": "OM9QISiVi9Rp",
        "outputId": "ec808283-d9ce-4db1-d2bd-75e26b21a1be"
      },
      "outputs": [
        {
          "data": {
            "text/plain": [
              "NaN      107838\n",
              "2.00     103519\n",
              "3.00      66683\n",
              "4.00      26333\n",
              "1.00      17787\n",
              "          ...  \n",
              "43.00         1\n",
              "4.75          1\n",
              "60.00         1\n",
              "6.75          1\n",
              "42.00         1\n",
              "Name: baths, Length: 85, dtype: int64"
            ]
          },
          "execution_count": 725,
          "metadata": {},
          "output_type": "execute_result"
        }
      ],
      "source": [
        "df['baths'] = df['baths'].str.findall('[0-9]+\\.?[0-9]*')\r\n",
        "df['baths'] = df['baths'].apply(lambda x: None if x is None else x[0]).astype(float)\r\n",
        "\r\n",
        "df['baths'].value_counts(dropna=False)"
      ]
    },
    {
      "cell_type": "markdown",
      "metadata": {
        "id": "Z8H573yK-5Ra"
      },
      "source": [
        "city пока не будем разрабатывать, много уник значений, сделаем токенайзером"
      ]
    },
    {
      "cell_type": "markdown",
      "metadata": {
        "id": "T7pcOLqTWbxg"
      },
      "source": [
        "sqft"
      ]
    },
    {
      "cell_type": "code",
      "execution_count": 726,
      "metadata": {
        "colab": {
          "base_uri": "https://localhost:8080/"
        },
        "id": "RER3b6qMWJMn",
        "outputId": "50615b1c-ce01-4a8d-b2d2-e08d3650fc4a"
      },
      "outputs": [
        {
          "data": {
            "text/plain": [
              "NaN                                        40577\n",
              "0                                          11854\n",
              "1,200 sqft                                   839\n",
              "1,000 sqft                                   654\n",
              "1,100 sqft                                   573\n",
              "                                           ...  \n",
              "Total interior livable area: 5,620 sqft        1\n",
              "Total interior livable area: 4,330 sqft        1\n",
              "42,558 sqft                                    1\n",
              "Total interior livable area: 479 sqft          1\n",
              "15670                                          1\n",
              "Name: sqft, Length: 25406, dtype: int64"
            ]
          },
          "execution_count": 726,
          "metadata": {},
          "output_type": "execute_result"
        }
      ],
      "source": [
        "df['sqft'].value_counts(dropna=False)"
      ]
    },
    {
      "cell_type": "code",
      "execution_count": 727,
      "metadata": {
        "id": "GP4EeNuxWd-v"
      },
      "outputs": [],
      "source": [
        "df['sqft'] = df['sqft'].apply(lambda x: None if x is np.nan else \r\n",
        "                                        None if str(x) == '' else str(x))"
      ]
    },
    {
      "cell_type": "code",
      "execution_count": 728,
      "metadata": {},
      "outputs": [],
      "source": [
        "df['sqft'] = df['sqft'].str.replace(',', '')\r\n",
        "df['sqft'] = df['sqft'].str.findall('[0-9]+\\.?[0-9]*')\r\n",
        "df['sqft'] = df['sqft'].apply(lambda x: None if x is None else \r\n",
        "                                        None if len(x) == 0 else int(x[0]))"
      ]
    },
    {
      "cell_type": "code",
      "execution_count": 729,
      "metadata": {
        "colab": {
          "base_uri": "https://localhost:8080/"
        },
        "id": "NsuUp4aIXmZe",
        "outputId": "803ece23-8708-4b45-facf-7b74680c8031"
      },
      "outputs": [
        {
          "data": {
            "text/plain": [
              "NaN        41397\n",
              "0.0        11854\n",
              "1200.0      1426\n",
              "1000.0      1027\n",
              "1500.0      1014\n",
              "           ...  \n",
              "5883.0         1\n",
              "47044.0        1\n",
              "46998.0        1\n",
              "46996.0        1\n",
              "9964.0         1\n",
              "Name: sqft, Length: 9897, dtype: int64"
            ]
          },
          "execution_count": 729,
          "metadata": {},
          "output_type": "execute_result"
        }
      ],
      "source": [
        "df['sqft'].value_counts(dropna=False)"
      ]
    },
    {
      "cell_type": "markdown",
      "metadata": {
        "id": "QGaLQyherF6A"
      },
      "source": [
        "zipcode"
      ]
    },
    {
      "cell_type": "code",
      "execution_count": 730,
      "metadata": {
        "colab": {
          "base_uri": "https://localhost:8080/"
        },
        "id": "ebx3JkAsrA8G",
        "outputId": "dfc8ef42-80d0-4e5b-e93f-890a3ccdbe78"
      },
      "outputs": [
        {
          "data": {
            "text/plain": [
              "32137         2141\n",
              "33131         1563\n",
              "34747         1488\n",
              "78245         1390\n",
              "34759         1333\n",
              "              ... \n",
              "17601            1\n",
              "92583            1\n",
              "27610-8519       1\n",
              "64015            1\n",
              "27616-8591       1\n",
              "Name: zipcode, Length: 4549, dtype: int64"
            ]
          },
          "execution_count": 730,
          "metadata": {},
          "output_type": "execute_result"
        }
      ],
      "source": [
        "df['zipcode'].value_counts(dropna=False)"
      ]
    },
    {
      "cell_type": "code",
      "execution_count": 731,
      "metadata": {},
      "outputs": [],
      "source": [
        "# Приведем все значения к 5-значному формату\r\n",
        "\r\n",
        "df['zipcode'] = df['zipcode'].str.replace('\\-[0-9]*', '').apply(lambda x: None if x is None else \r\n",
        "                                                                None if x == '' else \r\n",
        "                                                                ('0000' + str(x))[-5:])"
      ]
    },
    {
      "cell_type": "markdown",
      "metadata": {
        "id": "tUy9qm4JywQ8"
      },
      "source": [
        "beds"
      ]
    },
    {
      "cell_type": "code",
      "execution_count": 732,
      "metadata": {
        "id": "wvpHVzR-xYi7"
      },
      "outputs": [],
      "source": [
        "df['beds'] = df['beds'].apply(lambda x: None if x is np.nan else x).str.lower()"
      ]
    },
    {
      "cell_type": "code",
      "execution_count": 733,
      "metadata": {
        "colab": {
          "base_uri": "https://localhost:8080/"
        },
        "id": "BwACF0KWzBvB",
        "outputId": "7515672e-902f-4c0c-e221-bf197a1a97db"
      },
      "outputs": [
        {
          "data": {
            "text/plain": [
              "NaN           91282\n",
              "3 beds        53459\n",
              "4 beds        35418\n",
              "3             31406\n",
              "2 beds        26362\n",
              "              ...  \n",
              "9,250 sqft        1\n",
              "2,922 sqft        1\n",
              "2,787 sqft        1\n",
              "6,760 sqft        1\n",
              "6,299 sqft        1\n",
              "Name: beds, Length: 1185, dtype: int64"
            ]
          },
          "execution_count": 733,
          "metadata": {},
          "output_type": "execute_result"
        }
      ],
      "source": [
        "df['beds'].value_counts(dropna=False)"
      ]
    },
    {
      "cell_type": "code",
      "execution_count": 734,
      "metadata": {
        "id": "2iO9cAP-zPl6"
      },
      "outputs": [],
      "source": [
        "# Данные по sqft выделим из столбца beds\r\n",
        "\r\n",
        "index_sqft = df.loc[(df['sqft'].isna()) & (df['beds'].str.contains('sqft')), ['sqft','beds']].index\r\n",
        "new_sqft = df.loc[(df['sqft'].isna()) & (df['beds'].str.contains('sqft')), ['sqft','beds']]\r\n",
        "new_sqft['sqft'] = new_sqft['beds'].str.strip().str.replace(',', '.').str.findall('[0-9]+\\.*[0-9]*').apply(lambda x: None if len(x) == 0 else x[0]).astype(float)\r\n",
        "\r\n",
        "df.loc[(df['sqft'].isna()) & (df['beds'].str.contains('sqft')), 'sqft'] = new_sqft['sqft']\r\n",
        "df.loc[(df['beds'].isna()==False) & (df['beds'].str.contains('sqft')), 'beds'] = None"
      ]
    },
    {
      "cell_type": "code",
      "execution_count": 735,
      "metadata": {
        "id": "DNruJWw8z5z7"
      },
      "outputs": [],
      "source": [
        "# Данные по sqft в акрах выделим из столбца beds\r\n",
        "\r\n",
        "index_sqft = df.loc[(df['sqft'].isna()) & (df['beds'].str.contains('acre')), ['sqft','beds']].index\r\n",
        "new_sqft = df.loc[(df['sqft'].isna()) & (df['beds'].str.contains('acre')), ['sqft','beds']]\r\n",
        "new_sqft['sqft'] = new_sqft['beds'].str.strip().str.replace(',', '.').str.findall('[0-9]+\\.*[0-9]*').apply(lambda x: None if len(x) == 0 else x[0]).astype(float)\r\n",
        "new_sqft['sqft'] = (new_sqft['sqft'] * 43560).astype(int)\r\n",
        "\r\n",
        "df.loc[(df['sqft'].isna()) & (df['beds'].str.contains('acre')), 'sqft'] = new_sqft['sqft']\r\n",
        "df.loc[(df['beds'].isna()==False) & (df['beds'].str.contains('acre')), 'beds'] = None"
      ]
    },
    {
      "cell_type": "code",
      "execution_count": 736,
      "metadata": {},
      "outputs": [],
      "source": [
        "df['beds'] = df['beds'].str.replace('bedrooms', 'beds').str.replace('bd', 'beds')\r\n",
        "df['beds'] = df['beds'].str.replace('or more ', '').str.replace('#', '').str.replace(r'[0-9]+[a-z]+', '')"
      ]
    },
    {
      "cell_type": "code",
      "execution_count": 737,
      "metadata": {},
      "outputs": [],
      "source": [
        "df.loc[(df['beds'].isna()==False) & (df['beds'].str.strip().str.contains('^[a-z,\\-%@#_:;~ ]+$')), 'beds'] = None"
      ]
    },
    {
      "cell_type": "code",
      "execution_count": 738,
      "metadata": {},
      "outputs": [],
      "source": [
        "# Данные по baths выделим из столбца beds\r\n",
        "\r\n",
        "new_bath = df.loc[(df['baths'].isna()) & (df['beds'].str.contains('bath')), 'beds'].str.findall('[0-9a-z ]+ bath').apply(lambda x: x[0].split()[0]).astype(float)\r\n",
        "df.loc[new_bath.index, 'baths'] = new_bath"
      ]
    },
    {
      "cell_type": "code",
      "execution_count": 739,
      "metadata": {},
      "outputs": [
        {
          "data": {
            "text/plain": [
              "111391"
            ]
          },
          "execution_count": 739,
          "metadata": {},
          "output_type": "execute_result"
        }
      ],
      "source": [
        "df['beds'].isna().sum()\r\n",
        "\r\n",
        "# Уже на данном этапе слишком много пустых значений, удалим данный столбец"
      ]
    },
    {
      "cell_type": "markdown",
      "metadata": {
        "id": "JwsNx8q4Ph1M"
      },
      "source": [
        "state"
      ]
    },
    {
      "cell_type": "code",
      "execution_count": 740,
      "metadata": {
        "colab": {
          "base_uri": "https://localhost:8080/"
        },
        "id": "eXqI6_T-NP66",
        "outputId": "da8d4803-317d-44d9-cbd9-6f074a2098a8"
      },
      "outputs": [
        {
          "data": {
            "text/plain": [
              "FL    115449\n",
              "TX     83786\n",
              "NY     24479\n",
              "CA     23386\n",
              "NC     21862\n",
              "TN     18340\n",
              "WA     13826\n",
              "OH     12588\n",
              "IL      8939\n",
              "NV      8482\n",
              "GA      6705\n",
              "CO      6404\n",
              "PA      5561\n",
              "MI      5161\n",
              "DC      4674\n",
              "AZ      3347\n",
              "IN      3328\n",
              "OR      2789\n",
              "MA      1516\n",
              "UT      1325\n",
              "MD      1090\n",
              "VT       868\n",
              "MO       866\n",
              "VA       801\n",
              "WI       452\n",
              "NJ       436\n",
              "ME       259\n",
              "IA       242\n",
              "KY        90\n",
              "OK        49\n",
              "MS        40\n",
              "SC        28\n",
              "MT         7\n",
              "DE         5\n",
              "BA         1\n",
              "AL         1\n",
              "OT         1\n",
              "OS         1\n",
              "Fl         1\n",
              "Name: state, dtype: int64"
            ]
          },
          "execution_count": 740,
          "metadata": {},
          "output_type": "execute_result"
        }
      ],
      "source": [
        "df['state'].value_counts(dropna=False)"
      ]
    },
    {
      "cell_type": "markdown",
      "metadata": {
        "id": "zFf8WBnrPr_e"
      },
      "source": [
        "stories"
      ]
    },
    {
      "cell_type": "code",
      "execution_count": 741,
      "metadata": {
        "colab": {
          "base_uri": "https://localhost:8080/"
        },
        "id": "eSiNvWsVPkzx",
        "outputId": "33551c3a-f86a-42de-aa8a-2d1f62b01aab"
      },
      "outputs": [
        {
          "data": {
            "text/plain": [
              "NaN    369527\n",
              "1.0      4440\n",
              "2.0      3024\n",
              "3.0       140\n",
              "8.0        38\n",
              "7.0        15\n",
              "5.0         1\n",
              "Name: stories_dop, dtype: int64"
            ]
          },
          "execution_count": 741,
          "metadata": {},
          "output_type": "execute_result"
        }
      ],
      "source": [
        "df['stories_dop'] = df['stories_dop'].apply(lambda x: None if x is None else x.split()[0]).astype(float)\r\n",
        "df['stories_dop'].value_counts(dropna=False)"
      ]
    },
    {
      "cell_type": "code",
      "execution_count": 742,
      "metadata": {
        "colab": {
          "base_uri": "https://localhost:8080/"
        },
        "id": "gLytSAWDP4gg",
        "outputId": "f591ad1b-e158-44ec-a9ec-b98bdf1c482b"
      },
      "outputs": [
        {
          "data": {
            "text/plain": [
              "NaN    150715\n",
              "1.0     67454\n",
              "2.0     55283\n",
              "1       23086\n",
              "2       18146\n",
              "3.0     11275\n",
              "0.0      7241\n",
              "one      5758\n",
              "0        4273\n",
              "3        4228\n",
              "Name: stories, dtype: int64"
            ]
          },
          "execution_count": 742,
          "metadata": {},
          "output_type": "execute_result"
        }
      ],
      "source": [
        "df['stories'] = df['stories'].str.lower()\r\n",
        "df['stories'].value_counts(dropna=False)[:10]\r\n",
        "\r\n",
        "# Слишком много пустых значений, даже с учетом добвления stories_dop, удалим оба столбца"
      ]
    },
    {
      "cell_type": "markdown",
      "metadata": {
        "id": "poldPvKAo53Z"
      },
      "source": [
        "MlsId"
      ]
    },
    {
      "cell_type": "code",
      "execution_count": 743,
      "metadata": {
        "id": "mfQfEG2-S23g"
      },
      "outputs": [],
      "source": [
        "df = df.drop('MlsId', axis=1)"
      ]
    },
    {
      "cell_type": "markdown",
      "metadata": {
        "id": "pjTtXvHrw8d8"
      },
      "source": [
        "homeFacts"
      ]
    },
    {
      "cell_type": "code",
      "execution_count": 744,
      "metadata": {
        "id": "YgIQbmEow96n"
      },
      "outputs": [],
      "source": [
        "df['homeFacts'] = df['homeFacts'].apply(lambda x: eval(x)).apply(lambda x: list(x.values())[0])"
      ]
    },
    {
      "cell_type": "code",
      "execution_count": 745,
      "metadata": {
        "id": "FYgPExig5f6_"
      },
      "outputs": [],
      "source": [
        "list_columns = ['Year built', 'Remodeled year', 'Heating', 'Cooling', 'Parking', 'lotsize', 'Price/sqft']\r\n",
        "\r\n",
        "for column in enumerate(list_columns):\r\n",
        "  df[column[1]] = None\r\n",
        "  df[column[1]] = df['homeFacts'].apply(lambda x: None if x[column[0]].get('factValue') == '' else  x[column[0]].get('factValue'))"
      ]
    },
    {
      "cell_type": "markdown",
      "metadata": {
        "id": "rGfddbo3WybK"
      },
      "source": [
        "Year built"
      ]
    },
    {
      "cell_type": "code",
      "execution_count": 746,
      "metadata": {
        "colab": {
          "base_uri": "https://localhost:8080/"
        },
        "id": "hyqY1vbGW0rA",
        "outputId": "1f42d189-3393-4848-d84a-eb357def58fb"
      },
      "outputs": [
        {
          "data": {
            "text/plain": [
              "NaN     62374\n",
              "2019    32171\n",
              "2006     8008\n",
              "2005     7503\n",
              "2007     7152\n",
              "        ...  \n",
              "1812        1\n",
              "1843        1\n",
              "1060        1\n",
              "1700        1\n",
              "1780        1\n",
              "Name: Year built, Length: 230, dtype: int64"
            ]
          },
          "execution_count": 746,
          "metadata": {},
          "output_type": "execute_result"
        }
      ],
      "source": [
        "df['Year built'].value_counts(dropna=False)"
      ]
    },
    {
      "cell_type": "code",
      "execution_count": 747,
      "metadata": {},
      "outputs": [],
      "source": [
        "df.loc[df['Year built'].str.len() > 4, 'Year built'] = None\r\n",
        "df.loc[df['Year built'].str.len() < 4, 'Year built'] = None\r\n"
      ]
    },
    {
      "cell_type": "code",
      "execution_count": 748,
      "metadata": {
        "id": "-w-EQyn0W8U3"
      },
      "outputs": [],
      "source": [
        "df['Year built'] = df['Year built'].apply(lambda x: None if x is None else\r\n",
        "                                          None if 'No' in x else \r\n",
        "                                          None if str(x) == 'nan' else\r\n",
        "                                          None if str(x) == '' else int(x))"
      ]
    },
    {
      "cell_type": "markdown",
      "metadata": {
        "id": "KPJobTwLXyA4"
      },
      "source": [
        "Remodeled year"
      ]
    },
    {
      "cell_type": "code",
      "execution_count": 749,
      "metadata": {
        "colab": {
          "base_uri": "https://localhost:8080/"
        },
        "id": "OT1jC79bX0kE",
        "outputId": "69564407-3752-4261-ae30-77036a5effd2"
      },
      "outputs": [
        {
          "data": {
            "text/plain": [
              "NaN     226110\n",
              "2006      5538\n",
              "2005      4817\n",
              "2007      4387\n",
              "2008      3796\n",
              "         ...  \n",
              "1888         1\n",
              "1869         1\n",
              "1870         1\n",
              "1111         1\n",
              "1853         1\n",
              "Name: Remodeled year, Length: 154, dtype: int64"
            ]
          },
          "execution_count": 749,
          "metadata": {},
          "output_type": "execute_result"
        }
      ],
      "source": [
        "df['Remodeled year'].value_counts(dropna=False)\n",
        "\n",
        "# Слишком много пропусков, удалим потом столбец"
      ]
    },
    {
      "cell_type": "markdown",
      "metadata": {
        "id": "bmoNgA0WYBEF"
      },
      "source": [
        "Heating"
      ]
    },
    {
      "cell_type": "code",
      "execution_count": 750,
      "metadata": {
        "colab": {
          "base_uri": "https://localhost:8080/"
        },
        "id": "itw_ArrnYbsW",
        "outputId": "34bc3d08-0df8-4f58-ce13-ad10289bf2a7"
      },
      "outputs": [
        {
          "data": {
            "text/plain": [
              "NaN                 109332\n",
              "Forced Air           82807\n",
              "Forced air           51506\n",
              "Other                29623\n",
              "Electric             10211\n",
              "Gas                   9296\n",
              "No Data               8611\n",
              "Central Air           7814\n",
              "Central Electric      7112\n",
              "Central               6247\n",
              "Name: Heating, dtype: int64"
            ]
          },
          "execution_count": 750,
          "metadata": {},
          "output_type": "execute_result"
        }
      ],
      "source": [
        "df['Heating'].value_counts(dropna=False)[:10]\n",
        "\n",
        "# Слишком много пропусков и непоказательных данных, удалим потом столбец"
      ]
    },
    {
      "cell_type": "markdown",
      "metadata": {
        "id": "zXExzL_sYz0S"
      },
      "source": [
        "Cooling"
      ]
    },
    {
      "cell_type": "code",
      "execution_count": 751,
      "metadata": {
        "colab": {
          "base_uri": "https://localhost:8080/"
        },
        "id": "S6jLqyULY2df",
        "outputId": "eff94966-ecf5-4475-ea4b-d4d952ee4714"
      },
      "outputs": [
        {
          "data": {
            "text/plain": [
              "Central                                                                                     158754\n",
              "NaN                                                                                         123967\n",
              "Central Air                                                                                  14384\n",
              "No Data                                                                                      10616\n",
              "Has Cooling                                                                                   9730\n",
              "                                                                                             ...  \n",
              "g-Energy Star HVAC, Gas (Hot Air), Gas (Water Heater), Multi-Zone A/C                            1\n",
              "Central Air, Gas Hot Air/Furnace, Heat Pump - AC, Humidifier, Multizone A/C, Natural Gas         1\n",
              "Baseboard Hot Water Heat, Wall Unit - AC                                                         1\n",
              "Gas Heater, Hot Air                                                                              1\n",
              "Window A/C(s)                                                                                    1\n",
              "Name: Cooling, Length: 1445, dtype: int64"
            ]
          },
          "execution_count": 751,
          "metadata": {},
          "output_type": "execute_result"
        }
      ],
      "source": [
        "df['Cooling'].value_counts(dropna=False)\n",
        "\n",
        "# Слишком много пропусков и непоказательных данных, удалим потом столбец"
      ]
    },
    {
      "cell_type": "markdown",
      "metadata": {
        "id": "LyHFZsVjZ1Lz"
      },
      "source": [
        "Parking"
      ]
    },
    {
      "cell_type": "code",
      "execution_count": 752,
      "metadata": {
        "colab": {
          "base_uri": "https://localhost:8080/"
        },
        "id": "TFUQ7Ke-Z5ln",
        "outputId": "c9ab50c5-c411-4b40-acd9-0dd6c2ac4931"
      },
      "outputs": [
        {
          "data": {
            "text/plain": [
              "NaN                         175420\n",
              "Attached Garage              70752\n",
              "2 spaces                     28063\n",
              "1 space                      14252\n",
              "No Data                      13334\n",
              "Detached Garage              13201\n",
              "Carport                       7743\n",
              "3 spaces                      4724\n",
              "Off Street                    3622\n",
              "Carport, Attached Garage      3025\n",
              "Name: Parking, dtype: int64"
            ]
          },
          "execution_count": 752,
          "metadata": {},
          "output_type": "execute_result"
        }
      ],
      "source": [
        "df['Parking'].value_counts(dropna=False)[:10]\n",
        "\n",
        "# Слишком много пропусков и непоказательных данных, удалим потом столбец"
      ]
    },
    {
      "cell_type": "markdown",
      "metadata": {
        "id": "6dRCkB31aHLg"
      },
      "source": [
        "lotsize sqft"
      ]
    },
    {
      "cell_type": "code",
      "execution_count": 753,
      "metadata": {
        "colab": {
          "base_uri": "https://localhost:8080/",
          "height": 204
        },
        "id": "drAc8prEaIJn",
        "outputId": "70f6d87d-c68a-437a-d991-56097e0ad89b"
      },
      "outputs": [
        {
          "data": {
            "text/html": [
              "<div>\n",
              "<style scoped>\n",
              "    .dataframe tbody tr th:only-of-type {\n",
              "        vertical-align: middle;\n",
              "    }\n",
              "\n",
              "    .dataframe tbody tr th {\n",
              "        vertical-align: top;\n",
              "    }\n",
              "\n",
              "    .dataframe thead th {\n",
              "        text-align: right;\n",
              "    }\n",
              "</style>\n",
              "<table border=\"1\" class=\"dataframe\">\n",
              "  <thead>\n",
              "    <tr style=\"text-align: right;\">\n",
              "      <th></th>\n",
              "      <th>lotsize</th>\n",
              "      <th>sqft</th>\n",
              "    </tr>\n",
              "  </thead>\n",
              "  <tbody>\n",
              "    <tr>\n",
              "      <th>114037</th>\n",
              "      <td>2,578 sqft</td>\n",
              "      <td>1500.0</td>\n",
              "    </tr>\n",
              "    <tr>\n",
              "      <th>193317</th>\n",
              "      <td>2,000 sqft</td>\n",
              "      <td>NaN</td>\n",
              "    </tr>\n",
              "    <tr>\n",
              "      <th>42152</th>\n",
              "      <td>None</td>\n",
              "      <td>716.0</td>\n",
              "    </tr>\n",
              "    <tr>\n",
              "      <th>375715</th>\n",
              "      <td>None</td>\n",
              "      <td>1296.0</td>\n",
              "    </tr>\n",
              "    <tr>\n",
              "      <th>180149</th>\n",
              "      <td>218236</td>\n",
              "      <td>3850.0</td>\n",
              "    </tr>\n",
              "  </tbody>\n",
              "</table>\n",
              "</div>"
            ],
            "text/plain": [
              "           lotsize    sqft\n",
              "114037  2,578 sqft  1500.0\n",
              "193317  2,000 sqft     NaN\n",
              "42152         None   716.0\n",
              "375715        None  1296.0\n",
              "180149      218236  3850.0"
            ]
          },
          "execution_count": 753,
          "metadata": {},
          "output_type": "execute_result"
        }
      ],
      "source": [
        "df[['lotsize', 'sqft']].sample(5)"
      ]
    },
    {
      "cell_type": "code",
      "execution_count": 754,
      "metadata": {
        "id": "I9Cl84xiA0d7"
      },
      "outputs": [],
      "source": [
        "df['lotsize'] = df['lotsize'].str.lower().str.replace(r'[\\-,—]', '').str.strip().apply(lambda x: None if x is None else\n",
        "                                                                                      None if 'no' in x else\n",
        "                                                                                      None if x == '' else x)"
      ]
    },
    {
      "cell_type": "code",
      "execution_count": 755,
      "metadata": {
        "id": "k7gRKmIqbaKo"
      },
      "outputs": [],
      "source": [
        "# Заполним те значения признака sqft которые пустые из признака lotsize\r\n",
        "\r\n",
        "# acres\r\n",
        "new_lot_size = df.loc[(df['sqft'].isna()) & (df['lotsize'].isna()==False) & (df['lotsize'].str.contains('sq'))]['lotsize']\r\n",
        "new_lot_size = new_lot_size.str.lower().str.replace(r'[a-z \\.]', '').str.strip()\r\n",
        "new_lot_size = new_lot_size.apply(lambda x: None if x is None else \r\n",
        "                                  None if x is np.nan else\r\n",
        "                                  None if x == '' else int(float(x)))\r\n",
        "df.loc[new_lot_size.index, 'sqft'] = new_lot_size\r\n",
        "\r\n",
        "# acres\r\n",
        "new_lot_size = df.loc[(df['sqft'].isna()) & (df['lotsize'].isna()==False) & (df['lotsize'].str.contains('acre'))]['lotsize']\r\n",
        "new_lot_size = new_lot_size.str.lower().str.replace('[a-z ]', '').str.strip()\r\n",
        "new_lot_size = new_lot_size.apply(lambda x: None if x is None else float(x) * 43560).astype(int)\r\n",
        "df.loc[new_lot_size.index, 'sqft'] = new_lot_size"
      ]
    },
    {
      "cell_type": "code",
      "execution_count": 756,
      "metadata": {
        "colab": {
          "base_uri": "https://localhost:8080/"
        },
        "id": "Oc0YXT4xADlA",
        "outputId": "bb3a765e-8306-42d3-dea9-742ce12ca91c"
      },
      "outputs": [
        {
          "data": {
            "text/plain": [
              "11890"
            ]
          },
          "execution_count": 756,
          "metadata": {},
          "output_type": "execute_result"
        }
      ],
      "source": [
        "df['sqft'].isna().sum()"
      ]
    },
    {
      "cell_type": "markdown",
      "metadata": {
        "id": "IQpRDrrzF19-"
      },
      "source": [
        "Price/sqft"
      ]
    },
    {
      "cell_type": "code",
      "execution_count": 757,
      "metadata": {
        "colab": {
          "base_uri": "https://localhost:8080/"
        },
        "id": "z4cyDzjnF3CJ",
        "outputId": "55071238-53ec-40fc-b6ad-c90bd72b902e"
      },
      "outputs": [
        {
          "data": {
            "text/plain": [
              "206535             $196\n",
              "328627             $156\n",
              "256965        $153/sqft\n",
              "94035              None\n",
              "131683        $132/sqft\n",
              "185174    $91 / Sq. Ft.\n",
              "260429             $154\n",
              "360274             None\n",
              "319799             None\n",
              "268291        $372/sqft\n",
              "Name: Price/sqft, dtype: object"
            ]
          },
          "execution_count": 757,
          "metadata": {},
          "output_type": "execute_result"
        }
      ],
      "source": [
        "df['Price/sqft'].sample(10)"
      ]
    },
    {
      "cell_type": "code",
      "execution_count": 758,
      "metadata": {
        "id": "iA25_OCnGccm"
      },
      "outputs": [],
      "source": [
        "df['Price/sqft'] = df['Price/sqft'].str.lower().str.replace(r'[,/$a-z\\. ]', '').str.strip().apply(lambda x: None if x is None else\n",
        "                                                                                      None if x == '' else int(x))"
      ]
    },
    {
      "cell_type": "markdown",
      "metadata": {
        "id": "_7ZOy6-K8q2j"
      },
      "source": [
        "schools"
      ]
    },
    {
      "cell_type": "code",
      "execution_count": 759,
      "metadata": {
        "id": "5OB1V2m_Ei4T"
      },
      "outputs": [],
      "source": [
        "df['schools'] = df['schools'].apply(lambda x: eval(x)[0])"
      ]
    },
    {
      "cell_type": "code",
      "execution_count": 760,
      "metadata": {
        "id": "75m0QOHg83So"
      },
      "outputs": [],
      "source": [
        "list_keys = ['data', 'name', 'rating']\n",
        "# name не будем брать\n",
        "\n",
        "list_columns = ['Distance', 'Grades', 'rating']\n",
        "# Grades не будем брать слишком запутано\n",
        "\n",
        "df['Distance'] = df['schools'].apply(lambda x: None if x.get('data').get('Distance') is None else x.get('data').get('Distance'))\n",
        "df['rating'] = df['schools'].apply(lambda x: None if x.get('rating') is None else x.get('rating'))"
      ]
    },
    {
      "cell_type": "code",
      "execution_count": 761,
      "metadata": {
        "id": "Y1LcCu6kPZgM"
      },
      "outputs": [],
      "source": [
        "df['Distance'] = df['Distance'].apply(lambda x: [float(y.replace('mi', '').strip()) for y in x])"
      ]
    },
    {
      "cell_type": "code",
      "execution_count": 762,
      "metadata": {
        "id": "MlMI9VAgnoUP"
      },
      "outputs": [],
      "source": [
        "df['Distance'] = df['Distance'].apply(lambda x: list(filter(None, x)))"
      ]
    },
    {
      "cell_type": "code",
      "execution_count": 763,
      "metadata": {
        "colab": {
          "base_uri": "https://localhost:8080/"
        },
        "id": "pMOzk5DzoiQc",
        "outputId": "0d301748-252f-4e72-f5b5-a16904450b9b"
      },
      "outputs": [
        {
          "data": {
            "text/plain": [
              "54980                                     [1.14, 1.1, 2.27]\n",
              "222183                                      [0.2, 2.5, 2.0]\n",
              "339870                                      [0.7, 0.7, 1.4]\n",
              "117073                                          [19.6, 3.1]\n",
              "179908                                   [1.04, 2.23, 0.19]\n",
              "224986                                         [0.73, 0.05]\n",
              "347349    [2.24, 6.71, 6.79, 5.02, 6.9, 1.42, 2.68, 1.27...\n",
              "141698                       [0.6, 3.4, 0.1, 1.0, 0.3, 2.7]\n",
              "108480    [11.15, 10.11, 7.14, 7.74, 6.8, 9.78, 13.97, 0...\n",
              "171508                  [2.0, 2.8, 3.1, 1.7, 4.3, 3.1, 1.0]\n",
              "Name: Distance, dtype: object"
            ]
          },
          "execution_count": 763,
          "metadata": {},
          "output_type": "execute_result"
        }
      ],
      "source": [
        "df['Distance'].sample(10)"
      ]
    },
    {
      "cell_type": "code",
      "execution_count": 764,
      "metadata": {
        "id": "SbZpxHY6QJNw"
      },
      "outputs": [],
      "source": [
        "df['rating'] = df['rating'].apply(lambda x: [None if \"NR\" in str(y) else\n",
        "                                             None if \"None\" in str(y) else\n",
        "                                             None if \"NA\" in str(y) else\n",
        "                                             None if str(y) == '' else\n",
        "                                             int(str(y).split('/')[0]) if \"/\" in str(y) else\n",
        "                                             int(y) for y in x])"
      ]
    },
    {
      "cell_type": "code",
      "execution_count": 765,
      "metadata": {
        "id": "DiFUEr3FnpoN"
      },
      "outputs": [],
      "source": [
        "df['rating'] = df['rating'].apply(lambda x: list(filter(None, x)))"
      ]
    },
    {
      "cell_type": "code",
      "execution_count": 766,
      "metadata": {
        "colab": {
          "base_uri": "https://localhost:8080/"
        },
        "id": "p0_jkrGKG_Az",
        "outputId": "22776b11-a9a0-473d-e791-bd72c98a216b"
      },
      "outputs": [
        {
          "data": {
            "text/plain": [
              "8874                                              [6, 6, 6]\n",
              "2585                                              [4, 3, 3]\n",
              "353664                                            [4, 5, 3]\n",
              "215542                                            [5, 8, 6]\n",
              "251362                                            [3, 2, 1]\n",
              "345158                                            [9, 9, 9]\n",
              "321711                                            [9, 7, 7]\n",
              "142480                                           [8, 10, 6]\n",
              "101104    [4, 2, 3, 2, 3, 6, 2, 2, 5, 5, 5, 4, 3, 5, 4, ...\n",
              "216788                                                  [3]\n",
              "Name: rating, dtype: object"
            ]
          },
          "execution_count": 766,
          "metadata": {},
          "output_type": "execute_result"
        }
      ],
      "source": [
        "df['rating'].sample(10)"
      ]
    },
    {
      "cell_type": "markdown",
      "metadata": {
        "id": "DLfZodXWpR6H"
      },
      "source": [
        "target"
      ]
    },
    {
      "cell_type": "code",
      "execution_count": 767,
      "metadata": {
        "colab": {
          "base_uri": "https://localhost:8080/"
        },
        "id": "y1USgncfo-Qt",
        "outputId": "743f6f1a-2173-432d-8451-e20a3c16ac5b"
      },
      "outputs": [
        {
          "data": {
            "text/plain": [
              "NaN          2481\n",
              "$225,000     1462\n",
              "$275,000     1355\n",
              "$250,000     1312\n",
              "$350,000     1296\n",
              "             ... \n",
              "$123,602        1\n",
              "$488,264        1\n",
              "$406,000+       1\n",
              "$264,980        1\n",
              "$270,499        1\n",
              "Name: target, Length: 43940, dtype: int64"
            ]
          },
          "execution_count": 767,
          "metadata": {},
          "output_type": "execute_result"
        }
      ],
      "source": [
        "df['target'].value_counts(dropna=False)"
      ]
    },
    {
      "cell_type": "code",
      "execution_count": 768,
      "metadata": {
        "id": "HFnwGMOopVE1"
      },
      "outputs": [],
      "source": [
        "df['target'] = df['target'].apply(lambda x: None if x is np.nan else x)"
      ]
    },
    {
      "cell_type": "code",
      "execution_count": 769,
      "metadata": {
        "id": "0xQnwkKanhpT"
      },
      "outputs": [],
      "source": [
        "punct = '$,+\\-/'\n",
        "df['target'] = df['target'].str.replace('[a-z]', '').str.replace('[{}]'.format(punct), '').str.strip()"
      ]
    },
    {
      "cell_type": "code",
      "execution_count": 770,
      "metadata": {
        "id": "QqIPaufFn3_K"
      },
      "outputs": [],
      "source": [
        "df['target'] = df['target'].apply(lambda x: None if x is None else int(x.split()[0]))"
      ]
    },
    {
      "cell_type": "code",
      "execution_count": 771,
      "metadata": {
        "colab": {
          "base_uri": "https://localhost:8080/"
        },
        "id": "nm6LI-D6mtYh",
        "outputId": "8131a854-14bb-4507-c4b0-0cbbdd9a3482"
      },
      "outputs": [
        {
          "data": {
            "text/plain": [
              "NaN         2481\n",
              "225000.0    1806\n",
              "275000.0    1650\n",
              "250000.0    1644\n",
              "350000.0    1641\n",
              "            ... \n",
              "9100.0         1\n",
              "515530.0       1\n",
              "195050.0       1\n",
              "780226.0       1\n",
              "374521.0       1\n",
              "Name: target, Length: 34233, dtype: int64"
            ]
          },
          "execution_count": 771,
          "metadata": {},
          "output_type": "execute_result"
        }
      ],
      "source": [
        "df['target'].value_counts(dropna=False)"
      ]
    },
    {
      "cell_type": "markdown",
      "metadata": {
        "id": "DR0jxCf7HgZl"
      },
      "source": [
        "target Price/sqft"
      ]
    },
    {
      "cell_type": "code",
      "execution_count": 772,
      "metadata": {
        "id": "76n0Rxq6Hf8I"
      },
      "outputs": [],
      "source": [
        "# Заполним те значения признака sqft которые пустые из признака Price/sqft и признака target\n",
        "\n",
        "new_lot_size = df.loc[(df['sqft'].isna()) & (df['target'].isna()==False) & (df['Price/sqft'].isna()==False)][['Price/sqft', 'target']]\n",
        "new_lot_size['sqft'] = (new_lot_size['target'] / new_lot_size['Price/sqft']).astype(int)\n",
        "df.loc[new_lot_size.index, 'sqft'] = new_lot_size['sqft']\n",
        "\n",
        "# Заполним те значения признака Price/sqft которые пустые из признака sqft и признака target\n",
        "\n",
        "new_prsq = df.loc[(df['sqft'].isna()==False) & (df['target'].isna()==False) & (df['Price/sqft'].isna())][['sqft', 'target']]\n",
        "new_prsq['Price/sqft'] = round(new_prsq['target'] / new_prsq['sqft'])\n",
        "df.loc[new_prsq.index, 'Price/sqft'] = new_prsq['Price/sqft']"
      ]
    },
    {
      "cell_type": "markdown",
      "metadata": {
        "id": "OiX9sC8e5DUi"
      },
      "source": [
        "# future engeneer"
      ]
    },
    {
      "cell_type": "code",
      "execution_count": 773,
      "metadata": {},
      "outputs": [],
      "source": [
        "# Сделаем копию исходного датасета для будущей обработки текста\r\n",
        "\r\n",
        "df_text = df.copy()"
      ]
    },
    {
      "cell_type": "code",
      "execution_count": 774,
      "metadata": {
        "colab": {
          "base_uri": "https://localhost:8080/",
          "height": 530
        },
        "id": "6SUBDZONnW6I",
        "outputId": "b3e73f4d-f4ce-4ea3-8200-552eac25770a"
      },
      "outputs": [
        {
          "data": {
            "text/html": [
              "<div>\n",
              "<style scoped>\n",
              "    .dataframe tbody tr th:only-of-type {\n",
              "        vertical-align: middle;\n",
              "    }\n",
              "\n",
              "    .dataframe tbody tr th {\n",
              "        vertical-align: top;\n",
              "    }\n",
              "\n",
              "    .dataframe thead th {\n",
              "        text-align: right;\n",
              "    }\n",
              "</style>\n",
              "<table border=\"1\" class=\"dataframe\">\n",
              "  <thead>\n",
              "    <tr style=\"text-align: right;\">\n",
              "      <th></th>\n",
              "      <th>status</th>\n",
              "      <th>propertyType</th>\n",
              "      <th>street</th>\n",
              "      <th>baths</th>\n",
              "      <th>homeFacts</th>\n",
              "      <th>city</th>\n",
              "      <th>schools</th>\n",
              "      <th>sqft</th>\n",
              "      <th>zipcode</th>\n",
              "      <th>beds</th>\n",
              "      <th>...</th>\n",
              "      <th>stories_dop</th>\n",
              "      <th>Year built</th>\n",
              "      <th>Remodeled year</th>\n",
              "      <th>Heating</th>\n",
              "      <th>Cooling</th>\n",
              "      <th>Parking</th>\n",
              "      <th>lotsize</th>\n",
              "      <th>Price/sqft</th>\n",
              "      <th>Distance</th>\n",
              "      <th>rating</th>\n",
              "    </tr>\n",
              "  </thead>\n",
              "  <tbody>\n",
              "    <tr>\n",
              "      <th>200009</th>\n",
              "      <td>active</td>\n",
              "      <td>colonial</td>\n",
              "      <td>3155 Avenue W</td>\n",
              "      <td>NaN</td>\n",
              "      <td>[{'factValue': '1939', 'factLabel': 'Year buil...</td>\n",
              "      <td>Brooklyn</td>\n",
              "      <td>{'rating': ['9', '4', '7', '6'], 'data': {'Dis...</td>\n",
              "      <td>980.0</td>\n",
              "      <td>11229</td>\n",
              "      <td>None</td>\n",
              "      <td>...</td>\n",
              "      <td>NaN</td>\n",
              "      <td>1939.0</td>\n",
              "      <td>1935</td>\n",
              "      <td>None</td>\n",
              "      <td>None</td>\n",
              "      <td>None</td>\n",
              "      <td>1440 sq. ft.</td>\n",
              "      <td>525.0</td>\n",
              "      <td>[0.2, 0.1, 0.7, 0.4]</td>\n",
              "      <td>[9, 4, 7, 6]</td>\n",
              "    </tr>\n",
              "    <tr>\n",
              "      <th>324922</th>\n",
              "      <td>active</td>\n",
              "      <td>None</td>\n",
              "      <td>16907 NW 83rd Pl</td>\n",
              "      <td>NaN</td>\n",
              "      <td>[{'factValue': '2018', 'factLabel': 'Year buil...</td>\n",
              "      <td>Miami Lakes</td>\n",
              "      <td>{'rating': ['8', '10', 'NR', '6', '6'], 'data'...</td>\n",
              "      <td>3450.0</td>\n",
              "      <td>33016</td>\n",
              "      <td>None</td>\n",
              "      <td>...</td>\n",
              "      <td>1.0</td>\n",
              "      <td>2018.0</td>\n",
              "      <td>None</td>\n",
              "      <td>Central Air</td>\n",
              "      <td>Has Cooling</td>\n",
              "      <td>None</td>\n",
              "      <td>8614 sq. ft.</td>\n",
              "      <td>275.0</td>\n",
              "      <td>[3.0, 28.7, 22.8, 2.0, 1.8]</td>\n",
              "      <td>[8, 10, 6, 6]</td>\n",
              "    </tr>\n",
              "    <tr>\n",
              "      <th>260543</th>\n",
              "      <td>active</td>\n",
              "      <td>condo town row</td>\n",
              "      <td>23015 Marine View Dr S Apt B313</td>\n",
              "      <td>1.0</td>\n",
              "      <td>[{'factValue': '1969', 'factLabel': 'Year buil...</td>\n",
              "      <td>Des Moines</td>\n",
              "      <td>{'rating': ['5', '3', '4', '3', '8', 'NR', 'NR...</td>\n",
              "      <td>929.0</td>\n",
              "      <td>98198</td>\n",
              "      <td>2</td>\n",
              "      <td>...</td>\n",
              "      <td>NaN</td>\n",
              "      <td>1969.0</td>\n",
              "      <td>None</td>\n",
              "      <td>None</td>\n",
              "      <td>None</td>\n",
              "      <td>Off street parking</td>\n",
              "      <td>None</td>\n",
              "      <td>355.0</td>\n",
              "      <td>[0.6, 1.0, 0.9, 1.1, 2.7, 2.9, 0.9, 2.1]</td>\n",
              "      <td>[5, 3, 4, 3, 8]</td>\n",
              "    </tr>\n",
              "    <tr>\n",
              "      <th>75867</th>\n",
              "      <td>for sale</td>\n",
              "      <td>single family</td>\n",
              "      <td>4201 Egremont Ct</td>\n",
              "      <td>3.0</td>\n",
              "      <td>[{'factValue': '2014', 'factLabel': 'Year buil...</td>\n",
              "      <td>College Station</td>\n",
              "      <td>{'rating': ['7/10', '7/10', '8/10'], 'data': {...</td>\n",
              "      <td>2793.0</td>\n",
              "      <td>77845</td>\n",
              "      <td>4 beds</td>\n",
              "      <td>...</td>\n",
              "      <td>NaN</td>\n",
              "      <td>2014.0</td>\n",
              "      <td>None</td>\n",
              "      <td>Other</td>\n",
              "      <td>Central</td>\n",
              "      <td>Attached Garage</td>\n",
              "      <td>0.33 acres</td>\n",
              "      <td>157.0</td>\n",
              "      <td>[2.42, 1.94, 4.0]</td>\n",
              "      <td>[7, 7, 8]</td>\n",
              "    </tr>\n",
              "    <tr>\n",
              "      <th>23114</th>\n",
              "      <td>under contract showing</td>\n",
              "      <td>condo town row</td>\n",
              "      <td>3201 Aspen Grove Dr</td>\n",
              "      <td>2.0</td>\n",
              "      <td>[{'factValue': '2006', 'factLabel': 'Year buil...</td>\n",
              "      <td>Franklin</td>\n",
              "      <td>{'rating': ['7', '6', '7', '7', '7', '9', 'NR'...</td>\n",
              "      <td>1437.0</td>\n",
              "      <td>37067</td>\n",
              "      <td>2.0</td>\n",
              "      <td>...</td>\n",
              "      <td>NaN</td>\n",
              "      <td>2006.0</td>\n",
              "      <td>None</td>\n",
              "      <td>Heating System</td>\n",
              "      <td>Cooling System</td>\n",
              "      <td>ASPHT</td>\n",
              "      <td>None</td>\n",
              "      <td>226.0</td>\n",
              "      <td>[3.0, 3.4, 1.3, 3.2, 3.4, 2.6, 1.4, 1.7]</td>\n",
              "      <td>[7, 6, 7, 7, 7, 9]</td>\n",
              "    </tr>\n",
              "  </tbody>\n",
              "</table>\n",
              "<p>5 rows × 23 columns</p>\n",
              "</div>"
            ],
            "text/plain": [
              "                        status    propertyType  \\\n",
              "200009                  active        colonial   \n",
              "324922                  active            None   \n",
              "260543                  active  condo town row   \n",
              "75867                 for sale   single family   \n",
              "23114   under contract showing  condo town row   \n",
              "\n",
              "                                 street  baths  \\\n",
              "200009                   3155 Avenue W     NaN   \n",
              "324922                16907 NW 83rd Pl     NaN   \n",
              "260543  23015 Marine View Dr S Apt B313    1.0   \n",
              "75867                  4201 Egremont Ct    3.0   \n",
              "23114               3201 Aspen Grove Dr    2.0   \n",
              "\n",
              "                                                homeFacts             city  \\\n",
              "200009  [{'factValue': '1939', 'factLabel': 'Year buil...         Brooklyn   \n",
              "324922  [{'factValue': '2018', 'factLabel': 'Year buil...      Miami Lakes   \n",
              "260543  [{'factValue': '1969', 'factLabel': 'Year buil...       Des Moines   \n",
              "75867   [{'factValue': '2014', 'factLabel': 'Year buil...  College Station   \n",
              "23114   [{'factValue': '2006', 'factLabel': 'Year buil...         Franklin   \n",
              "\n",
              "                                                  schools    sqft zipcode  \\\n",
              "200009  {'rating': ['9', '4', '7', '6'], 'data': {'Dis...   980.0   11229   \n",
              "324922  {'rating': ['8', '10', 'NR', '6', '6'], 'data'...  3450.0   33016   \n",
              "260543  {'rating': ['5', '3', '4', '3', '8', 'NR', 'NR...   929.0   98198   \n",
              "75867   {'rating': ['7/10', '7/10', '8/10'], 'data': {...  2793.0   77845   \n",
              "23114   {'rating': ['7', '6', '7', '7', '7', '9', 'NR'...  1437.0   37067   \n",
              "\n",
              "          beds  ... stories_dop Year built  Remodeled year         Heating  \\\n",
              "200009    None  ...         NaN     1939.0            1935            None   \n",
              "324922    None  ...         1.0     2018.0            None     Central Air   \n",
              "260543       2  ...         NaN     1969.0            None            None   \n",
              "75867   4 beds  ...         NaN     2014.0            None           Other   \n",
              "23114      2.0  ...         NaN     2006.0            None  Heating System   \n",
              "\n",
              "               Cooling             Parking       lotsize Price/sqft  \\\n",
              "200009            None                None  1440 sq. ft.      525.0   \n",
              "324922     Has Cooling                None  8614 sq. ft.      275.0   \n",
              "260543            None  Off street parking          None      355.0   \n",
              "75867          Central     Attached Garage    0.33 acres      157.0   \n",
              "23114   Cooling System               ASPHT          None      226.0   \n",
              "\n",
              "                                        Distance              rating  \n",
              "200009                      [0.2, 0.1, 0.7, 0.4]        [9, 4, 7, 6]  \n",
              "324922               [3.0, 28.7, 22.8, 2.0, 1.8]       [8, 10, 6, 6]  \n",
              "260543  [0.6, 1.0, 0.9, 1.1, 2.7, 2.9, 0.9, 2.1]     [5, 3, 4, 3, 8]  \n",
              "75867                          [2.42, 1.94, 4.0]           [7, 7, 8]  \n",
              "23114   [3.0, 3.4, 1.3, 3.2, 3.4, 2.6, 1.4, 1.7]  [7, 6, 7, 7, 7, 9]  \n",
              "\n",
              "[5 rows x 23 columns]"
            ]
          },
          "execution_count": 774,
          "metadata": {},
          "output_type": "execute_result"
        }
      ],
      "source": [
        "df.sample(5)"
      ]
    },
    {
      "cell_type": "code",
      "execution_count": 775,
      "metadata": {
        "colab": {
          "base_uri": "https://localhost:8080/"
        },
        "id": "s8vgdv095Ift",
        "outputId": "e544fd45-ac35-4ce3-ded4-c1b47625b412"
      },
      "outputs": [
        {
          "name": "stdout",
          "output_type": "stream",
          "text": [
            "                Train          Test\n",
            "\n",
            "status:        10.4768        26.6425\n",
            "propertyType:  10.1611        7.2551\n",
            "street:        0.0005         0.0\n",
            "baths:         28.5164        39.5002\n",
            "homeFacts:     0.0            0.0\n",
            "city:          0.0091         0.0\n",
            "schools:       0.0            0.0\n",
            "sqft:          3.0437         5.1592\n",
            "zipcode:       0.0005         0.0\n",
            "beds:          29.5623        24.9899\n",
            "state:         0.0            0.0\n",
            "stories:       39.9766        37.1221\n",
            "target:        0.0            100.0\n",
            "stories_dop:   97.9565        99.9597\n",
            "Year built:    16.8856        13.2608\n",
            "Remodeled year:60.0124        50.0202\n",
            "Heating:       28.9962        27.4889\n",
            "Cooling:       32.8457        35.9936\n",
            "Parking:       46.5744        36.4369\n",
            "lotsize:       24.4324        19.6292\n",
            "Price/sqft:    3.0437         85.8122\n",
            "Distance:      0.0            0.0\n",
            "rating:        0.0            0.0\n"
          ]
        }
      ],
      "source": [
        "# Доля Null значений в трейне и тесте\r\n",
        "\r\n",
        "print('                Train          Test\\n')\r\n",
        "\r\n",
        "train_shape = df[df['target'].isna() == False].shape[0] \r\n",
        "test_shape = df[df['target'].isna()].shape[0]\r\n",
        "\r\n",
        "for x in df.columns:\r\n",
        "    train_null = df[df['target'].isna() == False][x].isna().sum()\r\n",
        "    test_null = df[df['target'].isna()][x].isna().sum()\r\n",
        "    print((x + ':' + ' '*15)[:15] + (str(round(train_null / train_shape * 100, 4)) + ' '*15)[:15] + str(round(test_null / test_shape * 100, 4)))\r\n"
      ]
    },
    {
      "cell_type": "code",
      "execution_count": 776,
      "metadata": {},
      "outputs": [],
      "source": [
        "# Удалим признаки которые не обрабатывали, так как текста\r\n",
        "df = df.drop(['street', 'city'], axis=1)\r\n",
        "\r\n",
        "# Удалим признаки ненужные\r\n",
        "df = df.drop(['homeFacts', 'schools', 'stories_dop', 'lotsize'], axis=1)\r\n",
        "\r\n",
        "# # Удалим столбцы, в которых много пустых значений либо вообще, либо много пустых значений в тесте\r\n",
        "df = df.drop(['stories', 'baths', 'beds', 'Remodeled year', 'Heating', 'Cooling', 'Parking', 'Price/sqft'], axis=1)\r\n",
        "df = df.drop(['status'], axis=1)\r\n"
      ]
    },
    {
      "cell_type": "code",
      "execution_count": 777,
      "metadata": {
        "id": "7g7gEnm2dSkH"
      },
      "outputs": [],
      "source": [
        "# Содаем новые признаки\r\n",
        "\r\n",
        "import numpy as np\r\n",
        "\r\n",
        "df['dist_max'] = df['Distance'].apply(lambda x: None if x is None else \r\n",
        "                                      None if len(x) == 0 else max(x))\r\n",
        "df['dist_min'] = df['Distance'].apply(lambda x: None if x is None else \r\n",
        "                                      None if len(x) == 0 else min(x))"
      ]
    },
    {
      "cell_type": "code",
      "execution_count": 778,
      "metadata": {
        "id": "XvC_wX5YggqF"
      },
      "outputs": [],
      "source": [
        "df['rate_max'] = df['rating'].apply(lambda x: None if x is None else \r\n",
        "                                      None if len(x) == 0 else max(x))\r\n",
        "df['rate_min'] = df['rating'].apply(lambda x: None if x is None else \r\n",
        "                                      None if len(x) == 0 else min(x))"
      ]
    },
    {
      "cell_type": "code",
      "execution_count": 779,
      "metadata": {
        "id": "RFfDPxdPlARQ"
      },
      "outputs": [],
      "source": [
        "df = df.drop(['Distance', 'rating'], axis=1)"
      ]
    },
    {
      "cell_type": "markdown",
      "metadata": {
        "id": "0iWwGBGr4co5"
      },
      "source": [
        "# Train Test"
      ]
    },
    {
      "cell_type": "code",
      "execution_count": 780,
      "metadata": {
        "id": "nad2s_nf4e6N"
      },
      "outputs": [],
      "source": [
        "df_train = df[df['target'].isna() == False].copy()\n",
        "df_test = df[df['target'].isna()].copy()\n",
        "df_test['target'] = 0"
      ]
    },
    {
      "cell_type": "code",
      "execution_count": 781,
      "metadata": {
        "colab": {
          "base_uri": "https://localhost:8080/",
          "height": 204
        },
        "id": "-XruFdub4-cX",
        "outputId": "f36127dd-7119-4d19-eb9e-917a37a1c922"
      },
      "outputs": [
        {
          "data": {
            "text/html": [
              "<div>\n",
              "<style scoped>\n",
              "    .dataframe tbody tr th:only-of-type {\n",
              "        vertical-align: middle;\n",
              "    }\n",
              "\n",
              "    .dataframe tbody tr th {\n",
              "        vertical-align: top;\n",
              "    }\n",
              "\n",
              "    .dataframe thead th {\n",
              "        text-align: right;\n",
              "    }\n",
              "</style>\n",
              "<table border=\"1\" class=\"dataframe\">\n",
              "  <thead>\n",
              "    <tr style=\"text-align: right;\">\n",
              "      <th></th>\n",
              "      <th>propertyType</th>\n",
              "      <th>sqft</th>\n",
              "      <th>zipcode</th>\n",
              "      <th>state</th>\n",
              "      <th>target</th>\n",
              "      <th>Year built</th>\n",
              "      <th>dist_max</th>\n",
              "      <th>dist_min</th>\n",
              "      <th>rate_max</th>\n",
              "      <th>rate_min</th>\n",
              "    </tr>\n",
              "  </thead>\n",
              "  <tbody>\n",
              "    <tr>\n",
              "      <th>0</th>\n",
              "      <td>single family</td>\n",
              "      <td>2900.0</td>\n",
              "      <td>28387</td>\n",
              "      <td>NC</td>\n",
              "      <td>418000.0</td>\n",
              "      <td>2019.0</td>\n",
              "      <td>12.60</td>\n",
              "      <td>2.70</td>\n",
              "      <td>7.0</td>\n",
              "      <td>4.0</td>\n",
              "    </tr>\n",
              "    <tr>\n",
              "      <th>1</th>\n",
              "      <td>single family</td>\n",
              "      <td>1947.0</td>\n",
              "      <td>99216</td>\n",
              "      <td>WA</td>\n",
              "      <td>310000.0</td>\n",
              "      <td>2019.0</td>\n",
              "      <td>1.65</td>\n",
              "      <td>1.01</td>\n",
              "      <td>4.0</td>\n",
              "      <td>4.0</td>\n",
              "    </tr>\n",
              "    <tr>\n",
              "      <th>2</th>\n",
              "      <td>single family</td>\n",
              "      <td>3000.0</td>\n",
              "      <td>90049</td>\n",
              "      <td>CA</td>\n",
              "      <td>2895000.0</td>\n",
              "      <td>1961.0</td>\n",
              "      <td>2.63</td>\n",
              "      <td>1.19</td>\n",
              "      <td>8.0</td>\n",
              "      <td>4.0</td>\n",
              "    </tr>\n",
              "    <tr>\n",
              "      <th>3</th>\n",
              "      <td>single family</td>\n",
              "      <td>6457.0</td>\n",
              "      <td>75205</td>\n",
              "      <td>TX</td>\n",
              "      <td>2395000.0</td>\n",
              "      <td>2006.0</td>\n",
              "      <td>1.05</td>\n",
              "      <td>0.10</td>\n",
              "      <td>10.0</td>\n",
              "      <td>9.0</td>\n",
              "    </tr>\n",
              "    <tr>\n",
              "      <th>4</th>\n",
              "      <td>lot land</td>\n",
              "      <td>10019.0</td>\n",
              "      <td>32908</td>\n",
              "      <td>FL</td>\n",
              "      <td>5000.0</td>\n",
              "      <td>NaN</td>\n",
              "      <td>5.96</td>\n",
              "      <td>3.03</td>\n",
              "      <td>5.0</td>\n",
              "      <td>4.0</td>\n",
              "    </tr>\n",
              "  </tbody>\n",
              "</table>\n",
              "</div>"
            ],
            "text/plain": [
              "    propertyType     sqft zipcode state     target  Year built  dist_max  \\\n",
              "0  single family   2900.0   28387    NC   418000.0      2019.0     12.60   \n",
              "1  single family   1947.0   99216    WA   310000.0      2019.0      1.65   \n",
              "2  single family   3000.0   90049    CA  2895000.0      1961.0      2.63   \n",
              "3  single family   6457.0   75205    TX  2395000.0      2006.0      1.05   \n",
              "4       lot land  10019.0   32908    FL     5000.0         NaN      5.96   \n",
              "\n",
              "   dist_min  rate_max  rate_min  \n",
              "0      2.70       7.0       4.0  \n",
              "1      1.01       4.0       4.0  \n",
              "2      1.19       8.0       4.0  \n",
              "3      0.10      10.0       9.0  \n",
              "4      3.03       5.0       4.0  "
            ]
          },
          "execution_count": 781,
          "metadata": {},
          "output_type": "execute_result"
        }
      ],
      "source": [
        "df_train.head()"
      ]
    },
    {
      "cell_type": "code",
      "execution_count": 782,
      "metadata": {
        "colab": {
          "base_uri": "https://localhost:8080/"
        },
        "id": "MuYR3yGp5AN9",
        "outputId": "57995ef2-9d5a-4731-d9a1-cc1f346d13cc"
      },
      "outputs": [
        {
          "data": {
            "text/plain": [
              "propertyType    38074\n",
              "sqft            11405\n",
              "zipcode             2\n",
              "state               0\n",
              "target              0\n",
              "Year built      63271\n",
              "dist_max         4258\n",
              "dist_min         4258\n",
              "rate_max         5117\n",
              "rate_min         5117\n",
              "dtype: int64"
            ]
          },
          "execution_count": 782,
          "metadata": {},
          "output_type": "execute_result"
        }
      ],
      "source": [
        "df_train.isna().sum()\n",
        "\n",
        "# Мало значений null удалим их"
      ]
    },
    {
      "cell_type": "code",
      "execution_count": 783,
      "metadata": {
        "colab": {
          "base_uri": "https://localhost:8080/"
        },
        "id": "z1fkBt3-6P5D",
        "outputId": "4485b73e-a056-45cf-c37d-92ea8f18bb34"
      },
      "outputs": [
        {
          "name": "stdout",
          "output_type": "stream",
          "text": [
            "<class 'pandas.core.frame.DataFrame'>\n",
            "Int64Index: 285190 entries, 0 to 377184\n",
            "Data columns (total 10 columns):\n",
            " #   Column        Non-Null Count   Dtype  \n",
            "---  ------        --------------   -----  \n",
            " 0   propertyType  285190 non-null  object \n",
            " 1   sqft          285190 non-null  float64\n",
            " 2   zipcode       285190 non-null  object \n",
            " 3   state         285190 non-null  object \n",
            " 4   target        285190 non-null  float64\n",
            " 5   Year built    285190 non-null  float64\n",
            " 6   dist_max      285190 non-null  float64\n",
            " 7   dist_min      285190 non-null  float64\n",
            " 8   rate_max      285190 non-null  float64\n",
            " 9   rate_min      285190 non-null  float64\n",
            "dtypes: float64(7), object(3)\n",
            "memory usage: 23.9+ MB\n"
          ]
        }
      ],
      "source": [
        "df_train = df_train.dropna(axis=0)\n",
        "df_train.info()"
      ]
    },
    {
      "cell_type": "code",
      "execution_count": 784,
      "metadata": {
        "colab": {
          "base_uri": "https://localhost:8080/"
        },
        "id": "WP6I4Nsb6d08",
        "outputId": "a5efd8e4-8c94-4882-e3ca-bc0be6f87549"
      },
      "outputs": [
        {
          "data": {
            "text/plain": [
              "propertyType    180\n",
              "sqft            128\n",
              "zipcode           0\n",
              "state             0\n",
              "target            0\n",
              "Year built      329\n",
              "dist_max         27\n",
              "dist_min         27\n",
              "rate_max         35\n",
              "rate_min         35\n",
              "dtype: int64"
            ]
          },
          "execution_count": 784,
          "metadata": {},
          "output_type": "execute_result"
        }
      ],
      "source": [
        "df_test.isna().sum()\n",
        "\n",
        "# Мало нулевых значений, заполним их"
      ]
    },
    {
      "cell_type": "markdown",
      "metadata": {},
      "source": [
        "Заполнение null значение в тесте"
      ]
    },
    {
      "cell_type": "code",
      "execution_count": 785,
      "metadata": {
        "colab": {
          "base_uri": "https://localhost:8080/",
          "height": 282
        },
        "id": "99vN5w_vHZWG",
        "outputId": "bb07e7c2-214b-4daf-c42b-8b93e3bab921"
      },
      "outputs": [
        {
          "data": {
            "text/plain": [
              "<matplotlib.axes._subplots.AxesSubplot at 0x22ea44380c8>"
            ]
          },
          "execution_count": 785,
          "metadata": {},
          "output_type": "execute_result"
        },
        {
          "data": {
            "image/png": "[encoded data removed]",
            "text/plain": [
              "<Figure size 432x288 with 1 Axes>"
            ]
          },
          "metadata": {
            "needs_background": "light"
          },
          "output_type": "display_data"
        }
      ],
      "source": [
        "df_test['propertyType'].value_counts(ascending=True).plot.barh()"
      ]
    },
    {
      "cell_type": "code",
      "execution_count": 786,
      "metadata": {
        "id": "AXw7NjPY9KNr"
      },
      "outputs": [],
      "source": [
        "# Заменим null значения\r\n",
        "df_test.loc[df_test['propertyType'].isna(), 'propertyType'] = 'other'"
      ]
    },
    {
      "cell_type": "code",
      "execution_count": 787,
      "metadata": {
        "id": "yQXbF9nEDZ0b"
      },
      "outputs": [],
      "source": [
        "mean_sqft = round(df_test['sqft'].dropna().mean())\n",
        "\n",
        "df_test.loc[df_test['sqft'].isna(), 'sqft'] = mean_sqft"
      ]
    },
    {
      "cell_type": "code",
      "execution_count": 788,
      "metadata": {
        "id": "S394-4LuDgOL"
      },
      "outputs": [],
      "source": [
        "mean_dist_max = round(df_test['dist_max'].dropna().mean())\r\n",
        "\r\n",
        "df_test.loc[df_test['dist_max'].isna(), 'dist_max'] = mean_dist_max"
      ]
    },
    {
      "cell_type": "code",
      "execution_count": 789,
      "metadata": {
        "id": "Iylli9fJKde-"
      },
      "outputs": [],
      "source": [
        "mean_dist_min = round(df_test['dist_min'].dropna().mean())\r\n",
        "\r\n",
        "df_test.loc[df_test['dist_min'].isna(), 'dist_min'] = mean_dist_min"
      ]
    },
    {
      "cell_type": "code",
      "execution_count": 790,
      "metadata": {
        "id": "1tWwbK5RKmCt"
      },
      "outputs": [],
      "source": [
        "mean_rate_max = round(df_test['rate_max'].dropna().mean())\r\n",
        "\r\n",
        "df_test.loc[df_test['rate_max'].isna(), 'rate_max'] = mean_rate_max"
      ]
    },
    {
      "cell_type": "code",
      "execution_count": 791,
      "metadata": {
        "id": "QG_o-7e-K5MZ"
      },
      "outputs": [],
      "source": [
        "mean_rate_min = round(df_test['rate_min'].dropna().mean())\r\n",
        "\r\n",
        "df_test.loc[df_test['rate_min'].isna(), 'rate_min'] = mean_rate_min"
      ]
    },
    {
      "cell_type": "code",
      "execution_count": 792,
      "metadata": {},
      "outputs": [],
      "source": [
        "year_mean = round(df_test['Year built'].dropna().mean())\r\n",
        "\r\n",
        "df_test.loc[df_test['Year built'].isna(), 'Year built'] = year_mean"
      ]
    },
    {
      "cell_type": "code",
      "execution_count": 793,
      "metadata": {
        "id": "w5WGKJykLAPk"
      },
      "outputs": [],
      "source": [
        "# Дополнительно выделить столбцы с Null значениями!"
      ]
    },
    {
      "cell_type": "markdown",
      "metadata": {
        "id": "dQdYiLazXYzR"
      },
      "source": [
        "Обработка финального датасета"
      ]
    },
    {
      "cell_type": "code",
      "execution_count": 794,
      "metadata": {
        "colab": {
          "base_uri": "https://localhost:8080/",
          "height": 596
        },
        "id": "1jJCdNnKZ2ZG",
        "outputId": "84aed32e-9e7d-48e5-9f6d-dadbd8c20c22"
      },
      "outputs": [
        {
          "data": {
            "image/png": "[encoded data removed]",
            "text/plain": [
              "<Figure size 648x504 with 2 Axes>"
            ]
          },
          "metadata": {
            "needs_background": "light"
          },
          "output_type": "display_data"
        }
      ],
      "source": [
        "# Рассмотрим матрицу корреляции для начального удаления сильно скоррелированных признаков\r\n",
        "\r\n",
        "plt.figure(figsize=(9,7))\r\n",
        "\r\n",
        "sns.heatmap(df_train.corr().abs(), annot=True, fmt='.3f', cmap='PuBu')\r\n",
        "plt.yticks(rotation=0)\r\n",
        "plt.show()"
      ]
    },
    {
      "cell_type": "code",
      "execution_count": 795,
      "metadata": {},
      "outputs": [],
      "source": [
        "# Очень сильная корреляция между dist_max и dist_min, возможно потом удалим"
      ]
    },
    {
      "cell_type": "code",
      "execution_count": 796,
      "metadata": {},
      "outputs": [
        {
          "data": {
            "text/plain": [
              "Index(['propertyType', 'sqft', 'zipcode', 'state', 'target', 'Year built',\n",
              "       'dist_max', 'dist_min', 'rate_max', 'rate_min'],\n",
              "      dtype='object')"
            ]
          },
          "execution_count": 796,
          "metadata": {},
          "output_type": "execute_result"
        }
      ],
      "source": [
        "df.columns"
      ]
    },
    {
      "cell_type": "code",
      "execution_count": 797,
      "metadata": {
        "id": "XJBFXD1uXvVl"
      },
      "outputs": [],
      "source": [
        "# Задаем типы переменных\r\n",
        "\r\n",
        "categorical_features = ['propertyType', 'zipcode', 'state']\r\n",
        "numerical_features = ['sqft', 'Year built', 'dist_max', 'dist_min', 'rate_max', 'rate_min']\r\n",
        "value = ['target']"
      ]
    },
    {
      "cell_type": "code",
      "execution_count": 798,
      "metadata": {
        "colab": {
          "base_uri": "https://localhost:8080/",
          "height": 235
        },
        "id": "EHCrqsfUkNLn",
        "outputId": "72fb690a-a49a-44ae-849f-a2872c1bea24"
      },
      "outputs": [
        {
          "data": {
            "text/html": [
              "<div>\n",
              "<style scoped>\n",
              "    .dataframe tbody tr th:only-of-type {\n",
              "        vertical-align: middle;\n",
              "    }\n",
              "\n",
              "    .dataframe tbody tr th {\n",
              "        vertical-align: top;\n",
              "    }\n",
              "\n",
              "    .dataframe thead th {\n",
              "        text-align: right;\n",
              "    }\n",
              "</style>\n",
              "<table border=\"1\" class=\"dataframe\">\n",
              "  <thead>\n",
              "    <tr style=\"text-align: right;\">\n",
              "      <th></th>\n",
              "      <th>count</th>\n",
              "      <th>min</th>\n",
              "      <th>mean</th>\n",
              "      <th>max</th>\n",
              "      <th>low_range</th>\n",
              "      <th>upper_range</th>\n",
              "      <th>out_count</th>\n",
              "    </tr>\n",
              "    <tr>\n",
              "      <th>name</th>\n",
              "      <th></th>\n",
              "      <th></th>\n",
              "      <th></th>\n",
              "      <th></th>\n",
              "      <th></th>\n",
              "      <th></th>\n",
              "      <th></th>\n",
              "    </tr>\n",
              "  </thead>\n",
              "  <tbody>\n",
              "    <tr>\n",
              "      <th>sqft</th>\n",
              "      <td>285190.0</td>\n",
              "      <td>0.00</td>\n",
              "      <td>11465.41</td>\n",
              "      <td>7.959794e+08</td>\n",
              "      <td>-773.50</td>\n",
              "      <td>4702.50</td>\n",
              "      <td>17206.0</td>\n",
              "    </tr>\n",
              "    <tr>\n",
              "      <th>Year built</th>\n",
              "      <td>285190.0</td>\n",
              "      <td>1057.00</td>\n",
              "      <td>1979.10</td>\n",
              "      <td>2.025000e+03</td>\n",
              "      <td>1879.50</td>\n",
              "      <td>2083.50</td>\n",
              "      <td>739.0</td>\n",
              "    </tr>\n",
              "    <tr>\n",
              "      <th>dist_max</th>\n",
              "      <td>285190.0</td>\n",
              "      <td>0.02</td>\n",
              "      <td>4.91</td>\n",
              "      <td>1.591090e+03</td>\n",
              "      <td>-3.50</td>\n",
              "      <td>10.10</td>\n",
              "      <td>32788.0</td>\n",
              "    </tr>\n",
              "    <tr>\n",
              "      <th>dist_min</th>\n",
              "      <td>285190.0</td>\n",
              "      <td>0.01</td>\n",
              "      <td>1.08</td>\n",
              "      <td>1.590380e+03</td>\n",
              "      <td>-0.95</td>\n",
              "      <td>2.49</td>\n",
              "      <td>22413.0</td>\n",
              "    </tr>\n",
              "    <tr>\n",
              "      <th>rate_max</th>\n",
              "      <td>285190.0</td>\n",
              "      <td>1.00</td>\n",
              "      <td>6.72</td>\n",
              "      <td>1.000000e+01</td>\n",
              "      <td>-1.00</td>\n",
              "      <td>15.00</td>\n",
              "      <td>0.0</td>\n",
              "    </tr>\n",
              "    <tr>\n",
              "      <th>rate_min</th>\n",
              "      <td>285190.0</td>\n",
              "      <td>1.00</td>\n",
              "      <td>3.66</td>\n",
              "      <td>1.000000e+01</td>\n",
              "      <td>-2.50</td>\n",
              "      <td>9.50</td>\n",
              "      <td>474.0</td>\n",
              "    </tr>\n",
              "    <tr>\n",
              "      <th>target</th>\n",
              "      <td>285190.0</td>\n",
              "      <td>1.00</td>\n",
              "      <td>652171.00</td>\n",
              "      <td>1.950000e+08</td>\n",
              "      <td>-374500.00</td>\n",
              "      <td>1183900.00</td>\n",
              "      <td>28982.0</td>\n",
              "    </tr>\n",
              "  </tbody>\n",
              "</table>\n",
              "</div>"
            ],
            "text/plain": [
              "               count      min       mean           max  low_range  \\\n",
              "name                                                                \n",
              "sqft        285190.0     0.00   11465.41  7.959794e+08    -773.50   \n",
              "Year built  285190.0  1057.00    1979.10  2.025000e+03    1879.50   \n",
              "dist_max    285190.0     0.02       4.91  1.591090e+03      -3.50   \n",
              "dist_min    285190.0     0.01       1.08  1.590380e+03      -0.95   \n",
              "rate_max    285190.0     1.00       6.72  1.000000e+01      -1.00   \n",
              "rate_min    285190.0     1.00       3.66  1.000000e+01      -2.50   \n",
              "target      285190.0     1.00  652171.00  1.950000e+08 -374500.00   \n",
              "\n",
              "            upper_range  out_count  \n",
              "name                                \n",
              "sqft            4702.50    17206.0  \n",
              "Year built      2083.50      739.0  \n",
              "dist_max          10.10    32788.0  \n",
              "dist_min           2.49    22413.0  \n",
              "rate_max          15.00        0.0  \n",
              "rate_min           9.50      474.0  \n",
              "target       1183900.00    28982.0  "
            ]
          },
          "execution_count": 798,
          "metadata": {},
          "output_type": "execute_result"
        }
      ],
      "source": [
        "# Смотрим выбросы в трейне\r\n",
        "\r\n",
        "data_out = data_outlier(numerical_features + value, df_train)\r\n",
        "data_out"
      ]
    },
    {
      "cell_type": "markdown",
      "metadata": {
        "id": "X4bd63RVmHxF"
      },
      "source": [
        "# Рассмотрим числовые признаки по-отдельности"
      ]
    },
    {
      "cell_type": "code",
      "execution_count": 799,
      "metadata": {
        "colab": {
          "base_uri": "https://localhost:8080/",
          "height": 668
        },
        "id": "T1HQA3iGrj-c",
        "outputId": "8e915065-a82c-4204-d9dc-a785a268f2fe"
      },
      "outputs": [
        {
          "data": {
            "image/png": "[encoded data removed]",
            "text/plain": [
              "<Figure size 720x360 with 2 Axes>"
            ]
          },
          "metadata": {
            "needs_background": "light"
          },
          "output_type": "display_data"
        }
      ],
      "source": [
        "# target\r\n",
        "\r\n",
        "train_hist_plot('target', df_train)"
      ]
    },
    {
      "cell_type": "code",
      "execution_count": 800,
      "metadata": {},
      "outputs": [],
      "source": [
        "df_train = df_train[(df_train['target'] > 5000) & (df_train['target'] < 10_000_000)]"
      ]
    },
    {
      "cell_type": "code",
      "execution_count": 801,
      "metadata": {},
      "outputs": [
        {
          "data": {
            "image/png": "[encoded data removed]",
            "text/plain": [
              "<Figure size 720x360 with 2 Axes>"
            ]
          },
          "metadata": {
            "needs_background": "light"
          },
          "output_type": "display_data"
        }
      ],
      "source": [
        "train_hist_plot('target', df_train[(df_train['target'] > 5000) & (df_train['target'] < 10_000_000)])"
      ]
    },
    {
      "cell_type": "code",
      "execution_count": 802,
      "metadata": {
        "id": "1Dowp5Q7roq2"
      },
      "outputs": [],
      "source": [
        "df_train['target_log'] = np.log(df_train['target'] + 1)\r\n",
        "df_test['target_log'] = 0"
      ]
    },
    {
      "cell_type": "code",
      "execution_count": 803,
      "metadata": {},
      "outputs": [
        {
          "data": {
            "image/png": "[encoded data removed]",
            "text/plain": [
              "<Figure size 432x288 with 1 Axes>"
            ]
          },
          "metadata": {
            "needs_background": "light"
          },
          "output_type": "display_data"
        },
        {
          "data": {
            "text/html": [
              "<div>\n",
              "<style scoped>\n",
              "    .dataframe tbody tr th:only-of-type {\n",
              "        vertical-align: middle;\n",
              "    }\n",
              "\n",
              "    .dataframe tbody tr th {\n",
              "        vertical-align: top;\n",
              "    }\n",
              "\n",
              "    .dataframe thead th {\n",
              "        text-align: right;\n",
              "    }\n",
              "</style>\n",
              "<table border=\"1\" class=\"dataframe\">\n",
              "  <thead>\n",
              "    <tr style=\"text-align: right;\">\n",
              "      <th></th>\n",
              "      <th>count</th>\n",
              "      <th>min</th>\n",
              "      <th>mean</th>\n",
              "      <th>max</th>\n",
              "      <th>low_range</th>\n",
              "      <th>upper_range</th>\n",
              "      <th>out_count</th>\n",
              "    </tr>\n",
              "  </thead>\n",
              "  <tbody>\n",
              "    <tr>\n",
              "      <th>target</th>\n",
              "      <td>285190.0</td>\n",
              "      <td>1.0</td>\n",
              "      <td>652171.0</td>\n",
              "      <td>195000000.0</td>\n",
              "      <td>-374500.0</td>\n",
              "      <td>1183900.0</td>\n",
              "      <td>28982.0</td>\n",
              "    </tr>\n",
              "  </tbody>\n",
              "</table>\n",
              "</div>"
            ],
            "text/plain": [
              "           count  min      mean          max  low_range  upper_range  \\\n",
              "target  285190.0  1.0  652171.0  195000000.0  -374500.0    1183900.0   \n",
              "\n",
              "        out_count  \n",
              "target    28982.0  "
            ]
          },
          "execution_count": 803,
          "metadata": {},
          "output_type": "execute_result"
        }
      ],
      "source": [
        "# График выбросов\r\n",
        "sns.boxplot(x=df_train[\"target\"])\r\n",
        "plt.show()\r\n",
        "\r\n",
        "# Выбросы\r\n",
        "data_out.loc['target'].to_frame().T"
      ]
    },
    {
      "cell_type": "code",
      "execution_count": 804,
      "metadata": {},
      "outputs": [],
      "source": [
        "# Убираем выбросы\r\n",
        "# low_r = data_out.loc['target', 'low_range']\r\n",
        "# upp_r = data_out.loc['target', 'upper_range']\r\n",
        "\r\n",
        "# df_train = df_train[(df_train['target'] >= low_r) & (df_train['target'] <= upp_r)]"
      ]
    },
    {
      "cell_type": "code",
      "execution_count": 805,
      "metadata": {
        "colab": {
          "base_uri": "https://localhost:8080/",
          "height": 681
        },
        "id": "pbHbDBXgmK_R",
        "outputId": "2e77530b-5934-447b-f306-fed0c538a146"
      },
      "outputs": [
        {
          "data": {
            "image/png": "[encoded data removed]",
            "text/plain": [
              "<Figure size 720x360 with 2 Axes>"
            ]
          },
          "metadata": {
            "needs_background": "light"
          },
          "output_type": "display_data"
        },
        {
          "data": {
            "image/png": "[encoded data removed]",
            "text/plain": [
              "<Figure size 720x360 with 2 Axes>"
            ]
          },
          "metadata": {
            "needs_background": "light"
          },
          "output_type": "display_data"
        }
      ],
      "source": [
        "# sqft\r\n",
        "train_hist_plot('sqft', df_train)\r\n",
        "test_hist_plot('sqft', df_test)"
      ]
    },
    {
      "cell_type": "code",
      "execution_count": 806,
      "metadata": {},
      "outputs": [
        {
          "data": {
            "text/plain": [
              "1091"
            ]
          },
          "execution_count": 806,
          "metadata": {},
          "output_type": "execute_result"
        }
      ],
      "source": [
        "df_train[(df_train['sqft'] >= 50_000)]['sqft'].count()\r\n",
        "# df_train[(df_train['sqft'] < 1)]['sqft'].count()\r\n",
        "# df_train[(df_train['sqft'] > 0) & (df_train['sqft'] < 100)]['sqft'].count()"
      ]
    },
    {
      "cell_type": "code",
      "execution_count": 807,
      "metadata": {},
      "outputs": [],
      "source": [
        "df_train = df_train[(df_train['sqft'] > 100) & (df_train['sqft'] < 100_000)]"
      ]
    },
    {
      "cell_type": "code",
      "execution_count": 808,
      "metadata": {},
      "outputs": [
        {
          "data": {
            "image/png": "[encoded data removed]",
            "text/plain": [
              "<Figure size 720x360 with 2 Axes>"
            ]
          },
          "metadata": {
            "needs_background": "light"
          },
          "output_type": "display_data"
        }
      ],
      "source": [
        "train_hist_plot('sqft', df_train[(df_train['sqft'] > 100) & (df_train['sqft'] < 100_000)])"
      ]
    },
    {
      "cell_type": "code",
      "execution_count": 809,
      "metadata": {
        "colab": {
          "base_uri": "https://localhost:8080/",
          "height": 616
        },
        "id": "wgG9noKIobWS",
        "outputId": "aa94fa0c-f1be-487c-da50-c1e3bab32036"
      },
      "outputs": [
        {
          "data": {
            "image/png": "[encoded data removed]",
            "text/plain": [
              "<Figure size 576x576 with 1 Axes>"
            ]
          },
          "metadata": {
            "needs_background": "light"
          },
          "output_type": "display_data"
        }
      ],
      "source": [
        "plt.figure(figsize = (8,8))\r\n",
        "sns.regplot(data=df_train, y=\"target\", x=\"sqft\", fit_reg=False)\r\n",
        "plt.show()"
      ]
    },
    {
      "cell_type": "code",
      "execution_count": 810,
      "metadata": {
        "colab": {
          "base_uri": "https://localhost:8080/",
          "height": 342
        },
        "id": "_t9Hgve0qcyM",
        "outputId": "fd3d4f72-f722-46e3-ce3c-2defb88e2725"
      },
      "outputs": [
        {
          "data": {
            "image/png": "[encoded data removed]",
            "text/plain": [
              "<Figure size 432x288 with 1 Axes>"
            ]
          },
          "metadata": {
            "needs_background": "light"
          },
          "output_type": "display_data"
        },
        {
          "data": {
            "text/html": [
              "<div>\n",
              "<style scoped>\n",
              "    .dataframe tbody tr th:only-of-type {\n",
              "        vertical-align: middle;\n",
              "    }\n",
              "\n",
              "    .dataframe tbody tr th {\n",
              "        vertical-align: top;\n",
              "    }\n",
              "\n",
              "    .dataframe thead th {\n",
              "        text-align: right;\n",
              "    }\n",
              "</style>\n",
              "<table border=\"1\" class=\"dataframe\">\n",
              "  <thead>\n",
              "    <tr style=\"text-align: right;\">\n",
              "      <th></th>\n",
              "      <th>count</th>\n",
              "      <th>min</th>\n",
              "      <th>mean</th>\n",
              "      <th>max</th>\n",
              "      <th>low_range</th>\n",
              "      <th>upper_range</th>\n",
              "      <th>out_count</th>\n",
              "    </tr>\n",
              "  </thead>\n",
              "  <tbody>\n",
              "    <tr>\n",
              "      <th>sqft</th>\n",
              "      <td>285190.0</td>\n",
              "      <td>0.0</td>\n",
              "      <td>11465.41</td>\n",
              "      <td>795979430.0</td>\n",
              "      <td>-773.5</td>\n",
              "      <td>4702.5</td>\n",
              "      <td>17206.0</td>\n",
              "    </tr>\n",
              "  </tbody>\n",
              "</table>\n",
              "</div>"
            ],
            "text/plain": [
              "         count  min      mean          max  low_range  upper_range  out_count\n",
              "sqft  285190.0  0.0  11465.41  795979430.0     -773.5       4702.5    17206.0"
            ]
          },
          "execution_count": 810,
          "metadata": {},
          "output_type": "execute_result"
        }
      ],
      "source": [
        "# График выбросов\r\n",
        "sns.boxplot(x=df_train[\"sqft\"])\r\n",
        "plt.show()\r\n",
        "\r\n",
        "# Выбросы\r\n",
        "data_out.loc['sqft'].to_frame().T"
      ]
    },
    {
      "cell_type": "code",
      "execution_count": 811,
      "metadata": {},
      "outputs": [],
      "source": [
        "# Удаляем предварительно ненужное\r\n",
        "# df_train = df_train[df_train['sqft'] < 10_000_000]"
      ]
    },
    {
      "cell_type": "code",
      "execution_count": 812,
      "metadata": {
        "id": "GgBbrayLsVCZ"
      },
      "outputs": [],
      "source": [
        "# Удаляем выбросы\r\n",
        "\r\n",
        "# low_r = data_out.loc['sqft', 'low_range']\r\n",
        "# upp_r = data_out.loc['sqft', 'upper_range']\r\n",
        "\r\n",
        "# df_train = df_train[(df_train['sqft'] >= low_r) & (df_train['sqft'] <= upp_r)]"
      ]
    },
    {
      "cell_type": "code",
      "execution_count": 813,
      "metadata": {
        "id": "rSQbiy2osXB_"
      },
      "outputs": [],
      "source": [
        "df_train['sqft_log'] = np.log(df_train['sqft'] + 1)\r\n",
        "df_test['sqft_log'] = np.log(df_test['sqft'] + 1)"
      ]
    },
    {
      "cell_type": "code",
      "execution_count": 814,
      "metadata": {},
      "outputs": [
        {
          "data": {
            "image/png": "[encoded data removed]",
            "text/plain": [
              "<Figure size 720x360 with 2 Axes>"
            ]
          },
          "metadata": {
            "needs_background": "light"
          },
          "output_type": "display_data"
        },
        {
          "data": {
            "image/png": "[encoded data removed]",
            "text/plain": [
              "<Figure size 720x360 with 2 Axes>"
            ]
          },
          "metadata": {
            "needs_background": "light"
          },
          "output_type": "display_data"
        }
      ],
      "source": [
        "# Year built\r\n",
        "\r\n",
        "train_hist_plot('Year built', df_train)\r\n",
        "test_hist_plot('Year built', df_test)"
      ]
    },
    {
      "cell_type": "code",
      "execution_count": 815,
      "metadata": {},
      "outputs": [],
      "source": [
        "min_year_test = df_test['Year built'].min()\r\n",
        "\r\n",
        "# Удалим значения из трейна, не входящие в тест\r\n",
        "df_train = df_train[df_train['Year built'] >= min_year_test]"
      ]
    },
    {
      "cell_type": "code",
      "execution_count": 816,
      "metadata": {},
      "outputs": [],
      "source": [
        "df_train = df_train[df_train['Year built'] <= 2020]"
      ]
    },
    {
      "cell_type": "code",
      "execution_count": 817,
      "metadata": {},
      "outputs": [
        {
          "data": {
            "image/png": "[encoded data removed]",
            "text/plain": [
              "<Figure size 720x360 with 2 Axes>"
            ]
          },
          "metadata": {
            "needs_background": "light"
          },
          "output_type": "display_data"
        }
      ],
      "source": [
        "train_hist_plot('Year built', df_train[(df_train['Year built'] > 1850)])"
      ]
    },
    {
      "cell_type": "code",
      "execution_count": 818,
      "metadata": {},
      "outputs": [
        {
          "data": {
            "image/png": "[encoded data removed]",
            "text/plain": [
              "<Figure size 576x576 with 1 Axes>"
            ]
          },
          "metadata": {
            "needs_background": "light"
          },
          "output_type": "display_data"
        }
      ],
      "source": [
        "plt.figure(figsize = (8,8))\r\n",
        "sns.regplot(data=df_train, y=\"target\", x=\"Year built\", fit_reg=False)\r\n",
        "plt.show()"
      ]
    },
    {
      "cell_type": "code",
      "execution_count": 819,
      "metadata": {},
      "outputs": [
        {
          "data": {
            "image/png": "[encoded data removed]",
            "text/plain": [
              "<Figure size 432x288 with 1 Axes>"
            ]
          },
          "metadata": {
            "needs_background": "light"
          },
          "output_type": "display_data"
        },
        {
          "data": {
            "text/html": [
              "<div>\n",
              "<style scoped>\n",
              "    .dataframe tbody tr th:only-of-type {\n",
              "        vertical-align: middle;\n",
              "    }\n",
              "\n",
              "    .dataframe tbody tr th {\n",
              "        vertical-align: top;\n",
              "    }\n",
              "\n",
              "    .dataframe thead th {\n",
              "        text-align: right;\n",
              "    }\n",
              "</style>\n",
              "<table border=\"1\" class=\"dataframe\">\n",
              "  <thead>\n",
              "    <tr style=\"text-align: right;\">\n",
              "      <th></th>\n",
              "      <th>count</th>\n",
              "      <th>min</th>\n",
              "      <th>mean</th>\n",
              "      <th>max</th>\n",
              "      <th>low_range</th>\n",
              "      <th>upper_range</th>\n",
              "      <th>out_count</th>\n",
              "    </tr>\n",
              "  </thead>\n",
              "  <tbody>\n",
              "    <tr>\n",
              "      <th>Year built</th>\n",
              "      <td>285190.0</td>\n",
              "      <td>1057.0</td>\n",
              "      <td>1979.1</td>\n",
              "      <td>2025.0</td>\n",
              "      <td>1879.5</td>\n",
              "      <td>2083.5</td>\n",
              "      <td>739.0</td>\n",
              "    </tr>\n",
              "  </tbody>\n",
              "</table>\n",
              "</div>"
            ],
            "text/plain": [
              "               count     min    mean     max  low_range  upper_range  \\\n",
              "Year built  285190.0  1057.0  1979.1  2025.0     1879.5       2083.5   \n",
              "\n",
              "            out_count  \n",
              "Year built      739.0  "
            ]
          },
          "execution_count": 819,
          "metadata": {},
          "output_type": "execute_result"
        }
      ],
      "source": [
        "# График выбросов\r\n",
        "sns.boxplot(x=df_train[\"Year built\"])\r\n",
        "plt.show()\r\n",
        "\r\n",
        "# Выбросы\r\n",
        "data_out.loc['Year built'].to_frame().T"
      ]
    },
    {
      "cell_type": "code",
      "execution_count": 820,
      "metadata": {},
      "outputs": [],
      "source": [
        "df_train['year_built_log'] = np.log(df_train['Year built'] + 1)\r\n",
        "df_test['year_built_log'] = np.log(df_test['Year built'] + 1)"
      ]
    },
    {
      "cell_type": "code",
      "execution_count": 821,
      "metadata": {
        "colab": {
          "base_uri": "https://localhost:8080/",
          "height": 655
        },
        "id": "BpqTvUg9MI38",
        "outputId": "84763128-218d-4159-b5fd-97d7a3f8b0f7"
      },
      "outputs": [
        {
          "data": {
            "image/png": "[encoded data removed]",
            "text/plain": [
              "<Figure size 720x360 with 2 Axes>"
            ]
          },
          "metadata": {
            "needs_background": "light"
          },
          "output_type": "display_data"
        },
        {
          "data": {
            "image/png": "[encoded data removed]",
            "text/plain": [
              "<Figure size 720x360 with 2 Axes>"
            ]
          },
          "metadata": {
            "needs_background": "light"
          },
          "output_type": "display_data"
        }
      ],
      "source": [
        "# dist_max\n",
        "\n",
        "train_hist_plot('dist_max', df_train)\n",
        "test_hist_plot('dist_max', df_test)"
      ]
    },
    {
      "cell_type": "code",
      "execution_count": 822,
      "metadata": {},
      "outputs": [
        {
          "data": {
            "text/plain": [
              "301"
            ]
          },
          "execution_count": 822,
          "metadata": {},
          "output_type": "execute_result"
        }
      ],
      "source": [
        "df_train[(df_train['dist_max'] >= 35.1)]['dist_max'].count()"
      ]
    },
    {
      "cell_type": "code",
      "execution_count": 823,
      "metadata": {},
      "outputs": [],
      "source": [
        "df_train = df_train[df_train['dist_max'] <= 35]"
      ]
    },
    {
      "cell_type": "code",
      "execution_count": 824,
      "metadata": {},
      "outputs": [
        {
          "data": {
            "image/png": "[encoded data removed]",
            "text/plain": [
              "<Figure size 720x360 with 2 Axes>"
            ]
          },
          "metadata": {
            "needs_background": "light"
          },
          "output_type": "display_data"
        }
      ],
      "source": [
        "train_hist_plot('dist_max', df_train[(df_train['dist_max'] <= 35)])"
      ]
    },
    {
      "cell_type": "code",
      "execution_count": 825,
      "metadata": {
        "id": "3xAl1HcIs4gS"
      },
      "outputs": [],
      "source": [
        "df_train['dist_max_log'] = np.log(df_train['dist_max'] + 1)\r\n",
        "df_test['dist_max_log'] = np.log(df_test['dist_max'] + 1)"
      ]
    },
    {
      "cell_type": "code",
      "execution_count": 826,
      "metadata": {
        "colab": {
          "base_uri": "https://localhost:8080/",
          "height": 617
        },
        "id": "uEBdtbUItBT9",
        "outputId": "4e35d9ea-eb5f-4324-bf61-df264f929093"
      },
      "outputs": [
        {
          "data": {
            "image/png": "[encoded data removed]",
            "text/plain": [
              "<Figure size 576x576 with 1 Axes>"
            ]
          },
          "metadata": {
            "needs_background": "light"
          },
          "output_type": "display_data"
        }
      ],
      "source": [
        "plt.figure(figsize = (8, 8))\r\n",
        "sns.regplot(data=df_train, y=\"target\", x=\"dist_max\", fit_reg=False)\r\n",
        "plt.show()"
      ]
    },
    {
      "cell_type": "code",
      "execution_count": 827,
      "metadata": {
        "colab": {
          "base_uri": "https://localhost:8080/",
          "height": 343
        },
        "id": "GbBl3GgztOrq",
        "outputId": "8820e54c-122c-4537-a2e5-eb54ae7f11ec"
      },
      "outputs": [
        {
          "data": {
            "image/png": "[encoded data removed]",
            "text/plain": [
              "<Figure size 432x288 with 1 Axes>"
            ]
          },
          "metadata": {
            "needs_background": "light"
          },
          "output_type": "display_data"
        },
        {
          "data": {
            "text/html": [
              "<div>\n",
              "<style scoped>\n",
              "    .dataframe tbody tr th:only-of-type {\n",
              "        vertical-align: middle;\n",
              "    }\n",
              "\n",
              "    .dataframe tbody tr th {\n",
              "        vertical-align: top;\n",
              "    }\n",
              "\n",
              "    .dataframe thead th {\n",
              "        text-align: right;\n",
              "    }\n",
              "</style>\n",
              "<table border=\"1\" class=\"dataframe\">\n",
              "  <thead>\n",
              "    <tr style=\"text-align: right;\">\n",
              "      <th></th>\n",
              "      <th>count</th>\n",
              "      <th>min</th>\n",
              "      <th>mean</th>\n",
              "      <th>max</th>\n",
              "      <th>low_range</th>\n",
              "      <th>upper_range</th>\n",
              "      <th>out_count</th>\n",
              "    </tr>\n",
              "  </thead>\n",
              "  <tbody>\n",
              "    <tr>\n",
              "      <th>dist_max</th>\n",
              "      <td>285190.0</td>\n",
              "      <td>0.02</td>\n",
              "      <td>4.91</td>\n",
              "      <td>1591.09</td>\n",
              "      <td>-3.5</td>\n",
              "      <td>10.1</td>\n",
              "      <td>32788.0</td>\n",
              "    </tr>\n",
              "  </tbody>\n",
              "</table>\n",
              "</div>"
            ],
            "text/plain": [
              "             count   min  mean      max  low_range  upper_range  out_count\n",
              "dist_max  285190.0  0.02  4.91  1591.09       -3.5         10.1    32788.0"
            ]
          },
          "execution_count": 827,
          "metadata": {},
          "output_type": "execute_result"
        }
      ],
      "source": [
        "# График выбросов\r\n",
        "sns.boxplot(x=df_train[\"dist_max\"])\r\n",
        "plt.show()\r\n",
        "\r\n",
        "# Выбросы\r\n",
        "data_out.loc['dist_max'].to_frame().T"
      ]
    },
    {
      "cell_type": "code",
      "execution_count": 828,
      "metadata": {},
      "outputs": [],
      "source": [
        "# Удаляем предварительно ненужное\r\n",
        "\r\n",
        "# df_train = df_train[df_train['dist_max'] < 40]"
      ]
    },
    {
      "cell_type": "code",
      "execution_count": 829,
      "metadata": {
        "id": "c_1dPGLzv0a0"
      },
      "outputs": [],
      "source": [
        "# Удалим выбросы\r\n",
        "\r\n",
        "# low_r = data_out.loc['dist_max', 'low_range']\r\n",
        "# upp_r = data_out.loc['dist_max', 'upper_range']\r\n",
        "\r\n",
        "# df_train = df_train[(df_train['dist_max'] >= low_r) & (df_train['dist_max'] <= upp_r)]"
      ]
    },
    {
      "cell_type": "code",
      "execution_count": 830,
      "metadata": {
        "colab": {
          "base_uri": "https://localhost:8080/",
          "height": 655
        },
        "id": "OuAScmCjnrnE",
        "outputId": "5a77e314-7fe9-45d5-bb9e-4d242cccd847"
      },
      "outputs": [
        {
          "data": {
            "image/png": "[encoded data removed]",
            "text/plain": [
              "<Figure size 720x360 with 2 Axes>"
            ]
          },
          "metadata": {
            "needs_background": "light"
          },
          "output_type": "display_data"
        },
        {
          "data": {
            "image/png": "[encoded data removed]",
            "text/plain": [
              "<Figure size 720x360 with 2 Axes>"
            ]
          },
          "metadata": {
            "needs_background": "light"
          },
          "output_type": "display_data"
        }
      ],
      "source": [
        "# dist_min\n",
        "\n",
        "train_hist_plot('dist_min', df_train)\n",
        "test_hist_plot('dist_min', df_test)"
      ]
    },
    {
      "cell_type": "code",
      "execution_count": 831,
      "metadata": {},
      "outputs": [
        {
          "data": {
            "text/plain": [
              "412"
            ]
          },
          "execution_count": 831,
          "metadata": {},
          "output_type": "execute_result"
        }
      ],
      "source": [
        "df_train[(df_train['dist_min'] > 15)]['dist_min'].count()"
      ]
    },
    {
      "cell_type": "code",
      "execution_count": 832,
      "metadata": {},
      "outputs": [],
      "source": [
        "df_train = df_train[(df_train['dist_min'] <= 15)]"
      ]
    },
    {
      "cell_type": "code",
      "execution_count": 833,
      "metadata": {},
      "outputs": [
        {
          "data": {
            "image/png": "[encoded data removed]",
            "text/plain": [
              "<Figure size 720x360 with 2 Axes>"
            ]
          },
          "metadata": {
            "needs_background": "light"
          },
          "output_type": "display_data"
        }
      ],
      "source": [
        "train_hist_plot('dist_min', df_train[(df_train['dist_min'] <= 15)])"
      ]
    },
    {
      "cell_type": "code",
      "execution_count": 834,
      "metadata": {
        "id": "_VZXCOIXv5uR"
      },
      "outputs": [],
      "source": [
        "df_train['dist_min_log'] = np.log(df_train['dist_min'] + 1)\r\n",
        "df_test['dist_min_log'] = np.log(df_test['dist_min'] + 1)"
      ]
    },
    {
      "cell_type": "code",
      "execution_count": 835,
      "metadata": {
        "colab": {
          "base_uri": "https://localhost:8080/",
          "height": 617
        },
        "id": "ycXTH3Qav8Xn",
        "outputId": "38fe958c-fc65-4f2f-b2fc-9bb9e3f39f90"
      },
      "outputs": [
        {
          "data": {
            "image/png": "[encoded data removed]",
            "text/plain": [
              "<Figure size 576x576 with 1 Axes>"
            ]
          },
          "metadata": {
            "needs_background": "light"
          },
          "output_type": "display_data"
        }
      ],
      "source": [
        "plt.figure(figsize = (8, 8))\r\n",
        "sns.regplot(data=df_train, y=\"target\", x=\"dist_min\", fit_reg=False)\r\n",
        "plt.show()"
      ]
    },
    {
      "cell_type": "code",
      "execution_count": 836,
      "metadata": {
        "colab": {
          "base_uri": "https://localhost:8080/",
          "height": 343
        },
        "id": "N_xFfphWwCv5",
        "outputId": "46407028-9ed5-420a-e126-5b0a21b5fa09"
      },
      "outputs": [
        {
          "data": {
            "image/png": "[encoded data removed]",
            "text/plain": [
              "<Figure size 432x288 with 1 Axes>"
            ]
          },
          "metadata": {
            "needs_background": "light"
          },
          "output_type": "display_data"
        },
        {
          "data": {
            "text/html": [
              "<div>\n",
              "<style scoped>\n",
              "    .dataframe tbody tr th:only-of-type {\n",
              "        vertical-align: middle;\n",
              "    }\n",
              "\n",
              "    .dataframe tbody tr th {\n",
              "        vertical-align: top;\n",
              "    }\n",
              "\n",
              "    .dataframe thead th {\n",
              "        text-align: right;\n",
              "    }\n",
              "</style>\n",
              "<table border=\"1\" class=\"dataframe\">\n",
              "  <thead>\n",
              "    <tr style=\"text-align: right;\">\n",
              "      <th></th>\n",
              "      <th>count</th>\n",
              "      <th>min</th>\n",
              "      <th>mean</th>\n",
              "      <th>max</th>\n",
              "      <th>low_range</th>\n",
              "      <th>upper_range</th>\n",
              "      <th>out_count</th>\n",
              "    </tr>\n",
              "  </thead>\n",
              "  <tbody>\n",
              "    <tr>\n",
              "      <th>dist_min</th>\n",
              "      <td>285190.0</td>\n",
              "      <td>0.01</td>\n",
              "      <td>1.08</td>\n",
              "      <td>1590.38</td>\n",
              "      <td>-0.95</td>\n",
              "      <td>2.49</td>\n",
              "      <td>22413.0</td>\n",
              "    </tr>\n",
              "  </tbody>\n",
              "</table>\n",
              "</div>"
            ],
            "text/plain": [
              "             count   min  mean      max  low_range  upper_range  out_count\n",
              "dist_min  285190.0  0.01  1.08  1590.38      -0.95         2.49    22413.0"
            ]
          },
          "execution_count": 836,
          "metadata": {},
          "output_type": "execute_result"
        }
      ],
      "source": [
        "# График выбросов\r\n",
        "sns.boxplot(x=df_train[\"dist_min\"])\r\n",
        "plt.show()\r\n",
        "\r\n",
        "# Выбросы\r\n",
        "data_out.loc['dist_min'].to_frame().T"
      ]
    },
    {
      "cell_type": "code",
      "execution_count": 837,
      "metadata": {},
      "outputs": [],
      "source": [
        "# Удаляем предварительно ненужное\r\n",
        "\r\n",
        "# df_train = df_train[df_train['dist_min'] < 30]"
      ]
    },
    {
      "cell_type": "code",
      "execution_count": 838,
      "metadata": {
        "id": "i5zhyaBvwQVe"
      },
      "outputs": [],
      "source": [
        "# Удалим выбросы\r\n",
        "\r\n",
        "# low_r = data_out.loc['dist_min', 'low_range']\r\n",
        "# upp_r = data_out.loc['dist_min', 'upper_range']\r\n",
        "\r\n",
        "# df_train = df_train[(df_train['dist_min'] >= low_r) & (df_train['dist_min'] <= upp_r)]"
      ]
    },
    {
      "cell_type": "code",
      "execution_count": 839,
      "metadata": {
        "colab": {
          "base_uri": "https://localhost:8080/",
          "height": 655
        },
        "id": "Hcb0fFEun2Ts",
        "outputId": "c6660c51-c705-4e20-8877-e5872d53d410"
      },
      "outputs": [
        {
          "data": {
            "image/png": "[encoded data removed]",
            "text/plain": [
              "<Figure size 432x288 with 1 Axes>"
            ]
          },
          "metadata": {
            "needs_background": "light"
          },
          "output_type": "display_data"
        },
        {
          "data": {
            "image/png": "[encoded data removed]",
            "text/plain": [
              "<Figure size 432x288 with 1 Axes>"
            ]
          },
          "metadata": {
            "needs_background": "light"
          },
          "output_type": "display_data"
        }
      ],
      "source": [
        "# rate_max\r\n",
        "\r\n",
        "sns.countplot(x=df_train[\"rate_max\"], data=df_train)\r\n",
        "plt.show()\r\n",
        "\r\n",
        "sns.countplot(x=df_test[\"rate_max\"], data=df_test)\r\n",
        "plt.show()"
      ]
    },
    {
      "cell_type": "code",
      "execution_count": 840,
      "metadata": {},
      "outputs": [
        {
          "data": {
            "image/png": "[encoded data removed]",
            "text/plain": [
              "<Figure size 432x288 with 1 Axes>"
            ]
          },
          "metadata": {
            "needs_background": "light"
          },
          "output_type": "display_data"
        }
      ],
      "source": [
        "sns.boxplot(data=df_train, x='rate_max', y='target')\r\n",
        "plt.show()"
      ]
    },
    {
      "cell_type": "code",
      "execution_count": 841,
      "metadata": {
        "colab": {
          "base_uri": "https://localhost:8080/",
          "height": 655
        },
        "id": "ueDXuRNInwFs",
        "outputId": "f65b6efe-6e4f-45e6-edb5-641807a47ad2"
      },
      "outputs": [
        {
          "data": {
            "image/png": "[encoded data removed]",
            "text/plain": [
              "<Figure size 432x288 with 1 Axes>"
            ]
          },
          "metadata": {
            "needs_background": "light"
          },
          "output_type": "display_data"
        },
        {
          "data": {
            "image/png": "[encoded data removed]",
            "text/plain": [
              "<Figure size 432x288 with 1 Axes>"
            ]
          },
          "metadata": {
            "needs_background": "light"
          },
          "output_type": "display_data"
        }
      ],
      "source": [
        "# rate_min\r\n",
        "\r\n",
        "sns.countplot(x=df_train[\"rate_min\"], data=df_train)\r\n",
        "plt.show()\r\n",
        "\r\n",
        "sns.countplot(x=df_test[\"rate_min\"], data=df_test)\r\n",
        "plt.show()"
      ]
    },
    {
      "cell_type": "code",
      "execution_count": 842,
      "metadata": {},
      "outputs": [
        {
          "data": {
            "image/png": "[encoded data removed]",
            "text/plain": [
              "<Figure size 432x288 with 1 Axes>"
            ]
          },
          "metadata": {
            "needs_background": "light"
          },
          "output_type": "display_data"
        }
      ],
      "source": [
        "sns.boxplot(data=df_train, x='rate_min', y='target')\r\n",
        "plt.show()"
      ]
    },
    {
      "cell_type": "code",
      "execution_count": 843,
      "metadata": {},
      "outputs": [],
      "source": [
        "# Работа с таргетом  ?"
      ]
    },
    {
      "cell_type": "markdown",
      "metadata": {
        "id": "wWv9QG3yxtIw"
      },
      "source": [
        "# Влияние числовых признаков на target"
      ]
    },
    {
      "cell_type": "code",
      "execution_count": 844,
      "metadata": {
        "id": "9ahICBAfxfK3"
      },
      "outputs": [
        {
          "data": {
            "text/plain": [
              "Index(['propertyType', 'sqft', 'zipcode', 'state', 'target', 'Year built',\n",
              "       'dist_max', 'dist_min', 'rate_max', 'rate_min', 'target_log',\n",
              "       'sqft_log', 'year_built_log', 'dist_max_log', 'dist_min_log'],\n",
              "      dtype='object')"
            ]
          },
          "metadata": {},
          "output_type": "display_data"
        },
        {
          "name": "stdout",
          "output_type": "stream",
          "text": [
            "['sqft', 'Year built', 'dist_max', 'dist_min', 'rate_max', 'rate_min']\n"
          ]
        }
      ],
      "source": [
        "display(df_train.columns)\r\n",
        "print(numerical_features)"
      ]
    },
    {
      "cell_type": "code",
      "execution_count": 845,
      "metadata": {
        "id": "ywpTzTNfxMkB"
      },
      "outputs": [],
      "source": [
        "# Введем новые числовые признаки\r\n",
        "numerical_features = numerical_features + ['sqft_log', 'year_built_log', 'dist_max_log', 'dist_min_log']"
      ]
    },
    {
      "cell_type": "code",
      "execution_count": 846,
      "metadata": {
        "colab": {
          "base_uri": "https://localhost:8080/",
          "height": 282
        },
        "id": "o2_zFghuwxuj",
        "outputId": "c7787957-c5f7-4ae6-8f5d-a15426a25c06"
      },
      "outputs": [
        {
          "data": {
            "text/plain": [
              "<matplotlib.axes._subplots.AxesSubplot at 0x22c88dbe548>"
            ]
          },
          "execution_count": 846,
          "metadata": {},
          "output_type": "execute_result"
        },
        {
          "data": {
            "image/png": "[encoded data removed]",
            "text/plain": [
              "<Figure size 432x288 with 1 Axes>"
            ]
          },
          "metadata": {
            "needs_background": "light"
          },
          "output_type": "display_data"
        }
      ],
      "source": [
        "# График влияния числовых переменных на target\r\n",
        "\r\n",
        "df_train_imp = df_train.copy()\r\n",
        "\r\n",
        "# рассмотрим значимость переменных\r\n",
        "\r\n",
        "imp_num = pd.Series(f_regression(df_train_imp[numerical_features], \r\n",
        "                              df_train_imp['target_log'])[0], index=numerical_features)\r\n",
        "imp_num.sort_values(inplace = True)\r\n",
        "imp_num.plot(kind = 'barh')"
      ]
    },
    {
      "cell_type": "code",
      "execution_count": 847,
      "metadata": {
        "id": "qeWTWMNCw28D"
      },
      "outputs": [],
      "source": [
        "# График влияния числовых переменных на target\r\n",
        "\r\n",
        "# df_train_imp = df_train.copy()\r\n",
        "\r\n",
        "# # рассмотрим значимость переменных\r\n",
        "# label_encoder = LabelEncoder()\r\n",
        "\r\n",
        "# imp_num = pd.Series(mutual_info_regression(df_train_imp[numerical_features_new], \r\n",
        "#                               df_train_imp['target_log']), index=numerical_features_new)\r\n",
        "# imp_num.sort_values(inplace = True)\r\n",
        "# imp_num.plot(kind = 'barh')"
      ]
    },
    {
      "cell_type": "markdown",
      "metadata": {},
      "source": [
        "# Рассмотрим категориальные переменные"
      ]
    },
    {
      "cell_type": "code",
      "execution_count": 848,
      "metadata": {},
      "outputs": [
        {
          "data": {
            "text/plain": [
              "single family           166344\n",
              "condo                    39216\n",
              "townhouse                15716\n",
              "multi family             11207\n",
              "condo town row            7200\n",
              "                         ...  \n",
              "colonial triplex             1\n",
              "traditional art deco         1\n",
              "french transitional          1\n",
              "garden patio                 1\n",
              "custom victorian             1\n",
              "Name: propertyType, Length: 773, dtype: int64"
            ]
          },
          "execution_count": 848,
          "metadata": {},
          "output_type": "execute_result"
        }
      ],
      "source": [
        "df_train['propertyType'].value_counts()"
      ]
    },
    {
      "cell_type": "code",
      "execution_count": 849,
      "metadata": {},
      "outputs": [
        {
          "data": {
            "text/plain": [
              "single family                1814\n",
              "other                         181\n",
              "condo                         157\n",
              "apartment                     124\n",
              "multi family                   48\n",
              "townhouse                      48\n",
              "singlefamilyresidence          41\n",
              "lot land                       20\n",
              "mobile manufactured            15\n",
              "multiple occupancy             13\n",
              "miscellaneous                   8\n",
              "apartment condo townhouse       2\n",
              "cooperative                     2\n",
              "traditional                     1\n",
              "federal                         1\n",
              "coop                            1\n",
              "unknown                         1\n",
              "contemporary                    1\n",
              "mfd mobile                      1\n",
              "colonial                        1\n",
              "land                            1\n",
              "Name: propertyType, dtype: int64"
            ]
          },
          "execution_count": 849,
          "metadata": {},
          "output_type": "execute_result"
        }
      ],
      "source": [
        "df_test['propertyType'].value_counts()"
      ]
    },
    {
      "cell_type": "code",
      "execution_count": 850,
      "metadata": {},
      "outputs": [
        {
          "data": {
            "text/plain": [
              "singlefamilyresidence        41\n",
              "apartment condo townhouse     2\n",
              "Name: propertyType, dtype: int64"
            ]
          },
          "execution_count": 850,
          "metadata": {},
          "output_type": "execute_result"
        }
      ],
      "source": [
        "unique_train_type = df_train['propertyType'].unique()\r\n",
        "\r\n",
        "df_test[~df_test['propertyType'].isin(unique_train_type)]['propertyType'].value_counts()"
      ]
    },
    {
      "cell_type": "code",
      "execution_count": 851,
      "metadata": {},
      "outputs": [],
      "source": [
        "# Так как количетсво этих значений мало, заменим на аналогичное из теста\r\n",
        "\r\n",
        "df_test.loc[df_test['propertyType'] == 'apartment condo townhouse', 'propertyType'] = 'apartment'\r\n",
        "df_test.loc[df_test['propertyType'] == 'singlefamilyresidence', 'propertyType'] = 'single family'"
      ]
    },
    {
      "cell_type": "code",
      "execution_count": 852,
      "metadata": {},
      "outputs": [],
      "source": [
        "unique_type = df_test['propertyType'].unique()\r\n",
        "\r\n",
        "# Удалим строки из трейна, где нет значений из теста\r\n",
        "df_train = df_train[df_train['propertyType'].isin(unique_type)]"
      ]
    },
    {
      "cell_type": "code",
      "execution_count": 853,
      "metadata": {},
      "outputs": [
        {
          "data": {
            "image/png": "[encoded data removed]",
            "text/plain": [
              "<Figure size 432x288 with 1 Axes>"
            ]
          },
          "metadata": {
            "needs_background": "light"
          },
          "output_type": "display_data"
        },
        {
          "data": {
            "image/png": "[encoded data removed]",
            "text/plain": [
              "<Figure size 432x288 with 1 Axes>"
            ]
          },
          "metadata": {
            "needs_background": "light"
          },
          "output_type": "display_data"
        }
      ],
      "source": [
        "# Посмотрим как распределены значения в трейне и тесте\r\n",
        "\r\n",
        "sns.countplot(y=\"propertyType\", data=df_train, order = df_train['propertyType'].value_counts().index)\r\n",
        "plt.show()\r\n",
        "\r\n",
        "sns.countplot(y=\"propertyType\", data=df_test, order = df_test['propertyType'].value_counts().index)\r\n",
        "plt.show()"
      ]
    },
    {
      "cell_type": "code",
      "execution_count": 854,
      "metadata": {},
      "outputs": [],
      "source": [
        "# В дальнейшем можно будет упростить значения, чтобы не было такого разброса"
      ]
    },
    {
      "cell_type": "code",
      "execution_count": 855,
      "metadata": {},
      "outputs": [
        {
          "data": {
            "text/plain": [
              "33131    1267\n",
              "33132    1011\n",
              "33137     985\n",
              "33130     909\n",
              "32137     906\n",
              "         ... \n",
              "50457       1\n",
              "14752       1\n",
              "94707       1\n",
              "48502       1\n",
              "48827       1\n",
              "Name: zipcode, Length: 4032, dtype: int64"
            ]
          },
          "execution_count": 855,
          "metadata": {},
          "output_type": "execute_result"
        }
      ],
      "source": [
        "df_train['zipcode'].value_counts()"
      ]
    },
    {
      "cell_type": "code",
      "execution_count": 856,
      "metadata": {},
      "outputs": [
        {
          "data": {
            "text/plain": [
              "20019    22\n",
              "33647    20\n",
              "11201    19\n",
              "32209    18\n",
              "33712    17\n",
              "         ..\n",
              "30313     1\n",
              "32305     1\n",
              "20037     1\n",
              "76119     1\n",
              "84104     1\n",
              "Name: zipcode, Length: 1163, dtype: int64"
            ]
          },
          "execution_count": 856,
          "metadata": {},
          "output_type": "execute_result"
        }
      ],
      "source": [
        "df_test['zipcode'].value_counts()"
      ]
    },
    {
      "cell_type": "code",
      "execution_count": 857,
      "metadata": {},
      "outputs": [],
      "source": [
        "# Так как количество уникальных значений слишком много, разделим из согласно правилу 3-2\r\n",
        "\r\n",
        "df_train.loc[:,'zip_f'] = df_train['zipcode'].apply(lambda x: str(x)[:3])\r\n",
        "df_test.loc[:,'zip_f'] = df_test['zipcode'].apply(lambda x: str(x)[:3])\r\n",
        "\r\n",
        "df_train.loc[:,'zip_s'] = df_train['zipcode'].apply(lambda x: str(x)[3:])\r\n",
        "df_test.loc[:,'zip_s'] = df_test['zipcode'].apply(lambda x: str(x)[3:])\r\n"
      ]
    },
    {
      "cell_type": "code",
      "execution_count": 858,
      "metadata": {},
      "outputs": [
        {
          "data": {
            "text/plain": [
              "Series([], Name: zip_f, dtype: int64)"
            ]
          },
          "execution_count": 858,
          "metadata": {},
          "output_type": "execute_result"
        }
      ],
      "source": [
        "unique_train_zipf = df_train['zip_f'].unique()\r\n",
        "\r\n",
        "df_test[~df_test['zip_f'].isin(unique_train_zipf)]['zip_f'].value_counts()"
      ]
    },
    {
      "cell_type": "code",
      "execution_count": 859,
      "metadata": {},
      "outputs": [
        {
          "data": {
            "text/plain": [
              "Series([], Name: zip_s, dtype: int64)"
            ]
          },
          "execution_count": 859,
          "metadata": {},
          "output_type": "execute_result"
        }
      ],
      "source": [
        "unique_train_zips = df_train['zip_s'].unique()\r\n",
        "\r\n",
        "df_test[~df_test['zip_s'].isin(unique_train_zips)]['zip_s'].value_counts()"
      ]
    },
    {
      "cell_type": "code",
      "execution_count": 860,
      "metadata": {},
      "outputs": [],
      "source": [
        "unique_zipf = df_test['zip_f'].unique()\r\n",
        "unique_zips = df_test['zip_s'].unique()\r\n",
        "\r\n",
        "# Удалим строки из трейна, где нет значений из теста\r\n",
        "df_train = df_train[df_train['zip_f'].isin(unique_zipf)]\r\n",
        "df_train = df_train[df_train['zip_s'].isin(unique_zips)]"
      ]
    },
    {
      "cell_type": "code",
      "execution_count": 861,
      "metadata": {},
      "outputs": [],
      "source": [
        "# Нужно будет сократить количество уникальных значений, их сильно много\r\n",
        "\r\n",
        "# Ввести новые признаки в датафрейм"
      ]
    },
    {
      "cell_type": "code",
      "execution_count": 862,
      "metadata": {},
      "outputs": [
        {
          "data": {
            "text/plain": [
              "FL    72564\n",
              "TX    53890\n",
              "CA    18552\n",
              "NY    14437\n",
              "NC    11307\n",
              "TN    10168\n",
              "WA     9414\n",
              "OH     8223\n",
              "NV     7237\n",
              "IL     6887\n",
              "GA     4756\n",
              "PA     4420\n",
              "CO     3727\n",
              "DC     3198\n",
              "MI     2714\n",
              "IN     2407\n",
              "OR     2317\n",
              "UT     1050\n",
              "MO      736\n",
              "MA      696\n",
              "MD      663\n",
              "VT      382\n",
              "VA       91\n",
              "ME       56\n",
              "DE        2\n",
              "Name: state, dtype: int64"
            ]
          },
          "execution_count": 862,
          "metadata": {},
          "output_type": "execute_result"
        }
      ],
      "source": [
        "df_train['state'].value_counts()"
      ]
    },
    {
      "cell_type": "code",
      "execution_count": 863,
      "metadata": {},
      "outputs": [
        {
          "data": {
            "text/plain": [
              "FL    782\n",
              "TX    428\n",
              "CA    178\n",
              "OH    156\n",
              "NY    140\n",
              "TN    109\n",
              "DC     89\n",
              "IL     87\n",
              "WA     87\n",
              "NC     76\n",
              "GA     64\n",
              "NV     61\n",
              "PA     51\n",
              "MI     35\n",
              "IN     34\n",
              "MO     34\n",
              "CO     27\n",
              "MA     18\n",
              "OR     11\n",
              "UT      4\n",
              "MD      4\n",
              "VT      4\n",
              "ME      1\n",
              "VA      1\n",
              "Name: state, dtype: int64"
            ]
          },
          "execution_count": 863,
          "metadata": {},
          "output_type": "execute_result"
        }
      ],
      "source": [
        "df_test['state'].value_counts()"
      ]
    },
    {
      "cell_type": "code",
      "execution_count": 864,
      "metadata": {},
      "outputs": [
        {
          "data": {
            "text/plain": [
              "Series([], Name: state, dtype: int64)"
            ]
          },
          "execution_count": 864,
          "metadata": {},
          "output_type": "execute_result"
        }
      ],
      "source": [
        "# Посмотрим каких значений теста нет в трейне\r\n",
        "\r\n",
        "unique_train_state = df_train['state'].unique()\r\n",
        "\r\n",
        "df_test[~df_test['state'].isin(unique_train_state)]['state'].value_counts()"
      ]
    },
    {
      "cell_type": "code",
      "execution_count": 865,
      "metadata": {},
      "outputs": [],
      "source": [
        "# Удалим те строки в трейне, которых нет в тесте\r\n",
        "\r\n",
        "unique_state = df_test['state'].unique()\r\n",
        "\r\n",
        "df_train = df_train[df_train['state'].isin(unique_state)]\r\n"
      ]
    },
    {
      "cell_type": "code",
      "execution_count": 866,
      "metadata": {},
      "outputs": [],
      "source": [
        "# Добавим новые категориальные признаки\r\n",
        "\r\n",
        "categorical_features = categorical_features + ['zip_f', 'zip_s']"
      ]
    },
    {
      "cell_type": "code",
      "execution_count": 867,
      "metadata": {},
      "outputs": [
        {
          "data": {
            "text/plain": [
              "<matplotlib.axes._subplots.AxesSubplot at 0x22c8aa3e9c8>"
            ]
          },
          "execution_count": 867,
          "metadata": {},
          "output_type": "execute_result"
        },
        {
          "data": {
            "image/png": "[encoded data removed]",
            "text/plain": [
              "<Figure size 432x288 with 1 Axes>"
            ]
          },
          "metadata": {
            "needs_background": "light"
          },
          "output_type": "display_data"
        }
      ],
      "source": [
        "# Теперь рассмотрим значимость категориальных переменных\r\n",
        "df_train_cat = df_train.copy()\r\n",
        "\r\n",
        "label_encoder = LabelEncoder()\r\n",
        "\r\n",
        "for feature in categorical_features:\r\n",
        "    df_train_cat[feature] = label_encoder.fit_transform(df_train_cat[feature])\r\n",
        "\r\n",
        "imp_cat = pd.Series(f_regression(df_train_cat[categorical_features], \r\n",
        "                              df_train_cat['target_log'])[0], index=categorical_features)\r\n",
        "\r\n",
        "imp_cat.sort_values(inplace = True)\r\n",
        "imp_cat.plot(kind = 'barh')"
      ]
    },
    {
      "cell_type": "code",
      "execution_count": 868,
      "metadata": {},
      "outputs": [],
      "source": [
        "# Замечание: влияние кат переменных на target и target_log разное"
      ]
    },
    {
      "cell_type": "code",
      "execution_count": 869,
      "metadata": {},
      "outputs": [],
      "source": [
        "# # Теперь рассмотрим значимость категориальных переменных\r\n",
        "\r\n",
        "# df_train_cat = df_train.copy()\r\n",
        "\r\n",
        "# # рассмотрим значимость переменных\r\n",
        "# label_encoder = LabelEncoder()\r\n",
        "\r\n",
        "# for feature in categorical_features:\r\n",
        "#     df_train_cat[feature] = label_encoder.fit_transform(df_train_cat[feature])\r\n",
        "\r\n",
        "# imp_cat = pd.Series(mutual_info_regression(df_train_cat[categorical_features], \r\n",
        "#                               df_train_cat['target_log']), index=numerical_features_new)\r\n",
        "# imp_cat.sort_values(inplace = True)\r\n",
        "# imp_cat.plot(kind = 'barh')"
      ]
    },
    {
      "cell_type": "markdown",
      "metadata": {},
      "source": [
        "Prepocess data"
      ]
    },
    {
      "cell_type": "code",
      "execution_count": 870,
      "metadata": {},
      "outputs": [],
      "source": [
        "numerical_features_copy = numerical_features.copy()\r\n",
        "categorical_features_copy = categorical_features.copy()"
      ]
    },
    {
      "cell_type": "code",
      "execution_count": 871,
      "metadata": {},
      "outputs": [
        {
          "name": "stdout",
          "output_type": "stream",
          "text": [
            "['sqft', 'Year built', 'dist_max', 'dist_min', 'rate_max', 'rate_min', 'sqft_log', 'year_built_log', 'dist_max_log', 'dist_min_log']\n",
            "['propertyType', 'zipcode', 'state', 'zip_f', 'zip_s']\n"
          ]
        }
      ],
      "source": [
        "print(numerical_features_copy)\r\n",
        "print(categorical_features_copy)"
      ]
    },
    {
      "cell_type": "code",
      "execution_count": 872,
      "metadata": {},
      "outputs": [],
      "source": [
        "# Удаляем признаки из numerical_features_new\r\n",
        "for x in ['sqft', 'dist_max', 'dist_min', 'rate_max', 'rate_min', 'year_built_log']:\r\n",
        "    numerical_features_copy.remove(x)\r\n",
        "\r\n",
        "# numerical_features_copy.remove('dist_min_log')\r\n",
        "# numerical_features_copy.remove('dist_max_log')\r\n",
        "\r\n",
        "categorical_features_copy.remove('zipcode')\r\n",
        "# categorical_features_copy.remove('propertyType')\r\n",
        "# categorical_features_copy.remove('zip_f')\r\n",
        "# categorical_features_copy.remove('zip_s')\r\n",
        "\r\n",
        "for x in ['rate_max', 'rate_min']:\r\n",
        "    categorical_features_copy.append(x)   \r\n",
        "    \r\n",
        "features = numerical_features_copy + categorical_features_copy + ['target_log']\r\n",
        "# features = numerical_features_new + categorical_features + ['target']"
      ]
    },
    {
      "cell_type": "code",
      "execution_count": 873,
      "metadata": {},
      "outputs": [],
      "source": [
        "# Мы знаем, что у трейна нет target=0, все эти данные в тесте, поэтому можем легко их оюъединить\r\n",
        "\r\n",
        "df_input = pd.concat([df_train[features], df_test[features]])"
      ]
    },
    {
      "cell_type": "code",
      "execution_count": 874,
      "metadata": {},
      "outputs": [
        {
          "data": {
            "text/html": [
              "<div>\n",
              "<style scoped>\n",
              "    .dataframe tbody tr th:only-of-type {\n",
              "        vertical-align: middle;\n",
              "    }\n",
              "\n",
              "    .dataframe tbody tr th {\n",
              "        vertical-align: top;\n",
              "    }\n",
              "\n",
              "    .dataframe thead th {\n",
              "        text-align: right;\n",
              "    }\n",
              "</style>\n",
              "<table border=\"1\" class=\"dataframe\">\n",
              "  <thead>\n",
              "    <tr style=\"text-align: right;\">\n",
              "      <th></th>\n",
              "      <th>Year built</th>\n",
              "      <th>sqft_log</th>\n",
              "      <th>dist_max_log</th>\n",
              "      <th>dist_min_log</th>\n",
              "      <th>propertyType</th>\n",
              "      <th>state</th>\n",
              "      <th>zip_f</th>\n",
              "      <th>zip_s</th>\n",
              "      <th>rate_max</th>\n",
              "      <th>rate_min</th>\n",
              "      <th>target_log</th>\n",
              "    </tr>\n",
              "  </thead>\n",
              "  <tbody>\n",
              "    <tr>\n",
              "      <th>372216</th>\n",
              "      <td>1991.0</td>\n",
              "      <td>6.710523</td>\n",
              "      <td>1.435085</td>\n",
              "      <td>0.993252</td>\n",
              "      <td>condo</td>\n",
              "      <td>GA</td>\n",
              "      <td>303</td>\n",
              "      <td>27</td>\n",
              "      <td>9.0</td>\n",
              "      <td>6.0</td>\n",
              "      <td>12.105705</td>\n",
              "    </tr>\n",
              "    <tr>\n",
              "      <th>79955</th>\n",
              "      <td>1995.0</td>\n",
              "      <td>8.070281</td>\n",
              "      <td>2.110213</td>\n",
              "      <td>2.110213</td>\n",
              "      <td>single family</td>\n",
              "      <td>WA</td>\n",
              "      <td>982</td>\n",
              "      <td>26</td>\n",
              "      <td>5.0</td>\n",
              "      <td>5.0</td>\n",
              "      <td>13.296318</td>\n",
              "    </tr>\n",
              "    <tr>\n",
              "      <th>328447</th>\n",
              "      <td>1964.0</td>\n",
              "      <td>7.752335</td>\n",
              "      <td>1.118415</td>\n",
              "      <td>0.802002</td>\n",
              "      <td>single family</td>\n",
              "      <td>FL</td>\n",
              "      <td>330</td>\n",
              "      <td>60</td>\n",
              "      <td>4.0</td>\n",
              "      <td>3.0</td>\n",
              "      <td>13.321214</td>\n",
              "    </tr>\n",
              "    <tr>\n",
              "      <th>112158</th>\n",
              "      <td>2017.0</td>\n",
              "      <td>7.510978</td>\n",
              "      <td>2.836737</td>\n",
              "      <td>0.667829</td>\n",
              "      <td>condo</td>\n",
              "      <td>MI</td>\n",
              "      <td>482</td>\n",
              "      <td>14</td>\n",
              "      <td>6.0</td>\n",
              "      <td>2.0</td>\n",
              "      <td>12.653642</td>\n",
              "    </tr>\n",
              "    <tr>\n",
              "      <th>152072</th>\n",
              "      <td>1953.0</td>\n",
              "      <td>7.390181</td>\n",
              "      <td>0.756122</td>\n",
              "      <td>0.173953</td>\n",
              "      <td>single family</td>\n",
              "      <td>NC</td>\n",
              "      <td>283</td>\n",
              "      <td>01</td>\n",
              "      <td>4.0</td>\n",
              "      <td>2.0</td>\n",
              "      <td>11.289794</td>\n",
              "    </tr>\n",
              "  </tbody>\n",
              "</table>\n",
              "</div>"
            ],
            "text/plain": [
              "        Year built  sqft_log  dist_max_log  dist_min_log   propertyType state  \\\n",
              "372216      1991.0  6.710523      1.435085      0.993252          condo    GA   \n",
              "79955       1995.0  8.070281      2.110213      2.110213  single family    WA   \n",
              "328447      1964.0  7.752335      1.118415      0.802002  single family    FL   \n",
              "112158      2017.0  7.510978      2.836737      0.667829          condo    MI   \n",
              "152072      1953.0  7.390181      0.756122      0.173953  single family    NC   \n",
              "\n",
              "       zip_f zip_s  rate_max  rate_min  target_log  \n",
              "372216   303    27       9.0       6.0   12.105705  \n",
              "79955    982    26       5.0       5.0   13.296318  \n",
              "328447   330    60       4.0       3.0   13.321214  \n",
              "112158   482    14       6.0       2.0   12.653642  \n",
              "152072   283    01       4.0       2.0   11.289794  "
            ]
          },
          "execution_count": 874,
          "metadata": {},
          "output_type": "execute_result"
        }
      ],
      "source": [
        "df_input.sample(5)"
      ]
    },
    {
      "cell_type": "markdown",
      "metadata": {},
      "source": [
        "df_preproc = preproc_data(data)"
      ]
    },
    {
      "cell_type": "code",
      "execution_count": 875,
      "metadata": {},
      "outputs": [],
      "source": [
        "df_preproc = preproc_data(df_input, numerical_features_copy, categorical_features_copy)"
      ]
    },
    {
      "cell_type": "code",
      "execution_count": 876,
      "metadata": {},
      "outputs": [
        {
          "data": {
            "text/plain": [
              "(242373, 378)"
            ]
          },
          "execution_count": 876,
          "metadata": {},
          "output_type": "execute_result"
        }
      ],
      "source": [
        "df_preproc.shape"
      ]
    },
    {
      "cell_type": "code",
      "execution_count": 877,
      "metadata": {},
      "outputs": [],
      "source": [
        "# Возможно, потом удалим выбросы из трейна"
      ]
    },
    {
      "cell_type": "markdown",
      "metadata": {},
      "source": [
        "Split data"
      ]
    },
    {
      "cell_type": "code",
      "execution_count": 878,
      "metadata": {},
      "outputs": [],
      "source": [
        "# Теперь выделим тестовую часть\r\n",
        "train_data = df_preproc[df_preproc['target_log'] != 0]\r\n",
        "test_data = df_preproc[df_preproc['target_log'] == 0]\r\n",
        "\r\n",
        "X = train_data.drop(['target_log'], axis=1).values\r\n",
        "Y = train_data['target_log'].values\r\n",
        "X_sub = test_data.drop(['target_log'], axis=1)\r\n",
        "\r\n",
        "\r\n",
        "# train_data = df_preproc[df_preproc['target'] != 0]\r\n",
        "# test_data = df_preproc[df_preproc['target'] == 0]\r\n",
        "\r\n",
        "# X = train_data.drop(['target'], axis=1).values\r\n",
        "# Y = train_data['target'].values\r\n",
        "# X_sub = test_data.drop(['target'], axis=1)"
      ]
    },
    {
      "cell_type": "markdown",
      "metadata": {},
      "source": [
        "# CatBoostRegressor"
      ]
    },
    {
      "cell_type": "code",
      "execution_count": 879,
      "metadata": {},
      "outputs": [],
      "source": [
        "X_train, X_test, y_train, y_test = train_test_split(X, Y, test_size=0.3, shuffle=True, random_state=RANDOM_SEED)\r\n",
        "\r\n",
        "# Птом можно будет сделать кросс-валидацию"
      ]
    },
    {
      "cell_type": "code",
      "execution_count": 880,
      "metadata": {},
      "outputs": [
        {
          "name": "stdout",
          "output_type": "stream",
          "text": [
            "Learning rate set to 0.121348\n",
            "0:\tlearn: 0.0524007\ttest: 0.0524389\tbest: 0.0524389 (0)\ttotal: 44.2ms\tremaining: 44.1s\n",
            "200:\tlearn: 0.0255033\ttest: 0.0256089\tbest: 0.0256089 (200)\ttotal: 6.68s\tremaining: 26.6s\n",
            "400:\tlearn: 0.0229330\ttest: 0.0231301\tbest: 0.0231301 (400)\ttotal: 13.8s\tremaining: 20.6s\n",
            "600:\tlearn: 0.0215257\ttest: 0.0218526\tbest: 0.0218526 (600)\ttotal: 21.4s\tremaining: 14.2s\n",
            "800:\tlearn: 0.0205858\ttest: 0.0210235\tbest: 0.0210235 (800)\ttotal: 28.8s\tremaining: 7.14s\n",
            "999:\tlearn: 0.0198863\ttest: 0.0204379\tbest: 0.0204379 (999)\ttotal: 35s\tremaining: 0us\n",
            "\n",
            "bestTest = 0.02043790513\n",
            "bestIteration = 999\n",
            "\n"
          ]
        },
        {
          "data": {
            "text/plain": [
              "<catboost.core.CatBoostRegressor at 0x22d051e3c08>"
            ]
          },
          "execution_count": 880,
          "metadata": {},
          "output_type": "execute_result"
        }
      ],
      "source": [
        "model = CatBoostRegressor(iterations = 1000,\r\n",
        "                          #depth=10,\r\n",
        "                          #learning_rate = 0.1,\r\n",
        "                          random_seed = RANDOM_SEED,\r\n",
        "                          eval_metric='MAPE',\r\n",
        "                          custom_metric=['RMSE'],\r\n",
        "                          od_wait=100,\r\n",
        "                          #task_type='GPU',\r\n",
        "                         )\r\n",
        "\r\n",
        "model.fit(X_train, y_train,\r\n",
        "         eval_set=(X_test, y_test),\r\n",
        "         verbose_eval=200,\r\n",
        "         use_best_model=True,\r\n",
        "         #plot=True\r\n",
        "         )\r\n"
      ]
    },
    {
      "cell_type": "code",
      "execution_count": 881,
      "metadata": {},
      "outputs": [
        {
          "data": {
            "image/png": "[encoded data removed]",
            "text/plain": [
              "<Figure size 432x288 with 1 Axes>"
            ]
          },
          "metadata": {
            "needs_background": "light"
          },
          "output_type": "display_data"
        }
      ],
      "source": [
        "# model.evals_result_['learn']['MAPE']\r\n",
        "# validation\r\n",
        "\r\n",
        "learn_mape = [round(x * 100, 2) for x in model.evals_result_['learn']['MAPE']]\r\n",
        "valid_mape = [round(x * 100, 2) for x in model.evals_result_['validation']['MAPE']]\r\n",
        "\r\n",
        "# plt.figure(figsize=(15, 7))\r\n",
        "plt.title('MAPE')\r\n",
        "plt.plot(learn_mape, label='learn')\r\n",
        "plt.plot(valid_mape, label='validation')\r\n",
        "plt.legend()\r\n",
        "plt.show()\r\n",
        "\r\n",
        "\r\n"
      ]
    },
    {
      "cell_type": "code",
      "execution_count": 882,
      "metadata": {},
      "outputs": [
        {
          "name": "stdout",
          "output_type": "stream",
          "text": [
            "TEST mape: 29.87%\n"
          ]
        }
      ],
      "source": [
        "y_pred = model.predict(X_test)\r\n",
        "\r\n",
        "# print(f\"TEST mape: {(mape(y_test, y_pred))*100:0.2f}%\")\r\n",
        "\r\n",
        "y_pred_exp = np.round(np.exp(y_pred) - 1)\r\n",
        "y_test_exp = np.round(np.exp(y_test) - 1)\r\n",
        "\r\n",
        "print(f\"TEST mape: {(mape(y_test_exp, y_pred_exp))*100:0.2f}%\")"
      ]
    },
    {
      "cell_type": "markdown",
      "metadata": {},
      "source": [
        "# RandomForestRegressor"
      ]
    },
    {
      "cell_type": "code",
      "execution_count": 883,
      "metadata": {},
      "outputs": [],
      "source": [
        "# model = RandomForestRegressor(random_state=RANDOM_SEED)\r\n",
        "\r\n",
        "# # Обучаем модель на тестовом наборе данных\r\n",
        "# model.fit(X_train, Y_train)\r\n",
        "# y_pred = model.predict(X_test)\r\n",
        "\r\n",
        "# # Преобразуем Y_test, y_pred к exp значениям для оценки MAPE\r\n",
        "\r\n",
        "# y_pred_exp = np.round(np.exp(y_pred) - 1)\r\n",
        "# y_test_exp = np.round(np.exp(y_test) - 1)\r\n",
        "\r\n",
        "# # Вывод результата MAPE\r\n",
        "# print(f\"TEST mape: {(mape(y_test_exp, y_pred_exp))*100:0.2f}%\")"
      ]
    },
    {
      "cell_type": "markdown",
      "metadata": {},
      "source": [
        "Проверить смещение и дисперсию"
      ]
    },
    {
      "cell_type": "code",
      "execution_count": 884,
      "metadata": {},
      "outputs": [],
      "source": [
        "# Смещение и дисперсия\r\n",
        "\r\n",
        "# mse = round(np.mean(np.square(y_test_exp - y_pred_exp)))\r\n",
        "# rmse = round(np.sqrt(mse))\r\n",
        "\r\n",
        "# var = round(np.var(y_pred_exp))\r\n",
        "# bias = round(np.mean(y_pred_exp - y_test_exp))\r\n",
        "\r\n",
        "# print(\"MSE result:\", mse)\r\n",
        "# print(\"RMSE result:\", rmse)\r\n",
        "# print(\"VAR result:\", var)\r\n",
        "# print(\"bias result:\", bias)\r\n",
        "# print(\"Decomposed result:\", var + bias*bias)"
      ]
    },
    {
      "cell_type": "code",
      "execution_count": 885,
      "metadata": {},
      "outputs": [],
      "source": [
        "price_out = pd.DataFrame(list(zip(y_pred_exp, y_test_exp)), columns = ['y_pred_exp', 'y_test_exp'])\r\n",
        "# price_out.to_csv('price_out.csv')"
      ]
    },
    {
      "cell_type": "code",
      "execution_count": null,
      "metadata": {},
      "outputs": [],
      "source": []
    }
  ],
  "metadata": {
    "colab": {
      "collapsed_sections": [],
      "name": "diplom_4v.ipynb",
      "provenance": []
    },
    "interpreter": {
      "hash": "52af2c7ea9a7ea0478ac0dfe8c28871cf8fd889e43a3f69f8c62792d878281ed"
    },
    "kernelspec": {
      "display_name": "Python 3.7.4 64-bit ('base': conda)",
      "name": "python3"
    },
    "language_info": {
      "codemirror_mode": {
        "name": "ipython",
        "version": 3
      },
      "file_extension": ".py",
      "mimetype": "text/x-python",
      "name": "python",
      "nbconvert_exporter": "python",
      "pygments_lexer": "ipython3",
      "version": "3.7.4"
    }
  },
  "nbformat": 4,
  "nbformat_minor": 0
}