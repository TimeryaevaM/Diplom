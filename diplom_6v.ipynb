{
  "cells": [
    {
      "cell_type": "code",
      "execution_count": 1914,
      "metadata": {
        "id": "1w30m-Auk6Ki"
      },
      "outputs": [],
      "source": [
        "import pandas as pd\r\n",
        "import os\r\n",
        "import csv\r\n",
        "import numpy as np\r\n",
        "from matplotlib import pyplot as plt\r\n",
        "import seaborn as sns\r\n",
        "import catboost\r\n",
        "from numpy import percentile\r\n",
        "from sklearn.preprocessing import LabelEncoder\r\n",
        "from sklearn.feature_selection import mutual_info_classif\r\n",
        "from sklearn.feature_selection import mutual_info_regression\r\n",
        "from sklearn.feature_selection import f_regression\r\n",
        "from keras.preprocessing.text import Tokenizer\r\n",
        "from sklearn.preprocessing import StandardScaler\r\n",
        "from sklearn.model_selection import train_test_split\r\n",
        "from catboost import CatBoostRegressor"
      ]
    },
    {
      "cell_type": "code",
      "execution_count": 1915,
      "metadata": {},
      "outputs": [],
      "source": [
        "RANDOM_SEED = 42\r\n",
        "\r\n",
        "# The maximum number of words to be used. (most frequent)\r\n",
        "MAX_WORDS = 10000\r\n",
        "# Max number of words in each complaint.\r\n",
        "MAX_SEQUENCE_LENGTH = 10"
      ]
    },
    {
      "cell_type": "code",
      "execution_count": 1916,
      "metadata": {
        "id": "XNPVkS17kOtH"
      },
      "outputs": [],
      "source": [
        "def data_outlier(columns_list, df):\r\n",
        "\r\n",
        "    data_out = pd.DataFrame(data = {'name': [], 'count': [], 'min': [], 'mean': [], 'max': [], \r\n",
        "                                    'low_range': [], 'upper_range': [], 'out_count': []\r\n",
        "                                   })\r\n",
        "    for column_name in columns_list:\r\n",
        "        perc25 = percentile(df[column_name], 25)\r\n",
        "        perc75 = percentile(df[column_name], 75)\r\n",
        "        iqr = perc75 - perc25\r\n",
        "        low_range = perc25 - 1.5 * iqr\r\n",
        "        upper_range = perc75 + 1.5 * iqr\r\n",
        "        out_count = df[column_name].apply(\r\n",
        "            lambda x: None if x < low_range or x > upper_range else x).isna().sum()\r\n",
        "        \r\n",
        "        to_append = [column_name, df[column_name].count(), round(df[column_name].min(), 2), \r\n",
        "                     round(df[column_name].mean(), 2), round(df[column_name].max(), 2), \r\n",
        "                     round(low_range, 2), round(upper_range, 2), out_count]\r\n",
        "        data_out_length = len(data_out)\r\n",
        "        data_out.loc[data_out_length] = to_append\r\n",
        "    \r\n",
        "    data_out = data_out.set_index('name')\r\n",
        "        \r\n",
        "    return data_out"
      ]
    },
    {
      "cell_type": "code",
      "execution_count": 1917,
      "metadata": {
        "id": "papRkjlMmoqw"
      },
      "outputs": [],
      "source": [
        "# Рассмотрим как распределены числовые признаки в трейне\n",
        "\n",
        "def train_hist_plot(column_name, df_train):\n",
        "    fig, ax = plt.subplots(1, 2, figsize=(10, 5))\n",
        "\n",
        "    new_series_log = np.log(df_train[column_name] + 1)\n",
        "\n",
        "    ax[0].hist(df_train[column_name], rwidth=0.9, alpha=0.7, bins=15)\n",
        "    ax[0].set_title(column_name)\n",
        "\n",
        "    ax[1].hist(new_series_log, rwidth=0.9, alpha=0.7, bins=15)\n",
        "    ax[1].set_title('log of ' + column_name)\n",
        "\n",
        "    plt.show()\n",
        "    \n",
        "def test_hist_plot(column_name, df_test):\n",
        "    fig, ax = plt.subplots(1, 2, figsize=(10, 5))\n",
        "\n",
        "    new_series_log = np.log(df_test[column_name] + 1)\n",
        "\n",
        "    ax[0].hist(df_test[column_name], rwidth=0.9, alpha=0.7, bins=15)\n",
        "    ax[0].set_title(column_name)\n",
        "\n",
        "    ax[1].hist(new_series_log, rwidth=0.9, alpha=0.7, bins=15)\n",
        "    ax[1].set_title('log of ' + column_name)\n",
        "\n",
        "    plt.show()"
      ]
    },
    {
      "cell_type": "code",
      "execution_count": 1918,
      "metadata": {},
      "outputs": [],
      "source": [
        "def mape(y_true, y_pred):\r\n",
        "    return np.mean(np.abs((y_pred-y_true)/y_true))"
      ]
    },
    {
      "cell_type": "code",
      "execution_count": 1919,
      "metadata": {},
      "outputs": [],
      "source": [
        "def street_replace(df, st_tupl):\r\n",
        "\r\n",
        "  # Функция замены коротких синонимов на полные названия и удаление дубликатов\r\n",
        "\r\n",
        "  df['street'] = df['street'].str.replace(rf'\\b{st_tupl[0]}\\b', st_tupl[1]).str.replace(rf'\\b{st_tupl[1]}\\b \\b{st_tupl[1]}\\b', st_tupl[1])\r\n",
        "  df['street'] = df['street'].str.replace('  ', ' ').str.strip()\r\n",
        "\r\n",
        "  # print(f'replace {st_tupl[0]} to {st_tupl[1]}')\r\n",
        "\r\n",
        "\r\n",
        "\r\n",
        "def del_dropwords_street(df, dropword):\r\n",
        "\r\n",
        "  # Удаляем dropword из признака street\r\n",
        "  df['street'] = df['street'].str.replace(rf'\\b{dropword}\\b', '').str.replace(r'  ', ' ').str.strip()\r\n",
        "\r\n",
        "  print(f\"Drop {dropword}\")"
      ]
    },
    {
      "cell_type": "code",
      "execution_count": 1920,
      "metadata": {},
      "outputs": [],
      "source": [
        "def preproc_data(df_input, num_features, cat_features):\r\n",
        "    '''includes several functions to pre-process the predictor data.'''\r\n",
        "    \r\n",
        "    df_output = df_input.copy()\r\n",
        "    \r\n",
        "    ################### Numerical Features ##############################################################\r\n",
        "\r\n",
        "    scaler = StandardScaler()\r\n",
        "    \r\n",
        "    for feature in num_features:\r\n",
        "         df_output[feature] = scaler.fit_transform(df_output[feature].values.reshape(-1, 1))\r\n",
        "\r\n",
        "\r\n",
        "    ################### Categorical Features ##############################################################\r\n",
        "\r\n",
        "    for column in cat_features:\r\n",
        "         df_output[column] = df_output[column].astype('category').cat.codes\r\n",
        "        \r\n",
        "    # One-Hot Encoding: в pandas есть готовая функция - get_dummies.\r\n",
        "    df_output = pd.get_dummies(df_output, columns=cat_features, dummy_na=False)\r\n",
        "\r\n",
        "    return df_output\r\n",
        "\r\n"
      ]
    },
    {
      "cell_type": "code",
      "execution_count": 1921,
      "metadata": {
        "id": "MhmxFpvSlJYX"
      },
      "outputs": [],
      "source": [
        "# df = pd.read_csv(\"/data_new.csv\", sep=\",\", quoting=csv.QUOTE_ALL, encoding='utf-8')\r\n",
        "\r\n",
        "df = pd.read_csv(\"data_new.csv\")"
      ]
    },
    {
      "cell_type": "code",
      "execution_count": 1922,
      "metadata": {
        "colab": {
          "base_uri": "https://localhost:8080/",
          "height": 391
        },
        "id": "mLaEOsPh-cZe",
        "outputId": "46f3c1dd-f9b5-48f0-dfa2-7e966733ebd2"
      },
      "outputs": [
        {
          "data": {
            "text/html": [
              "<div>\n",
              "<style scoped>\n",
              "    .dataframe tbody tr th:only-of-type {\n",
              "        vertical-align: middle;\n",
              "    }\n",
              "\n",
              "    .dataframe tbody tr th {\n",
              "        vertical-align: top;\n",
              "    }\n",
              "\n",
              "    .dataframe thead th {\n",
              "        text-align: right;\n",
              "    }\n",
              "</style>\n",
              "<table border=\"1\" class=\"dataframe\">\n",
              "  <thead>\n",
              "    <tr style=\"text-align: right;\">\n",
              "      <th></th>\n",
              "      <th>status</th>\n",
              "      <th>private pool</th>\n",
              "      <th>propertyType</th>\n",
              "      <th>street</th>\n",
              "      <th>baths</th>\n",
              "      <th>homeFacts</th>\n",
              "      <th>fireplace</th>\n",
              "      <th>city</th>\n",
              "      <th>schools</th>\n",
              "      <th>sqft</th>\n",
              "      <th>zipcode</th>\n",
              "      <th>beds</th>\n",
              "      <th>state</th>\n",
              "      <th>stories</th>\n",
              "      <th>mls-id</th>\n",
              "      <th>PrivatePool</th>\n",
              "      <th>MlsId</th>\n",
              "      <th>target</th>\n",
              "    </tr>\n",
              "  </thead>\n",
              "  <tbody>\n",
              "    <tr>\n",
              "      <th>0</th>\n",
              "      <td>Active</td>\n",
              "      <td>NaN</td>\n",
              "      <td>Single Family Home</td>\n",
              "      <td>240 Heather Ln</td>\n",
              "      <td>3.5</td>\n",
              "      <td>{'atAGlanceFacts': [{'factValue': '2019', 'fac...</td>\n",
              "      <td>Gas Logs</td>\n",
              "      <td>Southern Pines</td>\n",
              "      <td>[{'rating': ['4', '4', '7', 'NR', '4', '7', 'N...</td>\n",
              "      <td>2900</td>\n",
              "      <td>28387</td>\n",
              "      <td>4</td>\n",
              "      <td>NC</td>\n",
              "      <td>NaN</td>\n",
              "      <td>NaN</td>\n",
              "      <td>NaN</td>\n",
              "      <td>611019</td>\n",
              "      <td>$418,000</td>\n",
              "    </tr>\n",
              "    <tr>\n",
              "      <th>1</th>\n",
              "      <td>for sale</td>\n",
              "      <td>NaN</td>\n",
              "      <td>single-family home</td>\n",
              "      <td>12911 E Heroy Ave</td>\n",
              "      <td>3 Baths</td>\n",
              "      <td>{'atAGlanceFacts': [{'factValue': '2019', 'fac...</td>\n",
              "      <td>NaN</td>\n",
              "      <td>Spokane Valley</td>\n",
              "      <td>[{'rating': ['4/10', 'None/10', '4/10'], 'data...</td>\n",
              "      <td>1,947 sqft</td>\n",
              "      <td>99216</td>\n",
              "      <td>3 Beds</td>\n",
              "      <td>WA</td>\n",
              "      <td>2.0</td>\n",
              "      <td>NaN</td>\n",
              "      <td>NaN</td>\n",
              "      <td>201916904</td>\n",
              "      <td>$310,000</td>\n",
              "    </tr>\n",
              "    <tr>\n",
              "      <th>2</th>\n",
              "      <td>for sale</td>\n",
              "      <td>NaN</td>\n",
              "      <td>single-family home</td>\n",
              "      <td>2005 Westridge Rd</td>\n",
              "      <td>2 Baths</td>\n",
              "      <td>{'atAGlanceFacts': [{'factValue': '1961', 'fac...</td>\n",
              "      <td>yes</td>\n",
              "      <td>Los Angeles</td>\n",
              "      <td>[{'rating': ['8/10', '4/10', '8/10'], 'data': ...</td>\n",
              "      <td>3,000 sqft</td>\n",
              "      <td>90049</td>\n",
              "      <td>3 Beds</td>\n",
              "      <td>CA</td>\n",
              "      <td>1.0</td>\n",
              "      <td>NaN</td>\n",
              "      <td>yes</td>\n",
              "      <td>FR19221027</td>\n",
              "      <td>$2,895,000</td>\n",
              "    </tr>\n",
              "    <tr>\n",
              "      <th>3</th>\n",
              "      <td>for sale</td>\n",
              "      <td>NaN</td>\n",
              "      <td>single-family home</td>\n",
              "      <td>4311 Livingston Ave</td>\n",
              "      <td>8 Baths</td>\n",
              "      <td>{'atAGlanceFacts': [{'factValue': '2006', 'fac...</td>\n",
              "      <td>yes</td>\n",
              "      <td>Dallas</td>\n",
              "      <td>[{'rating': ['9/10', '9/10', '10/10', '9/10'],...</td>\n",
              "      <td>6,457 sqft</td>\n",
              "      <td>75205</td>\n",
              "      <td>5 Beds</td>\n",
              "      <td>TX</td>\n",
              "      <td>3.0</td>\n",
              "      <td>NaN</td>\n",
              "      <td>NaN</td>\n",
              "      <td>14191809</td>\n",
              "      <td>$2,395,000</td>\n",
              "    </tr>\n",
              "    <tr>\n",
              "      <th>4</th>\n",
              "      <td>for sale</td>\n",
              "      <td>NaN</td>\n",
              "      <td>lot/land</td>\n",
              "      <td>1524 Kiscoe St</td>\n",
              "      <td>NaN</td>\n",
              "      <td>{'atAGlanceFacts': [{'factValue': '', 'factLab...</td>\n",
              "      <td>NaN</td>\n",
              "      <td>Palm Bay</td>\n",
              "      <td>[{'rating': ['4/10', '5/10', '5/10'], 'data': ...</td>\n",
              "      <td>NaN</td>\n",
              "      <td>32908</td>\n",
              "      <td>NaN</td>\n",
              "      <td>FL</td>\n",
              "      <td>NaN</td>\n",
              "      <td>NaN</td>\n",
              "      <td>NaN</td>\n",
              "      <td>861745</td>\n",
              "      <td>$5,000</td>\n",
              "    </tr>\n",
              "  </tbody>\n",
              "</table>\n",
              "</div>"
            ],
            "text/plain": [
              "     status private pool        propertyType               street    baths  \\\n",
              "0    Active          NaN  Single Family Home       240 Heather Ln      3.5   \n",
              "1  for sale          NaN  single-family home    12911 E Heroy Ave  3 Baths   \n",
              "2  for sale          NaN  single-family home    2005 Westridge Rd  2 Baths   \n",
              "3  for sale          NaN  single-family home  4311 Livingston Ave  8 Baths   \n",
              "4  for sale          NaN            lot/land       1524 Kiscoe St      NaN   \n",
              "\n",
              "                                           homeFacts fireplace  \\\n",
              "0  {'atAGlanceFacts': [{'factValue': '2019', 'fac...  Gas Logs   \n",
              "1  {'atAGlanceFacts': [{'factValue': '2019', 'fac...       NaN   \n",
              "2  {'atAGlanceFacts': [{'factValue': '1961', 'fac...       yes   \n",
              "3  {'atAGlanceFacts': [{'factValue': '2006', 'fac...       yes   \n",
              "4  {'atAGlanceFacts': [{'factValue': '', 'factLab...       NaN   \n",
              "\n",
              "             city                                            schools  \\\n",
              "0  Southern Pines  [{'rating': ['4', '4', '7', 'NR', '4', '7', 'N...   \n",
              "1  Spokane Valley  [{'rating': ['4/10', 'None/10', '4/10'], 'data...   \n",
              "2     Los Angeles  [{'rating': ['8/10', '4/10', '8/10'], 'data': ...   \n",
              "3          Dallas  [{'rating': ['9/10', '9/10', '10/10', '9/10'],...   \n",
              "4        Palm Bay  [{'rating': ['4/10', '5/10', '5/10'], 'data': ...   \n",
              "\n",
              "         sqft zipcode    beds state stories mls-id PrivatePool       MlsId  \\\n",
              "0        2900   28387       4    NC     NaN    NaN         NaN      611019   \n",
              "1  1,947 sqft   99216  3 Beds    WA     2.0    NaN         NaN   201916904   \n",
              "2  3,000 sqft   90049  3 Beds    CA     1.0    NaN         yes  FR19221027   \n",
              "3  6,457 sqft   75205  5 Beds    TX     3.0    NaN         NaN    14191809   \n",
              "4         NaN   32908     NaN    FL     NaN    NaN         NaN      861745   \n",
              "\n",
              "       target  \n",
              "0    $418,000  \n",
              "1    $310,000  \n",
              "2  $2,895,000  \n",
              "3  $2,395,000  \n",
              "4      $5,000  "
            ]
          },
          "execution_count": 1922,
          "metadata": {},
          "output_type": "execute_result"
        }
      ],
      "source": [
        "df.head()"
      ]
    },
    {
      "cell_type": "code",
      "execution_count": 1923,
      "metadata": {
        "colab": {
          "base_uri": "https://localhost:8080/"
        },
        "id": "KO0u_3EW-okk",
        "outputId": "72fc7841-9d8a-4a8b-fa7e-f904830c0f53"
      },
      "outputs": [
        {
          "data": {
            "text/plain": [
              "(377185, 18)"
            ]
          },
          "execution_count": 1923,
          "metadata": {},
          "output_type": "execute_result"
        }
      ],
      "source": [
        "df.shape"
      ]
    },
    {
      "cell_type": "code",
      "execution_count": 1924,
      "metadata": {
        "colab": {
          "base_uri": "https://localhost:8080/"
        },
        "id": "Egyx7KRmlMc9",
        "outputId": "17bf8991-5dac-4132-cb05-48ee82b5e45e"
      },
      "outputs": [
        {
          "data": {
            "text/plain": [
              "(2481, 18)"
            ]
          },
          "execution_count": 1924,
          "metadata": {},
          "output_type": "execute_result"
        }
      ],
      "source": [
        "df[df['target'].isna()].shape"
      ]
    },
    {
      "cell_type": "code",
      "execution_count": 1925,
      "metadata": {
        "colab": {
          "base_uri": "https://localhost:8080/"
        },
        "id": "nP1wSjr_vQfi",
        "outputId": "8a105b2e-4d8b-4d4a-d9a0-8351a11d466a"
      },
      "outputs": [
        {
          "name": "stdout",
          "output_type": "stream",
          "text": [
            "<class 'pandas.core.frame.DataFrame'>\n",
            "RangeIndex: 377185 entries, 0 to 377184\n",
            "Data columns (total 18 columns):\n",
            " #   Column        Non-Null Count   Dtype \n",
            "---  ------        --------------   ----- \n",
            " 0   status        337267 non-null  object\n",
            " 1   private pool  4181 non-null    object\n",
            " 2   propertyType  342452 non-null  object\n",
            " 3   street        377183 non-null  object\n",
            " 4   baths         270847 non-null  object\n",
            " 5   homeFacts     377185 non-null  object\n",
            " 6   fireplace     103115 non-null  object\n",
            " 7   city          377151 non-null  object\n",
            " 8   schools       377185 non-null  object\n",
            " 9   sqft          336608 non-null  object\n",
            " 10  zipcode       377185 non-null  object\n",
            " 11  beds          285903 non-null  object\n",
            " 12  state         377185 non-null  object\n",
            " 13  stories       226470 non-null  object\n",
            " 14  mls-id        24942 non-null   object\n",
            " 15  PrivatePool   40311 non-null   object\n",
            " 16  MlsId         310305 non-null  object\n",
            " 17  target        374704 non-null  object\n",
            "dtypes: object(18)\n",
            "memory usage: 51.8+ MB\n"
          ]
        }
      ],
      "source": [
        "df.info()"
      ]
    },
    {
      "cell_type": "code",
      "execution_count": 1926,
      "metadata": {
        "colab": {
          "base_uri": "https://localhost:8080/"
        },
        "id": "DmT4P5r82xb5",
        "outputId": "168e5fc5-14c1-4c09-c71a-2f899b1a17e7"
      },
      "outputs": [
        {
          "name": "stdout",
          "output_type": "stream",
          "text": [
            "Percent NULL values\n",
            "\n"
          ]
        },
        {
          "data": {
            "text/plain": [
              "status          10.58\n",
              "private pool    98.89\n",
              "propertyType     9.21\n",
              "street           0.00\n",
              "baths           28.19\n",
              "homeFacts        0.00\n",
              "fireplace       72.66\n",
              "city             0.01\n",
              "schools          0.00\n",
              "sqft            10.76\n",
              "zipcode          0.00\n",
              "beds            24.20\n",
              "state            0.00\n",
              "stories         39.96\n",
              "mls-id          93.39\n",
              "PrivatePool     89.31\n",
              "MlsId           17.73\n",
              "target           0.66\n",
              "dtype: float64"
            ]
          },
          "execution_count": 1926,
          "metadata": {},
          "output_type": "execute_result"
        }
      ],
      "source": [
        "print(\"Percent NULL values\\n\")\n",
        "round(df.isna().sum() / df.shape[0] * 100, 2)"
      ]
    },
    {
      "cell_type": "markdown",
      "metadata": {
        "id": "4SsjYfyy3ecP"
      },
      "source": [
        "Удаляем столбцы, где процент NULL значений больше 40%"
      ]
    },
    {
      "cell_type": "code",
      "execution_count": 1927,
      "metadata": {
        "id": "11b4aa6dK7q2"
      },
      "outputs": [],
      "source": [
        "df.drop(['private pool', 'fireplace', 'mls-id', 'PrivatePool'], axis=1, inplace=True)"
      ]
    },
    {
      "cell_type": "code",
      "execution_count": 1928,
      "metadata": {
        "colab": {
          "base_uri": "https://localhost:8080/"
        },
        "id": "HlT7wWfZ39we",
        "outputId": "9841e043-0e34-41fa-c685-199d4f1eda6d"
      },
      "outputs": [
        {
          "data": {
            "text/plain": [
              "status             159\n",
              "propertyType      1280\n",
              "street          337076\n",
              "baths              229\n",
              "homeFacts       321009\n",
              "city              2026\n",
              "schools         297365\n",
              "sqft             25405\n",
              "zipcode           4549\n",
              "beds              1184\n",
              "state               39\n",
              "stories            348\n",
              "MlsId           232944\n",
              "target           43939\n",
              "dtype: int64"
            ]
          },
          "execution_count": 1928,
          "metadata": {},
          "output_type": "execute_result"
        }
      ],
      "source": [
        "df.nunique()"
      ]
    },
    {
      "cell_type": "markdown",
      "metadata": {
        "id": "jHEzEYMH1LyF"
      },
      "source": [
        "status"
      ]
    },
    {
      "cell_type": "code",
      "execution_count": 1929,
      "metadata": {
        "id": "2n1c-t7p4C-0"
      },
      "outputs": [],
      "source": [
        "df['status'] = df['status'].str.lower()"
      ]
    },
    {
      "cell_type": "code",
      "execution_count": 1930,
      "metadata": {
        "colab": {
          "base_uri": "https://localhost:8080/",
          "height": 35
        },
        "id": "9NBV6zdI95QT",
        "outputId": "245194b6-a9e4-4722-e573-f6fd94ef40c9"
      },
      "outputs": [
        {
          "data": {
            "text/plain": [
              "'0123456789'"
            ]
          },
          "execution_count": 1930,
          "metadata": {},
          "output_type": "execute_result"
        }
      ],
      "source": [
        "import string\n",
        "string.punctuation\n",
        "string.digits"
      ]
    },
    {
      "cell_type": "code",
      "execution_count": 1931,
      "metadata": {
        "colab": {
          "base_uri": "https://localhost:8080/"
        },
        "id": "gjVBpAcj_hvK",
        "outputId": "39146b96-e870-4668-92e3-738b8efd0ae6"
      },
      "outputs": [
        {
          "data": {
            "text/plain": [
              "for sale                                199571\n",
              "active                                  105207\n",
              "NaN                                      39918\n",
              "foreclosure                               6769\n",
              "new construction                          5475\n",
              "                                         ...  \n",
              "pending sh                                   1\n",
              "conditional contract                         1\n",
              "under contract taking back up offers         1\n",
              "backup                                       1\n",
              "pending w escape clause                      1\n",
              "Name: status, Length: 104, dtype: int64"
            ]
          },
          "execution_count": 1931,
          "metadata": {},
          "output_type": "execute_result"
        }
      ],
      "source": [
        "df['status'] = df['status'].str.replace('[{}]'.format(string.punctuation), ' ').str.replace('[{}]'.format(string.digits), ' ').apply(lambda x: \" \".join(str(x).split()))\r\n",
        "df['status'] = df['status'].apply(lambda x: None if x is None else None if str(x) == 'nan' else x)\r\n",
        "df['status'].value_counts(dropna=False)"
      ]
    },
    {
      "cell_type": "code",
      "execution_count": 1932,
      "metadata": {
        "colab": {
          "base_uri": "https://localhost:8080/"
        },
        "id": "JwQBiVTSibVQ",
        "outputId": "a40ab2b6-bc5d-4ea2-baa8-ba463903a204"
      },
      "outputs": [
        {
          "data": {
            "text/plain": [
              "103"
            ]
          },
          "execution_count": 1932,
          "metadata": {},
          "output_type": "execute_result"
        }
      ],
      "source": [
        "df['status'].nunique()"
      ]
    },
    {
      "cell_type": "code",
      "execution_count": 1933,
      "metadata": {},
      "outputs": [
        {
          "data": {
            "text/plain": [
              "39918"
            ]
          },
          "execution_count": 1933,
          "metadata": {},
          "output_type": "execute_result"
        }
      ],
      "source": [
        "df['status'].isna().sum()"
      ]
    },
    {
      "cell_type": "markdown",
      "metadata": {
        "id": "Vfiig-gf1Ix2"
      },
      "source": [
        "propertyType "
      ]
    },
    {
      "cell_type": "code",
      "execution_count": 1934,
      "metadata": {
        "colab": {
          "base_uri": "https://localhost:8080/"
        },
        "id": "R37PLl0L_8Lp",
        "outputId": "c616b1a3-b422-4535-b803-da779a675c6e"
      },
      "outputs": [
        {
          "data": {
            "text/plain": [
              "75810                  condo\n",
              "226345             townhouse\n",
              "177082              lot/land\n",
              "290391    single-family home\n",
              "197736    single-family home\n",
              "63313     single-family home\n",
              "168228                 condo\n",
              "106387              Bungalow\n",
              "251752         Single Family\n",
              "179266                 condo\n",
              "Name: propertyType, dtype: object"
            ]
          },
          "execution_count": 1934,
          "metadata": {},
          "output_type": "execute_result"
        }
      ],
      "source": [
        "df['propertyType'].sample(10)"
      ]
    },
    {
      "cell_type": "code",
      "execution_count": 1935,
      "metadata": {
        "id": "2drMoTn31Sv0"
      },
      "outputs": [],
      "source": [
        "df['propertyType'] = df['propertyType'].str.lower()\n",
        "df['propertyType'] = df['propertyType'].str.replace('[{}]'.format(string.punctuation), ' ').apply(lambda x: \" \".join(str(x).split()))\n",
        "df['propertyType'] = df['propertyType'].str.replace('one', '1').str.replace('two', '2')"
      ]
    },
    {
      "cell_type": "code",
      "execution_count": 1936,
      "metadata": {
        "colab": {
          "base_uri": "https://localhost:8080/"
        },
        "id": "6adUWZNnCEu4",
        "outputId": "d519d4d0-c584-43f5-cc44-bec4c5bf8928"
      },
      "outputs": [
        {
          "data": {
            "text/plain": [
              "contemporary modern           1010\n",
              "apartment                      922\n",
              "2 stories                      911\n",
              "mfd mobile home                792\n",
              "single detached                751\n",
              "detached 2 story               638\n",
              "2 story                        596\n",
              "transitional                   560\n",
              "cooperative                    535\n",
              "florida                        530\n",
              "bungalow                       442\n",
              "farms ranches                  371\n",
              "garden home                    305\n",
              "cape cod                       281\n",
              "2 stories traditional          280\n",
              "spanish mediterranean          272\n",
              "other style                    249\n",
              "1 story traditional            238\n",
              "other                          232\n",
              "condo townhome traditional     225\n",
              "Name: propertyType, dtype: int64"
            ]
          },
          "execution_count": 1936,
          "metadata": {},
          "output_type": "execute_result"
        }
      ],
      "source": [
        "df['propertyType'].value_counts()[20:40]"
      ]
    },
    {
      "cell_type": "code",
      "execution_count": 1937,
      "metadata": {
        "colab": {
          "base_uri": "https://localhost:8080/"
        },
        "id": "bUIKI--bHHOm",
        "outputId": "e8f80047-6671-4690-d846-f5553aad73ae"
      },
      "outputs": [
        {
          "data": {
            "text/plain": [
              "NaN          369527\n",
              "1 story        4440\n",
              "2 stories      1558\n",
              "2 story        1466\n",
              "3 stories       134\n",
              "8 stories        38\n",
              "7 stories        15\n",
              "3 story           6\n",
              "5 story           1\n",
              "Name: stories_dop, dtype: int64"
            ]
          },
          "execution_count": 1937,
          "metadata": {},
          "output_type": "execute_result"
        }
      ],
      "source": [
        "df['stories_dop'] = df['propertyType'].str.findall(r'[a-z0-9]+ story|[a-z0-9]+ stories').apply(lambda x: None if len(x) == 0 else x[-1])\n",
        "#.str.replace('one', '1').str.replace('two', '2')\n",
        "df['stories_dop'].value_counts(dropna=False)"
      ]
    },
    {
      "cell_type": "code",
      "execution_count": 1938,
      "metadata": {
        "id": "W1zAHyISN2sg"
      },
      "outputs": [],
      "source": [
        "set_story = set(df['stories_dop'].dropna())\n",
        "for y in set_story:\n",
        "  df['propertyType'] = df['propertyType'].str.replace(y, '')"
      ]
    },
    {
      "cell_type": "code",
      "execution_count": 1939,
      "metadata": {
        "colab": {
          "base_uri": "https://localhost:8080/"
        },
        "id": "MWm2qcUB27s8",
        "outputId": "934d89c6-5a10-4287-89fa-8c3da5b68d99"
      },
      "outputs": [
        {
          "data": {
            "text/plain": [
              "single family home                                               123934\n",
              "condo townhome row home co op                                      7701\n",
              "multi family home                                                  1501\n",
              "mfd mobile home                                                     792\n",
              "garden home                                                         305\n",
              "                                                                  ...  \n",
              "condo townhome hi rise contemporary modern mid century modern         1\n",
              "condo townhome hi rise resort property contemporary modern            1\n",
              "condo townhome contemporary modern mediterranean split level          1\n",
              "condo townhome single detached split level traditional                1\n",
              "condo townhome designated historical home hi rise loft                1\n",
              "Name: propertyType, Length: 137, dtype: int64"
            ]
          },
          "execution_count": 1939,
          "metadata": {},
          "output_type": "execute_result"
        }
      ],
      "source": [
        "df[df['propertyType'].str.contains('home')]['propertyType'].value_counts()"
      ]
    },
    {
      "cell_type": "code",
      "execution_count": 1940,
      "metadata": {
        "id": "VNsnUVuBX64m"
      },
      "outputs": [],
      "source": [
        "df['propertyType'] = df['propertyType'].str.replace('home', '')\r\n",
        "df['propertyType'] = df['propertyType'].apply(lambda x: None if x == '' else\r\n",
        "                                              None if str(x) == 'nan' else \r\n",
        "                                              None if str(x) == 'None' else \" \".join(str(x).split()))"
      ]
    },
    {
      "cell_type": "code",
      "execution_count": 1941,
      "metadata": {
        "colab": {
          "base_uri": "https://localhost:8080/"
        },
        "id": "dZ-XFKT9XRqE",
        "outputId": "45deb220-8be4-4962-fa97-347f327eb0da"
      },
      "outputs": [
        {
          "data": {
            "text/plain": [
              "1112"
            ]
          },
          "execution_count": 1941,
          "metadata": {},
          "output_type": "execute_result"
        }
      ],
      "source": [
        "df['propertyType'].nunique()"
      ]
    },
    {
      "cell_type": "code",
      "execution_count": 1942,
      "metadata": {
        "colab": {
          "base_uri": "https://localhost:8080/"
        },
        "id": "lQ5CpxIXACrE",
        "outputId": "930f5ad6-12dc-4e08-e99f-41de4e179918"
      },
      "outputs": [
        {
          "data": {
            "text/plain": [
              "single family                                       186803\n",
              "condo                                                42530\n",
              "NaN                                                  38211\n",
              "lot land                                             20552\n",
              "townhouse                                            18401\n",
              "                                                     ...  \n",
              "other patio traditional                                  1\n",
              "lake house single detached mediterranean                 1\n",
              "cape cod craftsman custom                                1\n",
              "single detached early american traditional tudor         1\n",
              "contemporary modern high rise ranch                      1\n",
              "Name: propertyType, Length: 1113, dtype: int64"
            ]
          },
          "execution_count": 1942,
          "metadata": {},
          "output_type": "execute_result"
        }
      ],
      "source": [
        "df['propertyType'].value_counts(dropna=False)"
      ]
    },
    {
      "cell_type": "markdown",
      "metadata": {
        "id": "dp5t10jcZCCK"
      },
      "source": [
        "street"
      ]
    },
    {
      "cell_type": "code",
      "execution_count": 1943,
      "metadata": {
        "colab": {
          "base_uri": "https://localhost:8080/"
        },
        "id": "17rgvZ3JXw-8",
        "outputId": "cc861a53-41fd-4a52-c97f-534f86c32fd5"
      },
      "outputs": [
        {
          "data": {
            "text/plain": [
              "7270 W Yale Ave                          3\n",
              "922 Armada Dr                            3\n",
              "4808 Wayne Ct                            3\n",
              "2618 Princeton St                        3\n",
              "10314 Glenburn Ln                        3\n",
              "                                        ..\n",
              "14000 SW 21st St                         1\n",
              "NW 79th Loop                             1\n",
              "English St                               1\n",
              "411 Bergen Ave                           1\n",
              "Buildable plan: Gannes Republic Creek    1\n",
              "Name: street, Length: 335877, dtype: int64"
            ]
          },
          "execution_count": 1943,
          "metadata": {},
          "output_type": "execute_result"
        }
      ],
      "source": [
        "df['street'].value_counts(dropna=False)[1200:]"
      ]
    },
    {
      "cell_type": "code",
      "execution_count": 1944,
      "metadata": {
        "id": "-sHPD6TZ6l48"
      },
      "outputs": [],
      "source": [
        "df['street'] = df['street'].str.lower()\n",
        "df['street'] = df['street'].apply(lambda x: None if 'not disclosed' in str(x) else \n",
        "                                  None if 'undisclosed' in str(x) else\n",
        "                                  None if 'not available' in str(x) else\n",
        "                                  None if 'unknown' in str(x) else str(x))"
      ]
    },
    {
      "cell_type": "code",
      "execution_count": 1945,
      "metadata": {
        "id": "J-963uSjL8iB"
      },
      "outputs": [],
      "source": [
        "df.loc[(df['street'].isna()==False) & (df['street'].str.contains(r'mls ')), 'street'] = None"
      ]
    },
    {
      "cell_type": "code",
      "execution_count": 1946,
      "metadata": {
        "id": "Lezwat9yAWuu"
      },
      "outputs": [],
      "source": [
        "punct = string.punctuation\n",
        "df['street'] = df['street'].str.replace('[{}]'.format(string.punctuation), ' ').str.replace(r'\\b[0-9]+\\b', '').str.replace('  ', ' ').str.strip()"
      ]
    },
    {
      "cell_type": "code",
      "execution_count": 1947,
      "metadata": {
        "id": "zIj1LeBMRHcX"
      },
      "outputs": [],
      "source": [
        "street_list_tuple = [('st', 'street'), ('dr', 'drive'), ('ave', 'avenue'), ('rd', 'road'), ('rdg', 'ridge'), ('blvd', 'boulevard'), ('pkwy', 'parkway'), \n",
        "                   ('cir', 'circle'), ('hwy', 'highway'), ('ln', 'lane'), ('lndg', 'landing'), ('trl', 'trail'), ('ter', 'terrace'), ('ct', 'court'), \n",
        "                   ('crk', 'creek'), ('pl', 'place'), ('rds', 'roads'), ('bnd', 'bend'), ('fls', 'falls'), ('clf', 'cliff'), ('clfs', 'cliff'), ('mtn', 'mountain'), \n",
        "                   ('crst', 'crest'), ('hl', 'hill'), ('ml', 'mill'), ('mnr', 'manor'), ('hts', 'heights')]       \n",
        "                          "
      ]
    },
    {
      "cell_type": "code",
      "execution_count": 1948,
      "metadata": {
        "id": "-TXrE9VA9y-V"
      },
      "outputs": [],
      "source": [
        "# for x in street_list_tuple:\r\n",
        "#   street_replace(df, x)"
      ]
    },
    {
      "cell_type": "code",
      "execution_count": 1949,
      "metadata": {
        "colab": {
          "base_uri": "https://localhost:8080/"
        },
        "id": "qwv2r3M6MiJE",
        "outputId": "3680ccf8-3ec3-44ba-f161-7fe105c95c62"
      },
      "outputs": [],
      "source": [
        "dropwords = ['lot', 'lots', 'collections', 'collection', 'plan', 'apt', 'unit', 'buildable', 'the']\r\n",
        "\r\n",
        "# for x in dropwords:\r\n",
        "#   del_dropwords_street(df, x)"
      ]
    },
    {
      "cell_type": "code",
      "execution_count": 1950,
      "metadata": {
        "id": "PtEsZXfg_YW4"
      },
      "outputs": [],
      "source": [
        "# Удаляем мусор из строк, чтобы легче паттерны было выделять\n",
        "df['street'] = df['street'].str.replace(r'\\b[a-z]{1,2}\\b', '').str.replace('  ', ' ').str.strip()\n",
        "df['street'] = df['street'].str.replace(r'\\b[0-9]+[a-z]\\b', '').str.replace(r'\\b[a-z]+[0-9]\\b', '').str.replace(r'\\b[0-9]+ft\\b', '')\n",
        "df['street'] = df['street'].str.replace(r'  ', ' ').str.strip()"
      ]
    },
    {
      "cell_type": "code",
      "execution_count": 1951,
      "metadata": {
        "id": "M7mp668lXZ7n"
      },
      "outputs": [],
      "source": [
        "df['street'] = df['street'].apply(lambda x: None if x is None else\n",
        "                                  None if x.strip() == '' else x)"
      ]
    },
    {
      "cell_type": "code",
      "execution_count": 1952,
      "metadata": {
        "colab": {
          "base_uri": "https://localhost:8080/"
        },
        "id": "0yEgzpl9P_gC",
        "outputId": "e0ac7a8e-3e1f-47d4-a098-16df89b72d51"
      },
      "outputs": [
        {
          "data": {
            "text/plain": [
              "83322       southwest pkwy\n",
              "135296       applewood cir\n",
              "14189              sharman\n",
              "65966                258th\n",
              "334533     towers park apt\n",
              "362159             brixton\n",
              "139239    lancaster newark\n",
              "126501            bellfort\n",
              "77646            miami ave\n",
              "94331            applegate\n",
              "Name: street, dtype: object"
            ]
          },
          "execution_count": 1952,
          "metadata": {},
          "output_type": "execute_result"
        }
      ],
      "source": [
        "df['street'].sample(10)"
      ]
    },
    {
      "cell_type": "markdown",
      "metadata": {
        "id": "x-vwUj9Tirgi"
      },
      "source": [
        "baths"
      ]
    },
    {
      "cell_type": "code",
      "execution_count": 1953,
      "metadata": {
        "colab": {
          "base_uri": "https://localhost:8080/"
        },
        "id": "72-rA4zkcziq",
        "outputId": "de73b07f-ece1-43a5-d38e-c6474fa630ae"
      },
      "outputs": [
        {
          "data": {
            "text/plain": [
              "NaN              106338\n",
              "2 Baths           52466\n",
              "3 Baths           35506\n",
              "2                 20452\n",
              "2.0               16576\n",
              "                  ...  \n",
              "42 Baths              1\n",
              "34.0                  1\n",
              "16 ba                 1\n",
              "21 Baths              1\n",
              "1-0 / 1-0 / 1         1\n",
              "Name: baths, Length: 230, dtype: int64"
            ]
          },
          "execution_count": 1953,
          "metadata": {},
          "output_type": "execute_result"
        }
      ],
      "source": [
        "df['baths'] = df['baths'].apply(lambda x: None if x is np.nan else x)\n",
        "df['baths'].value_counts(dropna=False)"
      ]
    },
    {
      "cell_type": "code",
      "execution_count": 1954,
      "metadata": {
        "id": "dB_Ii709XnKe"
      },
      "outputs": [],
      "source": [
        "punct = '~—\\-:'"
      ]
    },
    {
      "cell_type": "code",
      "execution_count": 1955,
      "metadata": {
        "id": "jmhHX5o4iv-f"
      },
      "outputs": [],
      "source": [
        "df['baths'] = df['baths'].str.lower().str.replace('[a-z]+\\.?', '').str.replace(',', '.').str.replace('[{}]'.format(punct), ' ')\n",
        "df['baths'] = df['baths'].apply(lambda x: None if str(x).strip() =='' else x)"
      ]
    },
    {
      "cell_type": "code",
      "execution_count": 1956,
      "metadata": {
        "colab": {
          "base_uri": "https://localhost:8080/"
        },
        "id": "OM9QISiVi9Rp",
        "outputId": "ec808283-d9ce-4db1-d2bd-75e26b21a1be"
      },
      "outputs": [
        {
          "data": {
            "text/plain": [
              "2.0     103519\n",
              "3.0      66683\n",
              "4.0      26333\n",
              "1.0      17787\n",
              "2.5      13786\n",
              "         ...  \n",
              "1.8          1\n",
              "64.0         1\n",
              "14.5         1\n",
              "0.5          1\n",
              "42.0         1\n",
              "Name: baths_new, Length: 84, dtype: int64"
            ]
          },
          "execution_count": 1956,
          "metadata": {},
          "output_type": "execute_result"
        }
      ],
      "source": [
        "df['baths_new'] = df['baths'].str.findall('[0-9]+\\.?[0-9]*')\n",
        "df['baths_new'] = df['baths_new'].apply(lambda x: None if x is None else x[0]).astype(float)\n",
        "df['baths_new'].value_counts()\n",
        "\n",
        "# df['baths_new'].to_csv('out.csv')\n",
        "# ванна 0.5 проверить"
      ]
    },
    {
      "cell_type": "markdown",
      "metadata": {
        "id": "Z8H573yK-5Ra"
      },
      "source": [
        "city"
      ]
    },
    {
      "cell_type": "code",
      "execution_count": 1957,
      "metadata": {
        "id": "tx4GJMim-xfC"
      },
      "outputs": [],
      "source": [
        "df['city'] = df['city'].str.lower().str.strip()\n",
        "df['city'] = df['city'].str.replace('\\-', ' ')"
      ]
    },
    {
      "cell_type": "code",
      "execution_count": 1958,
      "metadata": {
        "id": "50sSBa0CCy35"
      },
      "outputs": [],
      "source": [
        "df['city'] = df['city'].str.replace(' city', '').str.replace(' town+[a-z]*', '')\n",
        "df['city'] = df['city'].str.replace('st\\.', 'saint').str.replace(' twp.', '').str.replace('e. ', '').str.replace('ft.', 'fort').str.replace('s.a.', 'san antonio')\n",
        "df['city'] = df['city'].str.replace(' twp', '').str.replace(' vlg', ' village')\n",
        "df['city'] = df['city'].str.replace(' hts', 'heights').str.replace(' pt', 'point').str.replace('pt ', 'port ')\n",
        "df['city'] = df['city'].str.replace('^st ', 'saint ')"
      ]
    },
    {
      "cell_type": "code",
      "execution_count": 1959,
      "metadata": {
        "id": "fQ9mVNQdLtvv"
      },
      "outputs": [],
      "source": [
        "df.loc[(df['city'].isna()==False) & (df['city'].str.contains('san antonio')), 'city'] = 'san antonio'"
      ]
    },
    {
      "cell_type": "code",
      "execution_count": 1960,
      "metadata": {
        "id": "X_UHuzr2NcFB"
      },
      "outputs": [],
      "source": [
        "df['city'] = df['city'].str.replace('p c ', 'panama ').str.replace('^n ', 'north ').str.replace(\"town 'n' country\", 'town north country')\r\n",
        "df['city'] = df['city'].str.replace('nyork', 'new york').str.replace('nyc', 'new york')\r\n",
        "df['city'] = df['city'].str.replace('bed-stuy', 'brooklyn').str.replace('collegepoint', 'college point')\r\n",
        "df['city'] = df['city'].str.replace('othvalue [ a-z]*', 'other')"
      ]
    },
    {
      "cell_type": "code",
      "execution_count": 1961,
      "metadata": {
        "id": "127ZGrVM_PHv"
      },
      "outputs": [],
      "source": [
        "df['city'] = df['city'].apply(lambda x: \" \".join(str(x).split())).str.strip()\r\n",
        "df['city'] = df['city'].apply(lambda x: None if x is None else None if str(x) == '' else x)"
      ]
    },
    {
      "cell_type": "code",
      "execution_count": 1962,
      "metadata": {
        "colab": {
          "base_uri": "https://localhost:8080/"
        },
        "id": "Zjiaw16guWeV",
        "outputId": "85a0d299-3f6d-4c30-8514-ddd9d77be0a5"
      },
      "outputs": [
        {
          "data": {
            "text/plain": [
              "san antonio         30033\n",
              "houston             24442\n",
              "miami               15528\n",
              "jacksonville        10032\n",
              "dallas               8858\n",
              "                    ...  \n",
              "eads                    1\n",
              "city center             1\n",
              "commercial point        1\n",
              "rainbow valley          1\n",
              "beulah                  1\n",
              "Name: city, Length: 1784, dtype: int64"
            ]
          },
          "execution_count": 1962,
          "metadata": {},
          "output_type": "execute_result"
        }
      ],
      "source": [
        "df['city'].value_counts(dropna=False)"
      ]
    },
    {
      "cell_type": "markdown",
      "metadata": {
        "id": "T7pcOLqTWbxg"
      },
      "source": [
        "sqft"
      ]
    },
    {
      "cell_type": "code",
      "execution_count": 1963,
      "metadata": {
        "colab": {
          "base_uri": "https://localhost:8080/"
        },
        "id": "RER3b6qMWJMn",
        "outputId": "50615b1c-ce01-4a8d-b2d2-e08d3650fc4a"
      },
      "outputs": [
        {
          "data": {
            "text/plain": [
              "0                                          11854\n",
              "1,200 sqft                                   839\n",
              "1,000 sqft                                   654\n",
              "1,100 sqft                                   573\n",
              "1,800 sqft                                   563\n",
              "                                           ...  \n",
              "10,160 sqft                                    1\n",
              "3634                                           1\n",
              "Total interior livable area: 8,310 sqft        1\n",
              "122,606 sqft                                   1\n",
              "89,340 sqft                                    1\n",
              "Name: sqft, Length: 25405, dtype: int64"
            ]
          },
          "execution_count": 1963,
          "metadata": {},
          "output_type": "execute_result"
        }
      ],
      "source": [
        "df['sqft'].value_counts()"
      ]
    },
    {
      "cell_type": "code",
      "execution_count": 1964,
      "metadata": {
        "id": "GP4EeNuxWd-v"
      },
      "outputs": [],
      "source": [
        "df['sqft'] = df['sqft'].apply(lambda x: None if x is np.nan else x)"
      ]
    },
    {
      "cell_type": "code",
      "execution_count": 1965,
      "metadata": {
        "id": "GDNi00qLYEs9"
      },
      "outputs": [],
      "source": [
        "df['sqft'] = df['sqft'].str.replace('[a-z ]*: ', '')\n",
        "df['sqft'] = df['sqft'].str.replace('-','').str.replace('[A-Za-z]+','').str.replace(',','')"
      ]
    },
    {
      "cell_type": "code",
      "execution_count": 1966,
      "metadata": {
        "id": "MgP1MPahpfUc"
      },
      "outputs": [],
      "source": [
        "df['sqft'] = df['sqft'].str.strip().apply(lambda x: None if x is None else \n",
        "                                          None if x == '' else int(x))"
      ]
    },
    {
      "cell_type": "code",
      "execution_count": 1967,
      "metadata": {
        "colab": {
          "base_uri": "https://localhost:8080/"
        },
        "id": "NsuUp4aIXmZe",
        "outputId": "803ece23-8708-4b45-facf-7b74680c8031"
      },
      "outputs": [
        {
          "data": {
            "text/plain": [
              "NaN         41397\n",
              "0.0         11854\n",
              "1200.0       1426\n",
              "1000.0       1027\n",
              "1500.0       1014\n",
              "            ...  \n",
              "8966.0          1\n",
              "11089.0         1\n",
              "123275.0        1\n",
              "44351.0         1\n",
              "32767.0         1\n",
              "Name: sqft, Length: 9898, dtype: int64"
            ]
          },
          "execution_count": 1967,
          "metadata": {},
          "output_type": "execute_result"
        }
      ],
      "source": [
        "df['sqft'].value_counts(dropna=False)"
      ]
    },
    {
      "cell_type": "markdown",
      "metadata": {
        "id": "QGaLQyherF6A"
      },
      "source": [
        "zipcode"
      ]
    },
    {
      "cell_type": "code",
      "execution_count": 1968,
      "metadata": {
        "colab": {
          "base_uri": "https://localhost:8080/"
        },
        "id": "ebx3JkAsrA8G",
        "outputId": "dfc8ef42-80d0-4e5b-e93f-890a3ccdbe78"
      },
      "outputs": [
        {
          "data": {
            "text/plain": [
              "32137         2141\n",
              "33131         1563\n",
              "34747         1488\n",
              "78245         1390\n",
              "34759         1333\n",
              "              ... \n",
              "5940             1\n",
              "33785            1\n",
              "27610-4307       1\n",
              "14785            1\n",
              "27703-8355       1\n",
              "Name: zipcode, Length: 4549, dtype: int64"
            ]
          },
          "execution_count": 1968,
          "metadata": {},
          "output_type": "execute_result"
        }
      ],
      "source": [
        "df['zipcode'].value_counts()"
      ]
    },
    {
      "cell_type": "code",
      "execution_count": 1969,
      "metadata": {},
      "outputs": [],
      "source": [
        "# Приведем все значения к 5-значному формату\r\n",
        "\r\n",
        "df['zipcode'] = df['zipcode'].str.replace('\\-[0-9]*', '').apply(lambda x: None if x is None else \r\n",
        "                                                                None if x == '' else \r\n",
        "                                                                ('0000' + str(x))[-5:])"
      ]
    },
    {
      "cell_type": "markdown",
      "metadata": {
        "id": "tUy9qm4JywQ8"
      },
      "source": [
        "beds"
      ]
    },
    {
      "cell_type": "code",
      "execution_count": 1970,
      "metadata": {
        "id": "wvpHVzR-xYi7"
      },
      "outputs": [],
      "source": [
        "df['beds'] = df['beds'].apply(lambda x: None if x is np.nan else x).str.lower()"
      ]
    },
    {
      "cell_type": "code",
      "execution_count": 1971,
      "metadata": {
        "colab": {
          "base_uri": "https://localhost:8080/"
        },
        "id": "BwACF0KWzBvB",
        "outputId": "7515672e-902f-4c0c-e221-bf197a1a97db"
      },
      "outputs": [
        {
          "data": {
            "text/plain": [
              "NaN           91282\n",
              "3 beds        53459\n",
              "4 beds        35418\n",
              "3             31406\n",
              "2 beds        26362\n",
              "              ...  \n",
              "2.72 acres        1\n",
              "4,665 sqft        1\n",
              "10.7 acres        1\n",
              "7,797 sqft        1\n",
              "5,906 sqft        1\n",
              "Name: beds, Length: 1185, dtype: int64"
            ]
          },
          "execution_count": 1971,
          "metadata": {},
          "output_type": "execute_result"
        }
      ],
      "source": [
        "df['beds'].value_counts(dropna=False)"
      ]
    },
    {
      "cell_type": "code",
      "execution_count": 1972,
      "metadata": {
        "id": "2iO9cAP-zPl6"
      },
      "outputs": [],
      "source": [
        "index_sqft = df.loc[(df['sqft'].isna()) & (df['beds'].str.contains('sqft')), ['sqft','beds']].index\n",
        "new_sqft = df.loc[(df['sqft'].isna()) & (df['beds'].str.contains('sqft')), ['sqft','beds']]\n",
        "new_sqft['sqft'] = new_sqft['beds'].str.strip().str.replace(',', '.').str.findall('[0-9]+\\.*[0-9]*').apply(lambda x: None if len(x) == 0 else x[0]).astype(float)\n",
        "\n",
        "df.loc[(df['sqft'].isna()) & (df['beds'].str.contains('sqft')), 'sqft'] = new_sqft['sqft']\n",
        "df.loc[(df['beds'].isna()==False) & (df['beds'].str.contains('sqft')), 'beds'] = None"
      ]
    },
    {
      "cell_type": "code",
      "execution_count": 1973,
      "metadata": {
        "id": "DNruJWw8z5z7"
      },
      "outputs": [],
      "source": [
        "index_sqft = df.loc[(df['sqft'].isna()) & (df['beds'].str.contains('acre')), ['sqft','beds']].index\n",
        "new_sqft = df.loc[(df['sqft'].isna()) & (df['beds'].str.contains('acre')), ['sqft','beds']]\n",
        "new_sqft['sqft'] = new_sqft['beds'].str.strip().str.replace(',', '.').str.findall('[0-9]+\\.*[0-9]*').apply(lambda x: None if len(x) == 0 else x[0]).astype(float)\n",
        "new_sqft['sqft'] = (new_sqft['sqft'] * 43560).astype(int)\n",
        "\n",
        "df.loc[(df['sqft'].isna()) & (df['beds'].str.contains('acre')), 'sqft'] = new_sqft['sqft']\n",
        "df.loc[(df['beds'].isna()==False) & (df['beds'].str.contains('acre')), 'beds'] = None"
      ]
    },
    {
      "cell_type": "code",
      "execution_count": 1974,
      "metadata": {
        "id": "ce4-zy-Zfl0d"
      },
      "outputs": [],
      "source": [
        "df['beds'] = df['beds'].str.replace('bedrooms', 'beds').str.replace('bd', 'beds')"
      ]
    },
    {
      "cell_type": "code",
      "execution_count": 1975,
      "metadata": {
        "id": "Pq61g_IU0YZk"
      },
      "outputs": [],
      "source": [
        "df.loc[(df['beds'].isna()==False) & (df['beds'].str.strip().str.contains('^[a-z,\\-%@#_:;~ ]+$')), 'beds'] = None"
      ]
    },
    {
      "cell_type": "code",
      "execution_count": 1976,
      "metadata": {
        "colab": {
          "base_uri": "https://localhost:8080/"
        },
        "id": "kfjeW_UVcLQm",
        "outputId": "016e74ea-307b-4682-bd8d-ebb577f3e95c"
      },
      "outputs": [
        {
          "data": {
            "text/plain": [
              "NaN       111390\n",
              "3 beds     66336\n",
              "4 beds     43683\n",
              "2 beds     31605\n",
              "3          31406\n",
              "4          20030\n",
              "2          16110\n",
              "5 beds     13904\n",
              "3.0         8088\n",
              "5           6424\n",
              "4.0         5231\n",
              "1           4610\n",
              "6 beds      4466\n",
              "2.0         2430\n",
              "6           1806\n",
              "5.0         1372\n",
              "7 beds      1247\n",
              "0           1230\n",
              "1 beds      1081\n",
              "8 beds       856\n",
              "Name: beds, dtype: int64"
            ]
          },
          "execution_count": 1976,
          "metadata": {},
          "output_type": "execute_result"
        }
      ],
      "source": [
        "df['beds'].value_counts(dropna=False)[:20]"
      ]
    },
    {
      "cell_type": "code",
      "execution_count": 1977,
      "metadata": {
        "colab": {
          "base_uri": "https://localhost:8080/"
        },
        "id": "2kdMd2lk1deC",
        "outputId": "f6cef934-436b-4f47-ec13-9c6cc4a370b4"
      },
      "outputs": [
        {
          "data": {
            "text/plain": [
              "18787     1.0\n",
              "124819    1.0\n",
              "172605    1.0\n",
              "238222    1.0\n",
              "279149    2.0\n",
              "325249    1.0\n",
              "Name: baths_new, dtype: float64"
            ]
          },
          "execution_count": 1977,
          "metadata": {},
          "output_type": "execute_result"
        }
      ],
      "source": [
        "new_bath = df.loc[(df['baths_new'].isna()) & (df['beds'].str.contains('bath')), 'beds'].str.findall('[0-9a-z ]+ bath').apply(lambda x: x[0].split()[0]).astype(float)\n",
        "df.loc[new_bath.index, 'baths_new'] = new_bath\n",
        "df.loc[new_bath.index, 'baths_new']"
      ]
    },
    {
      "cell_type": "code",
      "execution_count": 1978,
      "metadata": {
        "colab": {
          "base_uri": "https://localhost:8080/"
        },
        "id": "eWo-mftActlm",
        "outputId": "6ac1c8b4-9d61-4dca-cc5f-590b1a0f3b61"
      },
      "outputs": [
        {
          "data": {
            "text/plain": [
              "index\n",
              "18787     2\n",
              "172605    2\n",
              "200331    3\n",
              "238222    3\n",
              "325249    2\n",
              "124819    2\n",
              "279149    3\n",
              "Name: beds, dtype: object"
            ]
          },
          "execution_count": 1978,
          "metadata": {},
          "output_type": "execute_result"
        }
      ],
      "source": [
        "new_beds = pd.concat([(df.loc[(df['beds'].isna()==False) & (df['beds'].str.strip().str.contains('[0-9 a-z]+bed[a-z]*,')), 'beds']),\n",
        "                      df.loc[(df['beds'].isna()==False) & (df['beds'].str.strip().str.contains(',[0-9 a-z]+bed[a-z]*')), 'beds']\n",
        "                      ],\n",
        "                     ).reset_index()\n",
        "new_beds = new_beds.drop_duplicates().set_index('index')\n",
        "new_beds['beds'] = new_beds['beds'].str.replace('or more ', '').str.findall('[0-9 ]+bed').apply(lambda x: x[0].split()[0]).astype(float)\n",
        "\n",
        "df.loc[new_beds.index, 'beds'] = new_beds['beds']\n",
        "df.loc[new_beds.index, 'beds']"
      ]
    },
    {
      "cell_type": "code",
      "execution_count": 1979,
      "metadata": {
        "colab": {
          "base_uri": "https://localhost:8080/"
        },
        "id": "aRH-Z607JfVy",
        "outputId": "e1771cdb-1b8b-45a8-9512-9457de281afe"
      },
      "outputs": [
        {
          "data": {
            "text/plain": [
              "330468    2\n",
              "Name: beds, dtype: object"
            ]
          },
          "execution_count": 1979,
          "metadata": {},
          "output_type": "execute_result"
        }
      ],
      "source": [
        "punct = '!@#_,:;&'\n",
        "df.loc[(df['beds'].isna()==False) & (df['beds'].str.contains('[{}]'.format(punct))), 'beds'] = None\n",
        "punct = '\\-'\n",
        "new_beds = df.loc[(df['beds'].isna()==False) & (df['beds'].str.contains('[{}]'.format(punct))), 'beds'].str.findall('[0-9]+').apply(lambda x: x[-1]).astype(float)\n",
        "df.loc[new_beds.index, 'beds'] = new_beds\n",
        "df.loc[new_beds.index, 'beds']"
      ]
    },
    {
      "cell_type": "code",
      "execution_count": 1980,
      "metadata": {
        "id": "zgBvOZk4Gh8s"
      },
      "outputs": [],
      "source": [
        "df['beds'] = df['beds'].str.replace('or more ', '')\n",
        "df['beds'] = df['beds'].str.replace('beds','').str.strip().apply(lambda x: None if x is None else\n",
        "                                                                 None if x == '' else x).astype(float)"
      ]
    },
    {
      "cell_type": "markdown",
      "metadata": {
        "id": "JwsNx8q4Ph1M"
      },
      "source": [
        "state"
      ]
    },
    {
      "cell_type": "code",
      "execution_count": 1981,
      "metadata": {
        "colab": {
          "base_uri": "https://localhost:8080/"
        },
        "id": "eXqI6_T-NP66",
        "outputId": "da8d4803-317d-44d9-cbd9-6f074a2098a8"
      },
      "outputs": [
        {
          "data": {
            "text/plain": [
              "UT    1325\n",
              "MD    1090\n",
              "VT     868\n",
              "MO     866\n",
              "VA     801\n",
              "WI     452\n",
              "NJ     436\n",
              "ME     259\n",
              "IA     242\n",
              "KY      90\n",
              "OK      49\n",
              "MS      40\n",
              "SC      28\n",
              "MT       7\n",
              "DE       5\n",
              "BA       1\n",
              "OT       1\n",
              "Fl       1\n",
              "AL       1\n",
              "OS       1\n",
              "Name: state, dtype: int64"
            ]
          },
          "execution_count": 1981,
          "metadata": {},
          "output_type": "execute_result"
        }
      ],
      "source": [
        "df['state'].value_counts(dropna=False)[-20:]"
      ]
    },
    {
      "cell_type": "markdown",
      "metadata": {
        "id": "zFf8WBnrPr_e"
      },
      "source": [
        "stories"
      ]
    },
    {
      "cell_type": "code",
      "execution_count": 1982,
      "metadata": {
        "colab": {
          "base_uri": "https://localhost:8080/"
        },
        "id": "eSiNvWsVPkzx",
        "outputId": "33551c3a-f86a-42de-aa8a-2d1f62b01aab"
      },
      "outputs": [
        {
          "data": {
            "text/plain": [
              "1.0    4440\n",
              "2.0    3024\n",
              "3.0     140\n",
              "8.0      38\n",
              "7.0      15\n",
              "5.0       1\n",
              "Name: stories_dop, dtype: int64"
            ]
          },
          "execution_count": 1982,
          "metadata": {},
          "output_type": "execute_result"
        }
      ],
      "source": [
        "df['stories_dop'] = df['stories_dop'].apply(lambda x: None if x is None else x.split()[0]).astype(float)\n",
        "df['stories_dop'].value_counts()"
      ]
    },
    {
      "cell_type": "code",
      "execution_count": 1983,
      "metadata": {
        "colab": {
          "base_uri": "https://localhost:8080/"
        },
        "id": "gLytSAWDP4gg",
        "outputId": "f591ad1b-e158-44ec-a9ec-b98bdf1c482b"
      },
      "outputs": [
        {
          "data": {
            "text/plain": [
              "NaN                     150715\n",
              "1.0                      67454\n",
              "2.0                      55283\n",
              "1                        23086\n",
              "2                        18146\n",
              "                         ...  \n",
              "a frame                      1\n",
              "1 level, 1.5 level           1\n",
              "2 stories, townhouse         1\n",
              "50.0                         1\n",
              "3.000                        1\n",
              "Name: stories, Length: 349, dtype: int64"
            ]
          },
          "execution_count": 1983,
          "metadata": {},
          "output_type": "execute_result"
        }
      ],
      "source": [
        "df['stories'] = df['stories'].str.lower()\n",
        "df['stories'].value_counts(dropna=False)\n",
        "\n",
        "# много пустых значений, не знаю, обрабатывать ли их"
      ]
    },
    {
      "cell_type": "code",
      "execution_count": 1984,
      "metadata": {
        "id": "nFpTZ8ShSWtH"
      },
      "outputs": [],
      "source": [
        "# punct = '!|/_\\-:;'\n",
        "# df.loc[(df['stories'].isna()==False) & (df['stories'].str.contains('[{}]'.format(punct))), 'stories'].value_counts()\n",
        "# df.loc[(df['stories'].isna()==False) & (df['stories'].str.contains('[0-9 ]/[0-9 ]')), 'stories'].value_counts()\n",
        "# df.loc[(df['stories'].isna()==False) & (df['stories'].str.contains('half')), 'stories'].value_counts()\n",
        "# df.loc[(df['stories'].isna()==False) & (df['stories'].str.contains('multi')), 'stories'].value_counts()\n"
      ]
    },
    {
      "cell_type": "markdown",
      "metadata": {
        "id": "poldPvKAo53Z"
      },
      "source": [
        "MlsId"
      ]
    },
    {
      "cell_type": "code",
      "execution_count": 1985,
      "metadata": {
        "id": "mfQfEG2-S23g"
      },
      "outputs": [],
      "source": [
        "df = df.drop('MlsId', axis=1)"
      ]
    },
    {
      "cell_type": "markdown",
      "metadata": {
        "id": "pjTtXvHrw8d8"
      },
      "source": [
        "homeFacts"
      ]
    },
    {
      "cell_type": "code",
      "execution_count": 1986,
      "metadata": {
        "id": "YgIQbmEow96n"
      },
      "outputs": [],
      "source": [
        "df['homeFacts'] = df['homeFacts'].apply(lambda x: eval(x))"
      ]
    },
    {
      "cell_type": "code",
      "execution_count": 1987,
      "metadata": {
        "id": "CAmvgZMGzmuy"
      },
      "outputs": [],
      "source": [
        "df['homeFacts_new'] = df['homeFacts'].apply(lambda x: list(x.values())[0])"
      ]
    },
    {
      "cell_type": "code",
      "execution_count": 1988,
      "metadata": {
        "id": "FYgPExig5f6_"
      },
      "outputs": [],
      "source": [
        "list_columns = ['Year built', 'Remodeled year', 'Heating', 'Cooling', 'Parking', 'lotsize', 'Price/sqft']\n",
        "\n",
        "for column in enumerate(list_columns):\n",
        "  df[column[1]] = None\n",
        "  df[column[1]] = df['homeFacts_new'].apply(lambda x: None if x[column[0]].get('factValue') == '' else  x[column[0]].get('factValue'))"
      ]
    },
    {
      "cell_type": "markdown",
      "metadata": {
        "id": "rGfddbo3WybK"
      },
      "source": [
        "Year built"
      ]
    },
    {
      "cell_type": "code",
      "execution_count": 1989,
      "metadata": {
        "colab": {
          "base_uri": "https://localhost:8080/"
        },
        "id": "hyqY1vbGW0rA",
        "outputId": "1f42d189-3393-4848-d84a-eb357def58fb"
      },
      "outputs": [
        {
          "data": {
            "text/plain": [
              "NaN     62374\n",
              "2019    32171\n",
              "2006     8008\n",
              "2005     7503\n",
              "2007     7152\n",
              "        ...  \n",
              "1845        1\n",
              "1808        1\n",
              "1843        1\n",
              "1804        1\n",
              "1809        1\n",
              "Name: Year built, Length: 230, dtype: int64"
            ]
          },
          "execution_count": 1989,
          "metadata": {},
          "output_type": "execute_result"
        }
      ],
      "source": [
        "df['Year built'].value_counts(dropna=False)"
      ]
    },
    {
      "cell_type": "code",
      "execution_count": 1990,
      "metadata": {
        "id": "-w-EQyn0W8U3"
      },
      "outputs": [],
      "source": [
        "df['Year built'] = df['Year built'].apply(lambda x: None if x is None else\n",
        "                                          None if 'No' in x else int(x))"
      ]
    },
    {
      "cell_type": "code",
      "execution_count": 1991,
      "metadata": {
        "colab": {
          "base_uri": "https://localhost:8080/"
        },
        "id": "BbaaJe9LYJsz",
        "outputId": "5e52e421-fda9-4672-cfaa-ec4aa2a00c4b"
      },
      "outputs": [
        {
          "data": {
            "text/plain": [
              "NaN       63596\n",
              "2019.0    32171\n",
              "2006.0     8008\n",
              "2005.0     7503\n",
              "2007.0     7152\n",
              "          ...  \n",
              "1805.0        1\n",
              "1807.0        1\n",
              "1808.0        1\n",
              "1809.0        1\n",
              "1019.0        1\n",
              "Name: Year built, Length: 229, dtype: int64"
            ]
          },
          "execution_count": 1991,
          "metadata": {},
          "output_type": "execute_result"
        }
      ],
      "source": [
        "df['Year built'].value_counts(dropna=False)"
      ]
    },
    {
      "cell_type": "markdown",
      "metadata": {
        "id": "KPJobTwLXyA4"
      },
      "source": [
        "Remodeled year"
      ]
    },
    {
      "cell_type": "code",
      "execution_count": 1992,
      "metadata": {
        "colab": {
          "base_uri": "https://localhost:8080/"
        },
        "id": "OT1jC79bX0kE",
        "outputId": "69564407-3752-4261-ae30-77036a5effd2"
      },
      "outputs": [
        {
          "data": {
            "text/plain": [
              "NaN     226110\n",
              "2006      5538\n",
              "2005      4817\n",
              "2007      4387\n",
              "2008      3796\n",
              "         ...  \n",
              "1869         1\n",
              "1846         1\n",
              "1870         1\n",
              "1111         1\n",
              "1800         1\n",
              "Name: Remodeled year, Length: 154, dtype: int64"
            ]
          },
          "execution_count": 1992,
          "metadata": {},
          "output_type": "execute_result"
        }
      ],
      "source": [
        "df['Remodeled year'].value_counts(dropna=False)\n",
        "\n",
        "# Слишком много пропусков, удалим потом столбец"
      ]
    },
    {
      "cell_type": "markdown",
      "metadata": {
        "id": "bmoNgA0WYBEF"
      },
      "source": [
        "Heating"
      ]
    },
    {
      "cell_type": "code",
      "execution_count": 1993,
      "metadata": {
        "colab": {
          "base_uri": "https://localhost:8080/"
        },
        "id": "itw_ArrnYbsW",
        "outputId": "34bc3d08-0df8-4f58-ce13-ad10289bf2a7"
      },
      "outputs": [
        {
          "data": {
            "text/plain": [
              "NaN                 109332\n",
              "Forced Air           82807\n",
              "Forced air           51506\n",
              "Other                29623\n",
              "Electric             10211\n",
              "Gas                   9296\n",
              "No Data               8611\n",
              "Central Air           7814\n",
              "Central Electric      7112\n",
              "Central               6247\n",
              "Name: Heating, dtype: int64"
            ]
          },
          "execution_count": 1993,
          "metadata": {},
          "output_type": "execute_result"
        }
      ],
      "source": [
        "df['Heating'].value_counts(dropna=False)[:10]\n",
        "\n",
        "# Слишком много пропусков и непоказательных данных, удалим потом столбец"
      ]
    },
    {
      "cell_type": "markdown",
      "metadata": {
        "id": "zXExzL_sYz0S"
      },
      "source": [
        "Cooling"
      ]
    },
    {
      "cell_type": "code",
      "execution_count": 1994,
      "metadata": {
        "colab": {
          "base_uri": "https://localhost:8080/"
        },
        "id": "S6jLqyULY2df",
        "outputId": "eff94966-ecf5-4475-ea4b-d4d952ee4714"
      },
      "outputs": [
        {
          "data": {
            "text/plain": [
              "Central                                         158754\n",
              "NaN                                             123967\n",
              "Central Air                                      14384\n",
              "No Data                                          10616\n",
              "Has Cooling                                       9730\n",
              "                                                 ...  \n",
              "Central Air, Multi-Zone Heat                         1\n",
              "Programmable Thermostat Cooling, Central A/C         1\n",
              "Ductless/Mini-Split                                  1\n",
              "Central Electric, Other Heating, Propane             1\n",
              "Forced Air Heat, Hot Water, Stove Heat               1\n",
              "Name: Cooling, Length: 1445, dtype: int64"
            ]
          },
          "execution_count": 1994,
          "metadata": {},
          "output_type": "execute_result"
        }
      ],
      "source": [
        "df['Cooling'].value_counts(dropna=False)\n",
        "\n",
        "# Слишком много пропусков и непоказательных данных, удалим потом столбец"
      ]
    },
    {
      "cell_type": "markdown",
      "metadata": {
        "id": "LyHFZsVjZ1Lz"
      },
      "source": [
        "Parking"
      ]
    },
    {
      "cell_type": "code",
      "execution_count": 1995,
      "metadata": {
        "colab": {
          "base_uri": "https://localhost:8080/"
        },
        "id": "TFUQ7Ke-Z5ln",
        "outputId": "c9ab50c5-c411-4b40-acd9-0dd6c2ac4931"
      },
      "outputs": [
        {
          "data": {
            "text/plain": [
              "NaN                         175420\n",
              "Attached Garage              70752\n",
              "2 spaces                     28063\n",
              "1 space                      14252\n",
              "No Data                      13334\n",
              "Detached Garage              13201\n",
              "Carport                       7743\n",
              "3 spaces                      4724\n",
              "Off Street                    3622\n",
              "Carport, Attached Garage      3025\n",
              "Name: Parking, dtype: int64"
            ]
          },
          "execution_count": 1995,
          "metadata": {},
          "output_type": "execute_result"
        }
      ],
      "source": [
        "df['Parking'].value_counts(dropna=False)[:10]\n",
        "\n",
        "# Слишком много пропусков и непоказательных данных, удалим потом столбец"
      ]
    },
    {
      "cell_type": "markdown",
      "metadata": {
        "id": "6dRCkB31aHLg"
      },
      "source": [
        "lotsize sqft"
      ]
    },
    {
      "cell_type": "code",
      "execution_count": 1996,
      "metadata": {
        "colab": {
          "base_uri": "https://localhost:8080/",
          "height": 204
        },
        "id": "drAc8prEaIJn",
        "outputId": "70f6d87d-c68a-437a-d991-56097e0ad89b"
      },
      "outputs": [
        {
          "data": {
            "text/html": [
              "<div>\n",
              "<style scoped>\n",
              "    .dataframe tbody tr th:only-of-type {\n",
              "        vertical-align: middle;\n",
              "    }\n",
              "\n",
              "    .dataframe tbody tr th {\n",
              "        vertical-align: top;\n",
              "    }\n",
              "\n",
              "    .dataframe thead th {\n",
              "        text-align: right;\n",
              "    }\n",
              "</style>\n",
              "<table border=\"1\" class=\"dataframe\">\n",
              "  <thead>\n",
              "    <tr style=\"text-align: right;\">\n",
              "      <th></th>\n",
              "      <th>lotsize</th>\n",
              "      <th>sqft</th>\n",
              "    </tr>\n",
              "  </thead>\n",
              "  <tbody>\n",
              "    <tr>\n",
              "      <th>285630</th>\n",
              "      <td>9,566 sqft</td>\n",
              "      <td>1770.0</td>\n",
              "    </tr>\n",
              "    <tr>\n",
              "      <th>374226</th>\n",
              "      <td>5,662 sqft</td>\n",
              "      <td>3017.0</td>\n",
              "    </tr>\n",
              "    <tr>\n",
              "      <th>325665</th>\n",
              "      <td>1 acre</td>\n",
              "      <td>4800.0</td>\n",
              "    </tr>\n",
              "    <tr>\n",
              "      <th>133702</th>\n",
              "      <td>6669 sqft</td>\n",
              "      <td>1500.0</td>\n",
              "    </tr>\n",
              "    <tr>\n",
              "      <th>192306</th>\n",
              "      <td>6,094 sqft</td>\n",
              "      <td>1421.0</td>\n",
              "    </tr>\n",
              "  </tbody>\n",
              "</table>\n",
              "</div>"
            ],
            "text/plain": [
              "           lotsize    sqft\n",
              "285630  9,566 sqft  1770.0\n",
              "374226  5,662 sqft  3017.0\n",
              "325665      1 acre  4800.0\n",
              "133702   6669 sqft  1500.0\n",
              "192306  6,094 sqft  1421.0"
            ]
          },
          "execution_count": 1996,
          "metadata": {},
          "output_type": "execute_result"
        }
      ],
      "source": [
        "df[['lotsize', 'sqft']].sample(5)"
      ]
    },
    {
      "cell_type": "code",
      "execution_count": 1997,
      "metadata": {
        "id": "I9Cl84xiA0d7"
      },
      "outputs": [],
      "source": [
        "df['lotsize'] = df['lotsize'].str.lower().str.replace(r'[\\-,—]', '').str.strip().apply(lambda x: None if x is None else\n",
        "                                                                                      None if 'no' in x else\n",
        "                                                                                      None if x == '' else x)"
      ]
    },
    {
      "cell_type": "code",
      "execution_count": 1998,
      "metadata": {
        "id": "k7gRKmIqbaKo"
      },
      "outputs": [],
      "source": [
        "# Заполним те значения признака sqft которые пустые из признака lotsize\n",
        "\n",
        "# acres\n",
        "new_lot_size = df.loc[(df['sqft'].isna()) & (df['lotsize'].isna()==False) & (df['lotsize'].str.contains('sq'))]['lotsize']\n",
        "new_lot_size = new_lot_size.str.lower().str.replace(r'[a-z \\.]', '').str.strip()\n",
        "new_lot_size = new_lot_size.apply(lambda x: None if x is None else \n",
        "                                  None if x is np.nan else\n",
        "                                  None if x == '' else int(float(x)))\n",
        "df.loc[new_lot_size.index, 'sqft'] = new_lot_size\n",
        "\n",
        "# acres\n",
        "new_lot_size = df.loc[(df['sqft'].isna()) & (df['lotsize'].isna()==False) & (df['lotsize'].str.contains('acre'))]['lotsize']\n",
        "new_lot_size = new_lot_size.str.lower().str.replace('[a-z ]', '').str.strip()\n",
        "new_lot_size = new_lot_size.apply(lambda x: None if x is None else float(x) * 43560).astype(int)\n",
        "df.loc[new_lot_size.index, 'sqft'] = new_lot_size\n",
        "\n",
        "# Другие!"
      ]
    },
    {
      "cell_type": "code",
      "execution_count": 1999,
      "metadata": {
        "colab": {
          "base_uri": "https://localhost:8080/"
        },
        "id": "Oc0YXT4xADlA",
        "outputId": "bb3a765e-8306-42d3-dea9-742ce12ca91c"
      },
      "outputs": [
        {
          "data": {
            "text/plain": [
              "11890"
            ]
          },
          "execution_count": 1999,
          "metadata": {},
          "output_type": "execute_result"
        }
      ],
      "source": [
        "df['sqft'].isna().sum()"
      ]
    },
    {
      "cell_type": "markdown",
      "metadata": {
        "id": "IQpRDrrzF19-"
      },
      "source": [
        "Price/sqft"
      ]
    },
    {
      "cell_type": "code",
      "execution_count": 2000,
      "metadata": {
        "colab": {
          "base_uri": "https://localhost:8080/"
        },
        "id": "z4cyDzjnF3CJ",
        "outputId": "55071238-53ec-40fc-b6ad-c90bd72b902e"
      },
      "outputs": [
        {
          "data": {
            "text/plain": [
              "146901    $123 / Sq. Ft.\n",
              "338551         $483/sqft\n",
              "206770         $382/sqft\n",
              "155021              None\n",
              "83184               $207\n",
              "349590         $233/sqft\n",
              "315254              $671\n",
              "145797              $427\n",
              "119136         $127/sqft\n",
              "113976              $127\n",
              "Name: Price/sqft, dtype: object"
            ]
          },
          "execution_count": 2000,
          "metadata": {},
          "output_type": "execute_result"
        }
      ],
      "source": [
        "df['Price/sqft'].sample(10)"
      ]
    },
    {
      "cell_type": "code",
      "execution_count": 2001,
      "metadata": {
        "id": "iA25_OCnGccm"
      },
      "outputs": [],
      "source": [
        "df['Price/sqft'] = df['Price/sqft'].str.lower().str.replace(r'[,/$a-z\\. ]', '').str.strip().apply(lambda x: None if x is None else\n",
        "                                                                                      None if x == '' else int(x))"
      ]
    },
    {
      "cell_type": "markdown",
      "metadata": {
        "id": "_7ZOy6-K8q2j"
      },
      "source": [
        "schools"
      ]
    },
    {
      "cell_type": "code",
      "execution_count": 2002,
      "metadata": {
        "id": "5OB1V2m_Ei4T"
      },
      "outputs": [],
      "source": [
        "df['schools'] = df['schools'].apply(lambda x: eval(x)[0])"
      ]
    },
    {
      "cell_type": "code",
      "execution_count": 2003,
      "metadata": {
        "id": "75m0QOHg83So"
      },
      "outputs": [],
      "source": [
        "list_keys = ['data', 'name', 'rating']\n",
        "# name не будем брать\n",
        "\n",
        "list_columns = ['Distance', 'Grades', 'rating']\n",
        "# Grades не будем брать слишком запутано\n",
        "\n",
        "df['Distance'] = df['schools'].apply(lambda x: None if x.get('data').get('Distance') is None else x.get('data').get('Distance'))\n",
        "df['rating'] = df['schools'].apply(lambda x: None if x.get('rating') is None else x.get('rating'))"
      ]
    },
    {
      "cell_type": "code",
      "execution_count": 2004,
      "metadata": {
        "id": "Y1LcCu6kPZgM"
      },
      "outputs": [],
      "source": [
        "df['Distance'] = df['Distance'].apply(lambda x: [float(y.replace('mi', '').strip()) for y in x])"
      ]
    },
    {
      "cell_type": "code",
      "execution_count": 2005,
      "metadata": {
        "id": "MlMI9VAgnoUP"
      },
      "outputs": [],
      "source": [
        "df['Distance'] = df['Distance'].apply(lambda x: list(filter(None, x)))"
      ]
    },
    {
      "cell_type": "code",
      "execution_count": 2006,
      "metadata": {
        "colab": {
          "base_uri": "https://localhost:8080/"
        },
        "id": "pMOzk5DzoiQc",
        "outputId": "0d301748-252f-4e72-f5b5-a16904450b9b"
      },
      "outputs": [
        {
          "data": {
            "text/plain": [
              "365373                           [0.81, 2.47, 1.18]\n",
              "275788               [3.5, 4.8, 5.1, 5.2, 8.3, 3.8]\n",
              "352130                                  [17.3, 3.2]\n",
              "232842                           [0.56, 1.69, 1.84]\n",
              "283594                              [0.8, 3.7, 7.2]\n",
              "271248                              [4.6, 4.2, 6.4]\n",
              "60871                                            []\n",
              "363615    [18.0, 0.6, 23.4, 17.9, 19.4, 17.2, 18.8]\n",
              "145388                     [5.27, 5.27, 5.27, 5.27]\n",
              "205534                              [0.7, 0.6, 0.2]\n",
              "Name: Distance, dtype: object"
            ]
          },
          "execution_count": 2006,
          "metadata": {},
          "output_type": "execute_result"
        }
      ],
      "source": [
        "df['Distance'].sample(10)"
      ]
    },
    {
      "cell_type": "code",
      "execution_count": 2007,
      "metadata": {
        "id": "SbZpxHY6QJNw"
      },
      "outputs": [],
      "source": [
        "df['rating'] = df['rating'].apply(lambda x: [None if \"NR\" in str(y) else\n",
        "                                             None if \"None\" in str(y) else\n",
        "                                             None if \"NA\" in str(y) else\n",
        "                                             None if str(y) == '' else\n",
        "                                             int(str(y).split('/')[0]) if \"/\" in str(y) else\n",
        "                                             int(y) for y in x])"
      ]
    },
    {
      "cell_type": "code",
      "execution_count": 2008,
      "metadata": {
        "id": "DiFUEr3FnpoN"
      },
      "outputs": [],
      "source": [
        "df['rating'] = df['rating'].apply(lambda x: list(filter(None, x)))"
      ]
    },
    {
      "cell_type": "code",
      "execution_count": 2009,
      "metadata": {
        "colab": {
          "base_uri": "https://localhost:8080/"
        },
        "id": "p0_jkrGKG_Az",
        "outputId": "22776b11-a9a0-473d-e791-bd72c98a216b"
      },
      "outputs": [
        {
          "data": {
            "text/plain": [
              "204989                  [6, 2, 6]\n",
              "256144    [9, 8, 3, 8, 9, 10, 10]\n",
              "49133                         [1]\n",
              "72536                     [8, 10]\n",
              "253111                  [8, 9, 6]\n",
              "133227           [4, 3, 10, 5, 6]\n",
              "23199                   [5, 4, 3]\n",
              "3547                    [4, 5, 5]\n",
              "62524                   [3, 4, 2]\n",
              "10684            [5, 4, 3, 4, 10]\n",
              "Name: rating, dtype: object"
            ]
          },
          "execution_count": 2009,
          "metadata": {},
          "output_type": "execute_result"
        }
      ],
      "source": [
        "df['rating'].sample(10)"
      ]
    },
    {
      "cell_type": "markdown",
      "metadata": {
        "id": "DLfZodXWpR6H"
      },
      "source": [
        "target"
      ]
    },
    {
      "cell_type": "code",
      "execution_count": 2010,
      "metadata": {
        "colab": {
          "base_uri": "https://localhost:8080/"
        },
        "id": "y1USgncfo-Qt",
        "outputId": "743f6f1a-2173-432d-8451-e20a3c16ac5b"
      },
      "outputs": [
        {
          "data": {
            "text/plain": [
              "NaN           2481\n",
              "$225,000      1462\n",
              "$275,000      1355\n",
              "$250,000      1312\n",
              "$350,000      1296\n",
              "              ... \n",
              "$312,500+        1\n",
              "$2,377,040       1\n",
              "$62,435          1\n",
              "$79,980          1\n",
              "$272,487         1\n",
              "Name: target, Length: 43940, dtype: int64"
            ]
          },
          "execution_count": 2010,
          "metadata": {},
          "output_type": "execute_result"
        }
      ],
      "source": [
        "df['target'].value_counts(dropna=False)"
      ]
    },
    {
      "cell_type": "code",
      "execution_count": 2011,
      "metadata": {
        "id": "HFnwGMOopVE1"
      },
      "outputs": [],
      "source": [
        "df['target'] = df['target'].apply(lambda x: None if x is np.nan else x)"
      ]
    },
    {
      "cell_type": "code",
      "execution_count": 2012,
      "metadata": {
        "colab": {
          "base_uri": "https://localhost:8080/"
        },
        "id": "NfFvxqkHpdh9",
        "outputId": "f23f42c4-9256-4dd2-9702-7008cfc8158d"
      },
      "outputs": [
        {
          "data": {
            "text/plain": [
              "800    2\n",
              "3      2\n",
              "1      2\n",
              "750    1\n",
              "20     1\n",
              "30     1\n",
              "29     1\n",
              "8      1\n",
              "825    1\n",
              "25     1\n",
              "Name: target, dtype: int64"
            ]
          },
          "execution_count": 2012,
          "metadata": {},
          "output_type": "execute_result"
        }
      ],
      "source": [
        "df[(df['target'].isna()==False) & (df['target'].str.isdigit())]['target'].value_counts()"
      ]
    },
    {
      "cell_type": "code",
      "execution_count": 2013,
      "metadata": {
        "id": "0xQnwkKanhpT"
      },
      "outputs": [],
      "source": [
        "punct = '$,+\\-/'\n",
        "df['target'] = df['target'].str.replace('[a-z]', '').str.replace('[{}]'.format(punct), '').str.strip()"
      ]
    },
    {
      "cell_type": "code",
      "execution_count": 2014,
      "metadata": {
        "id": "QqIPaufFn3_K"
      },
      "outputs": [],
      "source": [
        "df['target'] = df['target'].apply(lambda x: None if x is None else int(x.split()[0]))"
      ]
    },
    {
      "cell_type": "code",
      "execution_count": 2015,
      "metadata": {
        "colab": {
          "base_uri": "https://localhost:8080/"
        },
        "id": "t8F1vVeKsu_8",
        "outputId": "ad632102-9e7d-42fc-ec6d-cb007875ef28"
      },
      "outputs": [
        {
          "data": {
            "text/plain": [
              "1215.0"
            ]
          },
          "execution_count": 2015,
          "metadata": {},
          "output_type": "execute_result"
        }
      ],
      "source": [
        "df.loc[330468]['target']"
      ]
    },
    {
      "cell_type": "code",
      "execution_count": 2016,
      "metadata": {
        "colab": {
          "base_uri": "https://localhost:8080/"
        },
        "id": "nm6LI-D6mtYh",
        "outputId": "8131a854-14bb-4507-c4b0-0cbbdd9a3482"
      },
      "outputs": [
        {
          "data": {
            "text/plain": [
              "NaN         2481\n",
              "225000.0    1806\n",
              "275000.0    1650\n",
              "250000.0    1644\n",
              "350000.0    1641\n",
              "            ... \n",
              "9100.0         1\n",
              "515530.0       1\n",
              "195050.0       1\n",
              "780226.0       1\n",
              "374521.0       1\n",
              "Name: target, Length: 34233, dtype: int64"
            ]
          },
          "execution_count": 2016,
          "metadata": {},
          "output_type": "execute_result"
        }
      ],
      "source": [
        "df['target'].value_counts(dropna=False)"
      ]
    },
    {
      "cell_type": "markdown",
      "metadata": {
        "id": "DR0jxCf7HgZl"
      },
      "source": [
        "target Price/sqft"
      ]
    },
    {
      "cell_type": "code",
      "execution_count": 2017,
      "metadata": {
        "id": "76n0Rxq6Hf8I"
      },
      "outputs": [],
      "source": [
        "# Заполним те значения признака sqft которые пустые из признака Price/sqft и признака target\n",
        "\n",
        "new_lot_size = df.loc[(df['sqft'].isna()) & (df['target'].isna()==False) & (df['Price/sqft'].isna()==False)][['Price/sqft', 'target']]\n",
        "new_lot_size['sqft'] = (new_lot_size['target'] / new_lot_size['Price/sqft']).astype(int)\n",
        "df.loc[new_lot_size.index, 'sqft'] = new_lot_size['sqft']\n",
        "\n",
        "# Заполним те значения признака Price/sqft которые пустые из признака sqft и признака target\n",
        "\n",
        "new_prsq = df.loc[(df['sqft'].isna()==False) & (df['target'].isna()==False) & (df['Price/sqft'].isna())][['sqft', 'target']]\n",
        "new_prsq['Price/sqft'] = round(new_prsq['target'] / new_prsq['sqft'])\n",
        "df.loc[new_prsq.index, 'Price/sqft'] = new_prsq['Price/sqft']"
      ]
    },
    {
      "cell_type": "markdown",
      "metadata": {
        "id": "OiX9sC8e5DUi"
      },
      "source": [
        "future engeneer"
      ]
    },
    {
      "cell_type": "code",
      "execution_count": 2018,
      "metadata": {
        "colab": {
          "base_uri": "https://localhost:8080/",
          "height": 530
        },
        "id": "6SUBDZONnW6I",
        "outputId": "b3e73f4d-f4ce-4ea3-8200-552eac25770a"
      },
      "outputs": [
        {
          "data": {
            "text/html": [
              "<div>\n",
              "<style scoped>\n",
              "    .dataframe tbody tr th:only-of-type {\n",
              "        vertical-align: middle;\n",
              "    }\n",
              "\n",
              "    .dataframe tbody tr th {\n",
              "        vertical-align: top;\n",
              "    }\n",
              "\n",
              "    .dataframe thead th {\n",
              "        text-align: right;\n",
              "    }\n",
              "</style>\n",
              "<table border=\"1\" class=\"dataframe\">\n",
              "  <thead>\n",
              "    <tr style=\"text-align: right;\">\n",
              "      <th></th>\n",
              "      <th>status</th>\n",
              "      <th>propertyType</th>\n",
              "      <th>street</th>\n",
              "      <th>baths</th>\n",
              "      <th>homeFacts</th>\n",
              "      <th>city</th>\n",
              "      <th>schools</th>\n",
              "      <th>sqft</th>\n",
              "      <th>zipcode</th>\n",
              "      <th>beds</th>\n",
              "      <th>...</th>\n",
              "      <th>homeFacts_new</th>\n",
              "      <th>Year built</th>\n",
              "      <th>Remodeled year</th>\n",
              "      <th>Heating</th>\n",
              "      <th>Cooling</th>\n",
              "      <th>Parking</th>\n",
              "      <th>lotsize</th>\n",
              "      <th>Price/sqft</th>\n",
              "      <th>Distance</th>\n",
              "      <th>rating</th>\n",
              "    </tr>\n",
              "  </thead>\n",
              "  <tbody>\n",
              "    <tr>\n",
              "      <th>164682</th>\n",
              "      <td>for sale</td>\n",
              "      <td>townhouse</td>\n",
              "      <td>logan jacob</td>\n",
              "      <td>3</td>\n",
              "      <td>{'atAGlanceFacts': [{'factValue': '2019', 'fac...</td>\n",
              "      <td>reno</td>\n",
              "      <td>{'rating': ['None/10', '4/10', '2/10'], 'data'...</td>\n",
              "      <td>1376.0</td>\n",
              "      <td>89503</td>\n",
              "      <td>2.0</td>\n",
              "      <td>...</td>\n",
              "      <td>[{'factValue': '2019', 'factLabel': 'Year buil...</td>\n",
              "      <td>2019.0</td>\n",
              "      <td>None</td>\n",
              "      <td>Forced Air</td>\n",
              "      <td>Central</td>\n",
              "      <td>Attached Garage</td>\n",
              "      <td>None</td>\n",
              "      <td>205.0</td>\n",
              "      <td>[2.52, 2.69, 2.03]</td>\n",
              "      <td>[4, 2]</td>\n",
              "    </tr>\n",
              "    <tr>\n",
              "      <th>150217</th>\n",
              "      <td>for sale</td>\n",
              "      <td>single family</td>\n",
              "      <td>11th ave</td>\n",
              "      <td>1.0</td>\n",
              "      <td>{'atAGlanceFacts': [{'factValue': '1920', 'fac...</td>\n",
              "      <td>sacramento</td>\n",
              "      <td>{'rating': ['2/10', '3/10'], 'data': {'Distanc...</td>\n",
              "      <td>844.0</td>\n",
              "      <td>95820</td>\n",
              "      <td>2.0</td>\n",
              "      <td>...</td>\n",
              "      <td>[{'factValue': '1920', 'factLabel': 'Year buil...</td>\n",
              "      <td>1920.0</td>\n",
              "      <td>None</td>\n",
              "      <td>Forced air</td>\n",
              "      <td>Central</td>\n",
              "      <td>1 space</td>\n",
              "      <td>6111 sqft</td>\n",
              "      <td>447.0</td>\n",
              "      <td>[0.7, 1.2]</td>\n",
              "      <td>[2, 3]</td>\n",
              "    </tr>\n",
              "    <tr>\n",
              "      <th>119</th>\n",
              "      <td>for sale</td>\n",
              "      <td>coop</td>\n",
              "      <td>union tpke</td>\n",
              "      <td>2</td>\n",
              "      <td>{'atAGlanceFacts': [{'factValue': '1956', 'fac...</td>\n",
              "      <td>bayside</td>\n",
              "      <td>{'rating': ['2/10', '9/10', '9/10'], 'data': {...</td>\n",
              "      <td>1200.0</td>\n",
              "      <td>11364</td>\n",
              "      <td>2.0</td>\n",
              "      <td>...</td>\n",
              "      <td>[{'factValue': '1956', 'factLabel': 'Year buil...</td>\n",
              "      <td>1956.0</td>\n",
              "      <td>None</td>\n",
              "      <td>Radiant</td>\n",
              "      <td>None</td>\n",
              "      <td>None</td>\n",
              "      <td>4.3 acres</td>\n",
              "      <td>404.0</td>\n",
              "      <td>[0.42, 1.81, 0.37]</td>\n",
              "      <td>[2, 9, 9]</td>\n",
              "    </tr>\n",
              "    <tr>\n",
              "      <th>289016</th>\n",
              "      <td>active</td>\n",
              "      <td>None</td>\n",
              "      <td>greenwood</td>\n",
              "      <td>None</td>\n",
              "      <td>{'atAGlanceFacts': [{'factValue': '', 'factLab...</td>\n",
              "      <td>harrison</td>\n",
              "      <td>{'rating': ['6', '6', '3'], 'data': {'Distance...</td>\n",
              "      <td>NaN</td>\n",
              "      <td>37341</td>\n",
              "      <td>NaN</td>\n",
              "      <td>...</td>\n",
              "      <td>[{'factValue': '', 'factLabel': 'Year built'},...</td>\n",
              "      <td>NaN</td>\n",
              "      <td>None</td>\n",
              "      <td>None</td>\n",
              "      <td>None</td>\n",
              "      <td>None</td>\n",
              "      <td>None</td>\n",
              "      <td>NaN</td>\n",
              "      <td>[0.9, 4.1, 5.4]</td>\n",
              "      <td>[6, 6, 3]</td>\n",
              "    </tr>\n",
              "    <tr>\n",
              "      <th>60775</th>\n",
              "      <td>for sale</td>\n",
              "      <td>single family</td>\n",
              "      <td>bay villa ave</td>\n",
              "      <td>3</td>\n",
              "      <td>{'atAGlanceFacts': [{'factValue': '1954', 'fac...</td>\n",
              "      <td>tampa</td>\n",
              "      <td>{'rating': ['3/10', '4/10', '6/10'], 'data': {...</td>\n",
              "      <td>2413.0</td>\n",
              "      <td>33611</td>\n",
              "      <td>4.0</td>\n",
              "      <td>...</td>\n",
              "      <td>[{'factValue': '1954', 'factLabel': 'Year buil...</td>\n",
              "      <td>1954.0</td>\n",
              "      <td>1986</td>\n",
              "      <td>Forced Air</td>\n",
              "      <td>Central</td>\n",
              "      <td>Attached Garage</td>\n",
              "      <td>8580 sqft</td>\n",
              "      <td>219.0</td>\n",
              "      <td>[0.43, 0.71, 2.32]</td>\n",
              "      <td>[3, 4, 6]</td>\n",
              "    </tr>\n",
              "  </tbody>\n",
              "</table>\n",
              "<p>5 rows × 25 columns</p>\n",
              "</div>"
            ],
            "text/plain": [
              "          status   propertyType         street baths  \\\n",
              "164682  for sale      townhouse    logan jacob    3    \n",
              "150217  for sale  single family       11th ave   1.0   \n",
              "119     for sale           coop     union tpke    2    \n",
              "289016    active           None      greenwood  None   \n",
              "60775   for sale  single family  bay villa ave    3    \n",
              "\n",
              "                                                homeFacts        city  \\\n",
              "164682  {'atAGlanceFacts': [{'factValue': '2019', 'fac...        reno   \n",
              "150217  {'atAGlanceFacts': [{'factValue': '1920', 'fac...  sacramento   \n",
              "119     {'atAGlanceFacts': [{'factValue': '1956', 'fac...     bayside   \n",
              "289016  {'atAGlanceFacts': [{'factValue': '', 'factLab...    harrison   \n",
              "60775   {'atAGlanceFacts': [{'factValue': '1954', 'fac...       tampa   \n",
              "\n",
              "                                                  schools    sqft zipcode  \\\n",
              "164682  {'rating': ['None/10', '4/10', '2/10'], 'data'...  1376.0   89503   \n",
              "150217  {'rating': ['2/10', '3/10'], 'data': {'Distanc...   844.0   95820   \n",
              "119     {'rating': ['2/10', '9/10', '9/10'], 'data': {...  1200.0   11364   \n",
              "289016  {'rating': ['6', '6', '3'], 'data': {'Distance...     NaN   37341   \n",
              "60775   {'rating': ['3/10', '4/10', '6/10'], 'data': {...  2413.0   33611   \n",
              "\n",
              "        beds  ...                                      homeFacts_new  \\\n",
              "164682   2.0  ...  [{'factValue': '2019', 'factLabel': 'Year buil...   \n",
              "150217   2.0  ...  [{'factValue': '1920', 'factLabel': 'Year buil...   \n",
              "119      2.0  ...  [{'factValue': '1956', 'factLabel': 'Year buil...   \n",
              "289016   NaN  ...  [{'factValue': '', 'factLabel': 'Year built'},...   \n",
              "60775    4.0  ...  [{'factValue': '1954', 'factLabel': 'Year buil...   \n",
              "\n",
              "       Year built  Remodeled year     Heating  Cooling          Parking  \\\n",
              "164682     2019.0            None  Forced Air  Central  Attached Garage   \n",
              "150217     1920.0            None  Forced air  Central          1 space   \n",
              "119        1956.0            None     Radiant     None             None   \n",
              "289016        NaN            None        None     None             None   \n",
              "60775      1954.0            1986  Forced Air  Central  Attached Garage   \n",
              "\n",
              "          lotsize Price/sqft            Distance     rating  \n",
              "164682       None      205.0  [2.52, 2.69, 2.03]     [4, 2]  \n",
              "150217  6111 sqft      447.0          [0.7, 1.2]     [2, 3]  \n",
              "119     4.3 acres      404.0  [0.42, 1.81, 0.37]  [2, 9, 9]  \n",
              "289016       None        NaN     [0.9, 4.1, 5.4]  [6, 6, 3]  \n",
              "60775   8580 sqft      219.0  [0.43, 0.71, 2.32]  [3, 4, 6]  \n",
              "\n",
              "[5 rows x 25 columns]"
            ]
          },
          "execution_count": 2018,
          "metadata": {},
          "output_type": "execute_result"
        }
      ],
      "source": [
        "df.sample(5)"
      ]
    },
    {
      "cell_type": "code",
      "execution_count": 2019,
      "metadata": {
        "id": "-JUnaK7Ub9s5"
      },
      "outputs": [],
      "source": [
        "df = df.drop(['stories_dop', 'homeFacts', 'schools', 'stories_dop', 'baths_new', 'homeFacts_new'], axis=1)"
      ]
    },
    {
      "cell_type": "code",
      "execution_count": 2020,
      "metadata": {
        "colab": {
          "base_uri": "https://localhost:8080/"
        },
        "id": "s8vgdv095Ift",
        "outputId": "e544fd45-ac35-4ce3-ded4-c1b47625b412"
      },
      "outputs": [
        {
          "data": {
            "text/plain": [
              "status            10.5831\n",
              "propertyType      10.1306\n",
              "street             2.4240\n",
              "baths             28.5902\n",
              "city               0.0090\n",
              "sqft               3.0577\n",
              "zipcode            0.0005\n",
              "beds              29.6544\n",
              "state              0.0000\n",
              "stories           39.9578\n",
              "target             0.6578\n",
              "Year built        16.8607\n",
              "Remodeled year    59.9467\n",
              "Heating           28.9863\n",
              "Cooling           32.8664\n",
              "Parking           46.5077\n",
              "lotsize           24.4008\n",
              "Price/sqft         3.5882\n",
              "Distance           0.0000\n",
              "rating             0.0000\n",
              "dtype: float64"
            ]
          },
          "execution_count": 2020,
          "metadata": {},
          "output_type": "execute_result"
        }
      ],
      "source": [
        "round(df.isna().sum() / df.shape[0] * 100, 4)"
      ]
    },
    {
      "cell_type": "code",
      "execution_count": 2021,
      "metadata": {
        "id": "N8THFBamMwtt"
      },
      "outputs": [],
      "source": [
        "df = df.drop(['lotsize'], axis=1)\n",
        "df = df.drop(['stories', 'Remodeled year', 'Heating', 'Cooling', 'Parking'], axis=1)"
      ]
    },
    {
      "cell_type": "code",
      "execution_count": 2022,
      "metadata": {
        "id": "lppyqlGokqip"
      },
      "outputs": [],
      "source": [
        "df = df.drop(['baths', 'beds', 'Year built'], axis=1)"
      ]
    },
    {
      "cell_type": "code",
      "execution_count": 2023,
      "metadata": {
        "colab": {
          "base_uri": "https://localhost:8080/"
        },
        "id": "m77xTDhWclcJ",
        "outputId": "0da99591-cebb-478c-d60e-5e4fbbdca727"
      },
      "outputs": [
        {
          "data": {
            "text/plain": [
              "status           103\n",
              "propertyType    1112\n",
              "city            1783\n",
              "zipcode         4267\n",
              "state             39\n",
              "dtype: int64"
            ]
          },
          "execution_count": 2023,
          "metadata": {},
          "output_type": "execute_result"
        }
      ],
      "source": [
        "df[['status', 'propertyType', 'city', 'zipcode', 'state']].nunique()"
      ]
    },
    {
      "cell_type": "code",
      "execution_count": 2024,
      "metadata": {
        "id": "7g7gEnm2dSkH"
      },
      "outputs": [],
      "source": [
        "# Содаем новые признаки\n",
        "\n",
        "import numpy as np\n",
        "\n",
        "df['dist_max'] = df['Distance'].apply(lambda x: None if x is None else \n",
        "                                      None if len(x) == 0 else max(x))\n",
        "df['dist_min'] = df['Distance'].apply(lambda x: None if x is None else \n",
        "                                      None if len(x) == 0 else min(x))\n",
        "df['dist_mean'] = df['Distance'].apply(lambda x: None if x is None else \n",
        "                                      None if len(x) == 0 else round(np.mean(list(filter(None, x))), 2))"
      ]
    },
    {
      "cell_type": "code",
      "execution_count": 2025,
      "metadata": {
        "id": "XvC_wX5YggqF"
      },
      "outputs": [],
      "source": [
        "df['rate_max'] = df['rating'].apply(lambda x: None if x is None else \n",
        "                                      None if len(x) == 0 else max(x))\n",
        "df['rate_min'] = df['rating'].apply(lambda x: None if x is None else \n",
        "                                      None if len(x) == 0 else min(x))\n",
        "df['rate_mean'] = df['rating'].apply(lambda x: None if x is None else \n",
        "                                      None if len(x) == 0 else round(np.mean(list(filter(None, x))), 2))"
      ]
    },
    {
      "cell_type": "code",
      "execution_count": 2026,
      "metadata": {
        "id": "RFfDPxdPlARQ"
      },
      "outputs": [],
      "source": [
        "df = df.drop(['Distance', 'rating'], axis=1)"
      ]
    },
    {
      "cell_type": "code",
      "execution_count": 2027,
      "metadata": {
        "colab": {
          "base_uri": "https://localhost:8080/"
        },
        "id": "1z6NslJ6hSVT",
        "outputId": "022d5233-0d78-4ba9-c5a0-8a66d3357e37"
      },
      "outputs": [
        {
          "name": "stdout",
          "output_type": "stream",
          "text": [
            "<class 'pandas.core.frame.DataFrame'>\n",
            "RangeIndex: 377185 entries, 0 to 377184\n",
            "Data columns (total 15 columns):\n",
            " #   Column        Non-Null Count   Dtype  \n",
            "---  ------        --------------   -----  \n",
            " 0   status        337267 non-null  object \n",
            " 1   propertyType  338974 non-null  object \n",
            " 2   street        368042 non-null  object \n",
            " 3   city          377151 non-null  object \n",
            " 4   sqft          365652 non-null  float64\n",
            " 5   zipcode       377183 non-null  object \n",
            " 6   state         377185 non-null  object \n",
            " 7   target        374704 non-null  float64\n",
            " 8   Price/sqft    363651 non-null  float64\n",
            " 9   dist_max      372900 non-null  float64\n",
            " 10  dist_min      372900 non-null  float64\n",
            " 11  dist_mean     372900 non-null  float64\n",
            " 12  rate_max      372033 non-null  float64\n",
            " 13  rate_min      372033 non-null  float64\n",
            " 14  rate_mean     372033 non-null  float64\n",
            "dtypes: float64(9), object(6)\n",
            "memory usage: 43.2+ MB\n"
          ]
        }
      ],
      "source": [
        "df.info()"
      ]
    },
    {
      "cell_type": "code",
      "execution_count": 2028,
      "metadata": {
        "colab": {
          "base_uri": "https://localhost:8080/"
        },
        "id": "6i976MuIk-Fg",
        "outputId": "15299767-f4fa-44c3-e636-ba8553501226"
      },
      "outputs": [
        {
          "data": {
            "text/plain": [
              "status           661\n",
              "propertyType     180\n",
              "street            21\n",
              "city               5\n",
              "sqft             128\n",
              "zipcode            0\n",
              "state              0\n",
              "target          2481\n",
              "Price/sqft      2129\n",
              "dist_max          27\n",
              "dist_min          27\n",
              "dist_mean         27\n",
              "rate_max          35\n",
              "rate_min          35\n",
              "rate_mean         35\n",
              "dtype: int64"
            ]
          },
          "execution_count": 2028,
          "metadata": {},
          "output_type": "execute_result"
        }
      ],
      "source": [
        "df[df['target'].isna()].isna().sum()\n",
        "\n",
        "# В столбце Price/sqft почти все значения null, удалим данный столбец"
      ]
    },
    {
      "cell_type": "code",
      "execution_count": 2029,
      "metadata": {
        "id": "WqiGwqYC1Voy"
      },
      "outputs": [],
      "source": [
        "df = df.drop(['Price/sqft'], axis=1)"
      ]
    },
    {
      "cell_type": "markdown",
      "metadata": {
        "id": "0iWwGBGr4co5"
      },
      "source": [
        "Train Test"
      ]
    },
    {
      "cell_type": "code",
      "execution_count": 2030,
      "metadata": {
        "id": "nad2s_nf4e6N"
      },
      "outputs": [],
      "source": [
        "df_train = df[df['target'].isna() == False].copy()\n",
        "df_test = df[df['target'].isna()].copy()\n",
        "df_test['target'] = 0"
      ]
    },
    {
      "cell_type": "code",
      "execution_count": 2031,
      "metadata": {
        "colab": {
          "base_uri": "https://localhost:8080/",
          "height": 204
        },
        "id": "-XruFdub4-cX",
        "outputId": "f36127dd-7119-4d19-eb9e-917a37a1c922"
      },
      "outputs": [
        {
          "data": {
            "text/html": [
              "<div>\n",
              "<style scoped>\n",
              "    .dataframe tbody tr th:only-of-type {\n",
              "        vertical-align: middle;\n",
              "    }\n",
              "\n",
              "    .dataframe tbody tr th {\n",
              "        vertical-align: top;\n",
              "    }\n",
              "\n",
              "    .dataframe thead th {\n",
              "        text-align: right;\n",
              "    }\n",
              "</style>\n",
              "<table border=\"1\" class=\"dataframe\">\n",
              "  <thead>\n",
              "    <tr style=\"text-align: right;\">\n",
              "      <th></th>\n",
              "      <th>status</th>\n",
              "      <th>propertyType</th>\n",
              "      <th>street</th>\n",
              "      <th>city</th>\n",
              "      <th>sqft</th>\n",
              "      <th>zipcode</th>\n",
              "      <th>state</th>\n",
              "      <th>target</th>\n",
              "      <th>dist_max</th>\n",
              "      <th>dist_min</th>\n",
              "      <th>dist_mean</th>\n",
              "      <th>rate_max</th>\n",
              "      <th>rate_min</th>\n",
              "      <th>rate_mean</th>\n",
              "    </tr>\n",
              "  </thead>\n",
              "  <tbody>\n",
              "    <tr>\n",
              "      <th>0</th>\n",
              "      <td>active</td>\n",
              "      <td>single family</td>\n",
              "      <td>heather</td>\n",
              "      <td>southern pines</td>\n",
              "      <td>2900.0</td>\n",
              "      <td>28387</td>\n",
              "      <td>NC</td>\n",
              "      <td>418000.0</td>\n",
              "      <td>12.60</td>\n",
              "      <td>2.70</td>\n",
              "      <td>5.54</td>\n",
              "      <td>7.0</td>\n",
              "      <td>4.0</td>\n",
              "      <td>5.20</td>\n",
              "    </tr>\n",
              "    <tr>\n",
              "      <th>1</th>\n",
              "      <td>for sale</td>\n",
              "      <td>single family</td>\n",
              "      <td>heroy ave</td>\n",
              "      <td>spokane valley</td>\n",
              "      <td>1947.0</td>\n",
              "      <td>99216</td>\n",
              "      <td>WA</td>\n",
              "      <td>310000.0</td>\n",
              "      <td>1.65</td>\n",
              "      <td>1.01</td>\n",
              "      <td>1.33</td>\n",
              "      <td>4.0</td>\n",
              "      <td>4.0</td>\n",
              "      <td>4.00</td>\n",
              "    </tr>\n",
              "    <tr>\n",
              "      <th>2</th>\n",
              "      <td>for sale</td>\n",
              "      <td>single family</td>\n",
              "      <td>westridge</td>\n",
              "      <td>san antonio</td>\n",
              "      <td>3000.0</td>\n",
              "      <td>90049</td>\n",
              "      <td>CA</td>\n",
              "      <td>2895000.0</td>\n",
              "      <td>2.63</td>\n",
              "      <td>1.19</td>\n",
              "      <td>1.96</td>\n",
              "      <td>8.0</td>\n",
              "      <td>4.0</td>\n",
              "      <td>6.67</td>\n",
              "    </tr>\n",
              "    <tr>\n",
              "      <th>3</th>\n",
              "      <td>for sale</td>\n",
              "      <td>single family</td>\n",
              "      <td>livingston ave</td>\n",
              "      <td>dallas</td>\n",
              "      <td>6457.0</td>\n",
              "      <td>75205</td>\n",
              "      <td>TX</td>\n",
              "      <td>2395000.0</td>\n",
              "      <td>1.05</td>\n",
              "      <td>0.10</td>\n",
              "      <td>0.75</td>\n",
              "      <td>10.0</td>\n",
              "      <td>9.0</td>\n",
              "      <td>9.25</td>\n",
              "    </tr>\n",
              "    <tr>\n",
              "      <th>4</th>\n",
              "      <td>for sale</td>\n",
              "      <td>lot land</td>\n",
              "      <td>kiscoe</td>\n",
              "      <td>palm bay</td>\n",
              "      <td>10019.0</td>\n",
              "      <td>32908</td>\n",
              "      <td>FL</td>\n",
              "      <td>5000.0</td>\n",
              "      <td>5.96</td>\n",
              "      <td>3.03</td>\n",
              "      <td>4.08</td>\n",
              "      <td>5.0</td>\n",
              "      <td>4.0</td>\n",
              "      <td>4.67</td>\n",
              "    </tr>\n",
              "  </tbody>\n",
              "</table>\n",
              "</div>"
            ],
            "text/plain": [
              "     status   propertyType          street            city     sqft zipcode  \\\n",
              "0    active  single family         heather  southern pines   2900.0   28387   \n",
              "1  for sale  single family       heroy ave  spokane valley   1947.0   99216   \n",
              "2  for sale  single family       westridge     san antonio   3000.0   90049   \n",
              "3  for sale  single family  livingston ave          dallas   6457.0   75205   \n",
              "4  for sale       lot land          kiscoe        palm bay  10019.0   32908   \n",
              "\n",
              "  state     target  dist_max  dist_min  dist_mean  rate_max  rate_min  \\\n",
              "0    NC   418000.0     12.60      2.70       5.54       7.0       4.0   \n",
              "1    WA   310000.0      1.65      1.01       1.33       4.0       4.0   \n",
              "2    CA  2895000.0      2.63      1.19       1.96       8.0       4.0   \n",
              "3    TX  2395000.0      1.05      0.10       0.75      10.0       9.0   \n",
              "4    FL     5000.0      5.96      3.03       4.08       5.0       4.0   \n",
              "\n",
              "   rate_mean  \n",
              "0       5.20  \n",
              "1       4.00  \n",
              "2       6.67  \n",
              "3       9.25  \n",
              "4       4.67  "
            ]
          },
          "execution_count": 2031,
          "metadata": {},
          "output_type": "execute_result"
        }
      ],
      "source": [
        "df_train.head()"
      ]
    },
    {
      "cell_type": "code",
      "execution_count": 2032,
      "metadata": {
        "colab": {
          "base_uri": "https://localhost:8080/"
        },
        "id": "MuYR3yGp5AN9",
        "outputId": "57995ef2-9d5a-4731-d9a1-cc1f346d13cc"
      },
      "outputs": [
        {
          "data": {
            "text/plain": [
              "status          39257\n",
              "propertyType    38031\n",
              "street           9122\n",
              "city               29\n",
              "sqft            11405\n",
              "zipcode             2\n",
              "state               0\n",
              "target              0\n",
              "dist_max         4258\n",
              "dist_min         4258\n",
              "dist_mean        4258\n",
              "rate_max         5117\n",
              "rate_min         5117\n",
              "rate_mean        5117\n",
              "dtype: int64"
            ]
          },
          "execution_count": 2032,
          "metadata": {},
          "output_type": "execute_result"
        }
      ],
      "source": [
        "df_train.isna().sum()\n",
        "\n",
        "# Мало значений null удалим их"
      ]
    },
    {
      "cell_type": "code",
      "execution_count": 2033,
      "metadata": {
        "colab": {
          "base_uri": "https://localhost:8080/"
        },
        "id": "z1fkBt3-6P5D",
        "outputId": "4485b73e-a056-45cf-c37d-92ea8f18bb34"
      },
      "outputs": [
        {
          "name": "stdout",
          "output_type": "stream",
          "text": [
            "<class 'pandas.core.frame.DataFrame'>\n",
            "Int64Index: 290422 entries, 0 to 377182\n",
            "Data columns (total 14 columns):\n",
            " #   Column        Non-Null Count   Dtype  \n",
            "---  ------        --------------   -----  \n",
            " 0   status        290422 non-null  object \n",
            " 1   propertyType  290422 non-null  object \n",
            " 2   street        290422 non-null  object \n",
            " 3   city          290422 non-null  object \n",
            " 4   sqft          290422 non-null  float64\n",
            " 5   zipcode       290422 non-null  object \n",
            " 6   state         290422 non-null  object \n",
            " 7   target        290422 non-null  float64\n",
            " 8   dist_max      290422 non-null  float64\n",
            " 9   dist_min      290422 non-null  float64\n",
            " 10  dist_mean     290422 non-null  float64\n",
            " 11  rate_max      290422 non-null  float64\n",
            " 12  rate_min      290422 non-null  float64\n",
            " 13  rate_mean     290422 non-null  float64\n",
            "dtypes: float64(8), object(6)\n",
            "memory usage: 33.2+ MB\n"
          ]
        }
      ],
      "source": [
        "df_train = df_train.dropna(axis=0)\n",
        "df_train.info()"
      ]
    },
    {
      "cell_type": "code",
      "execution_count": 2034,
      "metadata": {
        "colab": {
          "base_uri": "https://localhost:8080/"
        },
        "id": "WP6I4Nsb6d08",
        "outputId": "a5efd8e4-8c94-4882-e3ca-bc0be6f87549"
      },
      "outputs": [
        {
          "data": {
            "text/plain": [
              "status          661\n",
              "propertyType    180\n",
              "street           21\n",
              "city              5\n",
              "sqft            128\n",
              "zipcode           0\n",
              "state             0\n",
              "target            0\n",
              "dist_max         27\n",
              "dist_min         27\n",
              "dist_mean        27\n",
              "rate_max         35\n",
              "rate_min         35\n",
              "rate_mean        35\n",
              "dtype: int64"
            ]
          },
          "execution_count": 2034,
          "metadata": {},
          "output_type": "execute_result"
        }
      ],
      "source": [
        "df_test.isna().sum()\n",
        "\n",
        "# Мало нулевых значений, заполним их"
      ]
    },
    {
      "cell_type": "code",
      "execution_count": 2035,
      "metadata": {},
      "outputs": [
        {
          "data": {
            "text/plain": [
              "<matplotlib.axes._subplots.AxesSubplot at 0x15bb6e31cc8>"
            ]
          },
          "execution_count": 2035,
          "metadata": {},
          "output_type": "execute_result"
        },
        {
          "data": {
            "image/png": "[encoded data removed]",
            "text/plain": [
              "<Figure size 432x288 with 1 Axes>"
            ]
          },
          "metadata": {
            "needs_background": "light"
          },
          "output_type": "display_data"
        }
      ],
      "source": [
        "df_test['status'].value_counts(ascending=True).plot.barh()"
      ]
    },
    {
      "cell_type": "code",
      "execution_count": 2036,
      "metadata": {},
      "outputs": [],
      "source": [
        "# Заменим null значения\r\n",
        "most_stat = df_test['status'].value_counts().index[0]\r\n",
        "\r\n",
        "df_test.loc[df_test['status'].isna(), 'status'] = most_stat"
      ]
    },
    {
      "cell_type": "code",
      "execution_count": 2037,
      "metadata": {
        "colab": {
          "base_uri": "https://localhost:8080/",
          "height": 282
        },
        "id": "99vN5w_vHZWG",
        "outputId": "bb07e7c2-214b-4daf-c42b-8b93e3bab921"
      },
      "outputs": [
        {
          "data": {
            "text/plain": [
              "<matplotlib.axes._subplots.AxesSubplot at 0x15bf6347908>"
            ]
          },
          "execution_count": 2037,
          "metadata": {},
          "output_type": "execute_result"
        },
        {
          "data": {
            "image/png": "[encoded data removed]",
            "text/plain": [
              "<Figure size 432x288 with 1 Axes>"
            ]
          },
          "metadata": {
            "needs_background": "light"
          },
          "output_type": "display_data"
        }
      ],
      "source": [
        "df_test['propertyType'].value_counts(ascending=True).plot.barh()"
      ]
    },
    {
      "cell_type": "code",
      "execution_count": 2038,
      "metadata": {
        "id": "AXw7NjPY9KNr"
      },
      "outputs": [],
      "source": [
        "# Заменим null значения\n",
        "most_prop = df_test['propertyType'].value_counts().index[0]\n",
        "\n",
        "df_test.loc[df_test['propertyType'].isna(), 'propertyType'] = most_prop"
      ]
    },
    {
      "cell_type": "code",
      "execution_count": 2039,
      "metadata": {},
      "outputs": [],
      "source": [
        "df_test.loc[df_test['city'].isna(), 'city'] = 'other'"
      ]
    },
    {
      "cell_type": "code",
      "execution_count": 2040,
      "metadata": {
        "id": "yQXbF9nEDZ0b"
      },
      "outputs": [],
      "source": [
        "mean_sqft = round(df_test['sqft'].dropna().mean())\n",
        "\n",
        "df_test.loc[df_test['sqft'].isna(), 'sqft'] = mean_sqft"
      ]
    },
    {
      "cell_type": "code",
      "execution_count": 2041,
      "metadata": {
        "id": "S394-4LuDgOL"
      },
      "outputs": [],
      "source": [
        "mean_dist_max = round(df_test['dist_max'].dropna().mean())\r\n",
        "\r\n",
        "df_test.loc[df_test['dist_max'].isna(), 'dist_max'] = mean_dist_max"
      ]
    },
    {
      "cell_type": "code",
      "execution_count": 2042,
      "metadata": {
        "id": "Iylli9fJKde-"
      },
      "outputs": [],
      "source": [
        "mean_dist_min = round(df_test['dist_min'].dropna().mean())\r\n",
        "\r\n",
        "df_test.loc[df_test['dist_min'].isna(), 'dist_min'] = mean_dist_min"
      ]
    },
    {
      "cell_type": "code",
      "execution_count": 2043,
      "metadata": {
        "id": "dAKTHw0DKe-H"
      },
      "outputs": [],
      "source": [
        "mean_dist_mean = round(df_test['dist_mean'].dropna().mean())\r\n",
        "\r\n",
        "df_test.loc[df_test['dist_mean'].isna(), 'dist_mean'] = mean_dist_mean"
      ]
    },
    {
      "cell_type": "code",
      "execution_count": 2044,
      "metadata": {
        "id": "1tWwbK5RKmCt"
      },
      "outputs": [],
      "source": [
        "mean_rate_max = round(df_test['rate_max'].dropna().mean())\r\n",
        "\r\n",
        "df_test.loc[df_test['rate_max'].isna(), 'rate_max'] = mean_rate_max"
      ]
    },
    {
      "cell_type": "code",
      "execution_count": 2045,
      "metadata": {
        "id": "QG_o-7e-K5MZ"
      },
      "outputs": [],
      "source": [
        "mean_rate_min = round(df_test['rate_min'].dropna().mean())\r\n",
        "\r\n",
        "df_test.loc[df_test['rate_min'].isna(), 'rate_min'] = mean_rate_min"
      ]
    },
    {
      "cell_type": "code",
      "execution_count": 2046,
      "metadata": {
        "id": "7hURbFm7K5pS"
      },
      "outputs": [],
      "source": [
        "mean_rate_mean = round(df_test['rate_mean'].dropna().mean())\r\n",
        "\r\n",
        "df_test.loc[df_test['rate_mean'].isna(), 'rate_mean'] = mean_rate_mean"
      ]
    },
    {
      "cell_type": "code",
      "execution_count": 2047,
      "metadata": {
        "id": "w5WGKJykLAPk"
      },
      "outputs": [],
      "source": [
        "# Дополнительно выделить столбцы с Null значениями"
      ]
    },
    {
      "cell_type": "markdown",
      "metadata": {
        "id": "dQdYiLazXYzR"
      },
      "source": [
        "Обработка финального датасета"
      ]
    },
    {
      "cell_type": "code",
      "execution_count": 2048,
      "metadata": {
        "colab": {
          "base_uri": "https://localhost:8080/",
          "height": 596
        },
        "id": "1jJCdNnKZ2ZG",
        "outputId": "84aed32e-9e7d-48e5-9f6d-dadbd8c20c22"
      },
      "outputs": [
        {
          "data": {
            "image/png": "[encoded data removed]",
            "text/plain": [
              "<Figure size 576x504 with 2 Axes>"
            ]
          },
          "metadata": {
            "needs_background": "light"
          },
          "output_type": "display_data"
        }
      ],
      "source": [
        "# Рассмотрим матрицу корреляции для начального удаления сильно скоррелированных признаков\r\n",
        "\r\n",
        "plt.figure(figsize=(8,7))\r\n",
        "\r\n",
        "sns.heatmap(df_train.corr().abs(), annot=True, fmt='.2f', cmap='PuBu')\r\n",
        "plt.yticks(rotation=0)\r\n",
        "plt.show()"
      ]
    },
    {
      "cell_type": "code",
      "execution_count": 2049,
      "metadata": {
        "id": "XJBFXD1uXvVl"
      },
      "outputs": [],
      "source": [
        "# Удаляем mean значения из dist и rate\n",
        "# Пока без токенайзера, поэтому не будем включать столбец street\n",
        "# Задаем типы переменных\n",
        "\n",
        "categorical_features = ['status', 'propertyType', 'city', 'zipcode', 'state']\n",
        "numerical_features = ['sqft', 'dist_max', 'dist_min', 'rate_max', 'rate_min']\n",
        "value = ['target']"
      ]
    },
    {
      "cell_type": "code",
      "execution_count": 2050,
      "metadata": {
        "colab": {
          "base_uri": "https://localhost:8080/",
          "height": 235
        },
        "id": "EHCrqsfUkNLn",
        "outputId": "72fb690a-a49a-44ae-849f-a2872c1bea24"
      },
      "outputs": [
        {
          "data": {
            "text/html": [
              "<div>\n",
              "<style scoped>\n",
              "    .dataframe tbody tr th:only-of-type {\n",
              "        vertical-align: middle;\n",
              "    }\n",
              "\n",
              "    .dataframe tbody tr th {\n",
              "        vertical-align: top;\n",
              "    }\n",
              "\n",
              "    .dataframe thead th {\n",
              "        text-align: right;\n",
              "    }\n",
              "</style>\n",
              "<table border=\"1\" class=\"dataframe\">\n",
              "  <thead>\n",
              "    <tr style=\"text-align: right;\">\n",
              "      <th></th>\n",
              "      <th>count</th>\n",
              "      <th>min</th>\n",
              "      <th>mean</th>\n",
              "      <th>max</th>\n",
              "      <th>low_range</th>\n",
              "      <th>upper_range</th>\n",
              "      <th>out_count</th>\n",
              "    </tr>\n",
              "    <tr>\n",
              "      <th>name</th>\n",
              "      <th></th>\n",
              "      <th></th>\n",
              "      <th></th>\n",
              "      <th></th>\n",
              "      <th></th>\n",
              "      <th></th>\n",
              "      <th></th>\n",
              "    </tr>\n",
              "  </thead>\n",
              "  <tbody>\n",
              "    <tr>\n",
              "      <th>sqft</th>\n",
              "      <td>290422.0</td>\n",
              "      <td>0.00</td>\n",
              "      <td>20540.00</td>\n",
              "      <td>7.959794e+08</td>\n",
              "      <td>-1060.00</td>\n",
              "      <td>5196.00</td>\n",
              "      <td>26917.0</td>\n",
              "    </tr>\n",
              "    <tr>\n",
              "      <th>dist_max</th>\n",
              "      <td>290422.0</td>\n",
              "      <td>0.02</td>\n",
              "      <td>4.69</td>\n",
              "      <td>1.591090e+03</td>\n",
              "      <td>-3.73</td>\n",
              "      <td>10.56</td>\n",
              "      <td>27791.0</td>\n",
              "    </tr>\n",
              "    <tr>\n",
              "      <th>dist_min</th>\n",
              "      <td>290422.0</td>\n",
              "      <td>0.01</td>\n",
              "      <td>1.19</td>\n",
              "      <td>1.590380e+03</td>\n",
              "      <td>-1.04</td>\n",
              "      <td>2.68</td>\n",
              "      <td>24800.0</td>\n",
              "    </tr>\n",
              "    <tr>\n",
              "      <th>rate_max</th>\n",
              "      <td>290422.0</td>\n",
              "      <td>1.00</td>\n",
              "      <td>6.63</td>\n",
              "      <td>1.000000e+01</td>\n",
              "      <td>0.50</td>\n",
              "      <td>12.50</td>\n",
              "      <td>0.0</td>\n",
              "    </tr>\n",
              "    <tr>\n",
              "      <th>rate_min</th>\n",
              "      <td>290422.0</td>\n",
              "      <td>1.00</td>\n",
              "      <td>3.66</td>\n",
              "      <td>1.000000e+01</td>\n",
              "      <td>-2.50</td>\n",
              "      <td>9.50</td>\n",
              "      <td>548.0</td>\n",
              "    </tr>\n",
              "    <tr>\n",
              "      <th>target</th>\n",
              "      <td>290422.0</td>\n",
              "      <td>1.00</td>\n",
              "      <td>613918.69</td>\n",
              "      <td>1.950000e+08</td>\n",
              "      <td>-391066.88</td>\n",
              "      <td>1151280.12</td>\n",
              "      <td>27776.0</td>\n",
              "    </tr>\n",
              "  </tbody>\n",
              "</table>\n",
              "</div>"
            ],
            "text/plain": [
              "             count   min       mean           max  low_range  upper_range  \\\n",
              "name                                                                        \n",
              "sqft      290422.0  0.00   20540.00  7.959794e+08   -1060.00      5196.00   \n",
              "dist_max  290422.0  0.02       4.69  1.591090e+03      -3.73        10.56   \n",
              "dist_min  290422.0  0.01       1.19  1.590380e+03      -1.04         2.68   \n",
              "rate_max  290422.0  1.00       6.63  1.000000e+01       0.50        12.50   \n",
              "rate_min  290422.0  1.00       3.66  1.000000e+01      -2.50         9.50   \n",
              "target    290422.0  1.00  613918.69  1.950000e+08 -391066.88   1151280.12   \n",
              "\n",
              "          out_count  \n",
              "name                 \n",
              "sqft        26917.0  \n",
              "dist_max    27791.0  \n",
              "dist_min    24800.0  \n",
              "rate_max        0.0  \n",
              "rate_min      548.0  \n",
              "target      27776.0  "
            ]
          },
          "execution_count": 2050,
          "metadata": {},
          "output_type": "execute_result"
        }
      ],
      "source": [
        "# Смотрим выбросы\n",
        "\n",
        "data_out = data_outlier(numerical_features + value, df_train)\n",
        "data_out"
      ]
    },
    {
      "cell_type": "markdown",
      "metadata": {
        "id": "X4bd63RVmHxF"
      },
      "source": [
        "Рассмотрим числовые признаки по-отдельности"
      ]
    },
    {
      "cell_type": "code",
      "execution_count": 2051,
      "metadata": {
        "colab": {
          "base_uri": "https://localhost:8080/",
          "height": 668
        },
        "id": "T1HQA3iGrj-c",
        "outputId": "8e915065-a82c-4204-d9dc-a785a268f2fe"
      },
      "outputs": [
        {
          "data": {
            "image/png": "[encoded data removed]",
            "text/plain": [
              "<Figure size 720x360 with 2 Axes>"
            ]
          },
          "metadata": {
            "needs_background": "light"
          },
          "output_type": "display_data"
        }
      ],
      "source": [
        "# target\r\n",
        "\r\n",
        "train_hist_plot('target', df_train)"
      ]
    },
    {
      "cell_type": "code",
      "execution_count": 2052,
      "metadata": {
        "id": "1Dowp5Q7roq2"
      },
      "outputs": [],
      "source": [
        "df_train['target_log'] = np.log(df_train['target'] + 1)\r\n",
        "df_test['target_log'] = 0"
      ]
    },
    {
      "cell_type": "code",
      "execution_count": 2053,
      "metadata": {},
      "outputs": [
        {
          "data": {
            "image/png": "[encoded data removed]",
            "text/plain": [
              "<Figure size 432x288 with 1 Axes>"
            ]
          },
          "metadata": {
            "needs_background": "light"
          },
          "output_type": "display_data"
        },
        {
          "data": {
            "text/html": [
              "<div>\n",
              "<style scoped>\n",
              "    .dataframe tbody tr th:only-of-type {\n",
              "        vertical-align: middle;\n",
              "    }\n",
              "\n",
              "    .dataframe tbody tr th {\n",
              "        vertical-align: top;\n",
              "    }\n",
              "\n",
              "    .dataframe thead th {\n",
              "        text-align: right;\n",
              "    }\n",
              "</style>\n",
              "<table border=\"1\" class=\"dataframe\">\n",
              "  <thead>\n",
              "    <tr style=\"text-align: right;\">\n",
              "      <th></th>\n",
              "      <th>count</th>\n",
              "      <th>min</th>\n",
              "      <th>mean</th>\n",
              "      <th>max</th>\n",
              "      <th>low_range</th>\n",
              "      <th>upper_range</th>\n",
              "      <th>out_count</th>\n",
              "    </tr>\n",
              "  </thead>\n",
              "  <tbody>\n",
              "    <tr>\n",
              "      <th>target</th>\n",
              "      <td>290422.0</td>\n",
              "      <td>1.0</td>\n",
              "      <td>613918.69</td>\n",
              "      <td>195000000.0</td>\n",
              "      <td>-391066.88</td>\n",
              "      <td>1151280.12</td>\n",
              "      <td>27776.0</td>\n",
              "    </tr>\n",
              "  </tbody>\n",
              "</table>\n",
              "</div>"
            ],
            "text/plain": [
              "           count  min       mean          max  low_range  upper_range  \\\n",
              "target  290422.0  1.0  613918.69  195000000.0 -391066.88   1151280.12   \n",
              "\n",
              "        out_count  \n",
              "target    27776.0  "
            ]
          },
          "execution_count": 2053,
          "metadata": {},
          "output_type": "execute_result"
        }
      ],
      "source": [
        "# График выбросов\r\n",
        "sns.boxplot(x=df_train[\"target\"])\r\n",
        "plt.show()\r\n",
        "\r\n",
        "# Выбросы\r\n",
        "data_out.loc['target'].to_frame().T"
      ]
    },
    {
      "cell_type": "code",
      "execution_count": 2054,
      "metadata": {},
      "outputs": [],
      "source": [
        "# Убираем выбросы\r\n",
        "# low_r = data_out.loc['target', 'low_range']\r\n",
        "# upp_r = data_out.loc['target', 'upper_range']\r\n",
        "\r\n",
        "# df_train = df_train[(df_train['target'] >= low_r) & (df_train['target'] <= upp_r)]"
      ]
    },
    {
      "cell_type": "code",
      "execution_count": 2055,
      "metadata": {
        "colab": {
          "base_uri": "https://localhost:8080/",
          "height": 681
        },
        "id": "pbHbDBXgmK_R",
        "outputId": "2e77530b-5934-447b-f306-fed0c538a146"
      },
      "outputs": [
        {
          "data": {
            "image/png": "[encoded data removed]",
            "text/plain": [
              "<Figure size 720x360 with 2 Axes>"
            ]
          },
          "metadata": {
            "needs_background": "light"
          },
          "output_type": "display_data"
        },
        {
          "data": {
            "image/png": "[encoded data removed]",
            "text/plain": [
              "<Figure size 720x360 with 2 Axes>"
            ]
          },
          "metadata": {
            "needs_background": "light"
          },
          "output_type": "display_data"
        }
      ],
      "source": [
        "# sqft\r\n",
        "train_hist_plot('sqft', df_train)\r\n",
        "test_hist_plot('sqft', df_test)"
      ]
    },
    {
      "cell_type": "code",
      "execution_count": 2056,
      "metadata": {
        "colab": {
          "base_uri": "https://localhost:8080/",
          "height": 616
        },
        "id": "wgG9noKIobWS",
        "outputId": "aa94fa0c-f1be-487c-da50-c1e3bab32036"
      },
      "outputs": [
        {
          "data": {
            "image/png": "[encoded data removed]",
            "text/plain": [
              "<Figure size 720x720 with 1 Axes>"
            ]
          },
          "metadata": {
            "needs_background": "light"
          },
          "output_type": "display_data"
        }
      ],
      "source": [
        "plt.figure(figsize = (10,10))\r\n",
        "sns.regplot(data=df_train, y=\"target\", x=\"sqft\", fit_reg=False)\r\n",
        "plt.show()"
      ]
    },
    {
      "cell_type": "code",
      "execution_count": 2057,
      "metadata": {
        "colab": {
          "base_uri": "https://localhost:8080/",
          "height": 342
        },
        "id": "_t9Hgve0qcyM",
        "outputId": "fd3d4f72-f722-46e3-ce3c-2defb88e2725"
      },
      "outputs": [
        {
          "data": {
            "image/png": "[encoded data removed]",
            "text/plain": [
              "<Figure size 432x288 with 1 Axes>"
            ]
          },
          "metadata": {
            "needs_background": "light"
          },
          "output_type": "display_data"
        },
        {
          "data": {
            "text/html": [
              "<div>\n",
              "<style scoped>\n",
              "    .dataframe tbody tr th:only-of-type {\n",
              "        vertical-align: middle;\n",
              "    }\n",
              "\n",
              "    .dataframe tbody tr th {\n",
              "        vertical-align: top;\n",
              "    }\n",
              "\n",
              "    .dataframe thead th {\n",
              "        text-align: right;\n",
              "    }\n",
              "</style>\n",
              "<table border=\"1\" class=\"dataframe\">\n",
              "  <thead>\n",
              "    <tr style=\"text-align: right;\">\n",
              "      <th></th>\n",
              "      <th>count</th>\n",
              "      <th>min</th>\n",
              "      <th>mean</th>\n",
              "      <th>max</th>\n",
              "      <th>low_range</th>\n",
              "      <th>upper_range</th>\n",
              "      <th>out_count</th>\n",
              "    </tr>\n",
              "  </thead>\n",
              "  <tbody>\n",
              "    <tr>\n",
              "      <th>sqft</th>\n",
              "      <td>290422.0</td>\n",
              "      <td>0.0</td>\n",
              "      <td>20540.0</td>\n",
              "      <td>795979430.0</td>\n",
              "      <td>-1060.0</td>\n",
              "      <td>5196.0</td>\n",
              "      <td>26917.0</td>\n",
              "    </tr>\n",
              "  </tbody>\n",
              "</table>\n",
              "</div>"
            ],
            "text/plain": [
              "         count  min     mean          max  low_range  upper_range  out_count\n",
              "sqft  290422.0  0.0  20540.0  795979430.0    -1060.0       5196.0    26917.0"
            ]
          },
          "execution_count": 2057,
          "metadata": {},
          "output_type": "execute_result"
        }
      ],
      "source": [
        "# График выбросов\r\n",
        "sns.boxplot(x=df_train[\"sqft\"])\r\n",
        "plt.show()\r\n",
        "\r\n",
        "# Выбросы\r\n",
        "data_out.loc['sqft'].to_frame().T"
      ]
    },
    {
      "cell_type": "code",
      "execution_count": 2058,
      "metadata": {},
      "outputs": [],
      "source": [
        "# Удаляем предварительно ненужное\r\n",
        "# df_train = df_train[df_train['sqft'] < 10_000_000]"
      ]
    },
    {
      "cell_type": "code",
      "execution_count": 2059,
      "metadata": {
        "id": "GgBbrayLsVCZ"
      },
      "outputs": [],
      "source": [
        "# Удаляем выбросы\r\n",
        "\r\n",
        "# low_r = data_out.loc['sqft', 'low_range']\r\n",
        "# upp_r = data_out.loc['sqft', 'upper_range']\r\n",
        "\r\n",
        "# df_train = df_train[(df_train['sqft'] >= low_r) & (df_train['sqft'] <= upp_r)]"
      ]
    },
    {
      "cell_type": "code",
      "execution_count": 2060,
      "metadata": {
        "id": "rSQbiy2osXB_"
      },
      "outputs": [],
      "source": [
        "df_train['sqft_log'] = np.log(df_train['sqft'] + 1)\r\n",
        "df_test['sqft_log'] = np.log(df_test['sqft'] + 1)"
      ]
    },
    {
      "cell_type": "code",
      "execution_count": 2061,
      "metadata": {
        "colab": {
          "base_uri": "https://localhost:8080/",
          "height": 655
        },
        "id": "BpqTvUg9MI38",
        "outputId": "84763128-218d-4159-b5fd-97d7a3f8b0f7"
      },
      "outputs": [
        {
          "data": {
            "image/png": "[encoded data removed]",
            "text/plain": [
              "<Figure size 720x360 with 2 Axes>"
            ]
          },
          "metadata": {
            "needs_background": "light"
          },
          "output_type": "display_data"
        },
        {
          "data": {
            "image/png": "[encoded data removed]",
            "text/plain": [
              "<Figure size 720x360 with 2 Axes>"
            ]
          },
          "metadata": {
            "needs_background": "light"
          },
          "output_type": "display_data"
        }
      ],
      "source": [
        "# dist_max\n",
        "\n",
        "train_hist_plot('dist_max', df_train)\n",
        "test_hist_plot('dist_max', df_test)"
      ]
    },
    {
      "cell_type": "code",
      "execution_count": 2062,
      "metadata": {
        "id": "3xAl1HcIs4gS"
      },
      "outputs": [],
      "source": [
        "df_train['dist_max_log'] = np.log(df_train['dist_max'] + 1)\r\n",
        "df_test['dist_max_log'] = np.log(df_test['dist_max'] + 1)"
      ]
    },
    {
      "cell_type": "code",
      "execution_count": 2063,
      "metadata": {
        "colab": {
          "base_uri": "https://localhost:8080/",
          "height": 617
        },
        "id": "uEBdtbUItBT9",
        "outputId": "4e35d9ea-eb5f-4324-bf61-df264f929093"
      },
      "outputs": [
        {
          "data": {
            "image/png": "[encoded data removed]",
            "text/plain": [
              "<Figure size 720x720 with 1 Axes>"
            ]
          },
          "metadata": {
            "needs_background": "light"
          },
          "output_type": "display_data"
        }
      ],
      "source": [
        "plt.figure(figsize = (10,10))\r\n",
        "sns.regplot(data=df_train, y=\"target\", x=\"dist_max\", fit_reg=False)\r\n",
        "plt.show()"
      ]
    },
    {
      "cell_type": "code",
      "execution_count": 2064,
      "metadata": {
        "colab": {
          "base_uri": "https://localhost:8080/",
          "height": 343
        },
        "id": "GbBl3GgztOrq",
        "outputId": "8820e54c-122c-4537-a2e5-eb54ae7f11ec"
      },
      "outputs": [
        {
          "data": {
            "image/png": "[encoded data removed]",
            "text/plain": [
              "<Figure size 432x288 with 1 Axes>"
            ]
          },
          "metadata": {
            "needs_background": "light"
          },
          "output_type": "display_data"
        },
        {
          "data": {
            "text/html": [
              "<div>\n",
              "<style scoped>\n",
              "    .dataframe tbody tr th:only-of-type {\n",
              "        vertical-align: middle;\n",
              "    }\n",
              "\n",
              "    .dataframe tbody tr th {\n",
              "        vertical-align: top;\n",
              "    }\n",
              "\n",
              "    .dataframe thead th {\n",
              "        text-align: right;\n",
              "    }\n",
              "</style>\n",
              "<table border=\"1\" class=\"dataframe\">\n",
              "  <thead>\n",
              "    <tr style=\"text-align: right;\">\n",
              "      <th></th>\n",
              "      <th>count</th>\n",
              "      <th>min</th>\n",
              "      <th>mean</th>\n",
              "      <th>max</th>\n",
              "      <th>low_range</th>\n",
              "      <th>upper_range</th>\n",
              "      <th>out_count</th>\n",
              "    </tr>\n",
              "  </thead>\n",
              "  <tbody>\n",
              "    <tr>\n",
              "      <th>dist_max</th>\n",
              "      <td>290422.0</td>\n",
              "      <td>0.02</td>\n",
              "      <td>4.69</td>\n",
              "      <td>1591.09</td>\n",
              "      <td>-3.73</td>\n",
              "      <td>10.56</td>\n",
              "      <td>27791.0</td>\n",
              "    </tr>\n",
              "  </tbody>\n",
              "</table>\n",
              "</div>"
            ],
            "text/plain": [
              "             count   min  mean      max  low_range  upper_range  out_count\n",
              "dist_max  290422.0  0.02  4.69  1591.09      -3.73        10.56    27791.0"
            ]
          },
          "execution_count": 2064,
          "metadata": {},
          "output_type": "execute_result"
        }
      ],
      "source": [
        "# График выбросов\r\n",
        "sns.boxplot(x=df_train[\"dist_max\"])\r\n",
        "plt.show()\r\n",
        "\r\n",
        "# Выбросы\r\n",
        "data_out.loc['dist_max'].to_frame().T"
      ]
    },
    {
      "cell_type": "code",
      "execution_count": 2065,
      "metadata": {},
      "outputs": [],
      "source": [
        "# Удаляем предварительно ненужное\r\n",
        "\r\n",
        "# df_train = df_train[df_train['dist_max'] < 40]"
      ]
    },
    {
      "cell_type": "code",
      "execution_count": 2066,
      "metadata": {
        "id": "c_1dPGLzv0a0"
      },
      "outputs": [],
      "source": [
        "# Удалим выбросы\r\n",
        "\r\n",
        "# low_r = data_out.loc['dist_max', 'low_range']\r\n",
        "# upp_r = data_out.loc['dist_max', 'upper_range']\r\n",
        "\r\n",
        "# df_train = df_train[(df_train['dist_max'] >= low_r) & (df_train['dist_max'] <= upp_r)]"
      ]
    },
    {
      "cell_type": "code",
      "execution_count": 2067,
      "metadata": {
        "colab": {
          "base_uri": "https://localhost:8080/",
          "height": 655
        },
        "id": "OuAScmCjnrnE",
        "outputId": "5a77e314-7fe9-45d5-bb9e-4d242cccd847"
      },
      "outputs": [
        {
          "data": {
            "image/png": "[encoded data removed]",
            "text/plain": [
              "<Figure size 720x360 with 2 Axes>"
            ]
          },
          "metadata": {
            "needs_background": "light"
          },
          "output_type": "display_data"
        },
        {
          "data": {
            "image/png": "[encoded data removed]",
            "text/plain": [
              "<Figure size 720x360 with 2 Axes>"
            ]
          },
          "metadata": {
            "needs_background": "light"
          },
          "output_type": "display_data"
        }
      ],
      "source": [
        "# dist_min\n",
        "\n",
        "train_hist_plot('dist_min', df_train)\n",
        "test_hist_plot('dist_min', df_test)"
      ]
    },
    {
      "cell_type": "code",
      "execution_count": 2068,
      "metadata": {
        "id": "_VZXCOIXv5uR"
      },
      "outputs": [],
      "source": [
        "df_train['dist_min_log'] = np.log(df_train['dist_min'] + 1)\r\n",
        "df_test['dist_min_log'] = np.log(df_test['dist_min'] + 1)"
      ]
    },
    {
      "cell_type": "code",
      "execution_count": 2069,
      "metadata": {
        "colab": {
          "base_uri": "https://localhost:8080/",
          "height": 617
        },
        "id": "ycXTH3Qav8Xn",
        "outputId": "38fe958c-fc65-4f2f-b2fc-9bb9e3f39f90"
      },
      "outputs": [
        {
          "data": {
            "image/png": "[encoded data removed]",
            "text/plain": [
              "<Figure size 720x720 with 1 Axes>"
            ]
          },
          "metadata": {
            "needs_background": "light"
          },
          "output_type": "display_data"
        }
      ],
      "source": [
        "plt.figure(figsize = (10,10))\r\n",
        "sns.regplot(data=df_train, y=\"target\", x=\"dist_min\", fit_reg=False)\r\n",
        "plt.show()"
      ]
    },
    {
      "cell_type": "code",
      "execution_count": 2070,
      "metadata": {
        "colab": {
          "base_uri": "https://localhost:8080/",
          "height": 343
        },
        "id": "N_xFfphWwCv5",
        "outputId": "46407028-9ed5-420a-e126-5b0a21b5fa09"
      },
      "outputs": [
        {
          "data": {
            "image/png": "[encoded data removed]",
            "text/plain": [
              "<Figure size 432x288 with 1 Axes>"
            ]
          },
          "metadata": {
            "needs_background": "light"
          },
          "output_type": "display_data"
        },
        {
          "data": {
            "text/html": [
              "<div>\n",
              "<style scoped>\n",
              "    .dataframe tbody tr th:only-of-type {\n",
              "        vertical-align: middle;\n",
              "    }\n",
              "\n",
              "    .dataframe tbody tr th {\n",
              "        vertical-align: top;\n",
              "    }\n",
              "\n",
              "    .dataframe thead th {\n",
              "        text-align: right;\n",
              "    }\n",
              "</style>\n",
              "<table border=\"1\" class=\"dataframe\">\n",
              "  <thead>\n",
              "    <tr style=\"text-align: right;\">\n",
              "      <th></th>\n",
              "      <th>count</th>\n",
              "      <th>min</th>\n",
              "      <th>mean</th>\n",
              "      <th>max</th>\n",
              "      <th>low_range</th>\n",
              "      <th>upper_range</th>\n",
              "      <th>out_count</th>\n",
              "    </tr>\n",
              "  </thead>\n",
              "  <tbody>\n",
              "    <tr>\n",
              "      <th>dist_min</th>\n",
              "      <td>290422.0</td>\n",
              "      <td>0.01</td>\n",
              "      <td>1.19</td>\n",
              "      <td>1590.38</td>\n",
              "      <td>-1.04</td>\n",
              "      <td>2.68</td>\n",
              "      <td>24800.0</td>\n",
              "    </tr>\n",
              "  </tbody>\n",
              "</table>\n",
              "</div>"
            ],
            "text/plain": [
              "             count   min  mean      max  low_range  upper_range  out_count\n",
              "dist_min  290422.0  0.01  1.19  1590.38      -1.04         2.68    24800.0"
            ]
          },
          "execution_count": 2070,
          "metadata": {},
          "output_type": "execute_result"
        }
      ],
      "source": [
        "# График выбросов\r\n",
        "sns.boxplot(x=df_train[\"dist_min\"])\r\n",
        "plt.show()\r\n",
        "\r\n",
        "# Выбросы\r\n",
        "data_out.loc['dist_min'].to_frame().T"
      ]
    },
    {
      "cell_type": "code",
      "execution_count": 2071,
      "metadata": {},
      "outputs": [],
      "source": [
        "# Удаляем предварительно ненужное\r\n",
        "\r\n",
        "# df_train = df_train[df_train['dist_min'] < 30]"
      ]
    },
    {
      "cell_type": "code",
      "execution_count": 2072,
      "metadata": {
        "id": "i5zhyaBvwQVe"
      },
      "outputs": [],
      "source": [
        "# Удалим выбросы\r\n",
        "\r\n",
        "# low_r = data_out.loc['dist_min', 'low_range']\r\n",
        "# upp_r = data_out.loc['dist_min', 'upper_range']\r\n",
        "\r\n",
        "# df_train = df_train[(df_train['dist_min'] >= low_r) & (df_train['dist_min'] <= upp_r)]"
      ]
    },
    {
      "cell_type": "code",
      "execution_count": 2073,
      "metadata": {
        "colab": {
          "base_uri": "https://localhost:8080/",
          "height": 655
        },
        "id": "Hcb0fFEun2Ts",
        "outputId": "c6660c51-c705-4e20-8877-e5872d53d410"
      },
      "outputs": [
        {
          "data": {
            "image/png": "[encoded data removed]",
            "text/plain": [
              "<Figure size 432x288 with 1 Axes>"
            ]
          },
          "metadata": {
            "needs_background": "light"
          },
          "output_type": "display_data"
        },
        {
          "data": {
            "image/png": "[encoded data removed]",
            "text/plain": [
              "<Figure size 432x288 with 1 Axes>"
            ]
          },
          "metadata": {
            "needs_background": "light"
          },
          "output_type": "display_data"
        }
      ],
      "source": [
        "# rate_max\r\n",
        "\r\n",
        "sns.countplot(x=df_train[\"rate_max\"], data=df_train)\r\n",
        "plt.show()\r\n",
        "\r\n",
        "sns.countplot(x=df_test[\"rate_max\"], data=df_test)\r\n",
        "plt.show()"
      ]
    },
    {
      "cell_type": "code",
      "execution_count": 2074,
      "metadata": {
        "colab": {
          "base_uri": "https://localhost:8080/",
          "height": 617
        },
        "id": "u47brlPuwWr7",
        "outputId": "b641333b-ab39-4699-8580-d5fe7936cb88"
      },
      "outputs": [
        {
          "data": {
            "image/png": "[encoded data removed]",
            "text/plain": [
              "<Figure size 432x288 with 1 Axes>"
            ]
          },
          "metadata": {
            "needs_background": "light"
          },
          "output_type": "display_data"
        }
      ],
      "source": [
        "sns.regplot(data=df_train, y=\"target\", x=\"rate_max\", fit_reg=False)\r\n",
        "plt.show()"
      ]
    },
    {
      "cell_type": "code",
      "execution_count": 2075,
      "metadata": {
        "colab": {
          "base_uri": "https://localhost:8080/",
          "height": 655
        },
        "id": "ueDXuRNInwFs",
        "outputId": "f65b6efe-6e4f-45e6-edb5-641807a47ad2"
      },
      "outputs": [
        {
          "data": {
            "image/png": "[encoded data removed]",
            "text/plain": [
              "<Figure size 432x288 with 1 Axes>"
            ]
          },
          "metadata": {
            "needs_background": "light"
          },
          "output_type": "display_data"
        },
        {
          "data": {
            "image/png": "[encoded data removed]",
            "text/plain": [
              "<Figure size 432x288 with 1 Axes>"
            ]
          },
          "metadata": {
            "needs_background": "light"
          },
          "output_type": "display_data"
        }
      ],
      "source": [
        "# rate_min\r\n",
        "\r\n",
        "sns.countplot(x=df_train[\"rate_min\"], data=df_train)\r\n",
        "plt.show()\r\n",
        "\r\n",
        "sns.countplot(x=df_test[\"rate_min\"], data=df_test)\r\n",
        "plt.show()"
      ]
    },
    {
      "cell_type": "code",
      "execution_count": 2076,
      "metadata": {
        "colab": {
          "base_uri": "https://localhost:8080/",
          "height": 617
        },
        "id": "3XgRvNt7n8N8",
        "outputId": "02748bb0-7fd6-4609-c28d-18b508e6f5f9"
      },
      "outputs": [
        {
          "data": {
            "image/png": "[encoded data removed]",
            "text/plain": [
              "<Figure size 432x288 with 1 Axes>"
            ]
          },
          "metadata": {
            "needs_background": "light"
          },
          "output_type": "display_data"
        }
      ],
      "source": [
        "sns.regplot(data=df_train, y=\"target\", x=\"rate_min\", fit_reg=False)\r\n",
        "plt.show()"
      ]
    },
    {
      "cell_type": "code",
      "execution_count": 2077,
      "metadata": {},
      "outputs": [],
      "source": [
        "# Работа с таргетом "
      ]
    },
    {
      "cell_type": "code",
      "execution_count": 2078,
      "metadata": {},
      "outputs": [],
      "source": [
        "# Удаляем предварительно ненужное\r\n",
        "\r\n",
        "# df_train = df_train[df_train['target'] < ]"
      ]
    },
    {
      "cell_type": "markdown",
      "metadata": {
        "id": "wWv9QG3yxtIw"
      },
      "source": [
        "Влияние числовых признаков на target"
      ]
    },
    {
      "cell_type": "code",
      "execution_count": 2079,
      "metadata": {
        "id": "9ahICBAfxfK3"
      },
      "outputs": [],
      "source": [
        "# df_train.columns"
      ]
    },
    {
      "cell_type": "code",
      "execution_count": 2080,
      "metadata": {
        "id": "ywpTzTNfxMkB"
      },
      "outputs": [],
      "source": [
        "# Введем новые числовые признаки\r\n",
        "numerical_features_new = numerical_features + ['dist_max_log', 'dist_min_log' ,'sqft_log']"
      ]
    },
    {
      "cell_type": "code",
      "execution_count": 2081,
      "metadata": {
        "colab": {
          "base_uri": "https://localhost:8080/",
          "height": 282
        },
        "id": "o2_zFghuwxuj",
        "outputId": "c7787957-c5f7-4ae6-8f5d-a15426a25c06"
      },
      "outputs": [
        {
          "data": {
            "text/plain": [
              "<matplotlib.axes._subplots.AxesSubplot at 0x15c012d60c8>"
            ]
          },
          "execution_count": 2081,
          "metadata": {},
          "output_type": "execute_result"
        },
        {
          "data": {
            "image/png": "[encoded data removed]",
            "text/plain": [
              "<Figure size 432x288 with 1 Axes>"
            ]
          },
          "metadata": {
            "needs_background": "light"
          },
          "output_type": "display_data"
        }
      ],
      "source": [
        "# График влияния числовых переменных на target\r\n",
        "\r\n",
        "df_train_imp = df_train.copy()\r\n",
        "\r\n",
        "# рассмотрим значимость переменных\r\n",
        "\r\n",
        "imp_num = pd.Series(f_regression(df_train_imp[numerical_features_new], \r\n",
        "                              df_train_imp['target_log'])[0], index=numerical_features_new)\r\n",
        "imp_num.sort_values(inplace = True)\r\n",
        "imp_num.plot(kind = 'barh')"
      ]
    },
    {
      "cell_type": "code",
      "execution_count": 2082,
      "metadata": {},
      "outputs": [],
      "source": [
        "# Видим что наибольшее значение имеет sqft_log, наименьшее sqft"
      ]
    },
    {
      "cell_type": "code",
      "execution_count": 2083,
      "metadata": {
        "id": "qeWTWMNCw28D"
      },
      "outputs": [],
      "source": [
        "# График влияния числовых переменных на target\r\n",
        "\r\n",
        "# df_train_imp = df_train.copy()\r\n",
        "\r\n",
        "# # рассмотрим значимость переменных\r\n",
        "# label_encoder = LabelEncoder()\r\n",
        "\r\n",
        "# imp_num = pd.Series(mutual_info_regression(df_train_imp[numerical_features_new], \r\n",
        "#                               df_train_imp['target_log']), index=numerical_features_new)\r\n",
        "# imp_num.sort_values(inplace = True)\r\n",
        "# imp_num.plot(kind = 'barh')"
      ]
    },
    {
      "cell_type": "markdown",
      "metadata": {},
      "source": [
        "# Рассмаотрим категориальные переменные"
      ]
    },
    {
      "cell_type": "code",
      "execution_count": 2084,
      "metadata": {
        "id": "Z6n1TqbW52dM"
      },
      "outputs": [
        {
          "data": {
            "text/plain": [
              "for sale                                193263\n",
              "active                                   68337\n",
              "foreclosure                               5864\n",
              "new construction                          5207\n",
              "pending                                   4616\n",
              "                                         ...  \n",
              "contingent financing                         1\n",
              "pending w escape clause                      1\n",
              "under contract taking back up offers         1\n",
              "pending backup offer requested               1\n",
              "lease purchase                               1\n",
              "Name: status, Length: 95, dtype: int64"
            ]
          },
          "execution_count": 2084,
          "metadata": {},
          "output_type": "execute_result"
        }
      ],
      "source": [
        "df_train['status'].value_counts()"
      ]
    },
    {
      "cell_type": "code",
      "execution_count": 2085,
      "metadata": {},
      "outputs": [
        {
          "data": {
            "text/plain": [
              "foreclosure                1410\n",
              "recently sold               287\n",
              "pre foreclosure auction     279\n",
              "auction                     180\n",
              "foreclosed                  165\n",
              "pre foreclosure             119\n",
              "new construction             16\n",
              "closed                       13\n",
              "pending                       5\n",
              "for sale                      4\n",
              "sold                          2\n",
              "active                        1\n",
              "Name: status, dtype: int64"
            ]
          },
          "execution_count": 2085,
          "metadata": {},
          "output_type": "execute_result"
        }
      ],
      "source": [
        "df_test['status'].value_counts()"
      ]
    },
    {
      "cell_type": "code",
      "execution_count": 2086,
      "metadata": {},
      "outputs": [
        {
          "data": {
            "text/plain": [
              "recently sold    287\n",
              "sold               2\n",
              "Name: status, dtype: int64"
            ]
          },
          "execution_count": 2086,
          "metadata": {},
          "output_type": "execute_result"
        }
      ],
      "source": [
        "unique_train_stat = df_train['status'].unique()\r\n",
        "\r\n",
        "df_test[~df_test['status'].isin(unique_train_stat)]['status'].value_counts()"
      ]
    },
    {
      "cell_type": "code",
      "execution_count": 2087,
      "metadata": {},
      "outputs": [],
      "source": [
        "# Так как в трейне нет ничего похожего на sold, заменим на \"for sale\"\r\n",
        "\r\n",
        "df_test.loc[df_test['status'].str.contains('sold'), 'status'] = 'for sale'\r\n"
      ]
    },
    {
      "cell_type": "code",
      "execution_count": 2088,
      "metadata": {},
      "outputs": [],
      "source": [
        "unique_stat = df_test['status'].unique()\r\n",
        "\r\n",
        "# Удаляем данные из трейна те значения, которых нет в тесте\r\n",
        "df_train = df_train[df_train['status'].isin(unique_stat)]"
      ]
    },
    {
      "cell_type": "code",
      "execution_count": 2089,
      "metadata": {},
      "outputs": [
        {
          "data": {
            "image/png": "[encoded data removed]",
            "text/plain": [
              "<Figure size 432x288 with 1 Axes>"
            ]
          },
          "metadata": {
            "needs_background": "light"
          },
          "output_type": "display_data"
        },
        {
          "data": {
            "image/png": "[encoded data removed]",
            "text/plain": [
              "<Figure size 432x288 with 1 Axes>"
            ]
          },
          "metadata": {
            "needs_background": "light"
          },
          "output_type": "display_data"
        }
      ],
      "source": [
        "# Рассмотрим как распределены статусы\r\n",
        "\r\n",
        "sns.countplot(y=\"status\", data=df_train, order = df_train['status'].value_counts().index)\r\n",
        "plt.show()\r\n",
        "\r\n",
        "sns.countplot(y=\"status\", data=df_test, order = df_test['status'].value_counts().index)\r\n",
        "plt.show()"
      ]
    },
    {
      "cell_type": "code",
      "execution_count": 2090,
      "metadata": {},
      "outputs": [
        {
          "data": {
            "text/plain": [
              "single family                                   153843\n",
              "condo                                            31689\n",
              "lot land                                         19548\n",
              "townhouse                                        14899\n",
              "multi family                                     10453\n",
              "                                                 ...  \n",
              "single detached craftsman mid century modern         1\n",
              "condo town contemporary modern split level           1\n",
              "townhouse interior                                   1\n",
              "historic vintage multi family                        1\n",
              "expanded ranch                                       1\n",
              "Name: propertyType, Length: 1065, dtype: int64"
            ]
          },
          "execution_count": 2090,
          "metadata": {},
          "output_type": "execute_result"
        }
      ],
      "source": [
        "df_train['propertyType'].value_counts()"
      ]
    },
    {
      "cell_type": "code",
      "execution_count": 2091,
      "metadata": {},
      "outputs": [
        {
          "data": {
            "text/plain": [
              "single family                1994\n",
              "condo                         157\n",
              "apartment                     124\n",
              "multi family                   48\n",
              "townhouse                      48\n",
              "singlefamilyresidence          41\n",
              "lot land                       20\n",
              "mobile manufactured            15\n",
              "multiple occupancy             13\n",
              "miscellaneous                   8\n",
              "cooperative                     2\n",
              "apartment condo townhouse       2\n",
              "coop                            1\n",
              "traditional                     1\n",
              "unknown                         1\n",
              "contemporary                    1\n",
              "land                            1\n",
              "other                           1\n",
              "federal                         1\n",
              "mfd mobile                      1\n",
              "colonial                        1\n",
              "Name: propertyType, dtype: int64"
            ]
          },
          "execution_count": 2091,
          "metadata": {},
          "output_type": "execute_result"
        }
      ],
      "source": [
        "df_test['propertyType'].value_counts()"
      ]
    },
    {
      "cell_type": "code",
      "execution_count": 2092,
      "metadata": {},
      "outputs": [
        {
          "data": {
            "text/plain": [
              "apartment condo townhouse    2\n",
              "Name: propertyType, dtype: int64"
            ]
          },
          "execution_count": 2092,
          "metadata": {},
          "output_type": "execute_result"
        }
      ],
      "source": [
        "unique_train_type = df_train['propertyType'].unique()\r\n",
        "\r\n",
        "df_test[~df_test['propertyType'].isin(unique_train_type)]['propertyType'].value_counts()"
      ]
    },
    {
      "cell_type": "code",
      "execution_count": 2093,
      "metadata": {},
      "outputs": [],
      "source": [
        "# Так как количетсво этих значений мало, заменим на аналогичное из теста\r\n",
        "\r\n",
        "df_test.loc[df_test['propertyType'] == 'apartment condo townhouse', 'propertyType'] = 'apartment'"
      ]
    },
    {
      "cell_type": "code",
      "execution_count": 2094,
      "metadata": {},
      "outputs": [],
      "source": [
        "unique_type = df_test['propertyType'].unique()\r\n",
        "\r\n",
        "# Удалим строки из трейна, где нет значений из теста\r\n",
        "df_train = df_train[df_train['propertyType'].isin(unique_type)]"
      ]
    },
    {
      "cell_type": "code",
      "execution_count": 2095,
      "metadata": {},
      "outputs": [
        {
          "data": {
            "image/png": "[encoded data removed]",
            "text/plain": [
              "<Figure size 432x288 with 1 Axes>"
            ]
          },
          "metadata": {
            "needs_background": "light"
          },
          "output_type": "display_data"
        },
        {
          "data": {
            "image/png": "[encoded data removed]",
            "text/plain": [
              "<Figure size 432x288 with 1 Axes>"
            ]
          },
          "metadata": {
            "needs_background": "light"
          },
          "output_type": "display_data"
        }
      ],
      "source": [
        "# Посмотрим как распределены значения в трейне и тесте\r\n",
        "\r\n",
        "sns.countplot(y=\"propertyType\", data=df_train, order = df_train['propertyType'].value_counts().index)\r\n",
        "plt.show()\r\n",
        "\r\n",
        "sns.countplot(y=\"propertyType\", data=df_test, order = df_test['propertyType'].value_counts().index)\r\n",
        "plt.show()"
      ]
    },
    {
      "cell_type": "code",
      "execution_count": 2096,
      "metadata": {},
      "outputs": [],
      "source": [
        "# В дальнейшем можно будет упростить значения, чтобы не было такого разброса"
      ]
    },
    {
      "cell_type": "code",
      "execution_count": 2097,
      "metadata": {},
      "outputs": [
        {
          "data": {
            "text/plain": [
              "san antonio    17019\n",
              "houston        13777\n",
              "chicago         6470\n",
              "las vegas       5841\n",
              "miami           5812\n",
              "               ...  \n",
              "germantown         1\n",
              "belllingham        1\n",
              "millican           1\n",
              "bexar co           1\n",
              "bedias             1\n",
              "Name: city, Length: 1576, dtype: int64"
            ]
          },
          "execution_count": 2097,
          "metadata": {},
          "output_type": "execute_result"
        }
      ],
      "source": [
        "df_train['city'].value_counts()"
      ]
    },
    {
      "cell_type": "code",
      "execution_count": 2098,
      "metadata": {},
      "outputs": [
        {
          "data": {
            "text/plain": [
              "san antonio      134\n",
              "tampa            125\n",
              "jacksonville     123\n",
              "miami            113\n",
              "washington        89\n",
              "                ... \n",
              "adams              1\n",
              "york               1\n",
              "yuba               1\n",
              "alamo heights      1\n",
              "gulfport           1\n",
              "Name: city, Length: 353, dtype: int64"
            ]
          },
          "execution_count": 2098,
          "metadata": {},
          "output_type": "execute_result"
        }
      ],
      "source": [
        "df_test['city'].value_counts()"
      ]
    },
    {
      "cell_type": "code",
      "execution_count": 2099,
      "metadata": {},
      "outputs": [
        {
          "data": {
            "text/plain": [
              "sisters           1\n",
              "blythe            1\n",
              "salineville       1\n",
              "china             1\n",
              "sweetwater        1\n",
              "unincorporated    1\n",
              "Name: city, dtype: int64"
            ]
          },
          "execution_count": 2099,
          "metadata": {},
          "output_type": "execute_result"
        }
      ],
      "source": [
        "unique_train_city = df_train['city'].unique()\r\n",
        "\r\n",
        "df_test[~df_test['city'].isin(unique_train_city)]['city'].value_counts()"
      ]
    },
    {
      "cell_type": "code",
      "execution_count": 2100,
      "metadata": {},
      "outputs": [],
      "source": [
        "# Так как мало значений, заменим их всех на other, которое уже присутствует\r\n",
        "\r\n",
        "df_test.loc[~df_test['city'].isin(unique_train_city),'city'] = 'other'\r\n"
      ]
    },
    {
      "cell_type": "code",
      "execution_count": 2101,
      "metadata": {},
      "outputs": [],
      "source": [
        "# Удалим из трейна строки, где значений нет в тесте\r\n",
        "\r\n",
        "unique_city = df_test['city'].unique()\r\n",
        "\r\n",
        "df_train = df_train[df_train['city'].isin(unique_city)]"
      ]
    },
    {
      "cell_type": "code",
      "execution_count": 2102,
      "metadata": {},
      "outputs": [],
      "source": [
        "# Возможно \r\n",
        "unique_city_name = df_test['city'].value_counts()[df_test['city'].value_counts() < 10].index\r\n",
        "\r\n",
        "for name in unique_city_name:\r\n",
        "    df_train.loc[df_train['city'] == name,'city'] = 'other'\r\n",
        "    df_test.loc[df_test['city'] == name,'city'] = 'other'\r\n"
      ]
    },
    {
      "cell_type": "code",
      "execution_count": 2103,
      "metadata": {},
      "outputs": [],
      "source": [
        "# Нужно беднт сократить количество уникальных значений, их все равно слишком много!"
      ]
    },
    {
      "cell_type": "code",
      "execution_count": 2104,
      "metadata": {},
      "outputs": [
        {
          "data": {
            "text/plain": [
              "32137    1936\n",
              "32164    1071\n",
              "33131     851\n",
              "77845     837\n",
              "34746     787\n",
              "         ... \n",
              "01103       1\n",
              "01608       1\n",
              "02140       1\n",
              "77842       1\n",
              "22039       1\n",
              "Name: zipcode, Length: 2895, dtype: int64"
            ]
          },
          "execution_count": 2104,
          "metadata": {},
          "output_type": "execute_result"
        }
      ],
      "source": [
        "df_train['zipcode'].value_counts()"
      ]
    },
    {
      "cell_type": "code",
      "execution_count": 2105,
      "metadata": {},
      "outputs": [
        {
          "data": {
            "text/plain": [
              "20019    22\n",
              "33647    20\n",
              "11201    19\n",
              "32209    18\n",
              "33712    17\n",
              "         ..\n",
              "94087     1\n",
              "78023     1\n",
              "38117     1\n",
              "77043     1\n",
              "11230     1\n",
              "Name: zipcode, Length: 1163, dtype: int64"
            ]
          },
          "execution_count": 2105,
          "metadata": {},
          "output_type": "execute_result"
        }
      ],
      "source": [
        "df_test['zipcode'].value_counts()"
      ]
    },
    {
      "cell_type": "code",
      "execution_count": 2106,
      "metadata": {},
      "outputs": [],
      "source": [
        "# Так как количество уникальных значений слишком много, разделим из согласно правилу 3-2\r\n",
        "\r\n",
        "df_train.loc[:,'zip_f'] = df_train['zipcode'].apply(lambda x: str(x)[:3])\r\n",
        "df_test.loc[:,'zip_f'] = df_test['zipcode'].apply(lambda x: str(x)[:3])\r\n",
        "\r\n",
        "df_train.loc[:,'zip_s'] = df_train['zipcode'].apply(lambda x: str(x)[3:])\r\n",
        "df_test.loc[:,'zip_s'] = df_test['zipcode'].apply(lambda x: str(x)[3:])\r\n"
      ]
    },
    {
      "cell_type": "code",
      "execution_count": 2107,
      "metadata": {},
      "outputs": [],
      "source": [
        "# Удалим те строки в трейне, которых нет в тесте\r\n",
        "\r\n",
        "unique_zipf = df_test['zip_f'].unique()\r\n",
        "unique_zips = df_test['zip_s'].unique()\r\n",
        "\r\n",
        "df_train = df_train[df_train['zip_f'].isin(unique_zipf)]\r\n",
        "df_train = df_train[df_train['zip_s'].isin(unique_zips)]\r\n"
      ]
    },
    {
      "cell_type": "code",
      "execution_count": 2108,
      "metadata": {},
      "outputs": [],
      "source": [
        "# Нужно будет сократить количество уникальных значений, их сильно много\r\n",
        "\r\n",
        "# Ввести новые признаки в датафрейм"
      ]
    },
    {
      "cell_type": "code",
      "execution_count": 2109,
      "metadata": {},
      "outputs": [
        {
          "data": {
            "text/plain": [
              "FL    56290\n",
              "TX    45356\n",
              "CA    15717\n",
              "NY    13965\n",
              "NC    13210\n",
              "TN    11066\n",
              "WA     8358\n",
              "NV     7690\n",
              "IL     7091\n",
              "OH     6644\n",
              "GA     5386\n",
              "PA     4727\n",
              "CO     3448\n",
              "MI     3399\n",
              "DC     2854\n",
              "IN     2848\n",
              "OR     2281\n",
              "MO      718\n",
              "MA      651\n",
              "UT      503\n",
              "MD      128\n",
              "VT      106\n",
              "VA       87\n",
              "ME       42\n",
              "Name: state, dtype: int64"
            ]
          },
          "execution_count": 2109,
          "metadata": {},
          "output_type": "execute_result"
        }
      ],
      "source": [
        "df_train['state'].value_counts()"
      ]
    },
    {
      "cell_type": "code",
      "execution_count": 2110,
      "metadata": {},
      "outputs": [
        {
          "data": {
            "text/plain": [
              "FL    782\n",
              "TX    428\n",
              "CA    178\n",
              "OH    156\n",
              "NY    140\n",
              "TN    109\n",
              "DC     89\n",
              "IL     87\n",
              "WA     87\n",
              "NC     76\n",
              "GA     64\n",
              "NV     61\n",
              "PA     51\n",
              "MI     35\n",
              "MO     34\n",
              "IN     34\n",
              "CO     27\n",
              "MA     18\n",
              "OR     11\n",
              "UT      4\n",
              "VT      4\n",
              "MD      4\n",
              "ME      1\n",
              "VA      1\n",
              "Name: state, dtype: int64"
            ]
          },
          "execution_count": 2110,
          "metadata": {},
          "output_type": "execute_result"
        }
      ],
      "source": [
        "df_test['state'].value_counts()"
      ]
    },
    {
      "cell_type": "code",
      "execution_count": 2111,
      "metadata": {},
      "outputs": [
        {
          "data": {
            "text/plain": [
              "Series([], Name: state, dtype: int64)"
            ]
          },
          "execution_count": 2111,
          "metadata": {},
          "output_type": "execute_result"
        }
      ],
      "source": [
        "# Посмотрим каких значений теста нет в трейне\r\n",
        "\r\n",
        "unique_train_state = df_train['state'].unique()\r\n",
        "\r\n",
        "df_test[~df_test['state'].isin(unique_train_state)]['state'].value_counts()"
      ]
    },
    {
      "cell_type": "code",
      "execution_count": 2112,
      "metadata": {},
      "outputs": [],
      "source": [
        "# Удалим те строки в трейне, которых нет в тесте\r\n",
        "\r\n",
        "unique_state = df_test['state'].unique()\r\n",
        "\r\n",
        "df_train = df_train[df_train['state'].isin(unique_state)]\r\n"
      ]
    },
    {
      "cell_type": "code",
      "execution_count": 2113,
      "metadata": {},
      "outputs": [],
      "source": [
        "# Добавим новые категориальные признаки\r\n",
        "\r\n",
        "categorical_features = categorical_features + ['zip_f', 'zip_s']"
      ]
    },
    {
      "cell_type": "code",
      "execution_count": 2114,
      "metadata": {},
      "outputs": [
        {
          "data": {
            "text/plain": [
              "<matplotlib.axes._subplots.AxesSubplot at 0x15c1b4ec688>"
            ]
          },
          "execution_count": 2114,
          "metadata": {},
          "output_type": "execute_result"
        },
        {
          "data": {
            "image/png": "[encoded data removed]",
            "text/plain": [
              "<Figure size 432x288 with 1 Axes>"
            ]
          },
          "metadata": {
            "needs_background": "light"
          },
          "output_type": "display_data"
        }
      ],
      "source": [
        "# Теперь рассмотрим значимость категориальных переменных\r\n",
        "df_train_cat = df_train.copy()\r\n",
        "\r\n",
        "label_encoder = LabelEncoder()\r\n",
        "\r\n",
        "for feature in categorical_features:\r\n",
        "    df_train_cat[feature] = label_encoder.fit_transform(df_train_cat[feature])\r\n",
        "\r\n",
        "imp_cat = pd.Series(f_regression(df_train_cat[categorical_features], \r\n",
        "                              df_train_cat['target_log'])[0], index=categorical_features)\r\n",
        "\r\n",
        "imp_cat.sort_values(inplace = True)\r\n",
        "imp_cat.plot(kind = 'barh')"
      ]
    },
    {
      "cell_type": "code",
      "execution_count": 2115,
      "metadata": {},
      "outputs": [],
      "source": [
        "# Замечание: влияние кат переменных на target и target_log разное"
      ]
    },
    {
      "cell_type": "code",
      "execution_count": 2116,
      "metadata": {},
      "outputs": [],
      "source": [
        "# # Теперь рассмотрим значимость категориальных переменных\r\n",
        "\r\n",
        "# df_train_cat = df_train.copy()\r\n",
        "\r\n",
        "# # рассмотрим значимость переменных\r\n",
        "# label_encoder = LabelEncoder()\r\n",
        "\r\n",
        "# for feature in categorical_features:\r\n",
        "#     df_train_cat[feature] = label_encoder.fit_transform(df_train_cat[feature])\r\n",
        "\r\n",
        "# imp_cat = pd.Series(mutual_info_regression(df_train_cat[categorical_features], \r\n",
        "#                               df_train_cat['target_log']), index=numerical_features_new)\r\n",
        "# imp_cat.sort_values(inplace = True)\r\n",
        "# imp_cat.plot(kind = 'barh')"
      ]
    },
    {
      "cell_type": "markdown",
      "metadata": {},
      "source": [
        "Prepocess data"
      ]
    },
    {
      "cell_type": "code",
      "execution_count": 2117,
      "metadata": {},
      "outputs": [],
      "source": [
        "# features = categorical_features + numerical_features_new + ['target_log']\r\n",
        "# df_input = pd.concat([df_train[features], df_test[features]])\r\n",
        "\r\n",
        "# Удаляем признаки из numerical_features_new\r\n",
        "for x in ['sqft', 'dist_max', 'dist_min', 'rate_max', 'rate_min']:\r\n",
        "    numerical_features_new.remove(x)\r\n",
        "\r\n",
        "# Спорный момент\r\n",
        "# categorical_features.remove('city')\r\n",
        "# categorical_features.remove('zip_s')\r\n",
        "\r\n",
        "categorical_features.remove('zipcode')\r\n",
        "for x in ['rate_max', 'rate_min']:\r\n",
        "    categorical_features.append(x)\r\n",
        "    \r\n",
        "features = numerical_features_new + categorical_features + ['target_log']\r\n",
        "# features = numerical_features_new + categorical_features + ['target']"
      ]
    },
    {
      "cell_type": "code",
      "execution_count": 2118,
      "metadata": {},
      "outputs": [],
      "source": [
        "# Мы знаем, что у трейна нет target=0, все эти данные в тесте, поэтому можем легко их оюъединить\r\n",
        "\r\n",
        "df_input = pd.concat([df_train[features], df_test[features]])"
      ]
    },
    {
      "cell_type": "code",
      "execution_count": 2119,
      "metadata": {},
      "outputs": [
        {
          "data": {
            "text/html": [
              "<div>\n",
              "<style scoped>\n",
              "    .dataframe tbody tr th:only-of-type {\n",
              "        vertical-align: middle;\n",
              "    }\n",
              "\n",
              "    .dataframe tbody tr th {\n",
              "        vertical-align: top;\n",
              "    }\n",
              "\n",
              "    .dataframe thead th {\n",
              "        text-align: right;\n",
              "    }\n",
              "</style>\n",
              "<table border=\"1\" class=\"dataframe\">\n",
              "  <thead>\n",
              "    <tr style=\"text-align: right;\">\n",
              "      <th></th>\n",
              "      <th>dist_max_log</th>\n",
              "      <th>dist_min_log</th>\n",
              "      <th>sqft_log</th>\n",
              "      <th>status</th>\n",
              "      <th>propertyType</th>\n",
              "      <th>city</th>\n",
              "      <th>state</th>\n",
              "      <th>zip_f</th>\n",
              "      <th>zip_s</th>\n",
              "      <th>rate_max</th>\n",
              "      <th>rate_min</th>\n",
              "      <th>target_log</th>\n",
              "    </tr>\n",
              "  </thead>\n",
              "  <tbody>\n",
              "    <tr>\n",
              "      <th>105955</th>\n",
              "      <td>0.828552</td>\n",
              "      <td>0.215111</td>\n",
              "      <td>7.362645</td>\n",
              "      <td>for sale</td>\n",
              "      <td>single family</td>\n",
              "      <td>other</td>\n",
              "      <td>TX</td>\n",
              "      <td>750</td>\n",
              "      <td>60</td>\n",
              "      <td>5.0</td>\n",
              "      <td>3.0</td>\n",
              "      <td>12.323860</td>\n",
              "    </tr>\n",
              "    <tr>\n",
              "      <th>178301</th>\n",
              "      <td>2.775086</td>\n",
              "      <td>0.231112</td>\n",
              "      <td>6.704414</td>\n",
              "      <td>for sale</td>\n",
              "      <td>condo</td>\n",
              "      <td>miami</td>\n",
              "      <td>FL</td>\n",
              "      <td>331</td>\n",
              "      <td>65</td>\n",
              "      <td>10.0</td>\n",
              "      <td>5.0</td>\n",
              "      <td>12.013707</td>\n",
              "    </tr>\n",
              "    <tr>\n",
              "      <th>238746</th>\n",
              "      <td>1.004302</td>\n",
              "      <td>0.048790</td>\n",
              "      <td>7.716461</td>\n",
              "      <td>foreclosure</td>\n",
              "      <td>multi family</td>\n",
              "      <td>chicago</td>\n",
              "      <td>IL</td>\n",
              "      <td>606</td>\n",
              "      <td>36</td>\n",
              "      <td>2.0</td>\n",
              "      <td>1.0</td>\n",
              "      <td>11.636037</td>\n",
              "    </tr>\n",
              "    <tr>\n",
              "      <th>104773</th>\n",
              "      <td>1.633154</td>\n",
              "      <td>0.262364</td>\n",
              "      <td>11.598194</td>\n",
              "      <td>for sale</td>\n",
              "      <td>lot land</td>\n",
              "      <td>fort worth</td>\n",
              "      <td>TX</td>\n",
              "      <td>761</td>\n",
              "      <td>35</td>\n",
              "      <td>7.0</td>\n",
              "      <td>6.0</td>\n",
              "      <td>11.695255</td>\n",
              "    </tr>\n",
              "    <tr>\n",
              "      <th>16845</th>\n",
              "      <td>1.088562</td>\n",
              "      <td>0.190620</td>\n",
              "      <td>7.034388</td>\n",
              "      <td>for sale</td>\n",
              "      <td>single family</td>\n",
              "      <td>memphis</td>\n",
              "      <td>TN</td>\n",
              "      <td>381</td>\n",
              "      <td>12</td>\n",
              "      <td>4.0</td>\n",
              "      <td>4.0</td>\n",
              "      <td>11.736077</td>\n",
              "    </tr>\n",
              "  </tbody>\n",
              "</table>\n",
              "</div>"
            ],
            "text/plain": [
              "        dist_max_log  dist_min_log   sqft_log       status   propertyType  \\\n",
              "105955      0.828552      0.215111   7.362645     for sale  single family   \n",
              "178301      2.775086      0.231112   6.704414     for sale          condo   \n",
              "238746      1.004302      0.048790   7.716461  foreclosure   multi family   \n",
              "104773      1.633154      0.262364  11.598194     for sale       lot land   \n",
              "16845       1.088562      0.190620   7.034388     for sale  single family   \n",
              "\n",
              "              city state zip_f zip_s  rate_max  rate_min  target_log  \n",
              "105955       other    TX   750    60       5.0       3.0   12.323860  \n",
              "178301       miami    FL   331    65      10.0       5.0   12.013707  \n",
              "238746     chicago    IL   606    36       2.0       1.0   11.636037  \n",
              "104773  fort worth    TX   761    35       7.0       6.0   11.695255  \n",
              "16845      memphis    TN   381    12       4.0       4.0   11.736077  "
            ]
          },
          "execution_count": 2119,
          "metadata": {},
          "output_type": "execute_result"
        }
      ],
      "source": [
        "df_input.sample(5)"
      ]
    },
    {
      "cell_type": "markdown",
      "metadata": {},
      "source": [
        "df_preproc = preproc_data(data)"
      ]
    },
    {
      "cell_type": "code",
      "execution_count": 2120,
      "metadata": {},
      "outputs": [],
      "source": [
        "df_preproc = preproc_data(df_input, numerical_features_new, categorical_features)"
      ]
    },
    {
      "cell_type": "code",
      "execution_count": 2121,
      "metadata": {},
      "outputs": [
        {
          "data": {
            "text/plain": [
              "(215046, 441)"
            ]
          },
          "execution_count": 2121,
          "metadata": {},
          "output_type": "execute_result"
        }
      ],
      "source": [
        "df_preproc.shape"
      ]
    },
    {
      "cell_type": "code",
      "execution_count": 2122,
      "metadata": {},
      "outputs": [],
      "source": [
        "# Мы видим, что при начальном количестве признаков, количество результирующих признаков слишком большое для теста\r\n",
        "# Поэтому мы сразу удалим лишние признаки из трейна\r\n",
        "# Возможно, потом удалим выбросы из трейна"
      ]
    },
    {
      "cell_type": "markdown",
      "metadata": {},
      "source": [
        "Split data"
      ]
    },
    {
      "cell_type": "code",
      "execution_count": 2123,
      "metadata": {},
      "outputs": [],
      "source": [
        "# Теперь выделим тестовую часть\r\n",
        "train_data = df_preproc[df_preproc['target_log'] != 0]\r\n",
        "test_data = df_preproc[df_preproc['target_log'] == 0]\r\n",
        "\r\n",
        "X = train_data.drop(['target_log'], axis=1).values\r\n",
        "Y = train_data['target_log'].values\r\n",
        "X_sub = test_data.drop(['target_log'], axis=1)\r\n",
        "\r\n",
        "\r\n",
        "# train_data = df_preproc[df_preproc['target'] != 0]\r\n",
        "# test_data = df_preproc[df_preproc['target'] == 0]\r\n",
        "\r\n",
        "# X = train_data.drop(['target'], axis=1).values\r\n",
        "# Y = train_data['target'].values\r\n",
        "# X_sub = test_data.drop(['target'], axis=1)"
      ]
    },
    {
      "cell_type": "markdown",
      "metadata": {},
      "source": [
        "# CatBoostRegressor"
      ]
    },
    {
      "cell_type": "code",
      "execution_count": 2124,
      "metadata": {},
      "outputs": [],
      "source": [
        "X_train, X_test, y_train, y_test = train_test_split(X, Y, test_size=0.3, shuffle=True, random_state=RANDOM_SEED)\r\n",
        "\r\n",
        "# Птом можно будет сделать кросс-валидацию"
      ]
    },
    {
      "cell_type": "code",
      "execution_count": 2125,
      "metadata": {},
      "outputs": [
        {
          "name": "stdout",
          "output_type": "stream",
          "text": [
            "0:\tlearn: 0.0655747\ttest: 0.0651593\tbest: 0.0651593 (0)\ttotal: 41.4ms\tremaining: 41.3s\n",
            "100:\tlearn: 0.0356950\ttest: 0.0355106\tbest: 0.0355106 (100)\ttotal: 3.3s\tremaining: 29.3s\n",
            "200:\tlearn: 0.0322635\ttest: 0.0321498\tbest: 0.0321498 (200)\ttotal: 5.82s\tremaining: 23.1s\n",
            "300:\tlearn: 0.0303792\ttest: 0.0302972\tbest: 0.0302972 (300)\ttotal: 8.37s\tremaining: 19.4s\n",
            "400:\tlearn: 0.0291052\ttest: 0.0291024\tbest: 0.0291024 (400)\ttotal: 11.3s\tremaining: 16.8s\n",
            "500:\tlearn: 0.0281678\ttest: 0.0282536\tbest: 0.0282536 (500)\ttotal: 14.2s\tremaining: 14.1s\n",
            "600:\tlearn: 0.0274170\ttest: 0.0275788\tbest: 0.0275788 (600)\ttotal: 17s\tremaining: 11.3s\n",
            "700:\tlearn: 0.0267629\ttest: 0.0270118\tbest: 0.0270118 (700)\ttotal: 20s\tremaining: 8.53s\n",
            "800:\tlearn: 0.0262153\ttest: 0.0265380\tbest: 0.0265380 (800)\ttotal: 22.9s\tremaining: 5.69s\n",
            "900:\tlearn: 0.0257456\ttest: 0.0261460\tbest: 0.0261460 (900)\ttotal: 25.8s\tremaining: 2.83s\n",
            "999:\tlearn: 0.0253278\ttest: 0.0258003\tbest: 0.0258003 (999)\ttotal: 28.6s\tremaining: 0us\n",
            "\n",
            "bestTest = 0.02580033155\n",
            "bestIteration = 999\n",
            "\n"
          ]
        },
        {
          "data": {
            "text/plain": [
              "<catboost.core.CatBoostRegressor at 0x15b5a557308>"
            ]
          },
          "execution_count": 2125,
          "metadata": {},
          "output_type": "execute_result"
        }
      ],
      "source": [
        "model = CatBoostRegressor(iterations = 1000,\r\n",
        "                          #depth=10,\r\n",
        "                          learning_rate = 0.1,\r\n",
        "                          random_seed = RANDOM_SEED,\r\n",
        "                          eval_metric='MAPE',\r\n",
        "                          custom_metric=['RMSE'],\r\n",
        "                          od_wait=100,\r\n",
        "                          #task_type='GPU',\r\n",
        "                         )\r\n",
        "\r\n",
        "model.fit(X_train, y_train,\r\n",
        "         eval_set=(X_test, y_test),\r\n",
        "         verbose_eval=100,\r\n",
        "         use_best_model=True,\r\n",
        "         #plot=True\r\n",
        "         )\r\n"
      ]
    },
    {
      "cell_type": "code",
      "execution_count": 2126,
      "metadata": {},
      "outputs": [
        {
          "data": {
            "image/png": "[encoded data removed]",
            "text/plain": [
              "<Figure size 432x288 with 1 Axes>"
            ]
          },
          "metadata": {
            "needs_background": "light"
          },
          "output_type": "display_data"
        }
      ],
      "source": [
        "# model.evals_result_['learn']['MAPE']\r\n",
        "# validation\r\n",
        "\r\n",
        "learn_mape = [round(x * 100, 2) for x in model.evals_result_['learn']['MAPE']]\r\n",
        "valid_mape = [round(x * 100, 2) for x in model.evals_result_['validation']['MAPE']]\r\n",
        "\r\n",
        "# plt.figure(figsize=(15, 7))\r\n",
        "plt.title('MAPE')\r\n",
        "plt.plot(learn_mape, label='learn')\r\n",
        "plt.plot(valid_mape, label='validation')\r\n",
        "plt.legend()\r\n",
        "plt.show()\r\n",
        "\r\n",
        "\r\n"
      ]
    },
    {
      "cell_type": "code",
      "execution_count": 2127,
      "metadata": {},
      "outputs": [
        {
          "name": "stdout",
          "output_type": "stream",
          "text": [
            "TEST mape: 39.92%\n"
          ]
        }
      ],
      "source": [
        "y_pred = model.predict(X_test)\r\n",
        "\r\n",
        "# print(f\"TEST mape: {(mape(y_test, y_pred))*100:0.2f}%\")\r\n",
        "\r\n",
        "y_pred_exp = np.round(np.exp(y_pred) - 1)\r\n",
        "y_test_exp = np.round(np.exp(y_test) - 1)\r\n",
        "\r\n",
        "print(f\"TEST mape: {(mape(y_test_exp, y_pred_exp))*100:0.2f}%\")"
      ]
    },
    {
      "cell_type": "code",
      "execution_count": 869,
      "metadata": {},
      "outputs": [],
      "source": [
        "# Смещение и дисперсия\r\n",
        "\r\n",
        "# mse = round(np.mean(np.square(y_test_exp - y_pred_exp)))\r\n",
        "# rmse = round(np.sqrt(mse))\r\n",
        "\r\n",
        "# var = round(np.var(y_pred_exp))\r\n",
        "# bias = round(np.mean(y_pred_exp - y_test_exp))\r\n",
        "\r\n",
        "# print(\"MSE result:\", mse)\r\n",
        "# print(\"RMSE result:\", rmse)\r\n",
        "# print(\"VAR result:\", var)\r\n",
        "# print(\"bias result:\", bias)\r\n",
        "# print(\"Decomposed result:\", var + bias*bias)"
      ]
    },
    {
      "cell_type": "code",
      "execution_count": 870,
      "metadata": {},
      "outputs": [],
      "source": [
        "price_out = pd.DataFrame(list(zip(y_pred_exp, y_test_exp)), columns = ['y_pred_exp', 'y_test_exp'])\r\n",
        "# price_out.to_csv('price_out.csv')"
      ]
    },
    {
      "cell_type": "code",
      "execution_count": null,
      "metadata": {},
      "outputs": [],
      "source": []
    }
  ],
  "metadata": {
    "colab": {
      "collapsed_sections": [],
      "name": "diplom_4v.ipynb",
      "provenance": []
    },
    "interpreter": {
      "hash": "52af2c7ea9a7ea0478ac0dfe8c28871cf8fd889e43a3f69f8c62792d878281ed"
    },
    "kernelspec": {
      "display_name": "Python 3.7.4 64-bit ('base': conda)",
      "name": "python3"
    },
    "language_info": {
      "codemirror_mode": {
        "name": "ipython",
        "version": 3
      },
      "file_extension": ".py",
      "mimetype": "text/x-python",
      "name": "python",
      "nbconvert_exporter": "python",
      "pygments_lexer": "ipython3",
      "version": "3.7.4"
    }
  },
  "nbformat": 4,
  "nbformat_minor": 0
}